{
 "cells": [
  {
   "cell_type": "markdown",
   "metadata": {
    "toc": true
   },
   "source": [
    "<h1>Оглавление<span class=\"tocSkip\"></span></h1>\n",
    "<div class=\"toc\"><ul class=\"toc-item\"><li><span><a href=\"#Введение\" data-toc-modified-id=\"Введение-1\"><span class=\"toc-item-num\">1&nbsp;&nbsp;</span>Введение</a></span></li><li><span><a href=\"#Загрузка-и-первичный-анализ-данных\" data-toc-modified-id=\"Загрузка-и-первичный-анализ-данных-2\"><span class=\"toc-item-num\">2&nbsp;&nbsp;</span>Загрузка и первичный анализ данных</a></span></li><li><span><a href=\"#Предобработка-данных\" data-toc-modified-id=\"Предобработка-данных-3\"><span class=\"toc-item-num\">3&nbsp;&nbsp;</span>Предобработка данных</a></span><ul class=\"toc-item\"><li><span><a href=\"#Промежуточные-выводы\" data-toc-modified-id=\"Промежуточные-выводы-3.1\"><span class=\"toc-item-num\">3.1&nbsp;&nbsp;</span>Промежуточные выводы</a></span></li></ul></li><li><span><a href=\"#Приоритезация-гипотез\" data-toc-modified-id=\"Приоритезация-гипотез-4\"><span class=\"toc-item-num\">4&nbsp;&nbsp;</span>Приоритезация гипотез</a></span><ul class=\"toc-item\"><li><span><a href=\"#Приоритезация-гипотез\" data-toc-modified-id=\"Приоритезация-гипотез-4.1\"><span class=\"toc-item-num\">4.1&nbsp;&nbsp;</span>Приоритезация гипотез</a></span><ul class=\"toc-item\"><li><span><a href=\"#Промежуточные-выводы\" data-toc-modified-id=\"Промежуточные-выводы-4.1.1\"><span class=\"toc-item-num\">4.1.1&nbsp;&nbsp;</span>Промежуточные выводы</a></span></li></ul></li></ul></li><li><span><a href=\"#Анализ-A/B-теста\" data-toc-modified-id=\"Анализ-A/B-теста-5\"><span class=\"toc-item-num\">5&nbsp;&nbsp;</span>Анализ A/B-теста</a></span><ul class=\"toc-item\"><li><span><a href=\"#Постройте-график-кумулятивной-выручки-по-группам.-Сделайте-выводы-и-предположения.\" data-toc-modified-id=\"Постройте-график-кумулятивной-выручки-по-группам.-Сделайте-выводы-и-предположения.-5.1\"><span class=\"toc-item-num\">5.1&nbsp;&nbsp;</span>Постройте график кумулятивной выручки по группам. Сделайте выводы и предположения.</a></span><ul class=\"toc-item\"><li><span><a href=\"#Промежуточные-выводы\" data-toc-modified-id=\"Промежуточные-выводы-5.1.1\"><span class=\"toc-item-num\">5.1.1&nbsp;&nbsp;</span>Промежуточные выводы</a></span></li></ul></li><li><span><a href=\"#Кумулятивный-средний-чек\" data-toc-modified-id=\"Кумулятивный-средний-чек-5.2\"><span class=\"toc-item-num\">5.2&nbsp;&nbsp;</span>Кумулятивный средний чек</a></span><ul class=\"toc-item\"><li><span><a href=\"#Промежуточные-выводы\" data-toc-modified-id=\"Промежуточные-выводы-5.2.1\"><span class=\"toc-item-num\">5.2.1&nbsp;&nbsp;</span>Промежуточные выводы</a></span></li></ul></li><li><span><a href=\"#Относительное-изменение-кумулятивного-чека\" data-toc-modified-id=\"Относительное-изменение-кумулятивного-чека-5.3\"><span class=\"toc-item-num\">5.3&nbsp;&nbsp;</span>Относительное изменение кумулятивного чека</a></span><ul class=\"toc-item\"><li><span><a href=\"#Промежуточные-выводы\" data-toc-modified-id=\"Промежуточные-выводы-5.3.1\"><span class=\"toc-item-num\">5.3.1&nbsp;&nbsp;</span>Промежуточные выводы</a></span></li></ul></li><li><span><a href=\"#Постройте-график-кумулятивного-среднего-количества-заказов-на-посетителя-по-группам.-Сделайте-выводы-и-предположения.\" data-toc-modified-id=\"Постройте-график-кумулятивного-среднего-количества-заказов-на-посетителя-по-группам.-Сделайте-выводы-и-предположения.-5.4\"><span class=\"toc-item-num\">5.4&nbsp;&nbsp;</span>Постройте график кумулятивного среднего количества заказов на посетителя по группам. Сделайте выводы и предположения.</a></span><ul class=\"toc-item\"><li><span><a href=\"#Промежуточные-выводы\" data-toc-modified-id=\"Промежуточные-выводы-5.4.1\"><span class=\"toc-item-num\">5.4.1&nbsp;&nbsp;</span>Промежуточные выводы</a></span></li></ul></li><li><span><a href=\"#Постройте-график-относительного-изменения-кумулятивного-среднего-количества-заказов-на-посетителя-группы-B-к-группе-A.-Сделайте-выводы-и-предположения.\" data-toc-modified-id=\"Постройте-график-относительного-изменения-кумулятивного-среднего-количества-заказов-на-посетителя-группы-B-к-группе-A.-Сделайте-выводы-и-предположения.-5.5\"><span class=\"toc-item-num\">5.5&nbsp;&nbsp;</span>Постройте график относительного изменения кумулятивного среднего количества заказов на посетителя группы B к группе A. Сделайте выводы и предположения.</a></span><ul class=\"toc-item\"><li><span><a href=\"#Промежуточные-выводы\" data-toc-modified-id=\"Промежуточные-выводы-5.5.1\"><span class=\"toc-item-num\">5.5.1&nbsp;&nbsp;</span>Промежуточные выводы</a></span></li></ul></li><li><span><a href=\"#Постройте-точечный-график-количества-заказов-по-пользователям.-Сделайте-выводы-и-предположения.\" data-toc-modified-id=\"Постройте-точечный-график-количества-заказов-по-пользователям.-Сделайте-выводы-и-предположения.-5.6\"><span class=\"toc-item-num\">5.6&nbsp;&nbsp;</span>Постройте точечный график количества заказов по пользователям. Сделайте выводы и предположения.</a></span><ul class=\"toc-item\"><li><span><a href=\"#Промежуточные-выводы\" data-toc-modified-id=\"Промежуточные-выводы-5.6.1\"><span class=\"toc-item-num\">5.6.1&nbsp;&nbsp;</span>Промежуточные выводы</a></span></li></ul></li><li><span><a href=\"#Посчитайте-95-й-и-99-й-перцентили-количества-заказов-на-пользователя.-Выберите-границу-для-определения-аномальных-пользователей.\" data-toc-modified-id=\"Посчитайте-95-й-и-99-й-перцентили-количества-заказов-на-пользователя.-Выберите-границу-для-определения-аномальных-пользователей.-5.7\"><span class=\"toc-item-num\">5.7&nbsp;&nbsp;</span>Посчитайте 95-й и 99-й перцентили количества заказов на пользователя. Выберите границу для определения аномальных пользователей.</a></span><ul class=\"toc-item\"><li><span><a href=\"#Промежуточные-выводы\" data-toc-modified-id=\"Промежуточные-выводы-5.7.1\"><span class=\"toc-item-num\">5.7.1&nbsp;&nbsp;</span>Промежуточные выводы</a></span></li></ul></li><li><span><a href=\"#Постройте-точечный-график-стоимостей-заказов.-Сделайте-выводы-и-предположения.\" data-toc-modified-id=\"Постройте-точечный-график-стоимостей-заказов.-Сделайте-выводы-и-предположения.-5.8\"><span class=\"toc-item-num\">5.8&nbsp;&nbsp;</span>Постройте точечный график стоимостей заказов. Сделайте выводы и предположения.</a></span><ul class=\"toc-item\"><li><span><a href=\"#Промежуточные-выводы\" data-toc-modified-id=\"Промежуточные-выводы-5.8.1\"><span class=\"toc-item-num\">5.8.1&nbsp;&nbsp;</span>Промежуточные выводы</a></span></li></ul></li><li><span><a href=\"#Посчитайте-95-й-и-99-й-перцентили-стоимости-заказов.-Выберите-границу-для-определения-аномальных-заказов.\" data-toc-modified-id=\"Посчитайте-95-й-и-99-й-перцентили-стоимости-заказов.-Выберите-границу-для-определения-аномальных-заказов.-5.9\"><span class=\"toc-item-num\">5.9&nbsp;&nbsp;</span>Посчитайте 95-й и 99-й перцентили стоимости заказов. Выберите границу для определения аномальных заказов.</a></span><ul class=\"toc-item\"><li><span><a href=\"#Промежуточные-выводы\" data-toc-modified-id=\"Промежуточные-выводы-5.9.1\"><span class=\"toc-item-num\">5.9.1&nbsp;&nbsp;</span>Промежуточные выводы</a></span></li></ul></li><li><span><a href=\"#Посчитайте-статистическую-значимость-различий-в-среднем-количестве-заказов-на-посетителя-между-группами-по-«сырым»-данным.-Сделайте-выводы-и-предположения.\" data-toc-modified-id=\"Посчитайте-статистическую-значимость-различий-в-среднем-количестве-заказов-на-посетителя-между-группами-по-«сырым»-данным.-Сделайте-выводы-и-предположения.-5.10\"><span class=\"toc-item-num\">5.10&nbsp;&nbsp;</span>Посчитайте статистическую значимость различий в среднем количестве заказов на посетителя между группами по «сырым» данным. Сделайте выводы и предположения.</a></span><ul class=\"toc-item\"><li><span><a href=\"#Подготовка-данных\" data-toc-modified-id=\"Подготовка-данных-5.10.1\"><span class=\"toc-item-num\">5.10.1&nbsp;&nbsp;</span>Подготовка данных</a></span></li><li><span><a href=\"#Статистическая-значимость-различий-в-среднем-количестве-заказов-на-посетителя-между-группами-по-«сырым»-данным.\" data-toc-modified-id=\"Статистическая-значимость-различий-в-среднем-количестве-заказов-на-посетителя-между-группами-по-«сырым»-данным.-5.10.2\"><span class=\"toc-item-num\">5.10.2&nbsp;&nbsp;</span>Статистическая значимость различий в среднем количестве заказов на посетителя между группами по «сырым» данным.</a></span></li><li><span><a href=\"#Промежуточные-выводы\" data-toc-modified-id=\"Промежуточные-выводы-5.10.3\"><span class=\"toc-item-num\">5.10.3&nbsp;&nbsp;</span>Промежуточные выводы</a></span></li></ul></li><li><span><a href=\"#Посчитайте-статистическую-значимость-различий-в-среднем-чеке-заказа-между-группами-по-«сырым»-данным.-Сделайте-выводы-и-предположения.\" data-toc-modified-id=\"Посчитайте-статистическую-значимость-различий-в-среднем-чеке-заказа-между-группами-по-«сырым»-данным.-Сделайте-выводы-и-предположения.-5.11\"><span class=\"toc-item-num\">5.11&nbsp;&nbsp;</span>Посчитайте статистическую значимость различий в среднем чеке заказа между группами по «сырым» данным. Сделайте выводы и предположения.</a></span><ul class=\"toc-item\"><li><span><a href=\"#Промежуточные-выводы\" data-toc-modified-id=\"Промежуточные-выводы-5.11.1\"><span class=\"toc-item-num\">5.11.1&nbsp;&nbsp;</span>Промежуточные выводы</a></span></li></ul></li><li><span><a href=\"#Посчитайте-статистическую-значимость-различий-в-среднем-количестве-заказов-на-посетителя-между-группами-по-«очищенным»-данным.-Сделайте-выводы-и-предположения.\" data-toc-modified-id=\"Посчитайте-статистическую-значимость-различий-в-среднем-количестве-заказов-на-посетителя-между-группами-по-«очищенным»-данным.-Сделайте-выводы-и-предположения.-5.12\"><span class=\"toc-item-num\">5.12&nbsp;&nbsp;</span>Посчитайте статистическую значимость различий в среднем количестве заказов на посетителя между группами по «очищенным» данным. Сделайте выводы и предположения.</a></span><ul class=\"toc-item\"><li><span><a href=\"#подготовка-данных.\" data-toc-modified-id=\"подготовка-данных.-5.12.1\"><span class=\"toc-item-num\">5.12.1&nbsp;&nbsp;</span>подготовка данных.</a></span></li><li><span><a href=\"#Cтатистическая-значимость-различий-в-среднем-количестве-заказов-на-посетителя-между-группами-по-«очищенным»-данным.\" data-toc-modified-id=\"Cтатистическая-значимость-различий-в-среднем-количестве-заказов-на-посетителя-между-группами-по-«очищенным»-данным.-5.12.2\"><span class=\"toc-item-num\">5.12.2&nbsp;&nbsp;</span>Cтатистическая значимость различий в среднем количестве заказов на посетителя между группами по «очищенным» данным.</a></span></li><li><span><a href=\"#Промежуточные-выводы\" data-toc-modified-id=\"Промежуточные-выводы-5.12.3\"><span class=\"toc-item-num\">5.12.3&nbsp;&nbsp;</span>Промежуточные выводы</a></span></li></ul></li><li><span><a href=\"#Посчитайте-статистическую-значимость-различий-в-среднем-чеке-заказа-между-группами-по-«очищенным»-данным.-Сделайте-выводы-и-предположения.\" data-toc-modified-id=\"Посчитайте-статистическую-значимость-различий-в-среднем-чеке-заказа-между-группами-по-«очищенным»-данным.-Сделайте-выводы-и-предположения.-5.13\"><span class=\"toc-item-num\">5.13&nbsp;&nbsp;</span>Посчитайте статистическую значимость различий в среднем чеке заказа между группами по «очищенным» данным. Сделайте выводы и предположения.</a></span><ul class=\"toc-item\"><li><span><a href=\"#Промежуточные-выводы\" data-toc-modified-id=\"Промежуточные-выводы-5.13.1\"><span class=\"toc-item-num\">5.13.1&nbsp;&nbsp;</span>Промежуточные выводы</a></span></li></ul></li><li><span><a href=\"#Выводы\" data-toc-modified-id=\"Выводы-5.14\"><span class=\"toc-item-num\">5.14&nbsp;&nbsp;</span>Выводы</a></span></li></ul></li></ul></div>"
   ]
  },
  {
   "cell_type": "markdown",
   "metadata": {},
   "source": [
    "# Декомпозиция"
   ]
  },
  {
   "cell_type": "markdown",
   "metadata": {},
   "source": [
    "- **Введение**\n",
    "- **Загрузка и первичный анализ данных**\n",
    "    - Загрузка необходимых библиотек\n",
    "    - Загрузка датасетов о визитах, заказах и рекламных расходов\n",
    "    - Первичное изучение данных\n",
    "    - Промежуточный вывод\n",
    "    - Выполнить предобработку \n",
    "- **Предобработка** \n",
    "- **Приоритизация гипотез.** В файле \"hypothesis\" 9 гипотез по увеличению выручки интернет-магазина с указанными параметрами Reach, Impact, Confidence, Effort.\n",
    "    - Использовать фреймворк ICE для приоритизации гипотез. Отсортировать их по убыванию приоритета.\n",
    "    - Использовать фреймворк RICE для приоритизации гипотез. Отсортировать их по убыванию приоритета.\n",
    "    - Указать, как изменилась приоритизация гипотез при применении RICE вместо ICE. Объяснить, почему так произошло.\n",
    "- **Анализ A/B-теста.** Результаты A/B-теста описаны в файлах \"orders\" и \"visitors\".\n",
    "    - Построить график кумулятивной выручки по группам. Сделать выводы и предположения.\n",
    "    - Построить график кумулятивного среднего чека по группам. Сделать выводы и предположения.\n",
    "    - Построить график относительного изменения кумулятивного среднего чека группы B к группе A. Сделать выводы и предположения.\n",
    "    - Построить график кумулятивного среднего количества заказов на посетителя по группам. Сделать выводы и предположения.\n",
    "    - Построить график относительного изменения кумулятивного среднего количества заказов на посетителя группы B к группе A. Сделать выводы и предположения.\n",
    "    - Построить точечный график количества заказов по пользователям. Сделать выводы и предположения.\n",
    "    - Посчитать 95-й и 99-й перцентили количества заказов на пользователя. Выбрать границу для определения аномальных пользователей.\n",
    "    - Построить точечный график стоимостей заказов. Сделать выводы и предположения.\n",
    "    - Посчитать 95-й и 99-й перцентили стоимости заказов. Выбрать границу для определения аномальных заказов.\n",
    "    - Посчитать статистическую значимость различий в среднем количестве заказов на посетителя между группами по «сырым» данным. Сделать выводы и предположения.\n",
    "    - Посчитать статистическую значимость различий в среднем чеке заказа между группами по «сырым» данным. Сделать выводы и предположения.\n",
    "    - Посчитать статистическую значимость различий в среднем количестве заказов на посетителя между группами по «очищенным» данным. Сделать выводы и предположения.\n",
    "    - Посчитать статистическую значимость различий в среднем чеке заказа между группами по «очищенным» данным. Сделать выводы и предположения.\n",
    "- **Выводы**\n",
    "    - Принять решение по результатам теста и объяснить его. Варианты решений:\n",
    "        1. Остановить тест, зафиксировать победу одной из групп.\n",
    "        2. Остановить тест, зафиксировать отсутствие различий между группами.\n",
    "        3. Продолжить тест."
   ]
  },
  {
   "cell_type": "markdown",
   "metadata": {},
   "source": [
    "# Проверка гипотез по увеличению выручки в интернет-магазине - оценка результатов A/B-теста"
   ]
  },
  {
   "cell_type": "markdown",
   "metadata": {},
   "source": [
    "## Введение"
   ]
  },
  {
   "cell_type": "markdown",
   "metadata": {},
   "source": [
    "Работа будет проводится с крупным интернет-магазином. Необходимо увеличить выручку магазина приоритезировав гипотезы, которые были предварительно подготовлены, и провести A/B тестирования, после чего проанализировать результаты и дать рекомендации интернет-магазину."
   ]
  },
  {
   "cell_type": "markdown",
   "metadata": {},
   "source": [
    "## Загрузка и первичный анализ данных"
   ]
  },
  {
   "cell_type": "code",
   "execution_count": 1,
   "metadata": {},
   "outputs": [],
   "source": [
    "import pandas as pd\n",
    "import datetime as dt\n",
    "import numpy as np\n",
    "import scipy.stats as stats\n",
    "import matplotlib.pyplot as plt"
   ]
  },
  {
   "cell_type": "code",
   "execution_count": 2,
   "metadata": {},
   "outputs": [],
   "source": [
    "data = pd.read_csv(r'C:\\Users\\egor1\\OneDrive\\Рабочий стол\\All\\ПРАКТИКУМ\\Проекты Практикум\\БАЗЫ ДАННЫХ\\Интернет магазин -оценка A-В теста/hypothesis.csv')\n",
    "orders = pd.read_csv(r'C:\\Users\\egor1\\OneDrive\\Рабочий стол\\All\\ПРАКТИКУМ\\Проекты Практикум\\БАЗЫ ДАННЫХ\\Интернет магазин -оценка A-В теста/orders.csv', sep=',')\n",
    "visitors = pd.read_csv(r'C:\\Users\\egor1\\OneDrive\\Рабочий стол\\All\\ПРАКТИКУМ\\Проекты Практикум\\БАЗЫ ДАННЫХ\\Интернет магазин -оценка A-В теста/visitors.csv', sep=',')"
   ]
  },
  {
   "cell_type": "markdown",
   "metadata": {},
   "source": [
    "## Предобработка данных"
   ]
  },
  {
   "cell_type": "code",
   "execution_count": 3,
   "metadata": {},
   "outputs": [
    {
     "name": "stdout",
     "output_type": "stream",
     "text": [
      "Количество дуюликатов в таблице orders: 0\n"
     ]
    }
   ],
   "source": [
    "print(f'Количество дуюликатов в таблице orders: {orders.duplicated().sum()}')"
   ]
  },
  {
   "cell_type": "code",
   "execution_count": 4,
   "metadata": {},
   "outputs": [
    {
     "name": "stdout",
     "output_type": "stream",
     "text": [
      "Количество дуюликатов в таблице visitors: 0\n"
     ]
    }
   ],
   "source": [
    "print(f'Количество дуюликатов в таблице visitors: {visitors.duplicated().sum()}')"
   ]
  },
  {
   "cell_type": "code",
   "execution_count": 5,
   "metadata": {},
   "outputs": [
    {
     "data": {
      "text/html": [
       "<div>\n",
       "<style scoped>\n",
       "    .dataframe tbody tr th:only-of-type {\n",
       "        vertical-align: middle;\n",
       "    }\n",
       "\n",
       "    .dataframe tbody tr th {\n",
       "        vertical-align: top;\n",
       "    }\n",
       "\n",
       "    .dataframe thead th {\n",
       "        text-align: right;\n",
       "    }\n",
       "</style>\n",
       "<table border=\"1\" class=\"dataframe\">\n",
       "  <thead>\n",
       "    <tr style=\"text-align: right;\">\n",
       "      <th></th>\n",
       "      <th>transactionId</th>\n",
       "      <th>visitorId</th>\n",
       "      <th>revenue</th>\n",
       "    </tr>\n",
       "  </thead>\n",
       "  <tbody>\n",
       "    <tr>\n",
       "      <th>count</th>\n",
       "      <td>1.197000e+03</td>\n",
       "      <td>1.197000e+03</td>\n",
       "      <td>1.197000e+03</td>\n",
       "    </tr>\n",
       "    <tr>\n",
       "      <th>mean</th>\n",
       "      <td>2.155621e+09</td>\n",
       "      <td>2.165960e+09</td>\n",
       "      <td>8.348006e+03</td>\n",
       "    </tr>\n",
       "    <tr>\n",
       "      <th>std</th>\n",
       "      <td>1.229085e+09</td>\n",
       "      <td>1.236014e+09</td>\n",
       "      <td>3.919113e+04</td>\n",
       "    </tr>\n",
       "    <tr>\n",
       "      <th>min</th>\n",
       "      <td>1.062393e+06</td>\n",
       "      <td>5.114589e+06</td>\n",
       "      <td>5.000000e+01</td>\n",
       "    </tr>\n",
       "    <tr>\n",
       "      <th>25%</th>\n",
       "      <td>1.166776e+09</td>\n",
       "      <td>1.111826e+09</td>\n",
       "      <td>1.220000e+03</td>\n",
       "    </tr>\n",
       "    <tr>\n",
       "      <th>50%</th>\n",
       "      <td>2.145194e+09</td>\n",
       "      <td>2.217985e+09</td>\n",
       "      <td>2.978000e+03</td>\n",
       "    </tr>\n",
       "    <tr>\n",
       "      <th>75%</th>\n",
       "      <td>3.237740e+09</td>\n",
       "      <td>3.177606e+09</td>\n",
       "      <td>8.290000e+03</td>\n",
       "    </tr>\n",
       "    <tr>\n",
       "      <th>max</th>\n",
       "      <td>4.293856e+09</td>\n",
       "      <td>4.283872e+09</td>\n",
       "      <td>1.294500e+06</td>\n",
       "    </tr>\n",
       "  </tbody>\n",
       "</table>\n",
       "</div>"
      ],
      "text/plain": [
       "       transactionId     visitorId       revenue\n",
       "count   1.197000e+03  1.197000e+03  1.197000e+03\n",
       "mean    2.155621e+09  2.165960e+09  8.348006e+03\n",
       "std     1.229085e+09  1.236014e+09  3.919113e+04\n",
       "min     1.062393e+06  5.114589e+06  5.000000e+01\n",
       "25%     1.166776e+09  1.111826e+09  1.220000e+03\n",
       "50%     2.145194e+09  2.217985e+09  2.978000e+03\n",
       "75%     3.237740e+09  3.177606e+09  8.290000e+03\n",
       "max     4.293856e+09  4.283872e+09  1.294500e+06"
      ]
     },
     "execution_count": 5,
     "metadata": {},
     "output_type": "execute_result"
    }
   ],
   "source": [
    "orders.describe()"
   ]
  },
  {
   "cell_type": "code",
   "execution_count": 6,
   "metadata": {},
   "outputs": [
    {
     "data": {
      "text/html": [
       "<div>\n",
       "<style scoped>\n",
       "    .dataframe tbody tr th:only-of-type {\n",
       "        vertical-align: middle;\n",
       "    }\n",
       "\n",
       "    .dataframe tbody tr th {\n",
       "        vertical-align: top;\n",
       "    }\n",
       "\n",
       "    .dataframe thead th {\n",
       "        text-align: right;\n",
       "    }\n",
       "</style>\n",
       "<table border=\"1\" class=\"dataframe\">\n",
       "  <thead>\n",
       "    <tr style=\"text-align: right;\">\n",
       "      <th></th>\n",
       "      <th>visitors</th>\n",
       "    </tr>\n",
       "  </thead>\n",
       "  <tbody>\n",
       "    <tr>\n",
       "      <th>count</th>\n",
       "      <td>62.000000</td>\n",
       "    </tr>\n",
       "    <tr>\n",
       "      <th>mean</th>\n",
       "      <td>607.290323</td>\n",
       "    </tr>\n",
       "    <tr>\n",
       "      <th>std</th>\n",
       "      <td>114.400560</td>\n",
       "    </tr>\n",
       "    <tr>\n",
       "      <th>min</th>\n",
       "      <td>361.000000</td>\n",
       "    </tr>\n",
       "    <tr>\n",
       "      <th>25%</th>\n",
       "      <td>534.000000</td>\n",
       "    </tr>\n",
       "    <tr>\n",
       "      <th>50%</th>\n",
       "      <td>624.500000</td>\n",
       "    </tr>\n",
       "    <tr>\n",
       "      <th>75%</th>\n",
       "      <td>710.500000</td>\n",
       "    </tr>\n",
       "    <tr>\n",
       "      <th>max</th>\n",
       "      <td>770.000000</td>\n",
       "    </tr>\n",
       "  </tbody>\n",
       "</table>\n",
       "</div>"
      ],
      "text/plain": [
       "         visitors\n",
       "count   62.000000\n",
       "mean   607.290323\n",
       "std    114.400560\n",
       "min    361.000000\n",
       "25%    534.000000\n",
       "50%    624.500000\n",
       "75%    710.500000\n",
       "max    770.000000"
      ]
     },
     "execution_count": 6,
     "metadata": {},
     "output_type": "execute_result"
    }
   ],
   "source": [
    "visitors.describe()"
   ]
  },
  {
   "cell_type": "code",
   "execution_count": 7,
   "metadata": {},
   "outputs": [
    {
     "name": "stdout",
     "output_type": "stream",
     "text": [
      "<class 'pandas.core.frame.DataFrame'>\n",
      "RangeIndex: 1197 entries, 0 to 1196\n",
      "Data columns (total 5 columns):\n",
      " #   Column         Non-Null Count  Dtype \n",
      "---  ------         --------------  ----- \n",
      " 0   transactionId  1197 non-null   int64 \n",
      " 1   visitorId      1197 non-null   int64 \n",
      " 2   date           1197 non-null   object\n",
      " 3   revenue        1197 non-null   int64 \n",
      " 4   group          1197 non-null   object\n",
      "dtypes: int64(3), object(2)\n",
      "memory usage: 46.9+ KB\n"
     ]
    }
   ],
   "source": [
    "orders.info()"
   ]
  },
  {
   "cell_type": "code",
   "execution_count": 8,
   "metadata": {},
   "outputs": [
    {
     "name": "stdout",
     "output_type": "stream",
     "text": [
      "<class 'pandas.core.frame.DataFrame'>\n",
      "RangeIndex: 62 entries, 0 to 61\n",
      "Data columns (total 3 columns):\n",
      " #   Column    Non-Null Count  Dtype \n",
      "---  ------    --------------  ----- \n",
      " 0   date      62 non-null     object\n",
      " 1   group     62 non-null     object\n",
      " 2   visitors  62 non-null     int64 \n",
      "dtypes: int64(1), object(2)\n",
      "memory usage: 1.6+ KB\n"
     ]
    }
   ],
   "source": [
    "visitors.info()"
   ]
  },
  {
   "cell_type": "markdown",
   "metadata": {},
   "source": [
    "### Промежуточные выводы"
   ]
  },
  {
   "cell_type": "markdown",
   "metadata": {},
   "source": [
    "Данные просмотрели, изучили, каких-то грубых ошибок в данных не нашли, поэтому продолжаем с ними работать"
   ]
  },
  {
   "cell_type": "markdown",
   "metadata": {},
   "source": [
    "## Приоритезация гипотез"
   ]
  },
  {
   "cell_type": "markdown",
   "metadata": {},
   "source": [
    "### Приоритезация гипотез"
   ]
  },
  {
   "cell_type": "code",
   "execution_count": 9,
   "metadata": {},
   "outputs": [],
   "source": [
    "ice_score = round((data['Confidence']*data['Impact'])/data['Efforts'], 3)"
   ]
  },
  {
   "cell_type": "code",
   "execution_count": 10,
   "metadata": {},
   "outputs": [
    {
     "data": {
      "text/plain": [
       "0    13.333\n",
       "1     2.000\n",
       "2     7.000\n",
       "3     1.125\n",
       "4     1.000\n",
       "5     1.333\n",
       "6     8.000\n",
       "7    11.200\n",
       "8    16.200\n",
       "dtype: float64"
      ]
     },
     "execution_count": 10,
     "metadata": {},
     "output_type": "execute_result"
    }
   ],
   "source": [
    "ice_score"
   ]
  },
  {
   "cell_type": "code",
   "execution_count": 11,
   "metadata": {},
   "outputs": [],
   "source": [
    "rice_score = round((data['Confidence']*data['Impact']*data['Reach'])/data['Efforts'], 3)"
   ]
  },
  {
   "cell_type": "code",
   "execution_count": 12,
   "metadata": {},
   "outputs": [
    {
     "data": {
      "text/plain": [
       "0     40.0\n",
       "1      4.0\n",
       "2     56.0\n",
       "3      9.0\n",
       "4      3.0\n",
       "5      4.0\n",
       "6     40.0\n",
       "7    112.0\n",
       "8     16.2\n",
       "dtype: float64"
      ]
     },
     "execution_count": 12,
     "metadata": {},
     "output_type": "execute_result"
    }
   ],
   "source": [
    "rice_score"
   ]
  },
  {
   "cell_type": "code",
   "execution_count": 13,
   "metadata": {},
   "outputs": [],
   "source": [
    "data['Ice'] = ice_score"
   ]
  },
  {
   "cell_type": "code",
   "execution_count": 14,
   "metadata": {},
   "outputs": [],
   "source": [
    "data['Rice'] = rice_score"
   ]
  },
  {
   "cell_type": "code",
   "execution_count": 15,
   "metadata": {},
   "outputs": [],
   "source": [
    "pd.options.display.max_colwidth = 100"
   ]
  },
  {
   "cell_type": "code",
   "execution_count": 16,
   "metadata": {},
   "outputs": [
    {
     "data": {
      "text/html": [
       "<div>\n",
       "<style scoped>\n",
       "    .dataframe tbody tr th:only-of-type {\n",
       "        vertical-align: middle;\n",
       "    }\n",
       "\n",
       "    .dataframe tbody tr th {\n",
       "        vertical-align: top;\n",
       "    }\n",
       "\n",
       "    .dataframe thead th {\n",
       "        text-align: right;\n",
       "    }\n",
       "</style>\n",
       "<table border=\"1\" class=\"dataframe\">\n",
       "  <thead>\n",
       "    <tr style=\"text-align: right;\">\n",
       "      <th></th>\n",
       "      <th>Hypothesis</th>\n",
       "      <th>Reach</th>\n",
       "      <th>Impact</th>\n",
       "      <th>Confidence</th>\n",
       "      <th>Efforts</th>\n",
       "      <th>Ice</th>\n",
       "      <th>Rice</th>\n",
       "    </tr>\n",
       "  </thead>\n",
       "  <tbody>\n",
       "    <tr>\n",
       "      <th>7</th>\n",
       "      <td>Добавить форму подписки на все основные страницы, чтобы собрать базу клиентов для email-рассылок</td>\n",
       "      <td>10</td>\n",
       "      <td>7</td>\n",
       "      <td>8</td>\n",
       "      <td>5</td>\n",
       "      <td>11.200</td>\n",
       "      <td>112.0</td>\n",
       "    </tr>\n",
       "    <tr>\n",
       "      <th>2</th>\n",
       "      <td>Добавить блоки рекомендаций товаров на сайт интернет магазина, чтобы повысить конверсию и средни...</td>\n",
       "      <td>8</td>\n",
       "      <td>3</td>\n",
       "      <td>7</td>\n",
       "      <td>3</td>\n",
       "      <td>7.000</td>\n",
       "      <td>56.0</td>\n",
       "    </tr>\n",
       "    <tr>\n",
       "      <th>0</th>\n",
       "      <td>Добавить два новых канала привлечения трафика, что позволит привлекать на 30% больше пользователей</td>\n",
       "      <td>3</td>\n",
       "      <td>10</td>\n",
       "      <td>8</td>\n",
       "      <td>6</td>\n",
       "      <td>13.333</td>\n",
       "      <td>40.0</td>\n",
       "    </tr>\n",
       "    <tr>\n",
       "      <th>6</th>\n",
       "      <td>Показать на главной странице баннеры с актуальными акциями и распродажами, чтобы увеличить конве...</td>\n",
       "      <td>5</td>\n",
       "      <td>3</td>\n",
       "      <td>8</td>\n",
       "      <td>3</td>\n",
       "      <td>8.000</td>\n",
       "      <td>40.0</td>\n",
       "    </tr>\n",
       "    <tr>\n",
       "      <th>8</th>\n",
       "      <td>Запустить акцию, дающую скидку на товар в день рождения</td>\n",
       "      <td>1</td>\n",
       "      <td>9</td>\n",
       "      <td>9</td>\n",
       "      <td>5</td>\n",
       "      <td>16.200</td>\n",
       "      <td>16.2</td>\n",
       "    </tr>\n",
       "    <tr>\n",
       "      <th>3</th>\n",
       "      <td>Изменить структура категорий, что увеличит конверсию, т.к. пользователи быстрее найдут нужный товар</td>\n",
       "      <td>8</td>\n",
       "      <td>3</td>\n",
       "      <td>3</td>\n",
       "      <td>8</td>\n",
       "      <td>1.125</td>\n",
       "      <td>9.0</td>\n",
       "    </tr>\n",
       "    <tr>\n",
       "      <th>1</th>\n",
       "      <td>Запустить собственную службу доставки, что сократит срок доставки заказов</td>\n",
       "      <td>2</td>\n",
       "      <td>5</td>\n",
       "      <td>4</td>\n",
       "      <td>10</td>\n",
       "      <td>2.000</td>\n",
       "      <td>4.0</td>\n",
       "    </tr>\n",
       "    <tr>\n",
       "      <th>5</th>\n",
       "      <td>Добавить страницу отзывов клиентов о магазине, что позволит увеличить количество заказов</td>\n",
       "      <td>3</td>\n",
       "      <td>2</td>\n",
       "      <td>2</td>\n",
       "      <td>3</td>\n",
       "      <td>1.333</td>\n",
       "      <td>4.0</td>\n",
       "    </tr>\n",
       "    <tr>\n",
       "      <th>4</th>\n",
       "      <td>Изменить цвет фона главной страницы, чтобы увеличить вовлеченность пользователей</td>\n",
       "      <td>3</td>\n",
       "      <td>1</td>\n",
       "      <td>1</td>\n",
       "      <td>1</td>\n",
       "      <td>1.000</td>\n",
       "      <td>3.0</td>\n",
       "    </tr>\n",
       "  </tbody>\n",
       "</table>\n",
       "</div>"
      ],
      "text/plain": [
       "                                                                                            Hypothesis  \\\n",
       "7     Добавить форму подписки на все основные страницы, чтобы собрать базу клиентов для email-рассылок   \n",
       "2  Добавить блоки рекомендаций товаров на сайт интернет магазина, чтобы повысить конверсию и средни...   \n",
       "0   Добавить два новых канала привлечения трафика, что позволит привлекать на 30% больше пользователей   \n",
       "6  Показать на главной странице баннеры с актуальными акциями и распродажами, чтобы увеличить конве...   \n",
       "8                                              Запустить акцию, дающую скидку на товар в день рождения   \n",
       "3  Изменить структура категорий, что увеличит конверсию, т.к. пользователи быстрее найдут нужный товар   \n",
       "1                            Запустить собственную службу доставки, что сократит срок доставки заказов   \n",
       "5             Добавить страницу отзывов клиентов о магазине, что позволит увеличить количество заказов   \n",
       "4                     Изменить цвет фона главной страницы, чтобы увеличить вовлеченность пользователей   \n",
       "\n",
       "   Reach  Impact  Confidence  Efforts     Ice   Rice  \n",
       "7     10       7           8        5  11.200  112.0  \n",
       "2      8       3           7        3   7.000   56.0  \n",
       "0      3      10           8        6  13.333   40.0  \n",
       "6      5       3           8        3   8.000   40.0  \n",
       "8      1       9           9        5  16.200   16.2  \n",
       "3      8       3           3        8   1.125    9.0  \n",
       "1      2       5           4       10   2.000    4.0  \n",
       "5      3       2           2        3   1.333    4.0  \n",
       "4      3       1           1        1   1.000    3.0  "
      ]
     },
     "execution_count": 16,
     "metadata": {},
     "output_type": "execute_result"
    }
   ],
   "source": [
    "data.sort_values(by='Rice', ascending=False)"
   ]
  },
  {
   "cell_type": "markdown",
   "metadata": {},
   "source": [
    "#### Промежуточные выводы"
   ]
  },
  {
   "cell_type": "markdown",
   "metadata": {},
   "source": [
    "В своей приоритезации я решил в основном опираться на коэффииент Rice, так как он работает точнее из-за наличия в нем коэффициента Reach (охвата). И в гипотезе \"Добавить форму подписки на все основные страницы, чтобы собрать базу клиентов для email-рассылок\" он достигает максимальной оценки, из-за этого это самая приоритетная гипотеза, тогда как по коэффицинета Ice самая приоритетная гипотеза \"Запустить акцию, дающую скидку на товар в день рождения\t\". Но в нашем списке эта гипотеза находится в середине списка. Рекомендую к тестировани. гипотезу \"Добавить форму подписки на все основные страницы, чтобы собрать базу клиентов для email-рассылок\" и если возможно, то \"Добавить блоки рекомендаций товаров на сайт интернет магазина, чтобы повысить конверсию и средни...\t\". "
   ]
  },
  {
   "cell_type": "markdown",
   "metadata": {},
   "source": [
    "## Анализ A/B-теста"
   ]
  },
  {
   "cell_type": "markdown",
   "metadata": {},
   "source": [
    "### Постройте график кумулятивной выручки по группам. Сделайте выводы и предположения."
   ]
  },
  {
   "cell_type": "code",
   "execution_count": 17,
   "metadata": {},
   "outputs": [
    {
     "data": {
      "text/html": [
       "<div>\n",
       "<style scoped>\n",
       "    .dataframe tbody tr th:only-of-type {\n",
       "        vertical-align: middle;\n",
       "    }\n",
       "\n",
       "    .dataframe tbody tr th {\n",
       "        vertical-align: top;\n",
       "    }\n",
       "\n",
       "    .dataframe thead th {\n",
       "        text-align: right;\n",
       "    }\n",
       "</style>\n",
       "<table border=\"1\" class=\"dataframe\">\n",
       "  <thead>\n",
       "    <tr style=\"text-align: right;\">\n",
       "      <th></th>\n",
       "      <th>transactionId</th>\n",
       "      <th>visitorId</th>\n",
       "      <th>date</th>\n",
       "      <th>revenue</th>\n",
       "      <th>group</th>\n",
       "    </tr>\n",
       "  </thead>\n",
       "  <tbody>\n",
       "    <tr>\n",
       "      <th>0</th>\n",
       "      <td>3667963787</td>\n",
       "      <td>3312258926</td>\n",
       "      <td>2019-08-15</td>\n",
       "      <td>1650</td>\n",
       "      <td>B</td>\n",
       "    </tr>\n",
       "    <tr>\n",
       "      <th>1</th>\n",
       "      <td>2804400009</td>\n",
       "      <td>3642806036</td>\n",
       "      <td>2019-08-15</td>\n",
       "      <td>730</td>\n",
       "      <td>B</td>\n",
       "    </tr>\n",
       "    <tr>\n",
       "      <th>2</th>\n",
       "      <td>2961555356</td>\n",
       "      <td>4069496402</td>\n",
       "      <td>2019-08-15</td>\n",
       "      <td>400</td>\n",
       "      <td>A</td>\n",
       "    </tr>\n",
       "    <tr>\n",
       "      <th>3</th>\n",
       "      <td>3797467345</td>\n",
       "      <td>1196621759</td>\n",
       "      <td>2019-08-15</td>\n",
       "      <td>9759</td>\n",
       "      <td>B</td>\n",
       "    </tr>\n",
       "    <tr>\n",
       "      <th>4</th>\n",
       "      <td>2282983706</td>\n",
       "      <td>2322279887</td>\n",
       "      <td>2019-08-15</td>\n",
       "      <td>2308</td>\n",
       "      <td>B</td>\n",
       "    </tr>\n",
       "  </tbody>\n",
       "</table>\n",
       "</div>"
      ],
      "text/plain": [
       "   transactionId   visitorId        date  revenue group\n",
       "0     3667963787  3312258926  2019-08-15     1650     B\n",
       "1     2804400009  3642806036  2019-08-15      730     B\n",
       "2     2961555356  4069496402  2019-08-15      400     A\n",
       "3     3797467345  1196621759  2019-08-15     9759     B\n",
       "4     2282983706  2322279887  2019-08-15     2308     B"
      ]
     },
     "execution_count": 17,
     "metadata": {},
     "output_type": "execute_result"
    }
   ],
   "source": [
    "orders.head(5)"
   ]
  },
  {
   "cell_type": "code",
   "execution_count": 18,
   "metadata": {},
   "outputs": [],
   "source": [
    "ordersgroup = orders.groupby('visitorId')['group'].nunique()\n",
    "clean_orders = orders.merge(ordersgroup, on='visitorId')\n",
    "orders = clean_orders[clean_orders['group_y']==1][['transactionId', 'visitorId', 'date', 'revenue', 'group_x']]\n",
    "orders.columns = ['transactionId', 'visitorId', 'date', 'revenue', 'group']"
   ]
  },
  {
   "cell_type": "code",
   "execution_count": 19,
   "metadata": {},
   "outputs": [
    {
     "data": {
      "text/html": [
       "<div>\n",
       "<style scoped>\n",
       "    .dataframe tbody tr th:only-of-type {\n",
       "        vertical-align: middle;\n",
       "    }\n",
       "\n",
       "    .dataframe tbody tr th {\n",
       "        vertical-align: top;\n",
       "    }\n",
       "\n",
       "    .dataframe thead th {\n",
       "        text-align: right;\n",
       "    }\n",
       "</style>\n",
       "<table border=\"1\" class=\"dataframe\">\n",
       "  <thead>\n",
       "    <tr style=\"text-align: right;\">\n",
       "      <th></th>\n",
       "      <th>transactionId</th>\n",
       "      <th>visitorId</th>\n",
       "      <th>date</th>\n",
       "      <th>revenue</th>\n",
       "      <th>group</th>\n",
       "    </tr>\n",
       "  </thead>\n",
       "  <tbody>\n",
       "    <tr>\n",
       "      <th>0</th>\n",
       "      <td>3667963787</td>\n",
       "      <td>3312258926</td>\n",
       "      <td>2019-08-15</td>\n",
       "      <td>1650</td>\n",
       "      <td>B</td>\n",
       "    </tr>\n",
       "    <tr>\n",
       "      <th>1</th>\n",
       "      <td>2804400009</td>\n",
       "      <td>3642806036</td>\n",
       "      <td>2019-08-15</td>\n",
       "      <td>730</td>\n",
       "      <td>B</td>\n",
       "    </tr>\n",
       "    <tr>\n",
       "      <th>4</th>\n",
       "      <td>3797467345</td>\n",
       "      <td>1196621759</td>\n",
       "      <td>2019-08-15</td>\n",
       "      <td>9759</td>\n",
       "      <td>B</td>\n",
       "    </tr>\n",
       "    <tr>\n",
       "      <th>5</th>\n",
       "      <td>2282983706</td>\n",
       "      <td>2322279887</td>\n",
       "      <td>2019-08-15</td>\n",
       "      <td>2308</td>\n",
       "      <td>B</td>\n",
       "    </tr>\n",
       "    <tr>\n",
       "      <th>6</th>\n",
       "      <td>182168103</td>\n",
       "      <td>935554773</td>\n",
       "      <td>2019-08-15</td>\n",
       "      <td>2210</td>\n",
       "      <td>B</td>\n",
       "    </tr>\n",
       "  </tbody>\n",
       "</table>\n",
       "</div>"
      ],
      "text/plain": [
       "   transactionId   visitorId        date  revenue group\n",
       "0     3667963787  3312258926  2019-08-15     1650     B\n",
       "1     2804400009  3642806036  2019-08-15      730     B\n",
       "4     3797467345  1196621759  2019-08-15     9759     B\n",
       "5     2282983706  2322279887  2019-08-15     2308     B\n",
       "6      182168103   935554773  2019-08-15     2210     B"
      ]
     },
     "execution_count": 19,
     "metadata": {},
     "output_type": "execute_result"
    }
   ],
   "source": [
    "orders.head(5)"
   ]
  },
  {
   "cell_type": "code",
   "execution_count": 20,
   "metadata": {},
   "outputs": [],
   "source": [
    "orders[\"date\"] = orders[\"date\"].map(lambda x: dt.datetime.strptime(x, '%Y-%m-%d'))"
   ]
  },
  {
   "cell_type": "code",
   "execution_count": 21,
   "metadata": {},
   "outputs": [],
   "source": [
    "visitors['date'] = visitors['date'].map( lambda x: dt.datetime.strptime(x, '%Y-%m-%d'))"
   ]
  },
  {
   "cell_type": "code",
   "execution_count": 22,
   "metadata": {},
   "outputs": [],
   "source": [
    "datesGroups = orders[['date', 'group']].drop_duplicates()"
   ]
  },
  {
   "cell_type": "code",
   "execution_count": 23,
   "metadata": {
    "scrolled": false
   },
   "outputs": [],
   "source": [
    "ordersAggregated = datesGroups.apply(lambda x: orders[np.logical_and(orders['date'] <= x['date'], orders['group'] == x['group'])]\\\n",
    "                                     .agg({'date' : 'max', 'group' : 'max', 'transactionId' : 'nunique', 'visitorId' : 'nunique',\\\n",
    "                                           'revenue' : 'sum'}), axis=1).sort_values(by=['date', 'group'])\n",
    "\n"
   ]
  },
  {
   "cell_type": "code",
   "execution_count": 24,
   "metadata": {},
   "outputs": [],
   "source": [
    "visitorsAggregated = datesGroups.apply(lambda x: visitors[np.logical_and(visitors['date'] <= x['date'], visitors['group'] == x\\\n",
    "                                                                         ['group'])].agg({'date' : 'max', 'group' : 'max',\\\n",
    "                                                                                          'visitors' : 'sum'}), axis=1)\\\n",
    ".sort_values(by=['date', 'group'])\n"
   ]
  },
  {
   "cell_type": "code",
   "execution_count": 25,
   "metadata": {},
   "outputs": [],
   "source": [
    "cumulativeDate = ordersAggregated.merge(visitorsAggregated, left_on=['date', 'group'], right_on=['date', 'group'])"
   ]
  },
  {
   "cell_type": "code",
   "execution_count": 26,
   "metadata": {},
   "outputs": [],
   "source": [
    "cumulativeDate.columns=['date', 'group', 'orders', 'buyers', 'revenue', 'visitors']"
   ]
  },
  {
   "cell_type": "code",
   "execution_count": 27,
   "metadata": {},
   "outputs": [],
   "source": [
    "cumulativeDateA = cumulativeDate[cumulativeDate['group']=='A'][['date', 'revenue', 'orders']]"
   ]
  },
  {
   "cell_type": "code",
   "execution_count": 28,
   "metadata": {},
   "outputs": [],
   "source": [
    "cumulativeDateB = cumulativeDate[cumulativeDate['group']=='B'][['date', 'revenue', 'orders']]"
   ]
  },
  {
   "cell_type": "code",
   "execution_count": 29,
   "metadata": {},
   "outputs": [],
   "source": [
    "povtor = orders.groupby('visitorId')['group'].nunique()\n",
    "povtor_table = orders.merge(povtor, on='visitorId')"
   ]
  },
  {
   "cell_type": "code",
   "execution_count": 30,
   "metadata": {},
   "outputs": [
    {
     "data": {
      "text/plain": [
       "0"
      ]
     },
     "execution_count": 30,
     "metadata": {},
     "output_type": "execute_result"
    }
   ],
   "source": [
    "povtor_table[povtor_table['group_y']==2]['visitorId'].count()"
   ]
  },
  {
   "cell_type": "code",
   "execution_count": 31,
   "metadata": {},
   "outputs": [
    {
     "data": {
      "image/png": "[encoded data removed]",
      "text/plain": [
       "<Figure size 1500x800 with 1 Axes>"
      ]
     },
     "metadata": {},
     "output_type": "display_data"
    }
   ],
   "source": [
    "plt.figure(figsize=(15, 8))\n",
    "plt.plot(cumulativeDateA['date'], cumulativeDateA['revenue'], label='Кумулятивная выручка группы: A')\n",
    "plt.plot(cumulativeDateB['date'], cumulativeDateB['revenue'], label='Кумулятивная выручка группы: B')\n",
    "plt.ylabel('Выручка')\n",
    "plt.xlabel('Даты')\n",
    "plt.title('График кумулятивной выручки группы А и В')\n",
    "plt.grid()\n",
    "plt.legend();"
   ]
  },
  {
   "cell_type": "code",
   "execution_count": 32,
   "metadata": {},
   "outputs": [
    {
     "data": {
      "text/html": [
       "<div>\n",
       "<style scoped>\n",
       "    .dataframe tbody tr th:only-of-type {\n",
       "        vertical-align: middle;\n",
       "    }\n",
       "\n",
       "    .dataframe tbody tr th {\n",
       "        vertical-align: top;\n",
       "    }\n",
       "\n",
       "    .dataframe thead th {\n",
       "        text-align: right;\n",
       "    }\n",
       "</style>\n",
       "<table border=\"1\" class=\"dataframe\">\n",
       "  <thead>\n",
       "    <tr style=\"text-align: right;\">\n",
       "      <th></th>\n",
       "      <th>date</th>\n",
       "      <th>revenue</th>\n",
       "      <th>orders</th>\n",
       "    </tr>\n",
       "  </thead>\n",
       "  <tbody>\n",
       "    <tr>\n",
       "      <th>33</th>\n",
       "      <td>2019-08-17</td>\n",
       "      <td>2155542</td>\n",
       "      <td>320</td>\n",
       "    </tr>\n",
       "    <tr>\n",
       "      <th>35</th>\n",
       "      <td>2019-08-18</td>\n",
       "      <td>2190865</td>\n",
       "      <td>327</td>\n",
       "    </tr>\n",
       "    <tr>\n",
       "      <th>37</th>\n",
       "      <td>2019-08-19</td>\n",
       "      <td>3620785</td>\n",
       "      <td>348</td>\n",
       "    </tr>\n",
       "    <tr>\n",
       "      <th>39</th>\n",
       "      <td>2019-08-20</td>\n",
       "      <td>3768059</td>\n",
       "      <td>368</td>\n",
       "    </tr>\n",
       "    <tr>\n",
       "      <th>41</th>\n",
       "      <td>2019-08-21</td>\n",
       "      <td>3908406</td>\n",
       "      <td>380</td>\n",
       "    </tr>\n",
       "  </tbody>\n",
       "</table>\n",
       "</div>"
      ],
      "text/plain": [
       "         date  revenue  orders\n",
       "33 2019-08-17  2155542     320\n",
       "35 2019-08-18  2190865     327\n",
       "37 2019-08-19  3620785     348\n",
       "39 2019-08-20  3768059     368\n",
       "41 2019-08-21  3908406     380"
      ]
     },
     "execution_count": 32,
     "metadata": {},
     "output_type": "execute_result"
    }
   ],
   "source": [
    "cumulativeDateB.query('\"2019-08-17\" <= date <= \"2019-08-21\"')"
   ]
  },
  {
   "cell_type": "code",
   "execution_count": 33,
   "metadata": {},
   "outputs": [
    {
     "data": {
      "text/html": [
       "<div>\n",
       "<style scoped>\n",
       "    .dataframe tbody tr th:only-of-type {\n",
       "        vertical-align: middle;\n",
       "    }\n",
       "\n",
       "    .dataframe tbody tr th {\n",
       "        vertical-align: top;\n",
       "    }\n",
       "\n",
       "    .dataframe thead th {\n",
       "        text-align: right;\n",
       "    }\n",
       "</style>\n",
       "<table border=\"1\" class=\"dataframe\">\n",
       "  <thead>\n",
       "    <tr style=\"text-align: right;\">\n",
       "      <th></th>\n",
       "      <th>transactionId</th>\n",
       "      <th>visitorId</th>\n",
       "      <th>date</th>\n",
       "      <th>revenue</th>\n",
       "      <th>group</th>\n",
       "    </tr>\n",
       "  </thead>\n",
       "  <tbody>\n",
       "    <tr>\n",
       "      <th>506</th>\n",
       "      <td>590470918</td>\n",
       "      <td>1920142716</td>\n",
       "      <td>2019-08-19</td>\n",
       "      <td>1294500</td>\n",
       "      <td>B</td>\n",
       "    </tr>\n",
       "    <tr>\n",
       "      <th>608</th>\n",
       "      <td>3970235543</td>\n",
       "      <td>2912540959</td>\n",
       "      <td>2019-08-19</td>\n",
       "      <td>43990</td>\n",
       "      <td>A</td>\n",
       "    </tr>\n",
       "    <tr>\n",
       "      <th>605</th>\n",
       "      <td>1570513684</td>\n",
       "      <td>2837914161</td>\n",
       "      <td>2019-08-19</td>\n",
       "      <td>33405</td>\n",
       "      <td>B</td>\n",
       "    </tr>\n",
       "    <tr>\n",
       "      <th>502</th>\n",
       "      <td>3765974140</td>\n",
       "      <td>1357170471</td>\n",
       "      <td>2019-08-19</td>\n",
       "      <td>31680</td>\n",
       "      <td>A</td>\n",
       "    </tr>\n",
       "    <tr>\n",
       "      <th>538</th>\n",
       "      <td>2683113224</td>\n",
       "      <td>154576532</td>\n",
       "      <td>2019-08-19</td>\n",
       "      <td>26550</td>\n",
       "      <td>B</td>\n",
       "    </tr>\n",
       "  </tbody>\n",
       "</table>\n",
       "</div>"
      ],
      "text/plain": [
       "     transactionId   visitorId       date  revenue group\n",
       "506      590470918  1920142716 2019-08-19  1294500     B\n",
       "608     3970235543  2912540959 2019-08-19    43990     A\n",
       "605     1570513684  2837914161 2019-08-19    33405     B\n",
       "502     3765974140  1357170471 2019-08-19    31680     A\n",
       "538     2683113224   154576532 2019-08-19    26550     B"
      ]
     },
     "execution_count": 33,
     "metadata": {},
     "output_type": "execute_result"
    }
   ],
   "source": [
    "orders.query(' date == \"2019-08-19\" ').sort_values(by='revenue', ascending=False).head(5)"
   ]
  },
  {
   "cell_type": "markdown",
   "metadata": {},
   "source": [
    "#### Промежуточные выводы"
   ]
  },
  {
   "cell_type": "markdown",
   "metadata": {},
   "source": [
    "На графике видно, что группа В приносит  больше выручки в отличие группы А. Также есть какой-то резкий скачок между 17 и 21 числом. В первые 4 дня выручка у групп была практически одинаковая, но потом группа В стала приносить больше. 13 августа кумулятивная выручка у обеих групп была почти одинаковой, но уже в конце видна значительная разница кумулятивной выручки двух групп.\n",
    "\n",
    "Проверив данные с 17 по 21 августа, было выявленно, что резкий скачок был связан с одним крупным заказом 19 августа, который просто сильно отличался по стоимости от других заказов (в большую сторону). Этот заказ отвалится при отчистке данных, так как является аномалией."
   ]
  },
  {
   "cell_type": "markdown",
   "metadata": {},
   "source": [
    "### Кумулятивный средний чек"
   ]
  },
  {
   "cell_type": "code",
   "execution_count": 34,
   "metadata": {},
   "outputs": [
    {
     "data": {
      "image/png": "[encoded data removed]",
      "text/plain": [
       "<Figure size 1500x800 with 1 Axes>"
      ]
     },
     "metadata": {},
     "output_type": "display_data"
    }
   ],
   "source": [
    "plt.figure(figsize=(15, 8))\n",
    "plt.plot(cumulativeDateA['date'], cumulativeDateA['revenue']/cumulativeDateA['orders'], label='Кумулятивная выручка группы: A')\n",
    "plt.plot(cumulativeDateB['date'], cumulativeDateB['revenue']/cumulativeDateB['orders'], label='Кумулятивная выручка группы: B')\n",
    "plt.title('График кумулятивного среднего чека групп А и В')\n",
    "plt.ylabel('Средний чек')\n",
    "plt.xlabel('Даты')\n",
    "plt.grid()\n",
    "plt.legend();"
   ]
  },
  {
   "cell_type": "markdown",
   "metadata": {},
   "source": [
    "#### Промежуточные выводы"
   ]
  },
  {
   "cell_type": "markdown",
   "metadata": {},
   "source": [
    "На графике мы видем, что вначале средний чек группы В резко возрос, обогнав группы А, когда у нее было падение, затем было падение 5 августа, но после этого в средний чек снова возрос и только к 13 августу группа А снова перегнала группу Б но не на долго. Тот огронмный заказ отразился и на этом графике, из-за чего мы и видим резкий скачок 19 августа, и после него стабильное падение группы В, но при этом группа А почти всегда хуже по показателю кумулятивного среднего чека."
   ]
  },
  {
   "cell_type": "markdown",
   "metadata": {},
   "source": [
    "### Относительное изменение кумулятивного чека"
   ]
  },
  {
   "cell_type": "code",
   "execution_count": 35,
   "metadata": {},
   "outputs": [],
   "source": [
    "mergedCumulativeRevenue = cumulativeDateA.merge(cumulativeDateB, left_on=['date'], right_on=['date'], suffixes=['A', 'B'])"
   ]
  },
  {
   "cell_type": "code",
   "execution_count": 36,
   "metadata": {},
   "outputs": [
    {
     "data": {
      "image/png": "[encoded data removed]",
      "text/plain": [
       "<Figure size 1500x800 with 1 Axes>"
      ]
     },
     "metadata": {},
     "output_type": "display_data"
    }
   ],
   "source": [
    "plt.figure(figsize=(15, 8))\n",
    "plt.plot(mergedCumulativeRevenue['date'], (mergedCumulativeRevenue['revenueB']/mergedCumulativeRevenue['ordersB']\\\n",
    "                                          )/(mergedCumulativeRevenue['revenueA']/mergedCumulativeRevenue['ordersA'])-1)\n",
    "plt.ylabel('Относительное изменение')\n",
    "plt.xlabel('Даты')\n",
    "plt.title('Относительное изменение кумулятивного среднего чека')\n",
    "plt.axhline(y = 0, color='red',  linestyle='--')\n",
    "plt.grid();"
   ]
  },
  {
   "cell_type": "markdown",
   "metadata": {},
   "source": [
    "#### Промежуточные выводы"
   ]
  },
  {
   "cell_type": "markdown",
   "metadata": {},
   "source": [
    "Как мы видим на графике относительного изменения, группа В относительно группы А показываает лучшеи показатели. есть конечно падение, с 11 по 15 агуста, пик которрого 13 августа ,и в начале, но в остальное время группа В преобладает. С2 августа по 4 августа виден сильный рост, 5 августа падение, но не опускается ниже нуля. Затем с 5 8 такэе рост, а после уже падение. Хоть и в конце показатели групы В начинают снижаться. Тут также отображается наомальная покупка на большую сумму 19 августа."
   ]
  },
  {
   "cell_type": "markdown",
   "metadata": {},
   "source": [
    "### Постройте график кумулятивного среднего количества заказов на посетителя по группам. Сделайте выводы и предположения."
   ]
  },
  {
   "cell_type": "code",
   "execution_count": 37,
   "metadata": {},
   "outputs": [],
   "source": [
    "cumulativeDate['conversion'] = cumulativeDate['orders']/cumulativeDate['visitors']"
   ]
  },
  {
   "cell_type": "code",
   "execution_count": 38,
   "metadata": {},
   "outputs": [],
   "source": [
    "cumulativeDateA = cumulativeDate[cumulativeDate['group']=='A']\n",
    "cumulativeDateB = cumulativeDate[cumulativeDate['group']=='B']"
   ]
  },
  {
   "cell_type": "code",
   "execution_count": 39,
   "metadata": {},
   "outputs": [
    {
     "data": {
      "image/png": "[encoded data removed]",
      "text/plain": [
       "<Figure size 1500x800 with 1 Axes>"
      ]
     },
     "metadata": {},
     "output_type": "display_data"
    }
   ],
   "source": [
    "plt.figure(figsize=(15,8))\n",
    "plt.plot(cumulativeDateA['date'], cumulativeDateA['conversion'], label='Кумулятивная коверсия группы: А')\n",
    "plt.plot(cumulativeDateB['date'], cumulativeDateB['conversion'], label='Кумулятивная коверсия группы: B')\n",
    "plt.ylabel('График конверсии группы А и В')\n",
    "plt.xlabel('Даты')\n",
    "plt.title('Конверсия')\n",
    "plt.grid()\n",
    "plt.legend();"
   ]
  },
  {
   "cell_type": "markdown",
   "metadata": {},
   "source": [
    "#### Промежуточные выводы"
   ]
  },
  {
   "cell_type": "markdown",
   "metadata": {},
   "source": [
    "Как мы видим график очень не стабильный, особенно в начале. до 5 августа конверсия группы А преобладает (за исключением 2 августа, резкий всплеск группы В до 0,0348), но после 6 августа, группа В становится лидером и так в плоть до конца августа. Группа В стабильно в конце месяца держится у отметки в 0,034, когда группа А с периодическими всплесками держится на уровне 0,030. Думаю без всяких сомнений на этом график видно, что конерсия группы В выше конверсии группы А "
   ]
  },
  {
   "cell_type": "markdown",
   "metadata": {},
   "source": [
    "### Постройте график относительного изменения кумулятивного среднего количества заказов на посетителя группы B к группе A. Сделайте выводы и предположения."
   ]
  },
  {
   "cell_type": "code",
   "execution_count": 40,
   "metadata": {},
   "outputs": [],
   "source": [
    "mergedCumulativeRevenue = cumulativeDateA[['date', 'conversion']].merge(cumulativeDateB[['date', 'conversion']],\\\n",
    "                                                                        left_on='date', right_on='date', suffixes=['A', 'B'])"
   ]
  },
  {
   "cell_type": "code",
   "execution_count": 41,
   "metadata": {},
   "outputs": [
    {
     "data": {
      "image/png": "[encoded data removed]",
      "text/plain": [
       "<Figure size 1500x800 with 1 Axes>"
      ]
     },
     "metadata": {},
     "output_type": "display_data"
    }
   ],
   "source": [
    "plt.figure(figsize=(15, 8))\n",
    "plt.plot(mergedCumulativeRevenue['date'], (mergedCumulativeRevenue['conversionB']/mergedCumulativeRevenue['conversionA'])-1)\n",
    "plt.title('Относительное изменение кумулятивной конверсии')\n",
    "plt.xlabel('Даты')\n",
    "plt.ylabel('Коэффициент изменения')\n",
    "plt.axhline(y = 0, color='red',  linestyle='--')\n",
    "plt.grid();"
   ]
  },
  {
   "cell_type": "markdown",
   "metadata": {},
   "source": [
    "#### Промежуточные выводы"
   ]
  },
  {
   "cell_type": "markdown",
   "metadata": {},
   "source": [
    "Гпафик относительного изменения кумулятивной конверсии практически в точности повторяет мой предыдущий вывод. Здесь также видно, что с 1 по 6 августа группа В имела конверсию ниже группы А,за исключением всплеска 2 августа, который виден на обеих графиках. И дальнейших рост группы В вплоть до 10 августа, а затем уже более равномерное распредлеение конверсии в группе В с периодическими всплесками и упадками. Максимальное значение изменения 0,21, которого смогли достичь 15 августа. И затем уже небольшое снижение с периодеским ростом изменения кумулятивной конверсии. К концу месяца изменение кумулятивной коверсии держится окло 0,14."
   ]
  },
  {
   "cell_type": "markdown",
   "metadata": {},
   "source": [
    "### Постройте точечный график количества заказов по пользователям. Сделайте выводы и предположения."
   ]
  },
  {
   "cell_type": "code",
   "execution_count": 42,
   "metadata": {},
   "outputs": [],
   "source": [
    "orderByUser = orders.drop(['revenue', 'date', 'group'], axis=1)"
   ]
  },
  {
   "cell_type": "code",
   "execution_count": 43,
   "metadata": {},
   "outputs": [],
   "source": [
    "orderByUser = orders.groupby('visitorId', as_index=False).agg({'transactionId' : 'nunique'})\n",
    "orderByUser.columns=['userId', 'order']"
   ]
  },
  {
   "cell_type": "code",
   "execution_count": 44,
   "metadata": {},
   "outputs": [
    {
     "data": {
      "image/png": "[encoded data removed]",
      "text/plain": [
       "<Figure size 1000x500 with 1 Axes>"
      ]
     },
     "metadata": {},
     "output_type": "display_data"
    }
   ],
   "source": [
    "x_values = pd.Series(range(0, len(orderByUser)))\n",
    "plt.figure(figsize=(10, 5))\n",
    "plt.scatter(x_values, orderByUser['order'])\n",
    "plt.title('график количества заказов по пользователям')\n",
    "plt.xlabel('Пользователь')\n",
    "plt.ylabel('Количество заказов')\n",
    "plt.grid();"
   ]
  },
  {
   "cell_type": "markdown",
   "metadata": {},
   "source": [
    "#### Промежуточные выводы"
   ]
  },
  {
   "cell_type": "markdown",
   "metadata": {},
   "source": [
    "На графике отчетливо видно что подавляющее количество заказов это 1, максимум 2. Далее количество заказов достаточно редко. Есть такие аномальные значения как 11 или 9 заказов. Для полноты картины необходимо посчитать перцентили"
   ]
  },
  {
   "cell_type": "markdown",
   "metadata": {},
   "source": [
    "### Посчитайте 95-й и 99-й перцентили количества заказов на пользователя. Выберите границу для определения аномальных пользователей."
   ]
  },
  {
   "cell_type": "code",
   "execution_count": 45,
   "metadata": {},
   "outputs": [
    {
     "data": {
      "text/plain": [
       "array([1., 1., 2.])"
      ]
     },
     "execution_count": 45,
     "metadata": {},
     "output_type": "execute_result"
    }
   ],
   "source": [
    "np.percentile(orderByUser['order'], [90, 95, 99])"
   ]
  },
  {
   "cell_type": "code",
   "execution_count": 46,
   "metadata": {},
   "outputs": [
    {
     "data": {
      "text/plain": [
       "array([1., 1., 2., 2., 2.])"
      ]
     },
     "execution_count": 46,
     "metadata": {},
     "output_type": "execute_result"
    }
   ],
   "source": [
    "np.percentile(orderByUser['order'], [95, 96, 97, 98, 99])"
   ]
  },
  {
   "cell_type": "markdown",
   "metadata": {},
   "source": [
    "#### Промежуточные выводы"
   ]
  },
  {
   "cell_type": "markdown",
   "metadata": {},
   "source": [
    "То есть не более 10 процентов от общего числа пользователей совершали более 1 заказа. Не более 5 процентов от общего числа пользователей совершали более 2 заказов. И не более 1 проента от общего чилса пользователей оформляли более 4 заказов."
   ]
  },
  {
   "cell_type": "markdown",
   "metadata": {},
   "source": [
    "Изучив более детально, было выяснено, что не больше 3 процентов от общего числа пользователей делали более 2 заказов. Далее надо будет отфильтровать данные избавившись от аномалий. Мы примем, что больее 2 заказов это аномалия."
   ]
  },
  {
   "cell_type": "markdown",
   "metadata": {},
   "source": [
    "### Постройте точечный график стоимостей заказов. Сделайте выводы и предположения."
   ]
  },
  {
   "cell_type": "code",
   "execution_count": 47,
   "metadata": {},
   "outputs": [],
   "source": [
    "x_valuesR = pd.Series(range(0, len(orders)))"
   ]
  },
  {
   "cell_type": "code",
   "execution_count": 48,
   "metadata": {},
   "outputs": [
    {
     "data": {
      "image/png": "[encoded data removed]",
      "text/plain": [
       "<Figure size 1700x500 with 1 Axes>"
      ]
     },
     "metadata": {},
     "output_type": "display_data"
    }
   ],
   "source": [
    "plt.figure(figsize=(17, 5))\n",
    "plt.scatter(x_valuesR, orders['revenue'])\n",
    "plt.grid()\n",
    "plt.title('Точечный график стимостей заказов')\n",
    "plt.ylabel('Стоимость заказа, млн.')\n",
    "plt.xlabel('порядковый номер заказа');"
   ]
  },
  {
   "cell_type": "code",
   "execution_count": 49,
   "metadata": {},
   "outputs": [
    {
     "data": {
      "text/html": [
       "<div>\n",
       "<style scoped>\n",
       "    .dataframe tbody tr th:only-of-type {\n",
       "        vertical-align: middle;\n",
       "    }\n",
       "\n",
       "    .dataframe tbody tr th {\n",
       "        vertical-align: top;\n",
       "    }\n",
       "\n",
       "    .dataframe thead th {\n",
       "        text-align: right;\n",
       "    }\n",
       "</style>\n",
       "<table border=\"1\" class=\"dataframe\">\n",
       "  <thead>\n",
       "    <tr style=\"text-align: right;\">\n",
       "      <th></th>\n",
       "      <th>revenue</th>\n",
       "    </tr>\n",
       "  </thead>\n",
       "  <tbody>\n",
       "    <tr>\n",
       "      <th>506</th>\n",
       "      <td>1294500</td>\n",
       "    </tr>\n",
       "    <tr>\n",
       "      <th>1196</th>\n",
       "      <td>202740</td>\n",
       "    </tr>\n",
       "    <tr>\n",
       "      <th>1150</th>\n",
       "      <td>92550</td>\n",
       "    </tr>\n",
       "    <tr>\n",
       "      <th>803</th>\n",
       "      <td>86620</td>\n",
       "    </tr>\n",
       "    <tr>\n",
       "      <th>802</th>\n",
       "      <td>67990</td>\n",
       "    </tr>\n",
       "    <tr>\n",
       "      <th>1116</th>\n",
       "      <td>66350</td>\n",
       "    </tr>\n",
       "    <tr>\n",
       "      <th>1114</th>\n",
       "      <td>65710</td>\n",
       "    </tr>\n",
       "    <tr>\n",
       "      <th>989</th>\n",
       "      <td>60450</td>\n",
       "    </tr>\n",
       "    <tr>\n",
       "      <th>981</th>\n",
       "      <td>58550</td>\n",
       "    </tr>\n",
       "    <tr>\n",
       "      <th>680</th>\n",
       "      <td>53904</td>\n",
       "    </tr>\n",
       "  </tbody>\n",
       "</table>\n",
       "</div>"
      ],
      "text/plain": [
       "      revenue\n",
       "506   1294500\n",
       "1196   202740\n",
       "1150    92550\n",
       "803     86620\n",
       "802     67990\n",
       "1116    66350\n",
       "1114    65710\n",
       "989     60450\n",
       "981     58550\n",
       "680     53904"
      ]
     },
     "execution_count": 49,
     "metadata": {},
     "output_type": "execute_result"
    }
   ],
   "source": [
    "big_orders = orders[['revenue']]\n",
    "big_orders.sort_values(by='revenue', ascending=False).head(10)"
   ]
  },
  {
   "cell_type": "code",
   "execution_count": 50,
   "metadata": {},
   "outputs": [
    {
     "data": {
      "image/png": "[encoded data removed]",
      "text/plain": [
       "<Figure size 1700x500 with 1 Axes>"
      ]
     },
     "metadata": {},
     "output_type": "display_data"
    }
   ],
   "source": [
    "normalorders = orders[orders['revenue'] < 190000]['revenue']\n",
    "xn_values = pd.Series(range(0,len(normalorders)))\n",
    "plt.figure(figsize=(17, 5))\n",
    "plt.scatter(xn_values, normalorders)\n",
    "plt.grid()\n",
    "plt.title('Точечный график стимостей заказов')\n",
    "plt.ylabel('Стоимость заказа')\n",
    "plt.xlabel('порядковый номер заказа');"
   ]
  },
  {
   "cell_type": "markdown",
   "metadata": {},
   "source": [
    "#### Промежуточные выводы"
   ]
  },
  {
   "cell_type": "markdown",
   "metadata": {},
   "source": [
    "На первом графике точечных стоимостей заказов не очень хорошо видна общая картина, но то что более 1,2 миллиона это явно выброс, который мы видели явно, он повлиял на предыдущие графики, данные были ограничены менее 1,2 млн. и построена новая таблица.\n",
    "\n",
    "Также был выведен список самых дорогих заказов. Ярче всего выделяются первые два. Ограничим заказы по цене в 190000\n",
    "\n",
    "На втором графике точечных стоимостей видно, что большинство заказов не превышает стоимость в 20000, но чтобы узнать все точно нам необходимо рассчитать перцентили."
   ]
  },
  {
   "cell_type": "markdown",
   "metadata": {},
   "source": [
    "### Посчитайте 95-й и 99-й перцентили стоимости заказов. Выберите границу для определения аномальных заказов."
   ]
  },
  {
   "cell_type": "code",
   "execution_count": 51,
   "metadata": {},
   "outputs": [
    {
     "data": {
      "text/plain": [
       "array([17990., 26785., 53904.])"
      ]
     },
     "execution_count": 51,
     "metadata": {},
     "output_type": "execute_result"
    }
   ],
   "source": [
    "np.percentile(orders['revenue'], [90, 95, 99])"
   ]
  },
  {
   "cell_type": "code",
   "execution_count": 52,
   "metadata": {},
   "outputs": [
    {
     "data": {
      "text/plain": [
       "array([26785., 30649., 34792., 42353., 53904.])"
      ]
     },
     "execution_count": 52,
     "metadata": {},
     "output_type": "execute_result"
    }
   ],
   "source": [
    "np.percentile(orders['revenue'], [95, 96, 97, 98, 99])"
   ]
  },
  {
   "cell_type": "markdown",
   "metadata": {},
   "source": [
    "#### Промежуточные выводы"
   ]
  },
  {
   "cell_type": "markdown",
   "metadata": {},
   "source": [
    "По тому что я увидел, что менее 1 процента от общего количества заказов, стоимость более 58233. Я думаю, что границей можно принять 50000."
   ]
  },
  {
   "cell_type": "markdown",
   "metadata": {},
   "source": [
    "### Посчитайте статистическую значимость различий в среднем количестве заказов на посетителя между группами по «сырым» данным. Сделайте выводы и предположения."
   ]
  },
  {
   "cell_type": "markdown",
   "metadata": {},
   "source": [
    "#### Подготовка данных"
   ]
  },
  {
   "cell_type": "code",
   "execution_count": 53,
   "metadata": {},
   "outputs": [],
   "source": [
    "visitorsDailyA = visitors[visitors['group']=='A'][['date', 'visitors']]\n",
    "visitorsDailyB = visitors[visitors['group']=='B'][['date', 'visitors']]"
   ]
  },
  {
   "cell_type": "code",
   "execution_count": 54,
   "metadata": {},
   "outputs": [],
   "source": [
    "visitorsDailyA.columns=['date', 'visitorsPerDateA']\n",
    "visitorsDailyB.columns=['date', 'visitorsPerDateB']"
   ]
  },
  {
   "cell_type": "code",
   "execution_count": 55,
   "metadata": {},
   "outputs": [],
   "source": [
    "visitorsACummulative = visitorsDailyA.apply(lambda x: visitorsDailyA[visitorsDailyA['date'] <= x['date']]\\\n",
    "                                            .agg({'date' : 'max', 'visitorsPerDateA' : 'sum'}), axis=1)\n",
    "visitorsBCummulative = visitorsDailyB.apply(lambda x: visitorsDailyB[visitorsDailyB['date'] <= x['date']]\\\n",
    "                                            .agg({'date' : 'max', 'visitorsPerDateB' : 'sum'}), axis=1)"
   ]
  },
  {
   "cell_type": "code",
   "execution_count": 56,
   "metadata": {},
   "outputs": [],
   "source": [
    "visitorsACummulative.columns=['date', 'visitorsCummulativeA']\n",
    "visitorsBCummulative.columns=['date', 'visitorsCummulativeB']"
   ]
  },
  {
   "cell_type": "code",
   "execution_count": 57,
   "metadata": {},
   "outputs": [],
   "source": [
    "ordersDailyA = orders[orders['group']=='A'][['date', 'transactionId', 'visitorId', 'revenue']]\\\n",
    ".groupby('date', as_index=False).agg({'transactionId' : 'nunique', 'revenue' : 'sum'})\n",
    "ordersDailyB = orders[orders['group']=='B'][['date', 'transactionId', 'visitorId', 'revenue']]\\\n",
    ".groupby('date', as_index=False).agg({'transactionId' : 'nunique', 'revenue' : 'sum'})"
   ]
  },
  {
   "cell_type": "code",
   "execution_count": 58,
   "metadata": {},
   "outputs": [],
   "source": [
    "ordersDailyA.columns=['date', 'ordersPerDateA', 'revenuePerDateA']\n",
    "ordersDailyB.columns=['date', 'ordersPerDateB', 'revenuePerDateB']"
   ]
  },
  {
   "cell_type": "code",
   "execution_count": 77,
   "metadata": {},
   "outputs": [],
   "source": [
    "ordersACummulative = ordersDailyA.apply(lambda x: ordersDailyA[ordersDailyA['date'] <= x['date']]\\\n",
    "                                        .agg({'date':'max', 'ordersPerDateA':'sum', 'revenuePerDateA':'sum'}), axis=1).sort_values(by=['date'])\n",
    "ordersBCummulative = ordersDailyB.apply(lambda x: ordersDailyB[ordersDailyB['date'] <= x['date']]\\\n",
    "                                        .agg({'date':'max', 'ordersPerDateB':'sum', 'revenuePerDateB':'sum'}), axis=1).sort_values(by=['date'])"
   ]
  },
  {
   "cell_type": "code",
   "execution_count": 60,
   "metadata": {},
   "outputs": [],
   "source": [
    "ordersACummulative.columns = ['date', 'ordersCummulativeA', 'revenueCummulativeA']\n",
    "ordersBCummulative.columns = ['date', 'ordersCummulativeB', 'revenueCummulativeB']"
   ]
  },
  {
   "cell_type": "code",
   "execution_count": 61,
   "metadata": {},
   "outputs": [
    {
     "data": {
      "text/html": [
       "<div>\n",
       "<style scoped>\n",
       "    .dataframe tbody tr th:only-of-type {\n",
       "        vertical-align: middle;\n",
       "    }\n",
       "\n",
       "    .dataframe tbody tr th {\n",
       "        vertical-align: top;\n",
       "    }\n",
       "\n",
       "    .dataframe thead th {\n",
       "        text-align: right;\n",
       "    }\n",
       "</style>\n",
       "<table border=\"1\" class=\"dataframe\">\n",
       "  <thead>\n",
       "    <tr style=\"text-align: right;\">\n",
       "      <th></th>\n",
       "      <th>transactionId</th>\n",
       "      <th>visitorId</th>\n",
       "      <th>date</th>\n",
       "      <th>revenue</th>\n",
       "      <th>group</th>\n",
       "    </tr>\n",
       "  </thead>\n",
       "  <tbody>\n",
       "    <tr>\n",
       "      <th>0</th>\n",
       "      <td>3667963787</td>\n",
       "      <td>3312258926</td>\n",
       "      <td>2019-08-15</td>\n",
       "      <td>1650</td>\n",
       "      <td>B</td>\n",
       "    </tr>\n",
       "    <tr>\n",
       "      <th>1</th>\n",
       "      <td>2804400009</td>\n",
       "      <td>3642806036</td>\n",
       "      <td>2019-08-15</td>\n",
       "      <td>730</td>\n",
       "      <td>B</td>\n",
       "    </tr>\n",
       "    <tr>\n",
       "      <th>4</th>\n",
       "      <td>3797467345</td>\n",
       "      <td>1196621759</td>\n",
       "      <td>2019-08-15</td>\n",
       "      <td>9759</td>\n",
       "      <td>B</td>\n",
       "    </tr>\n",
       "    <tr>\n",
       "      <th>5</th>\n",
       "      <td>2282983706</td>\n",
       "      <td>2322279887</td>\n",
       "      <td>2019-08-15</td>\n",
       "      <td>2308</td>\n",
       "      <td>B</td>\n",
       "    </tr>\n",
       "    <tr>\n",
       "      <th>6</th>\n",
       "      <td>182168103</td>\n",
       "      <td>935554773</td>\n",
       "      <td>2019-08-15</td>\n",
       "      <td>2210</td>\n",
       "      <td>B</td>\n",
       "    </tr>\n",
       "  </tbody>\n",
       "</table>\n",
       "</div>"
      ],
      "text/plain": [
       "   transactionId   visitorId       date  revenue group\n",
       "0     3667963787  3312258926 2019-08-15     1650     B\n",
       "1     2804400009  3642806036 2019-08-15      730     B\n",
       "4     3797467345  1196621759 2019-08-15     9759     B\n",
       "5     2282983706  2322279887 2019-08-15     2308     B\n",
       "6      182168103   935554773 2019-08-15     2210     B"
      ]
     },
     "execution_count": 61,
     "metadata": {},
     "output_type": "execute_result"
    }
   ],
   "source": [
    "orders.head()"
   ]
  },
  {
   "cell_type": "code",
   "execution_count": 62,
   "metadata": {},
   "outputs": [],
   "source": [
    "data = visitorsDailyA.merge(visitorsDailyB, left_on='date', right_on='date', how='left')\\\n",
    ".merge(visitorsACummulative, left_on='date', right_on='date', how='left')\\\n",
    ".merge(visitorsBCummulative, left_on='date', right_on='date', how='left')\\\n",
    ".merge(ordersDailyA, left_on='date', right_on='date', how='left')\\\n",
    ".merge(ordersDailyB, left_on='date', right_on='date', how='left')\\\n",
    ".merge(ordersACummulative, left_on='date', right_on='date', how='left')\\\n",
    ".merge(ordersBCummulative, left_on='date', right_on='date', how='left')"
   ]
  },
  {
   "cell_type": "markdown",
   "metadata": {},
   "source": [
    "#### Статистическая значимость различий в среднем количестве заказов на посетителя между группами по «сырым» данным."
   ]
  },
  {
   "cell_type": "markdown",
   "metadata": {},
   "source": [
    "За нулевую гипотезу возьмем, что: \"Различий в среденем количестве заказов на посетителя между группами А и В по сырым данным нет.\" Альтернативная же, звучит так: \"Различия в среденем количестве заказов на посетителя между группами А и В по сырым данным имеются.\""
   ]
  },
  {
   "cell_type": "code",
   "execution_count": 63,
   "metadata": {},
   "outputs": [],
   "source": [
    "ordersByUserA = orders[orders['group']=='A'].groupby('visitorId', as_index=False).agg({'transactionId':'nunique'})\n",
    "ordersByUserB = orders[orders['group']=='B'].groupby('visitorId', as_index=False).agg({'transactionId':'nunique'})"
   ]
  },
  {
   "cell_type": "code",
   "execution_count": 64,
   "metadata": {},
   "outputs": [],
   "source": [
    "ordersByUserA.columns=['userId', 'orders']\n",
    "ordersByUserB.columns=['userId', 'orders']"
   ]
  },
  {
   "cell_type": "code",
   "execution_count": 65,
   "metadata": {},
   "outputs": [],
   "source": [
    "sampleA = pd.concat([ordersByUserA['orders'],\\\n",
    "                     pd.Series(0, index=np.arange(data['visitorsPerDateA'].sum() - len(ordersByUserA['orders'])),\\\n",
    "                               name='orders')], axis=0)\n",
    "sampleB = pd.concat([ordersByUserB['orders'],\\\n",
    "                     pd.Series(0, index=np.arange(data['visitorsPerDateB'].sum() - len(ordersByUserB['orders'])),\\\n",
    "                               name='orders')], axis=0)\n"
   ]
  },
  {
   "cell_type": "code",
   "execution_count": 66,
   "metadata": {},
   "outputs": [
    {
     "name": "stdout",
     "output_type": "stream",
     "text": [
      "alpha = 0,05\n",
      "p-value = 0.011\n",
      "Относительный показатель 'B' и 'A' = 0.160\n"
     ]
    }
   ],
   "source": [
    "print('alpha = 0,05')\n",
    "print(\"p-value = {0:.3f}\".format(stats.mannwhitneyu(sampleA, sampleB) [1]))\n",
    "print(\"Относительный показатель 'B' и 'A' = {0:.3f}\".format(sampleB.mean()/sampleA.mean() - 1))"
   ]
  },
  {
   "cell_type": "markdown",
   "metadata": {},
   "source": [
    "#### Промежуточные выводы"
   ]
  },
  {
   "cell_type": "markdown",
   "metadata": {},
   "source": [
    "p-value = 0.017, что меньше alpha = 0,05. Это значит, что нулевую гипотезу о том что различий в среднем количестве заказов между группами А и В нет, мы отвергаем. Различия между группами имеются. И относительнй показатель показывает, что различия в 13,8 %"
   ]
  },
  {
   "cell_type": "markdown",
   "metadata": {},
   "source": [
    "### Посчитайте статистическую значимость различий в среднем чеке заказа между группами по «сырым» данным. Сделайте выводы и предположения."
   ]
  },
  {
   "cell_type": "markdown",
   "metadata": {},
   "source": [
    "За нулевую гипотезу возьмем, что: \"Различий в среденем чеке заказа между группами А и В по сырым данным нет.\" Альтернативная же, звучит так: \"Различия в среденем чеке заказа между группами А и В по сырым данным имеются.\""
   ]
  },
  {
   "cell_type": "code",
   "execution_count": 67,
   "metadata": {},
   "outputs": [
    {
     "name": "stdout",
     "output_type": "stream",
     "text": [
      "alpha = 0,05\n",
      "p-value = 0.829\n",
      "Относительный показатель 'B' и 'A' = 0.287\n"
     ]
    }
   ],
   "source": [
    "print('alpha = 0,05')\n",
    "print(\"p-value = {0:.3f}\".format(stats.mannwhitneyu(orders[orders['group']=='A']['revenue'],\\\n",
    "                                                    orders[orders['group']=='B']['revenue'])[1]))\n",
    "print(\"Относительный показатель 'B' и 'A' = {0:.3f}\"\\\n",
    "      .format((orders[orders['group']=='B']['revenue']).mean()/(orders[orders['group']=='A']['revenue']).mean() - 1))"
   ]
  },
  {
   "cell_type": "markdown",
   "metadata": {},
   "source": [
    "#### Промежуточные выводы"
   ]
  },
  {
   "cell_type": "markdown",
   "metadata": {},
   "source": [
    "p-value = 0.729, что больше alpha = 0.05. Из этого следует, что нулевую гипотезу о различии межджу группами А и В в среднем чеке заказа мы не можем отвергунть. При этом относительный прирост среднего чека группы В относительно группы А составляет 26%."
   ]
  },
  {
   "cell_type": "markdown",
   "metadata": {},
   "source": [
    "### Посчитайте статистическую значимость различий в среднем количестве заказов на посетителя между группами по «очищенным» данным. Сделайте выводы и предположения."
   ]
  },
  {
   "cell_type": "markdown",
   "metadata": {},
   "source": [
    "#### подготовка данных."
   ]
  },
  {
   "cell_type": "code",
   "execution_count": 68,
   "metadata": {},
   "outputs": [],
   "source": [
    "usersWithManyOrders = pd.concat([ordersByUserA[ordersByUserA['orders'] > 2]['userId'],\\\n",
    "                                 ordersByUserB[ordersByUserB['orders'] > 2]['userId']], axis=0)\n",
    "usersWithExpensiveOrders = orders[orders['revenue'] > 50000 ]['visitorId']"
   ]
  },
  {
   "cell_type": "code",
   "execution_count": 69,
   "metadata": {},
   "outputs": [],
   "source": [
    "abnormal = pd.concat([usersWithManyOrders, usersWithExpensiveOrders], axis=0).drop_duplicates().sort_values()"
   ]
  },
  {
   "cell_type": "code",
   "execution_count": 70,
   "metadata": {},
   "outputs": [
    {
     "name": "stdout",
     "output_type": "stream",
     "text": [
      "Всего аномальных пользователей: 22\n"
     ]
    }
   ],
   "source": [
    "print(f'Всего аномальных пользователей: {len(abnormal)}')"
   ]
  },
  {
   "cell_type": "code",
   "execution_count": 78,
   "metadata": {},
   "outputs": [],
   "source": [
    "sampleAFiltred = pd.concat([ordersByUserA[np.logical_not(ordersByUserA['userId'].isin(abnormal))]['orders'], \\\n",
    "                            pd.Series(0, index=np.arange(data['visitorsPerDateA'].sum() - len(ordersByUserA['orders'])), \\\n",
    "                                      name='orders')], axis=0)\n",
    "sampleBFiltred = pd.concat([ordersByUserB[np.logical_not(ordersByUserB['userId'].isin(abnormal))]['orders'], \\\n",
    "                            pd.Series(0, index=np.arange(data['visitorsPerDateB'].sum() - len(ordersByUserB['orders'])), \\\n",
    "                                      name='orders')], axis=0)"
   ]
  },
  {
   "cell_type": "markdown",
   "metadata": {},
   "source": [
    "####  Cтатистическая значимость различий в среднем количестве заказов на посетителя между группами по «очищенным» данным."
   ]
  },
  {
   "cell_type": "markdown",
   "metadata": {},
   "source": [
    "За нулевую гипотезу возьмем, что: \"Различий в среденем количестве заказов на посетителя между группами А и В по очищенным данным нет.\" Альтернативная же, звучит так: \"Различия в среденем количестве заказов на посетителя между группами А и В по очищенным данным имеются.\""
   ]
  },
  {
   "cell_type": "code",
   "execution_count": 72,
   "metadata": {},
   "outputs": [
    {
     "name": "stdout",
     "output_type": "stream",
     "text": [
      "alpha = 0,05\n",
      "p-value = 0.006\n",
      "Относительный показатель 'B' и 'A' = 0.198\n"
     ]
    }
   ],
   "source": [
    "print('alpha = 0,05')\n",
    "print(\"p-value = {0:.3f}\".format(stats.mannwhitneyu(sampleAFiltred, sampleBFiltred) [1]))\n",
    "print(\"Относительный показатель 'B' и 'A' = {0:.3f}\".format(sampleBFiltred.mean()/sampleAFiltred.mean() - 1))"
   ]
  },
  {
   "cell_type": "markdown",
   "metadata": {},
   "source": [
    "#### Промежуточные выводы"
   ]
  },
  {
   "cell_type": "markdown",
   "metadata": {},
   "source": [
    "p-value = 0.008 меньше alpha = 0.05, следовательно нулевую гипотеза о отсутствии различий в среднем количестве заказов на посетителя между группами А и В, мы отвергаем. Относительный показатель показал, что разница между группами составляет около 18,2%."
   ]
  },
  {
   "cell_type": "markdown",
   "metadata": {},
   "source": [
    "### Посчитайте статистическую значимость различий в среднем чеке заказа между группами по «очищенным» данным. Сделайте выводы и предположения."
   ]
  },
  {
   "cell_type": "markdown",
   "metadata": {},
   "source": [
    "За нулевую гипотезу возьмем, что: \"Различий в среденем чеке заказа между группами А и В по очищенным данным нет.\" Альтернативная же, звучит так: \"Различия в среденем чеке заказа между группами А и В по очищенным данным имеются.\""
   ]
  },
  {
   "cell_type": "code",
   "execution_count": 73,
   "metadata": {},
   "outputs": [
    {
     "name": "stdout",
     "output_type": "stream",
     "text": [
      "alpha = 0,05\n",
      "p-value = 0.939\n",
      "Относительный показатель 'B' и 'A' = 0.011\n"
     ]
    }
   ],
   "source": [
    "print('alpha = 0,05')\n",
    "print(\"p-value = {0:.3f}\"\\\n",
    "      .format(stats.mannwhitneyu(orders[np.logical_and(orders['group']=='A',np.logical_not(orders['visitorId']\\\n",
    "                                                                                           .isin(abnormal)))]['revenue'],\\\n",
    "                                 orders[np.logical_and(orders['group']=='B',np.logical_not(orders['visitorId']\\\n",
    "                                                                                           .isin(abnormal)))] ['revenue'])[1]))\n",
    "print(\"Относительный показатель 'B' и 'A' = {0:.3f}\"\\\n",
    ".format((orders[np.logical_and(orders['group']=='B', np.logical_not(orders['visitorId'].isin(abnormal)))]['revenue'])\\\n",
    ".mean()/(orders[np.logical_and(orders['group']=='A', np.logical_not(orders['visitorId'].isin(abnormal)))]['revenue'])\\\n",
    "        .mean() - 1))"
   ]
  },
  {
   "cell_type": "markdown",
   "metadata": {},
   "source": [
    "#### Промежуточные выводы"
   ]
  },
  {
   "cell_type": "markdown",
   "metadata": {},
   "source": [
    "p-value = 0.940, а alpha = 0.05, следовательно мы не можем отвергнуть нулевую гипотезу, о отсутсвии различий в среднем чеке заказа между группами А и В. При этом относительный прирост среднего чека группы В относительно группы А составляет 1,9%."
   ]
  },
  {
   "cell_type": "markdown",
   "metadata": {},
   "source": [
    "### Выводы"
   ]
  },
  {
   "cell_type": "markdown",
   "metadata": {},
   "source": [
    "О чем нам сказали результаты тестов:\n",
    " - Мы отвергли по нулевую гипотезу об отсутсвие различий в среднем количестве заказов между группами по \"Сырым данным\", относительнй показатель различия составляет 13,8%;\n",
    " - Мы не смогли отвергнуть нулевую теорию об отсуствии различий в среднем чеке заказа между группами по \"Сырым данным\", относительный показатель различия составляет 26%;\n",
    " - Мы отвергли по нулевую гипотезу об отсутсвие различий в среднем количестве заказов между группами по \"Очищенным данным\", Относительный показатель составляет около 18,2%;\n",
    " - Мы не смогли отвергнуть нулевую теорию об отсуствии различий в среднем чеке заказа между группами по \"Очищенным данным\", относительный показатель различия групп составялет 1,9%;\n",
    " \n",
    "Также на графиках мы наблюдали преобладание группы В по кумулятивном средним значениям количеством заказов на посетителей и по кумулятивному среднему чеку. Графики относительных показателей тоже показали, что группа В успешней чем группа А. В некоторых случаях в нчале месяца группа А преобладала, конечно, но под конец месяца группа В имела показатели значительно лучше чем группа А.\n",
    "\n",
    "По итогу я могу сказать, что стоит остановить тест и признать группу В успшнее группы А, хоть и отличия по среднем чеку не большие.\n",
    "\n",
    "В Работе так же была проведена приоритезация гипотез методами ICE и RICE, так как метод RICE более точный, я опирался на него. Также были убраны аномалии из данных, рассчитав перцентели."
   ]
  }
 ],
 "metadata": {
  "ExecuteTimeLog": [
   {
    "duration": 454,
    "start_time": "2023-06-25T20:48:25.041Z"
   },
   {
    "duration": 85,
    "start_time": "2023-06-25T20:48:25.900Z"
   },
   {
    "duration": 26,
    "start_time": "2023-06-25T20:48:33.078Z"
   },
   {
    "duration": 6,
    "start_time": "2023-06-25T20:48:52.083Z"
   },
   {
    "duration": 10,
    "start_time": "2023-06-25T20:54:50.433Z"
   },
   {
    "duration": 5,
    "start_time": "2023-06-25T20:56:08.145Z"
   },
   {
    "duration": 66,
    "start_time": "2023-06-25T20:56:13.653Z"
   },
   {
    "duration": 8,
    "start_time": "2023-06-25T20:56:18.756Z"
   },
   {
    "duration": 4,
    "start_time": "2023-06-25T20:56:45.624Z"
   },
   {
    "duration": 5,
    "start_time": "2023-06-25T20:56:47.617Z"
   },
   {
    "duration": 4,
    "start_time": "2023-06-25T20:57:40.238Z"
   },
   {
    "duration": 5,
    "start_time": "2023-06-25T20:57:45.089Z"
   },
   {
    "duration": 4,
    "start_time": "2023-06-25T20:58:55.525Z"
   },
   {
    "duration": 3,
    "start_time": "2023-06-25T20:58:57.311Z"
   },
   {
    "duration": 12,
    "start_time": "2023-06-25T20:58:59.280Z"
   },
   {
    "duration": 102,
    "start_time": "2023-06-25T21:01:17.002Z"
   },
   {
    "duration": 71,
    "start_time": "2023-06-25T21:01:18.304Z"
   },
   {
    "duration": 8,
    "start_time": "2023-06-25T21:01:23.220Z"
   },
   {
    "duration": 9,
    "start_time": "2023-06-25T21:01:27.472Z"
   },
   {
    "duration": 60,
    "start_time": "2023-06-26T08:53:00.414Z"
   },
   {
    "duration": 436,
    "start_time": "2023-06-26T08:53:14.201Z"
   },
   {
    "duration": 79,
    "start_time": "2023-06-26T08:53:14.638Z"
   },
   {
    "duration": 14,
    "start_time": "2023-06-26T08:53:14.719Z"
   },
   {
    "duration": 48,
    "start_time": "2023-06-26T08:53:14.734Z"
   },
   {
    "duration": 11,
    "start_time": "2023-06-26T08:53:14.785Z"
   },
   {
    "duration": 4,
    "start_time": "2023-06-26T08:53:14.798Z"
   },
   {
    "duration": 7,
    "start_time": "2023-06-26T08:53:14.803Z"
   },
   {
    "duration": 5,
    "start_time": "2023-06-26T08:53:14.811Z"
   },
   {
    "duration": 5,
    "start_time": "2023-06-26T08:53:14.818Z"
   },
   {
    "duration": 11,
    "start_time": "2023-06-26T08:53:14.824Z"
   },
   {
    "duration": 92,
    "start_time": "2023-06-26T08:53:14.837Z"
   },
   {
    "duration": 73,
    "start_time": "2023-06-26T08:53:14.930Z"
   },
   {
    "duration": 9,
    "start_time": "2023-06-26T08:53:15.006Z"
   },
   {
    "duration": 431,
    "start_time": "2023-06-26T08:53:15.018Z"
   },
   {
    "duration": 3,
    "start_time": "2023-06-26T08:53:42.442Z"
   },
   {
    "duration": 421,
    "start_time": "2023-06-26T08:53:44.895Z"
   },
   {
    "duration": 12,
    "start_time": "2023-06-26T08:54:41.126Z"
   },
   {
    "duration": 9,
    "start_time": "2023-06-26T08:54:48.365Z"
   },
   {
    "duration": 13,
    "start_time": "2023-06-26T08:55:05.201Z"
   },
   {
    "duration": 441,
    "start_time": "2023-06-26T08:55:14.463Z"
   },
   {
    "duration": 27,
    "start_time": "2023-06-26T08:55:14.906Z"
   },
   {
    "duration": 13,
    "start_time": "2023-06-26T08:55:14.934Z"
   },
   {
    "duration": 17,
    "start_time": "2023-06-26T08:55:14.949Z"
   },
   {
    "duration": 7,
    "start_time": "2023-06-26T08:55:14.968Z"
   },
   {
    "duration": 12,
    "start_time": "2023-06-26T08:55:14.977Z"
   },
   {
    "duration": 15,
    "start_time": "2023-06-26T08:55:14.994Z"
   },
   {
    "duration": 43,
    "start_time": "2023-06-26T08:55:15.011Z"
   },
   {
    "duration": 11,
    "start_time": "2023-06-26T08:55:15.056Z"
   },
   {
    "duration": 19,
    "start_time": "2023-06-26T08:55:15.071Z"
   },
   {
    "duration": 54,
    "start_time": "2023-06-26T08:55:15.092Z"
   },
   {
    "duration": 15,
    "start_time": "2023-06-26T08:55:15.148Z"
   },
   {
    "duration": 28,
    "start_time": "2023-06-26T08:55:15.164Z"
   },
   {
    "duration": 17,
    "start_time": "2023-06-26T08:55:15.193Z"
   },
   {
    "duration": 8,
    "start_time": "2023-06-26T08:55:15.212Z"
   },
   {
    "duration": 13,
    "start_time": "2023-06-26T08:55:26.529Z"
   },
   {
    "duration": 15,
    "start_time": "2023-06-26T08:55:46.349Z"
   },
   {
    "duration": 448,
    "start_time": "2023-06-26T08:55:52.160Z"
   },
   {
    "duration": 36,
    "start_time": "2023-06-26T08:55:52.611Z"
   },
   {
    "duration": 36,
    "start_time": "2023-06-26T08:55:52.649Z"
   },
   {
    "duration": 5,
    "start_time": "2023-06-26T08:55:52.691Z"
   },
   {
    "duration": 4,
    "start_time": "2023-06-26T08:55:52.699Z"
   },
   {
    "duration": 5,
    "start_time": "2023-06-26T08:55:52.705Z"
   },
   {
    "duration": 12,
    "start_time": "2023-06-26T08:55:52.712Z"
   },
   {
    "duration": 3,
    "start_time": "2023-06-26T08:55:52.727Z"
   },
   {
    "duration": 22,
    "start_time": "2023-06-26T08:55:52.733Z"
   },
   {
    "duration": 26,
    "start_time": "2023-06-26T08:55:52.758Z"
   },
   {
    "duration": 50,
    "start_time": "2023-06-26T08:55:52.788Z"
   },
   {
    "duration": 16,
    "start_time": "2023-06-26T08:55:52.840Z"
   },
   {
    "duration": 18,
    "start_time": "2023-06-26T08:55:52.858Z"
   },
   {
    "duration": 23,
    "start_time": "2023-06-26T08:55:52.881Z"
   },
   {
    "duration": 16,
    "start_time": "2023-06-26T08:55:52.907Z"
   },
   {
    "duration": 11,
    "start_time": "2023-06-26T08:55:52.926Z"
   },
   {
    "duration": 12,
    "start_time": "2023-06-26T08:55:52.939Z"
   },
   {
    "duration": 5,
    "start_time": "2023-06-26T08:56:26.129Z"
   },
   {
    "duration": 5,
    "start_time": "2023-06-26T08:58:59.720Z"
   },
   {
    "duration": 77,
    "start_time": "2023-06-26T09:02:50.493Z"
   },
   {
    "duration": 7,
    "start_time": "2023-06-26T09:05:44.620Z"
   },
   {
    "duration": 4,
    "start_time": "2023-06-26T09:06:48.992Z"
   },
   {
    "duration": 10,
    "start_time": "2023-06-26T09:06:59.704Z"
   },
   {
    "duration": 9,
    "start_time": "2023-06-26T09:07:03.232Z"
   },
   {
    "duration": 3,
    "start_time": "2023-06-26T09:07:06.163Z"
   },
   {
    "duration": 12,
    "start_time": "2023-06-26T09:07:08.992Z"
   },
   {
    "duration": 4,
    "start_time": "2023-06-26T09:07:56.947Z"
   },
   {
    "duration": 9,
    "start_time": "2023-06-26T09:07:58.598Z"
   },
   {
    "duration": 464,
    "start_time": "2023-06-26T09:08:20.610Z"
   },
   {
    "duration": 36,
    "start_time": "2023-06-26T09:08:21.077Z"
   },
   {
    "duration": 14,
    "start_time": "2023-06-26T09:08:21.115Z"
   },
   {
    "duration": 5,
    "start_time": "2023-06-26T09:08:21.131Z"
   },
   {
    "duration": 26,
    "start_time": "2023-06-26T09:08:21.139Z"
   },
   {
    "duration": 7,
    "start_time": "2023-06-26T09:08:21.166Z"
   },
   {
    "duration": 17,
    "start_time": "2023-06-26T09:08:21.175Z"
   },
   {
    "duration": 28,
    "start_time": "2023-06-26T09:08:21.195Z"
   },
   {
    "duration": 30,
    "start_time": "2023-06-26T09:08:21.224Z"
   },
   {
    "duration": 19,
    "start_time": "2023-06-26T09:08:21.257Z"
   },
   {
    "duration": 45,
    "start_time": "2023-06-26T09:08:21.278Z"
   },
   {
    "duration": 16,
    "start_time": "2023-06-26T09:08:21.326Z"
   },
   {
    "duration": 13,
    "start_time": "2023-06-26T09:08:21.344Z"
   },
   {
    "duration": 9,
    "start_time": "2023-06-26T09:08:21.360Z"
   },
   {
    "duration": 12,
    "start_time": "2023-06-26T09:08:21.371Z"
   },
   {
    "duration": 21,
    "start_time": "2023-06-26T09:08:21.386Z"
   },
   {
    "duration": 82,
    "start_time": "2023-06-26T09:08:21.409Z"
   },
   {
    "duration": 0,
    "start_time": "2023-06-26T09:08:21.493Z"
   },
   {
    "duration": 0,
    "start_time": "2023-06-26T09:08:21.495Z"
   },
   {
    "duration": 0,
    "start_time": "2023-06-26T09:08:21.499Z"
   },
   {
    "duration": 26,
    "start_time": "2023-06-26T09:09:42.124Z"
   },
   {
    "duration": 8,
    "start_time": "2023-06-26T09:09:44.598Z"
   },
   {
    "duration": 50,
    "start_time": "2023-06-26T09:09:52.147Z"
   },
   {
    "duration": 8,
    "start_time": "2023-06-26T09:09:53.825Z"
   },
   {
    "duration": 13,
    "start_time": "2023-06-26T09:09:57.613Z"
   },
   {
    "duration": 5,
    "start_time": "2023-06-26T09:09:59.905Z"
   },
   {
    "duration": 374,
    "start_time": "2023-06-26T21:46:57.923Z"
   },
   {
    "duration": 26,
    "start_time": "2023-06-26T21:46:58.299Z"
   },
   {
    "duration": 13,
    "start_time": "2023-06-26T21:46:58.327Z"
   },
   {
    "duration": 5,
    "start_time": "2023-06-26T21:46:58.341Z"
   },
   {
    "duration": 5,
    "start_time": "2023-06-26T21:46:58.348Z"
   },
   {
    "duration": 4,
    "start_time": "2023-06-26T21:46:58.354Z"
   },
   {
    "duration": 9,
    "start_time": "2023-06-26T21:46:58.360Z"
   },
   {
    "duration": 4,
    "start_time": "2023-06-26T21:46:58.371Z"
   },
   {
    "duration": 4,
    "start_time": "2023-06-26T21:46:58.377Z"
   },
   {
    "duration": 12,
    "start_time": "2023-06-26T21:46:58.383Z"
   },
   {
    "duration": 37,
    "start_time": "2023-06-26T21:46:58.397Z"
   },
   {
    "duration": 15,
    "start_time": "2023-06-26T21:46:58.436Z"
   },
   {
    "duration": 9,
    "start_time": "2023-06-26T21:46:58.452Z"
   },
   {
    "duration": 8,
    "start_time": "2023-06-26T21:46:58.464Z"
   },
   {
    "duration": 11,
    "start_time": "2023-06-26T21:46:58.474Z"
   },
   {
    "duration": 18,
    "start_time": "2023-06-26T21:46:58.487Z"
   },
   {
    "duration": 70,
    "start_time": "2023-06-26T21:46:58.506Z"
   },
   {
    "duration": 0,
    "start_time": "2023-06-26T21:46:58.578Z"
   },
   {
    "duration": 0,
    "start_time": "2023-06-26T21:46:58.580Z"
   },
   {
    "duration": 0,
    "start_time": "2023-06-26T21:46:58.582Z"
   },
   {
    "duration": 11,
    "start_time": "2023-06-26T21:48:00.289Z"
   },
   {
    "duration": 10,
    "start_time": "2023-06-26T21:48:09.617Z"
   },
   {
    "duration": 47,
    "start_time": "2023-06-26T21:48:25.705Z"
   },
   {
    "duration": 14,
    "start_time": "2023-06-26T21:48:31.737Z"
   },
   {
    "duration": 12,
    "start_time": "2023-06-26T21:48:34.155Z"
   },
   {
    "duration": 26,
    "start_time": "2023-06-26T21:48:46.775Z"
   },
   {
    "duration": 4,
    "start_time": "2023-06-26T21:48:49.441Z"
   },
   {
    "duration": 362,
    "start_time": "2023-06-26T21:48:50.834Z"
   },
   {
    "duration": 6,
    "start_time": "2023-06-26T21:48:51.251Z"
   },
   {
    "duration": 68,
    "start_time": "2023-06-26T21:48:52.022Z"
   },
   {
    "duration": 63,
    "start_time": "2023-06-26T21:50:36.738Z"
   },
   {
    "duration": 22,
    "start_time": "2023-06-26T21:50:52.956Z"
   },
   {
    "duration": 16,
    "start_time": "2023-06-26T21:51:06.709Z"
   },
   {
    "duration": 25,
    "start_time": "2023-06-26T21:52:16.478Z"
   },
   {
    "duration": 4,
    "start_time": "2023-06-26T21:52:44.114Z"
   },
   {
    "duration": 9,
    "start_time": "2023-06-26T21:52:44.232Z"
   },
   {
    "duration": 12,
    "start_time": "2023-06-26T21:52:44.505Z"
   },
   {
    "duration": 11,
    "start_time": "2023-06-26T21:52:44.638Z"
   },
   {
    "duration": 10,
    "start_time": "2023-06-26T21:52:44.805Z"
   },
   {
    "duration": 33,
    "start_time": "2023-06-26T21:52:47.909Z"
   },
   {
    "duration": 36,
    "start_time": "2023-06-26T21:53:37.970Z"
   },
   {
    "duration": 32,
    "start_time": "2023-06-26T21:53:56.921Z"
   },
   {
    "duration": 32,
    "start_time": "2023-06-26T21:55:05.736Z"
   },
   {
    "duration": 15,
    "start_time": "2023-06-26T21:55:23.469Z"
   },
   {
    "duration": 49,
    "start_time": "2023-06-26T21:55:30.721Z"
   },
   {
    "duration": 11,
    "start_time": "2023-06-26T21:55:34.717Z"
   },
   {
    "duration": 11,
    "start_time": "2023-06-26T21:55:37.555Z"
   },
   {
    "duration": 5,
    "start_time": "2023-06-26T21:55:41.310Z"
   },
   {
    "duration": 18,
    "start_time": "2023-06-26T21:55:42.618Z"
   },
   {
    "duration": 4,
    "start_time": "2023-06-26T21:55:49.301Z"
   },
   {
    "duration": 10,
    "start_time": "2023-06-26T21:55:51.205Z"
   },
   {
    "duration": 10,
    "start_time": "2023-06-26T21:58:56.843Z"
   },
   {
    "duration": 430,
    "start_time": "2023-06-26T22:00:30.042Z"
   },
   {
    "duration": 27,
    "start_time": "2023-06-26T22:00:30.475Z"
   },
   {
    "duration": 13,
    "start_time": "2023-06-26T22:00:30.504Z"
   },
   {
    "duration": 32,
    "start_time": "2023-06-26T22:00:30.519Z"
   },
   {
    "duration": 37,
    "start_time": "2023-06-26T22:00:30.553Z"
   },
   {
    "duration": 35,
    "start_time": "2023-06-26T22:00:30.592Z"
   },
   {
    "duration": 39,
    "start_time": "2023-06-26T22:00:30.628Z"
   },
   {
    "duration": 49,
    "start_time": "2023-06-26T22:00:30.670Z"
   },
   {
    "duration": 14,
    "start_time": "2023-06-26T22:00:30.720Z"
   },
   {
    "duration": 37,
    "start_time": "2023-06-26T22:00:30.736Z"
   },
   {
    "duration": 74,
    "start_time": "2023-06-26T22:00:30.775Z"
   },
   {
    "duration": 15,
    "start_time": "2023-06-26T22:00:30.850Z"
   },
   {
    "duration": 34,
    "start_time": "2023-06-26T22:00:30.866Z"
   },
   {
    "duration": 27,
    "start_time": "2023-06-26T22:00:30.902Z"
   },
   {
    "duration": 44,
    "start_time": "2023-06-26T22:00:30.930Z"
   },
   {
    "duration": 50,
    "start_time": "2023-06-26T22:00:30.976Z"
   },
   {
    "duration": 93,
    "start_time": "2023-06-26T22:00:31.028Z"
   },
   {
    "duration": 0,
    "start_time": "2023-06-26T22:00:31.122Z"
   },
   {
    "duration": 0,
    "start_time": "2023-06-26T22:00:31.123Z"
   },
   {
    "duration": 0,
    "start_time": "2023-06-26T22:00:31.125Z"
   },
   {
    "duration": 407,
    "start_time": "2023-06-26T22:00:37.427Z"
   },
   {
    "duration": 27,
    "start_time": "2023-06-26T22:00:37.836Z"
   },
   {
    "duration": 24,
    "start_time": "2023-06-26T22:00:37.865Z"
   },
   {
    "duration": 6,
    "start_time": "2023-06-26T22:00:37.891Z"
   },
   {
    "duration": 5,
    "start_time": "2023-06-26T22:00:37.900Z"
   },
   {
    "duration": 5,
    "start_time": "2023-06-26T22:00:37.907Z"
   },
   {
    "duration": 9,
    "start_time": "2023-06-26T22:00:37.914Z"
   },
   {
    "duration": 10,
    "start_time": "2023-06-26T22:00:37.925Z"
   },
   {
    "duration": 6,
    "start_time": "2023-06-26T22:00:37.937Z"
   },
   {
    "duration": 18,
    "start_time": "2023-06-26T22:00:37.970Z"
   },
   {
    "duration": 40,
    "start_time": "2023-06-26T22:00:37.991Z"
   },
   {
    "duration": 16,
    "start_time": "2023-06-26T22:00:38.032Z"
   },
   {
    "duration": 10,
    "start_time": "2023-06-26T22:00:38.049Z"
   },
   {
    "duration": 9,
    "start_time": "2023-06-26T22:00:38.061Z"
   },
   {
    "duration": 6,
    "start_time": "2023-06-26T22:00:38.073Z"
   },
   {
    "duration": 12,
    "start_time": "2023-06-26T22:00:38.082Z"
   },
   {
    "duration": 86,
    "start_time": "2023-06-26T22:00:38.096Z"
   },
   {
    "duration": 0,
    "start_time": "2023-06-26T22:00:38.185Z"
   },
   {
    "duration": 0,
    "start_time": "2023-06-26T22:00:38.187Z"
   },
   {
    "duration": 0,
    "start_time": "2023-06-26T22:00:38.188Z"
   },
   {
    "duration": 10,
    "start_time": "2023-06-26T22:00:48.445Z"
   },
   {
    "duration": 46,
    "start_time": "2023-06-26T22:01:04.203Z"
   },
   {
    "duration": 27,
    "start_time": "2023-06-26T22:01:06.361Z"
   },
   {
    "duration": 9,
    "start_time": "2023-06-26T22:01:06.516Z"
   },
   {
    "duration": 13,
    "start_time": "2023-06-26T22:01:06.671Z"
   },
   {
    "duration": 5,
    "start_time": "2023-06-26T22:01:09.901Z"
   },
   {
    "duration": 8,
    "start_time": "2023-06-26T22:01:10.239Z"
   },
   {
    "duration": 9,
    "start_time": "2023-06-26T22:01:11.125Z"
   },
   {
    "duration": 10,
    "start_time": "2023-06-26T22:01:13.204Z"
   },
   {
    "duration": 385,
    "start_time": "2023-06-26T22:02:09.460Z"
   },
   {
    "duration": 28,
    "start_time": "2023-06-26T22:02:09.847Z"
   },
   {
    "duration": 19,
    "start_time": "2023-06-26T22:02:09.877Z"
   },
   {
    "duration": 4,
    "start_time": "2023-06-26T22:02:09.898Z"
   },
   {
    "duration": 5,
    "start_time": "2023-06-26T22:02:09.904Z"
   },
   {
    "duration": 3,
    "start_time": "2023-06-26T22:02:09.911Z"
   },
   {
    "duration": 11,
    "start_time": "2023-06-26T22:02:09.915Z"
   },
   {
    "duration": 4,
    "start_time": "2023-06-26T22:02:09.927Z"
   },
   {
    "duration": 5,
    "start_time": "2023-06-26T22:02:09.932Z"
   },
   {
    "duration": 30,
    "start_time": "2023-06-26T22:02:09.938Z"
   },
   {
    "duration": 36,
    "start_time": "2023-06-26T22:02:09.970Z"
   },
   {
    "duration": 15,
    "start_time": "2023-06-26T22:02:10.007Z"
   },
   {
    "duration": 8,
    "start_time": "2023-06-26T22:02:10.024Z"
   },
   {
    "duration": 13,
    "start_time": "2023-06-26T22:02:10.034Z"
   },
   {
    "duration": 11,
    "start_time": "2023-06-26T22:02:10.048Z"
   },
   {
    "duration": 14,
    "start_time": "2023-06-26T22:02:10.061Z"
   },
   {
    "duration": 12,
    "start_time": "2023-06-26T22:02:10.076Z"
   },
   {
    "duration": 7,
    "start_time": "2023-06-26T22:02:10.090Z"
   },
   {
    "duration": 23,
    "start_time": "2023-06-26T22:02:10.099Z"
   },
   {
    "duration": 26,
    "start_time": "2023-06-26T22:02:10.123Z"
   },
   {
    "duration": 135,
    "start_time": "2023-06-26T22:02:10.150Z"
   },
   {
    "duration": 30,
    "start_time": "2023-06-26T22:03:50.409Z"
   },
   {
    "duration": 31,
    "start_time": "2023-06-26T22:03:53.125Z"
   },
   {
    "duration": 31,
    "start_time": "2023-06-26T22:04:08.701Z"
   },
   {
    "duration": 7,
    "start_time": "2023-06-26T22:06:24.401Z"
   },
   {
    "duration": 6,
    "start_time": "2023-06-26T22:06:29.631Z"
   },
   {
    "duration": 9,
    "start_time": "2023-06-26T22:06:31.705Z"
   },
   {
    "duration": 11,
    "start_time": "2023-06-26T22:06:57.401Z"
   },
   {
    "duration": 9,
    "start_time": "2023-06-26T22:07:03.413Z"
   },
   {
    "duration": 10,
    "start_time": "2023-06-26T22:07:20.401Z"
   },
   {
    "duration": 31,
    "start_time": "2023-06-26T22:10:42.828Z"
   },
   {
    "duration": 36,
    "start_time": "2023-06-26T22:10:44.197Z"
   },
   {
    "duration": 389,
    "start_time": "2023-06-26T22:10:50.203Z"
   },
   {
    "duration": 27,
    "start_time": "2023-06-26T22:10:50.594Z"
   },
   {
    "duration": 12,
    "start_time": "2023-06-26T22:10:50.623Z"
   },
   {
    "duration": 22,
    "start_time": "2023-06-26T22:10:50.636Z"
   },
   {
    "duration": 32,
    "start_time": "2023-06-26T22:10:50.660Z"
   },
   {
    "duration": 23,
    "start_time": "2023-06-26T22:10:50.693Z"
   },
   {
    "duration": 26,
    "start_time": "2023-06-26T22:10:50.717Z"
   },
   {
    "duration": 17,
    "start_time": "2023-06-26T22:10:50.745Z"
   },
   {
    "duration": 12,
    "start_time": "2023-06-26T22:10:50.764Z"
   },
   {
    "duration": 16,
    "start_time": "2023-06-26T22:10:50.778Z"
   },
   {
    "duration": 38,
    "start_time": "2023-06-26T22:10:50.795Z"
   },
   {
    "duration": 15,
    "start_time": "2023-06-26T22:10:50.835Z"
   },
   {
    "duration": 8,
    "start_time": "2023-06-26T22:10:50.851Z"
   },
   {
    "duration": 9,
    "start_time": "2023-06-26T22:10:50.861Z"
   },
   {
    "duration": 6,
    "start_time": "2023-06-26T22:10:50.872Z"
   },
   {
    "duration": 10,
    "start_time": "2023-06-26T22:10:50.883Z"
   },
   {
    "duration": 15,
    "start_time": "2023-06-26T22:10:50.894Z"
   },
   {
    "duration": 8,
    "start_time": "2023-06-26T22:10:50.911Z"
   },
   {
    "duration": 15,
    "start_time": "2023-06-26T22:10:50.920Z"
   },
   {
    "duration": 71,
    "start_time": "2023-06-26T22:10:50.936Z"
   },
   {
    "duration": 0,
    "start_time": "2023-06-26T22:10:51.008Z"
   },
   {
    "duration": 0,
    "start_time": "2023-06-26T22:10:51.009Z"
   },
   {
    "duration": 6,
    "start_time": "2023-06-26T22:11:05.357Z"
   },
   {
    "duration": 171,
    "start_time": "2023-06-26T22:11:05.913Z"
   },
   {
    "duration": 14,
    "start_time": "2023-06-26T22:13:33.044Z"
   },
   {
    "duration": 4,
    "start_time": "2023-06-26T22:13:35.918Z"
   },
   {
    "duration": 9,
    "start_time": "2023-06-26T22:13:37.453Z"
   },
   {
    "duration": 136,
    "start_time": "2023-06-26T22:15:30.062Z"
   },
   {
    "duration": 417,
    "start_time": "2023-06-27T11:20:51.849Z"
   },
   {
    "duration": 69,
    "start_time": "2023-06-27T11:20:52.268Z"
   },
   {
    "duration": 14,
    "start_time": "2023-06-27T11:20:52.339Z"
   },
   {
    "duration": 25,
    "start_time": "2023-06-27T11:20:52.355Z"
   },
   {
    "duration": 34,
    "start_time": "2023-06-27T11:20:52.382Z"
   },
   {
    "duration": 21,
    "start_time": "2023-06-27T11:20:52.418Z"
   },
   {
    "duration": 36,
    "start_time": "2023-06-27T11:20:52.441Z"
   },
   {
    "duration": 22,
    "start_time": "2023-06-27T11:20:52.479Z"
   },
   {
    "duration": 43,
    "start_time": "2023-06-27T11:20:52.503Z"
   },
   {
    "duration": 32,
    "start_time": "2023-06-27T11:20:52.548Z"
   },
   {
    "duration": 92,
    "start_time": "2023-06-27T11:20:52.581Z"
   },
   {
    "duration": 55,
    "start_time": "2023-06-27T11:20:52.675Z"
   },
   {
    "duration": 10,
    "start_time": "2023-06-27T11:20:52.732Z"
   },
   {
    "duration": 12,
    "start_time": "2023-06-27T11:20:52.745Z"
   },
   {
    "duration": 8,
    "start_time": "2023-06-27T11:20:52.759Z"
   },
   {
    "duration": 9,
    "start_time": "2023-06-27T11:20:52.769Z"
   },
   {
    "duration": 13,
    "start_time": "2023-06-27T11:20:52.780Z"
   },
   {
    "duration": 13,
    "start_time": "2023-06-27T11:20:52.795Z"
   },
   {
    "duration": 8,
    "start_time": "2023-06-27T11:20:52.809Z"
   },
   {
    "duration": 11,
    "start_time": "2023-06-27T11:20:52.818Z"
   },
   {
    "duration": 184,
    "start_time": "2023-06-27T11:20:52.830Z"
   },
   {
    "duration": 127,
    "start_time": "2023-06-27T11:20:53.017Z"
   },
   {
    "duration": 8,
    "start_time": "2023-06-27T11:37:04.717Z"
   },
   {
    "duration": 14,
    "start_time": "2023-06-27T11:37:11.627Z"
   },
   {
    "duration": 5,
    "start_time": "2023-06-27T11:52:57.390Z"
   },
   {
    "duration": 12,
    "start_time": "2023-06-27T11:53:02.572Z"
   },
   {
    "duration": 4,
    "start_time": "2023-06-27T11:53:17.433Z"
   },
   {
    "duration": 4,
    "start_time": "2023-06-27T11:55:03.629Z"
   },
   {
    "duration": 13,
    "start_time": "2023-06-27T11:55:05.339Z"
   },
   {
    "duration": 10,
    "start_time": "2023-06-27T11:55:07.891Z"
   },
   {
    "duration": 25,
    "start_time": "2023-06-27T11:55:22.199Z"
   },
   {
    "duration": 12,
    "start_time": "2023-06-27T11:55:29.950Z"
   },
   {
    "duration": 3,
    "start_time": "2023-06-27T11:55:31.712Z"
   },
   {
    "duration": 5,
    "start_time": "2023-06-27T11:55:32.638Z"
   },
   {
    "duration": 5,
    "start_time": "2023-06-27T11:55:33.339Z"
   },
   {
    "duration": 12,
    "start_time": "2023-06-27T11:55:34.031Z"
   },
   {
    "duration": 1186,
    "start_time": "2023-06-27T11:56:32.379Z"
   },
   {
    "duration": 0,
    "start_time": "2023-06-27T11:56:33.567Z"
   },
   {
    "duration": 15,
    "start_time": "2023-06-27T11:56:34.550Z"
   },
   {
    "duration": 1028,
    "start_time": "2023-06-27T11:56:40.929Z"
   },
   {
    "duration": 1033,
    "start_time": "2023-06-27T11:56:43.936Z"
   },
   {
    "duration": 4,
    "start_time": "2023-06-27T11:56:50.394Z"
   },
   {
    "duration": 1089,
    "start_time": "2023-06-27T11:56:52.629Z"
   },
   {
    "duration": 1104,
    "start_time": "2023-06-27T11:57:17.851Z"
   },
   {
    "duration": 1067,
    "start_time": "2023-06-27T11:57:31.497Z"
   },
   {
    "duration": 5,
    "start_time": "2023-06-27T11:57:57.282Z"
   },
   {
    "duration": 5,
    "start_time": "2023-06-27T11:58:15.105Z"
   },
   {
    "duration": 11,
    "start_time": "2023-06-27T11:58:16.600Z"
   },
   {
    "duration": 32,
    "start_time": "2023-06-27T12:27:08.051Z"
   },
   {
    "duration": 4,
    "start_time": "2023-06-27T12:27:11.613Z"
   },
   {
    "duration": 6,
    "start_time": "2023-06-27T12:27:44.015Z"
   },
   {
    "duration": 673,
    "start_time": "2023-06-27T12:27:52.118Z"
   },
   {
    "duration": 27,
    "start_time": "2023-06-27T12:27:52.794Z"
   },
   {
    "duration": 13,
    "start_time": "2023-06-27T12:27:52.823Z"
   },
   {
    "duration": 12,
    "start_time": "2023-06-27T12:27:52.838Z"
   },
   {
    "duration": 12,
    "start_time": "2023-06-27T12:27:52.852Z"
   },
   {
    "duration": 4,
    "start_time": "2023-06-27T12:27:52.872Z"
   },
   {
    "duration": 25,
    "start_time": "2023-06-27T12:27:52.878Z"
   },
   {
    "duration": 4,
    "start_time": "2023-06-27T12:27:52.905Z"
   },
   {
    "duration": 10,
    "start_time": "2023-06-27T12:27:52.910Z"
   },
   {
    "duration": 44,
    "start_time": "2023-06-27T12:27:52.921Z"
   },
   {
    "duration": 42,
    "start_time": "2023-06-27T12:27:52.973Z"
   },
   {
    "duration": 16,
    "start_time": "2023-06-27T12:27:53.017Z"
   },
   {
    "duration": 9,
    "start_time": "2023-06-27T12:27:53.034Z"
   },
   {
    "duration": 9,
    "start_time": "2023-06-27T12:27:53.045Z"
   },
   {
    "duration": 12,
    "start_time": "2023-06-27T12:27:53.056Z"
   },
   {
    "duration": 13,
    "start_time": "2023-06-27T12:27:53.070Z"
   },
   {
    "duration": 37,
    "start_time": "2023-06-27T12:27:53.084Z"
   },
   {
    "duration": 13,
    "start_time": "2023-06-27T12:27:53.123Z"
   },
   {
    "duration": 5,
    "start_time": "2023-06-27T12:27:53.137Z"
   },
   {
    "duration": 11,
    "start_time": "2023-06-27T12:27:53.143Z"
   },
   {
    "duration": 184,
    "start_time": "2023-06-27T12:27:53.158Z"
   },
   {
    "duration": 143,
    "start_time": "2023-06-27T12:27:53.344Z"
   },
   {
    "duration": 7,
    "start_time": "2023-06-27T12:27:53.489Z"
   },
   {
    "duration": 5,
    "start_time": "2023-06-27T12:27:53.498Z"
   },
   {
    "duration": 15,
    "start_time": "2023-06-27T12:27:53.505Z"
   },
   {
    "duration": 6,
    "start_time": "2023-06-27T12:27:53.522Z"
   },
   {
    "duration": 33,
    "start_time": "2023-06-27T12:27:53.530Z"
   },
   {
    "duration": 284,
    "start_time": "2023-06-27T12:28:50.308Z"
   },
   {
    "duration": 293,
    "start_time": "2023-06-27T12:30:24.527Z"
   },
   {
    "duration": 179,
    "start_time": "2023-06-27T12:30:34.536Z"
   },
   {
    "duration": 248,
    "start_time": "2023-06-27T12:33:08.129Z"
   },
   {
    "duration": 189,
    "start_time": "2023-06-27T12:33:15.817Z"
   },
   {
    "duration": 190,
    "start_time": "2023-06-27T12:39:00.605Z"
   },
   {
    "duration": 225,
    "start_time": "2023-06-27T12:39:49.031Z"
   },
   {
    "duration": 192,
    "start_time": "2023-06-27T12:40:06.171Z"
   },
   {
    "duration": 386,
    "start_time": "2023-06-27T12:40:27.243Z"
   },
   {
    "duration": 277,
    "start_time": "2023-06-27T12:40:36.026Z"
   },
   {
    "duration": 228,
    "start_time": "2023-06-27T12:40:41.410Z"
   },
   {
    "duration": 267,
    "start_time": "2023-06-27T12:42:38.450Z"
   },
   {
    "duration": 379,
    "start_time": "2023-06-27T12:42:47.029Z"
   },
   {
    "duration": 291,
    "start_time": "2023-06-27T12:53:29.132Z"
   },
   {
    "duration": 13,
    "start_time": "2023-06-27T12:57:12.810Z"
   },
   {
    "duration": 10,
    "start_time": "2023-06-27T12:57:27.541Z"
   },
   {
    "duration": 8,
    "start_time": "2023-06-27T12:57:55.729Z"
   },
   {
    "duration": 8,
    "start_time": "2023-06-27T12:57:59.428Z"
   },
   {
    "duration": 16,
    "start_time": "2023-06-27T12:58:06.131Z"
   },
   {
    "duration": 7,
    "start_time": "2023-06-27T12:58:23.609Z"
   },
   {
    "duration": 12,
    "start_time": "2023-06-27T12:58:31.748Z"
   },
   {
    "duration": 315,
    "start_time": "2023-06-27T13:00:11.334Z"
   },
   {
    "duration": 269,
    "start_time": "2023-06-27T13:00:58.715Z"
   },
   {
    "duration": 254,
    "start_time": "2023-06-27T13:01:28.122Z"
   },
   {
    "duration": 383,
    "start_time": "2023-06-27T13:01:39.576Z"
   },
   {
    "duration": 366,
    "start_time": "2023-06-27T13:02:33.927Z"
   },
   {
    "duration": 371,
    "start_time": "2023-06-27T13:02:43.074Z"
   },
   {
    "duration": 353,
    "start_time": "2023-06-27T13:02:50.727Z"
   },
   {
    "duration": 53,
    "start_time": "2023-06-27T18:02:30.691Z"
   },
   {
    "duration": 742,
    "start_time": "2023-06-27T18:02:41.263Z"
   },
   {
    "duration": 61,
    "start_time": "2023-06-27T18:02:42.007Z"
   },
   {
    "duration": 10,
    "start_time": "2023-06-27T18:02:42.070Z"
   },
   {
    "duration": 5,
    "start_time": "2023-06-27T18:02:42.082Z"
   },
   {
    "duration": 15,
    "start_time": "2023-06-27T18:02:42.088Z"
   },
   {
    "duration": 17,
    "start_time": "2023-06-27T18:02:42.104Z"
   },
   {
    "duration": 18,
    "start_time": "2023-06-27T18:02:42.122Z"
   },
   {
    "duration": 8,
    "start_time": "2023-06-27T18:02:42.141Z"
   },
   {
    "duration": 15,
    "start_time": "2023-06-27T18:02:42.150Z"
   },
   {
    "duration": 11,
    "start_time": "2023-06-27T18:02:42.167Z"
   },
   {
    "duration": 97,
    "start_time": "2023-06-27T18:02:42.179Z"
   },
   {
    "duration": 52,
    "start_time": "2023-06-27T18:02:42.277Z"
   },
   {
    "duration": 8,
    "start_time": "2023-06-27T18:02:42.330Z"
   },
   {
    "duration": 15,
    "start_time": "2023-06-27T18:02:42.340Z"
   },
   {
    "duration": 11,
    "start_time": "2023-06-27T18:02:42.356Z"
   },
   {
    "duration": 11,
    "start_time": "2023-06-27T18:02:42.369Z"
   },
   {
    "duration": 14,
    "start_time": "2023-06-27T18:02:42.382Z"
   },
   {
    "duration": 9,
    "start_time": "2023-06-27T18:02:42.397Z"
   },
   {
    "duration": 8,
    "start_time": "2023-06-27T18:02:42.407Z"
   },
   {
    "duration": 8,
    "start_time": "2023-06-27T18:02:42.416Z"
   },
   {
    "duration": 165,
    "start_time": "2023-06-27T18:02:42.426Z"
   },
   {
    "duration": 127,
    "start_time": "2023-06-27T18:02:42.592Z"
   },
   {
    "duration": 10,
    "start_time": "2023-06-27T18:02:42.721Z"
   },
   {
    "duration": 13,
    "start_time": "2023-06-27T18:02:42.733Z"
   },
   {
    "duration": 10,
    "start_time": "2023-06-27T18:02:42.747Z"
   },
   {
    "duration": 9,
    "start_time": "2023-06-27T18:02:42.759Z"
   },
   {
    "duration": 10,
    "start_time": "2023-06-27T18:02:42.769Z"
   },
   {
    "duration": 293,
    "start_time": "2023-06-27T18:02:42.781Z"
   },
   {
    "duration": 8,
    "start_time": "2023-06-27T18:02:43.076Z"
   },
   {
    "duration": 222,
    "start_time": "2023-06-27T18:02:43.085Z"
   },
   {
    "duration": 6,
    "start_time": "2023-06-27T18:02:43.308Z"
   },
   {
    "duration": 400,
    "start_time": "2023-06-27T18:02:43.315Z"
   },
   {
    "duration": 15,
    "start_time": "2023-06-27T18:02:43.717Z"
   },
   {
    "duration": 2855,
    "start_time": "2023-06-27T18:02:43.733Z"
   },
   {
    "duration": 11,
    "start_time": "2023-06-27T18:04:53.470Z"
   },
   {
    "duration": 5,
    "start_time": "2023-06-27T18:05:28.049Z"
   },
   {
    "duration": 5,
    "start_time": "2023-06-27T18:06:06.581Z"
   },
   {
    "duration": 8,
    "start_time": "2023-06-27T18:06:10.845Z"
   },
   {
    "duration": 3,
    "start_time": "2023-06-27T18:06:32.097Z"
   },
   {
    "duration": 11,
    "start_time": "2023-06-27T18:06:33.931Z"
   },
   {
    "duration": 2385,
    "start_time": "2023-06-27T18:08:43.296Z"
   },
   {
    "duration": 1648,
    "start_time": "2023-06-27T18:09:07.898Z"
   },
   {
    "duration": 8,
    "start_time": "2023-06-27T18:09:40.085Z"
   },
   {
    "duration": 4,
    "start_time": "2023-06-27T18:09:43.782Z"
   },
   {
    "duration": 11,
    "start_time": "2023-06-27T18:09:47.411Z"
   },
   {
    "duration": 208,
    "start_time": "2023-06-27T18:09:55.029Z"
   },
   {
    "duration": 10,
    "start_time": "2023-06-27T18:18:14.200Z"
   },
   {
    "duration": 7,
    "start_time": "2023-06-27T18:18:18.530Z"
   },
   {
    "duration": 346,
    "start_time": "2023-06-27T18:19:21.631Z"
   },
   {
    "duration": 17,
    "start_time": "2023-06-27T22:00:06.597Z"
   },
   {
    "duration": 14,
    "start_time": "2023-06-27T22:02:01.598Z"
   },
   {
    "duration": 3,
    "start_time": "2023-06-27T22:02:08.843Z"
   },
   {
    "duration": 4,
    "start_time": "2023-06-27T22:02:16.163Z"
   },
   {
    "duration": 16,
    "start_time": "2023-06-27T22:02:55.536Z"
   },
   {
    "duration": 101,
    "start_time": "2023-06-27T22:04:37.218Z"
   },
   {
    "duration": 9,
    "start_time": "2023-06-27T22:04:47.344Z"
   },
   {
    "duration": 9,
    "start_time": "2023-06-27T22:05:42.337Z"
   },
   {
    "duration": 9,
    "start_time": "2023-06-27T22:05:55.801Z"
   },
   {
    "duration": 8,
    "start_time": "2023-06-27T22:06:36.267Z"
   },
   {
    "duration": 9,
    "start_time": "2023-06-27T22:06:38.718Z"
   },
   {
    "duration": 10,
    "start_time": "2023-06-27T22:06:52.601Z"
   },
   {
    "duration": 11,
    "start_time": "2023-06-27T22:07:00.217Z"
   },
   {
    "duration": 4,
    "start_time": "2023-06-27T22:07:04.590Z"
   },
   {
    "duration": 6,
    "start_time": "2023-06-27T22:07:06.599Z"
   },
   {
    "duration": 9,
    "start_time": "2023-06-27T22:07:12.436Z"
   },
   {
    "duration": 3,
    "start_time": "2023-06-27T22:09:54.346Z"
   },
   {
    "duration": 6,
    "start_time": "2023-06-27T22:10:58.327Z"
   },
   {
    "duration": 7,
    "start_time": "2023-06-27T22:11:00.194Z"
   },
   {
    "duration": 101,
    "start_time": "2023-06-27T22:11:24.007Z"
   },
   {
    "duration": 103,
    "start_time": "2023-06-27T22:11:45.494Z"
   },
   {
    "duration": 119,
    "start_time": "2023-06-27T22:12:13.800Z"
   },
   {
    "duration": 105,
    "start_time": "2023-06-27T22:12:18.204Z"
   },
   {
    "duration": 117,
    "start_time": "2023-06-27T22:12:55.727Z"
   },
   {
    "duration": 6,
    "start_time": "2023-06-27T22:16:57.681Z"
   },
   {
    "duration": 4,
    "start_time": "2023-06-27T22:20:27.911Z"
   },
   {
    "duration": 5,
    "start_time": "2023-06-27T22:20:35.490Z"
   },
   {
    "duration": 5,
    "start_time": "2023-06-27T22:22:43.731Z"
   },
   {
    "duration": 114,
    "start_time": "2023-06-27T22:23:03.804Z"
   },
   {
    "duration": 144,
    "start_time": "2023-06-27T22:23:29.135Z"
   },
   {
    "duration": 232,
    "start_time": "2023-06-27T22:23:35.711Z"
   },
   {
    "duration": 156,
    "start_time": "2023-06-27T22:23:41.393Z"
   },
   {
    "duration": 130,
    "start_time": "2023-06-27T22:23:46.156Z"
   },
   {
    "duration": 143,
    "start_time": "2023-06-27T22:24:21.890Z"
   },
   {
    "duration": 156,
    "start_time": "2023-06-27T22:25:08.757Z"
   },
   {
    "duration": 164,
    "start_time": "2023-06-27T22:25:15.207Z"
   },
   {
    "duration": 145,
    "start_time": "2023-06-27T22:25:29.163Z"
   },
   {
    "duration": 152,
    "start_time": "2023-06-27T22:25:35.190Z"
   },
   {
    "duration": 162,
    "start_time": "2023-06-27T22:25:39.490Z"
   },
   {
    "duration": 146,
    "start_time": "2023-06-27T22:25:56.793Z"
   },
   {
    "duration": 5,
    "start_time": "2023-06-27T22:26:37.515Z"
   },
   {
    "duration": 4,
    "start_time": "2023-06-27T22:26:52.137Z"
   },
   {
    "duration": 5,
    "start_time": "2023-06-27T22:26:54.060Z"
   },
   {
    "duration": 10,
    "start_time": "2023-06-27T22:27:36.006Z"
   },
   {
    "duration": 8,
    "start_time": "2023-06-27T22:27:55.763Z"
   },
   {
    "duration": 14,
    "start_time": "2023-06-27T22:28:01.389Z"
   },
   {
    "duration": 167,
    "start_time": "2023-06-27T22:28:20.564Z"
   },
   {
    "duration": 11,
    "start_time": "2023-06-27T22:28:32.539Z"
   },
   {
    "duration": 5,
    "start_time": "2023-06-27T22:28:47.850Z"
   },
   {
    "duration": 190,
    "start_time": "2023-06-27T22:28:49.698Z"
   },
   {
    "duration": 6,
    "start_time": "2023-06-27T22:29:00.389Z"
   },
   {
    "duration": 117,
    "start_time": "2023-06-27T22:29:01.922Z"
   },
   {
    "duration": 3,
    "start_time": "2023-06-27T22:29:12.765Z"
   },
   {
    "duration": 5,
    "start_time": "2023-06-27T22:29:14.006Z"
   },
   {
    "duration": 167,
    "start_time": "2023-06-27T22:29:15.139Z"
   },
   {
    "duration": 3,
    "start_time": "2023-06-27T22:29:48.000Z"
   },
   {
    "duration": 3,
    "start_time": "2023-06-27T22:29:50.745Z"
   },
   {
    "duration": 155,
    "start_time": "2023-06-27T22:29:58.127Z"
   },
   {
    "duration": 5,
    "start_time": "2023-06-27T22:30:53.982Z"
   },
   {
    "duration": 1169,
    "start_time": "2023-06-27T22:59:11.011Z"
   },
   {
    "duration": 616,
    "start_time": "2023-06-27T22:59:31.939Z"
   },
   {
    "duration": 26,
    "start_time": "2023-06-27T22:59:32.557Z"
   },
   {
    "duration": 9,
    "start_time": "2023-06-27T22:59:32.585Z"
   },
   {
    "duration": 19,
    "start_time": "2023-06-27T22:59:32.596Z"
   },
   {
    "duration": 19,
    "start_time": "2023-06-27T22:59:32.617Z"
   },
   {
    "duration": 14,
    "start_time": "2023-06-27T22:59:32.637Z"
   },
   {
    "duration": 25,
    "start_time": "2023-06-27T22:59:32.653Z"
   },
   {
    "duration": 15,
    "start_time": "2023-06-27T22:59:32.680Z"
   },
   {
    "duration": 28,
    "start_time": "2023-06-27T22:59:32.696Z"
   },
   {
    "duration": 31,
    "start_time": "2023-06-27T22:59:32.726Z"
   },
   {
    "duration": 49,
    "start_time": "2023-06-27T22:59:32.759Z"
   },
   {
    "duration": 14,
    "start_time": "2023-06-27T22:59:32.810Z"
   },
   {
    "duration": 7,
    "start_time": "2023-06-27T22:59:32.826Z"
   },
   {
    "duration": 9,
    "start_time": "2023-06-27T22:59:32.835Z"
   },
   {
    "duration": 18,
    "start_time": "2023-06-27T22:59:32.845Z"
   },
   {
    "duration": 9,
    "start_time": "2023-06-27T22:59:32.865Z"
   },
   {
    "duration": 12,
    "start_time": "2023-06-27T22:59:32.875Z"
   },
   {
    "duration": 7,
    "start_time": "2023-06-27T22:59:32.889Z"
   },
   {
    "duration": 21,
    "start_time": "2023-06-27T22:59:32.897Z"
   },
   {
    "duration": 8,
    "start_time": "2023-06-27T22:59:32.920Z"
   },
   {
    "duration": 155,
    "start_time": "2023-06-27T22:59:32.930Z"
   },
   {
    "duration": 118,
    "start_time": "2023-06-27T22:59:33.087Z"
   },
   {
    "duration": 7,
    "start_time": "2023-06-27T22:59:33.206Z"
   },
   {
    "duration": 16,
    "start_time": "2023-06-27T22:59:33.215Z"
   },
   {
    "duration": 16,
    "start_time": "2023-06-27T22:59:33.233Z"
   },
   {
    "duration": 12,
    "start_time": "2023-06-27T22:59:33.250Z"
   },
   {
    "duration": 281,
    "start_time": "2023-06-27T22:59:33.264Z"
   },
   {
    "duration": 9,
    "start_time": "2023-06-27T22:59:33.547Z"
   },
   {
    "duration": 221,
    "start_time": "2023-06-27T22:59:33.558Z"
   },
   {
    "duration": 5,
    "start_time": "2023-06-27T22:59:33.781Z"
   },
   {
    "duration": 345,
    "start_time": "2023-06-27T22:59:33.788Z"
   },
   {
    "duration": 7,
    "start_time": "2023-06-27T22:59:34.135Z"
   },
   {
    "duration": 9,
    "start_time": "2023-06-27T22:59:34.143Z"
   },
   {
    "duration": 26,
    "start_time": "2023-06-27T22:59:34.153Z"
   },
   {
    "duration": 230,
    "start_time": "2023-06-27T22:59:34.181Z"
   },
   {
    "duration": 7,
    "start_time": "2023-06-27T22:59:34.412Z"
   },
   {
    "duration": 360,
    "start_time": "2023-06-27T22:59:34.420Z"
   },
   {
    "duration": 4,
    "start_time": "2023-06-27T22:59:34.782Z"
   },
   {
    "duration": 8,
    "start_time": "2023-06-27T22:59:34.788Z"
   },
   {
    "duration": 125,
    "start_time": "2023-06-27T22:59:34.797Z"
   },
   {
    "duration": 4,
    "start_time": "2023-06-27T22:59:34.931Z"
   },
   {
    "duration": 7,
    "start_time": "2023-06-27T22:59:34.937Z"
   },
   {
    "duration": 6,
    "start_time": "2023-06-27T22:59:34.945Z"
   },
   {
    "duration": 161,
    "start_time": "2023-06-27T22:59:34.952Z"
   },
   {
    "duration": 5,
    "start_time": "2023-06-27T22:59:35.114Z"
   },
   {
    "duration": 4,
    "start_time": "2023-06-27T22:59:35.132Z"
   },
   {
    "duration": 1296,
    "start_time": "2023-06-27T22:59:35.138Z"
   },
   {
    "duration": 6,
    "start_time": "2023-06-27T22:59:50.498Z"
   },
   {
    "duration": 984,
    "start_time": "2023-06-27T23:02:36.066Z"
   },
   {
    "duration": 45,
    "start_time": "2023-06-27T23:03:21.728Z"
   },
   {
    "duration": 87,
    "start_time": "2023-06-27T23:03:44.675Z"
   },
   {
    "duration": 6,
    "start_time": "2023-06-27T23:05:38.564Z"
   },
   {
    "duration": 3,
    "start_time": "2023-06-27T23:05:38.901Z"
   },
   {
    "duration": 96,
    "start_time": "2023-06-27T23:05:39.655Z"
   },
   {
    "duration": 3,
    "start_time": "2023-06-27T23:05:40.367Z"
   },
   {
    "duration": 11,
    "start_time": "2023-06-27T23:07:14.037Z"
   },
   {
    "duration": 11,
    "start_time": "2023-06-27T23:07:47.630Z"
   },
   {
    "duration": 5,
    "start_time": "2023-06-27T23:08:17.254Z"
   },
   {
    "duration": 3,
    "start_time": "2023-06-27T23:08:21.731Z"
   },
   {
    "duration": 5,
    "start_time": "2023-06-27T23:08:37.397Z"
   },
   {
    "duration": 4,
    "start_time": "2023-06-27T23:08:39.534Z"
   },
   {
    "duration": 86,
    "start_time": "2023-06-27T23:09:26.150Z"
   },
   {
    "duration": 129,
    "start_time": "2023-06-27T23:10:10.731Z"
   },
   {
    "duration": 89,
    "start_time": "2023-06-27T23:10:22.406Z"
   },
   {
    "duration": 9,
    "start_time": "2023-06-27T23:10:40.563Z"
   },
   {
    "duration": 8,
    "start_time": "2023-06-27T23:10:42.553Z"
   },
   {
    "duration": 3,
    "start_time": "2023-06-27T23:11:29.001Z"
   },
   {
    "duration": 160,
    "start_time": "2023-06-27T23:13:36.217Z"
   },
   {
    "duration": 90,
    "start_time": "2023-06-27T23:15:26.858Z"
   },
   {
    "duration": 45,
    "start_time": "2023-06-27T23:17:37.541Z"
   },
   {
    "duration": 3,
    "start_time": "2023-06-27T23:18:30.444Z"
   },
   {
    "duration": 12,
    "start_time": "2023-06-27T23:18:49.914Z"
   },
   {
    "duration": 19,
    "start_time": "2023-06-27T23:19:50.432Z"
   },
   {
    "duration": 3,
    "start_time": "2023-06-27T23:20:27.397Z"
   },
   {
    "duration": 90,
    "start_time": "2023-06-27T23:20:29.351Z"
   },
   {
    "duration": 3,
    "start_time": "2023-06-27T23:20:34.800Z"
   },
   {
    "duration": 3,
    "start_time": "2023-06-27T23:20:47.359Z"
   },
   {
    "duration": 11,
    "start_time": "2023-06-27T23:21:34.912Z"
   },
   {
    "duration": 22,
    "start_time": "2023-06-27T23:23:00.498Z"
   },
   {
    "duration": 10,
    "start_time": "2023-06-27T23:23:05.781Z"
   },
   {
    "duration": 17,
    "start_time": "2023-06-27T23:23:39.134Z"
   },
   {
    "duration": 10,
    "start_time": "2023-06-27T23:23:41.700Z"
   },
   {
    "duration": 7,
    "start_time": "2023-06-27T23:25:00.741Z"
   },
   {
    "duration": 7,
    "start_time": "2023-06-27T23:25:07.504Z"
   },
   {
    "duration": 50,
    "start_time": "2023-06-28T08:55:32.660Z"
   },
   {
    "duration": 1091,
    "start_time": "2023-06-28T08:55:39.538Z"
   },
   {
    "duration": 65,
    "start_time": "2023-06-28T08:55:40.632Z"
   },
   {
    "duration": 12,
    "start_time": "2023-06-28T08:55:40.699Z"
   },
   {
    "duration": 8,
    "start_time": "2023-06-28T08:55:40.713Z"
   },
   {
    "duration": 14,
    "start_time": "2023-06-28T08:55:40.723Z"
   },
   {
    "duration": 14,
    "start_time": "2023-06-28T08:55:40.739Z"
   },
   {
    "duration": 11,
    "start_time": "2023-06-28T08:55:40.755Z"
   },
   {
    "duration": 15,
    "start_time": "2023-06-28T08:55:40.767Z"
   },
   {
    "duration": 8,
    "start_time": "2023-06-28T08:55:40.784Z"
   },
   {
    "duration": 16,
    "start_time": "2023-06-28T08:55:40.795Z"
   },
   {
    "duration": 90,
    "start_time": "2023-06-28T08:55:40.813Z"
   },
   {
    "duration": 55,
    "start_time": "2023-06-28T08:55:40.905Z"
   },
   {
    "duration": 10,
    "start_time": "2023-06-28T08:55:40.962Z"
   },
   {
    "duration": 14,
    "start_time": "2023-06-28T08:55:40.973Z"
   },
   {
    "duration": 11,
    "start_time": "2023-06-28T08:55:40.989Z"
   },
   {
    "duration": 21,
    "start_time": "2023-06-28T08:55:41.002Z"
   },
   {
    "duration": 42,
    "start_time": "2023-06-28T08:55:41.024Z"
   },
   {
    "duration": 17,
    "start_time": "2023-06-28T08:55:41.068Z"
   },
   {
    "duration": 17,
    "start_time": "2023-06-28T08:55:41.087Z"
   },
   {
    "duration": 30,
    "start_time": "2023-06-28T08:55:41.106Z"
   },
   {
    "duration": 224,
    "start_time": "2023-06-28T08:55:41.139Z"
   },
   {
    "duration": 138,
    "start_time": "2023-06-28T08:55:41.364Z"
   },
   {
    "duration": 7,
    "start_time": "2023-06-28T08:55:41.504Z"
   },
   {
    "duration": 10,
    "start_time": "2023-06-28T08:55:41.513Z"
   },
   {
    "duration": 8,
    "start_time": "2023-06-28T08:55:41.525Z"
   },
   {
    "duration": 5,
    "start_time": "2023-06-28T08:55:41.554Z"
   },
   {
    "duration": 336,
    "start_time": "2023-06-28T08:55:41.562Z"
   },
   {
    "duration": 9,
    "start_time": "2023-06-28T08:55:41.901Z"
   },
   {
    "duration": 240,
    "start_time": "2023-06-28T08:55:41.911Z"
   },
   {
    "duration": 21,
    "start_time": "2023-06-28T08:55:42.154Z"
   },
   {
    "duration": 430,
    "start_time": "2023-06-28T08:55:42.177Z"
   },
   {
    "duration": 11,
    "start_time": "2023-06-28T08:55:42.609Z"
   },
   {
    "duration": 18,
    "start_time": "2023-06-28T08:55:42.621Z"
   },
   {
    "duration": 29,
    "start_time": "2023-06-28T08:55:42.641Z"
   },
   {
    "duration": 329,
    "start_time": "2023-06-28T08:55:42.673Z"
   },
   {
    "duration": 7,
    "start_time": "2023-06-28T08:55:43.004Z"
   },
   {
    "duration": 375,
    "start_time": "2023-06-28T08:55:43.013Z"
   },
   {
    "duration": 4,
    "start_time": "2023-06-28T08:55:43.390Z"
   },
   {
    "duration": 94,
    "start_time": "2023-06-28T08:55:43.395Z"
   },
   {
    "duration": 149,
    "start_time": "2023-06-28T08:55:43.490Z"
   },
   {
    "duration": 14,
    "start_time": "2023-06-28T08:55:43.641Z"
   },
   {
    "duration": 10,
    "start_time": "2023-06-28T08:55:43.657Z"
   },
   {
    "duration": 12,
    "start_time": "2023-06-28T08:55:43.669Z"
   },
   {
    "duration": 194,
    "start_time": "2023-06-28T08:55:43.683Z"
   },
   {
    "duration": 6,
    "start_time": "2023-06-28T08:55:43.879Z"
   },
   {
    "duration": 12,
    "start_time": "2023-06-28T08:55:43.886Z"
   },
   {
    "duration": 21,
    "start_time": "2023-06-28T08:55:43.899Z"
   },
   {
    "duration": 11,
    "start_time": "2023-06-28T08:55:43.922Z"
   },
   {
    "duration": 98,
    "start_time": "2023-06-28T08:55:43.935Z"
   },
   {
    "duration": 18,
    "start_time": "2023-06-28T08:55:44.035Z"
   },
   {
    "duration": 40,
    "start_time": "2023-06-28T08:55:44.054Z"
   },
   {
    "duration": 26,
    "start_time": "2023-06-28T08:55:44.096Z"
   },
   {
    "duration": 118,
    "start_time": "2023-06-28T08:55:44.123Z"
   },
   {
    "duration": 24,
    "start_time": "2023-06-28T08:55:44.243Z"
   },
   {
    "duration": 22,
    "start_time": "2023-06-28T08:55:44.270Z"
   },
   {
    "duration": 46,
    "start_time": "2023-06-28T08:55:44.295Z"
   },
   {
    "duration": 35,
    "start_time": "2023-06-28T08:55:44.343Z"
   },
   {
    "duration": 39,
    "start_time": "2023-06-28T08:55:44.380Z"
   },
   {
    "duration": 124,
    "start_time": "2023-06-28T08:55:44.421Z"
   },
   {
    "duration": 5,
    "start_time": "2023-06-28T08:57:35.052Z"
   },
   {
    "duration": 14,
    "start_time": "2023-06-28T08:57:36.268Z"
   },
   {
    "duration": 14,
    "start_time": "2023-06-28T08:58:31.960Z"
   },
   {
    "duration": 6,
    "start_time": "2023-06-28T08:58:39.051Z"
   },
   {
    "duration": 5,
    "start_time": "2023-06-28T08:58:41.218Z"
   },
   {
    "duration": 13,
    "start_time": "2023-06-28T08:58:57.222Z"
   },
   {
    "duration": 8,
    "start_time": "2023-06-28T08:59:13.254Z"
   },
   {
    "duration": 9,
    "start_time": "2023-06-28T08:59:15.137Z"
   },
   {
    "duration": 74,
    "start_time": "2023-06-28T08:59:31.463Z"
   },
   {
    "duration": 9,
    "start_time": "2023-06-28T08:59:33.428Z"
   },
   {
    "duration": 15,
    "start_time": "2023-06-28T08:59:43.519Z"
   },
   {
    "duration": 9,
    "start_time": "2023-06-28T08:59:44.910Z"
   },
   {
    "duration": 3,
    "start_time": "2023-06-28T09:00:20.222Z"
   },
   {
    "duration": 10,
    "start_time": "2023-06-28T09:00:26.475Z"
   },
   {
    "duration": 12,
    "start_time": "2023-06-28T09:00:32.534Z"
   },
   {
    "duration": 12,
    "start_time": "2023-06-28T09:00:37.025Z"
   },
   {
    "duration": 3,
    "start_time": "2023-06-28T09:00:37.925Z"
   },
   {
    "duration": 14,
    "start_time": "2023-06-28T09:00:39.503Z"
   },
   {
    "duration": 15,
    "start_time": "2023-06-28T09:01:29.615Z"
   },
   {
    "duration": 8,
    "start_time": "2023-06-28T09:03:11.122Z"
   },
   {
    "duration": 50,
    "start_time": "2023-06-28T09:03:30.165Z"
   },
   {
    "duration": 4,
    "start_time": "2023-06-28T09:03:31.230Z"
   },
   {
    "duration": 12,
    "start_time": "2023-06-28T09:03:33.313Z"
   },
   {
    "duration": 9,
    "start_time": "2023-06-28T09:03:36.635Z"
   },
   {
    "duration": 9,
    "start_time": "2023-06-28T09:03:40.726Z"
   },
   {
    "duration": 12,
    "start_time": "2023-06-28T09:04:58.639Z"
   },
   {
    "duration": 6,
    "start_time": "2023-06-28T09:05:33.758Z"
   },
   {
    "duration": 8,
    "start_time": "2023-06-28T09:05:56.392Z"
   },
   {
    "duration": 6,
    "start_time": "2023-06-28T09:06:07.830Z"
   },
   {
    "duration": 6,
    "start_time": "2023-06-28T09:06:12.022Z"
   },
   {
    "duration": 8,
    "start_time": "2023-06-28T09:09:12.945Z"
   },
   {
    "duration": 7,
    "start_time": "2023-06-28T09:09:15.909Z"
   },
   {
    "duration": 8,
    "start_time": "2023-06-28T09:09:40.328Z"
   },
   {
    "duration": 7,
    "start_time": "2023-06-28T09:09:58.313Z"
   },
   {
    "duration": 4,
    "start_time": "2023-06-28T09:11:22.510Z"
   },
   {
    "duration": 25,
    "start_time": "2023-06-28T09:11:30.552Z"
   },
   {
    "duration": 26,
    "start_time": "2023-06-28T09:13:11.913Z"
   },
   {
    "duration": 24,
    "start_time": "2023-06-28T09:13:28.225Z"
   },
   {
    "duration": 160,
    "start_time": "2023-06-28T09:15:21.145Z"
   },
   {
    "duration": 4,
    "start_time": "2023-06-28T09:15:22.502Z"
   },
   {
    "duration": 7,
    "start_time": "2023-06-28T09:15:23.910Z"
   },
   {
    "duration": 28,
    "start_time": "2023-06-28T09:15:24.713Z"
   },
   {
    "duration": 14,
    "start_time": "2023-06-28T09:15:29.842Z"
   },
   {
    "duration": 4,
    "start_time": "2023-06-28T09:15:30.923Z"
   },
   {
    "duration": 8,
    "start_time": "2023-06-28T09:15:31.710Z"
   },
   {
    "duration": 28,
    "start_time": "2023-06-28T09:15:32.473Z"
   },
   {
    "duration": 25,
    "start_time": "2023-06-28T09:16:06.808Z"
   },
   {
    "duration": 32,
    "start_time": "2023-06-28T09:16:23.934Z"
   },
   {
    "duration": 20,
    "start_time": "2023-06-28T20:06:45.980Z"
   },
   {
    "duration": 12,
    "start_time": "2023-06-28T21:09:57.564Z"
   },
   {
    "duration": 41,
    "start_time": "2023-06-28T21:13:29.066Z"
   },
   {
    "duration": 1159,
    "start_time": "2023-06-28T21:13:36.399Z"
   },
   {
    "duration": 105,
    "start_time": "2023-06-28T21:13:37.561Z"
   },
   {
    "duration": 12,
    "start_time": "2023-06-28T21:13:37.668Z"
   },
   {
    "duration": 11,
    "start_time": "2023-06-28T21:13:37.682Z"
   },
   {
    "duration": 31,
    "start_time": "2023-06-28T21:13:37.696Z"
   },
   {
    "duration": 13,
    "start_time": "2023-06-28T21:13:37.729Z"
   },
   {
    "duration": 39,
    "start_time": "2023-06-28T21:13:37.744Z"
   },
   {
    "duration": 11,
    "start_time": "2023-06-28T21:13:37.784Z"
   },
   {
    "duration": 43,
    "start_time": "2023-06-28T21:13:37.797Z"
   },
   {
    "duration": 59,
    "start_time": "2023-06-28T21:13:37.842Z"
   },
   {
    "duration": 115,
    "start_time": "2023-06-28T21:13:37.903Z"
   },
   {
    "duration": 42,
    "start_time": "2023-06-28T21:13:38.020Z"
   },
   {
    "duration": 11,
    "start_time": "2023-06-28T21:13:38.065Z"
   },
   {
    "duration": 11,
    "start_time": "2023-06-28T21:13:38.080Z"
   },
   {
    "duration": 10,
    "start_time": "2023-06-28T21:13:38.093Z"
   },
   {
    "duration": 17,
    "start_time": "2023-06-28T21:13:38.104Z"
   },
   {
    "duration": 22,
    "start_time": "2023-06-28T21:13:38.123Z"
   },
   {
    "duration": 18,
    "start_time": "2023-06-28T21:13:38.148Z"
   },
   {
    "duration": 9,
    "start_time": "2023-06-28T21:13:38.167Z"
   },
   {
    "duration": 13,
    "start_time": "2023-06-28T21:13:38.177Z"
   },
   {
    "duration": 165,
    "start_time": "2023-06-28T21:13:38.192Z"
   },
   {
    "duration": 130,
    "start_time": "2023-06-28T21:13:38.359Z"
   },
   {
    "duration": 7,
    "start_time": "2023-06-28T21:13:38.491Z"
   },
   {
    "duration": 11,
    "start_time": "2023-06-28T21:13:38.500Z"
   },
   {
    "duration": 13,
    "start_time": "2023-06-28T21:13:38.513Z"
   },
   {
    "duration": 16,
    "start_time": "2023-06-28T21:13:38.527Z"
   },
   {
    "duration": 330,
    "start_time": "2023-06-28T21:13:38.545Z"
   },
   {
    "duration": 9,
    "start_time": "2023-06-28T21:13:38.877Z"
   },
   {
    "duration": 249,
    "start_time": "2023-06-28T21:13:38.887Z"
   },
   {
    "duration": 14,
    "start_time": "2023-06-28T21:13:39.138Z"
   },
   {
    "duration": 335,
    "start_time": "2023-06-28T21:13:39.154Z"
   },
   {
    "duration": 9,
    "start_time": "2023-06-28T21:13:39.490Z"
   },
   {
    "duration": 25,
    "start_time": "2023-06-28T21:13:39.501Z"
   },
   {
    "duration": 12,
    "start_time": "2023-06-28T21:13:39.528Z"
   },
   {
    "duration": 236,
    "start_time": "2023-06-28T21:13:39.541Z"
   },
   {
    "duration": 9,
    "start_time": "2023-06-28T21:13:39.778Z"
   },
   {
    "duration": 319,
    "start_time": "2023-06-28T21:13:39.788Z"
   },
   {
    "duration": 4,
    "start_time": "2023-06-28T21:13:40.109Z"
   },
   {
    "duration": 30,
    "start_time": "2023-06-28T21:13:40.115Z"
   },
   {
    "duration": 143,
    "start_time": "2023-06-28T21:13:40.147Z"
   },
   {
    "duration": 6,
    "start_time": "2023-06-28T21:13:40.294Z"
   },
   {
    "duration": 13,
    "start_time": "2023-06-28T21:13:40.301Z"
   },
   {
    "duration": 6,
    "start_time": "2023-06-28T21:13:40.316Z"
   },
   {
    "duration": 206,
    "start_time": "2023-06-28T21:13:40.323Z"
   },
   {
    "duration": 6,
    "start_time": "2023-06-28T21:13:40.531Z"
   },
   {
    "duration": 19,
    "start_time": "2023-06-28T21:13:40.538Z"
   },
   {
    "duration": 16,
    "start_time": "2023-06-28T21:13:40.559Z"
   },
   {
    "duration": 14,
    "start_time": "2023-06-28T21:13:40.576Z"
   },
   {
    "duration": 114,
    "start_time": "2023-06-28T21:13:40.592Z"
   },
   {
    "duration": 9,
    "start_time": "2023-06-28T21:13:40.708Z"
   },
   {
    "duration": 20,
    "start_time": "2023-06-28T21:13:40.718Z"
   },
   {
    "duration": 20,
    "start_time": "2023-06-28T21:13:40.740Z"
   },
   {
    "duration": 111,
    "start_time": "2023-06-28T21:13:40.762Z"
   },
   {
    "duration": 32,
    "start_time": "2023-06-28T21:13:40.875Z"
   },
   {
    "duration": 19,
    "start_time": "2023-06-28T21:13:40.909Z"
   },
   {
    "duration": 30,
    "start_time": "2023-06-28T21:13:40.930Z"
   },
   {
    "duration": 16,
    "start_time": "2023-06-28T21:13:40.962Z"
   },
   {
    "duration": 19,
    "start_time": "2023-06-28T21:13:40.979Z"
   },
   {
    "duration": 18,
    "start_time": "2023-06-28T21:13:41.000Z"
   },
   {
    "duration": 34,
    "start_time": "2023-06-28T21:13:41.020Z"
   },
   {
    "duration": 11,
    "start_time": "2023-06-28T21:13:41.056Z"
   },
   {
    "duration": 123,
    "start_time": "2023-06-28T21:13:41.068Z"
   },
   {
    "duration": 11,
    "start_time": "2023-06-28T21:14:44.206Z"
   },
   {
    "duration": 104,
    "start_time": "2023-06-28T21:23:52.985Z"
   },
   {
    "duration": 7,
    "start_time": "2023-06-28T21:24:22.312Z"
   },
   {
    "duration": 165,
    "start_time": "2023-06-28T21:25:05.845Z"
   },
   {
    "duration": 15,
    "start_time": "2023-06-28T21:25:09.404Z"
   },
   {
    "duration": 6,
    "start_time": "2023-06-28T21:25:45.955Z"
   },
   {
    "duration": 8,
    "start_time": "2023-06-28T21:28:15.423Z"
   },
   {
    "duration": 10,
    "start_time": "2023-06-28T21:31:51.905Z"
   },
   {
    "duration": 4,
    "start_time": "2023-06-28T21:32:23.049Z"
   },
   {
    "duration": 6,
    "start_time": "2023-06-28T21:32:27.756Z"
   },
   {
    "duration": 7,
    "start_time": "2023-06-28T21:32:55.755Z"
   },
   {
    "duration": 7,
    "start_time": "2023-06-28T21:33:42.792Z"
   },
   {
    "duration": 6,
    "start_time": "2023-06-28T21:34:15.451Z"
   },
   {
    "duration": 6,
    "start_time": "2023-06-28T21:34:20.460Z"
   },
   {
    "duration": 19,
    "start_time": "2023-06-28T21:34:24.447Z"
   },
   {
    "duration": 19,
    "start_time": "2023-06-28T21:34:47.336Z"
   },
   {
    "duration": 3051,
    "start_time": "2023-06-28T21:34:52.297Z"
   },
   {
    "duration": 0,
    "start_time": "2023-06-28T21:34:55.350Z"
   },
   {
    "duration": 3258,
    "start_time": "2023-06-28T21:34:58.908Z"
   },
   {
    "duration": 6,
    "start_time": "2023-06-28T21:35:35.542Z"
   },
   {
    "duration": 4,
    "start_time": "2023-06-28T21:35:37.246Z"
   },
   {
    "duration": 4,
    "start_time": "2023-06-28T21:36:07.197Z"
   },
   {
    "duration": 4,
    "start_time": "2023-06-28T21:36:14.801Z"
   },
   {
    "duration": 6,
    "start_time": "2023-06-28T21:36:48.852Z"
   },
   {
    "duration": 5,
    "start_time": "2023-06-28T22:10:45.108Z"
   },
   {
    "duration": 9,
    "start_time": "2023-06-28T22:11:17.849Z"
   },
   {
    "duration": 25,
    "start_time": "2023-06-28T22:11:48.023Z"
   },
   {
    "duration": 8,
    "start_time": "2023-06-28T22:11:57.738Z"
   },
   {
    "duration": 23,
    "start_time": "2023-06-28T22:12:04.087Z"
   },
   {
    "duration": 11,
    "start_time": "2023-06-28T22:13:53.104Z"
   },
   {
    "duration": 12,
    "start_time": "2023-06-28T22:13:55.407Z"
   },
   {
    "duration": 9,
    "start_time": "2023-06-28T22:16:27.057Z"
   },
   {
    "duration": 23,
    "start_time": "2023-06-28T22:16:28.773Z"
   },
   {
    "duration": 6,
    "start_time": "2023-06-28T22:16:42.003Z"
   },
   {
    "duration": 27,
    "start_time": "2023-06-28T22:16:44.064Z"
   },
   {
    "duration": 12,
    "start_time": "2023-06-28T22:17:27.439Z"
   },
   {
    "duration": 36,
    "start_time": "2023-06-28T22:17:29.211Z"
   },
   {
    "duration": 9,
    "start_time": "2023-06-28T22:18:03.519Z"
   },
   {
    "duration": 13,
    "start_time": "2023-06-28T22:19:14.653Z"
   },
   {
    "duration": 8,
    "start_time": "2023-06-28T22:19:53.154Z"
   },
   {
    "duration": 23,
    "start_time": "2023-06-28T22:19:55.854Z"
   },
   {
    "duration": 19,
    "start_time": "2023-06-28T22:27:04.308Z"
   },
   {
    "duration": 67,
    "start_time": "2023-06-29T11:41:22.088Z"
   },
   {
    "duration": 1305,
    "start_time": "2023-06-29T11:41:24.415Z"
   },
   {
    "duration": 338,
    "start_time": "2023-06-29T11:41:27.056Z"
   },
   {
    "duration": 10,
    "start_time": "2023-06-29T11:41:50.583Z"
   },
   {
    "duration": 11,
    "start_time": "2023-06-29T11:41:58.716Z"
   },
   {
    "duration": 1170,
    "start_time": "2023-06-29T11:42:17.916Z"
   },
   {
    "duration": 3,
    "start_time": "2023-06-29T11:42:20.178Z"
   },
   {
    "duration": 136,
    "start_time": "2023-06-29T11:42:20.495Z"
   },
   {
    "duration": 7,
    "start_time": "2023-06-29T11:42:21.667Z"
   },
   {
    "duration": 6,
    "start_time": "2023-06-29T11:43:17.480Z"
   },
   {
    "duration": 5,
    "start_time": "2023-06-29T11:43:35.547Z"
   },
   {
    "duration": 20,
    "start_time": "2023-06-29T11:44:02.629Z"
   },
   {
    "duration": 15,
    "start_time": "2023-06-29T11:44:12.888Z"
   },
   {
    "duration": 13,
    "start_time": "2023-06-29T11:44:28.517Z"
   },
   {
    "duration": 11,
    "start_time": "2023-06-29T11:44:30.645Z"
   },
   {
    "duration": 104,
    "start_time": "2023-06-29T11:45:50.426Z"
   },
   {
    "duration": 1092,
    "start_time": "2023-06-29T11:45:58.360Z"
   },
   {
    "duration": 141,
    "start_time": "2023-06-29T11:45:59.454Z"
   },
   {
    "duration": 7,
    "start_time": "2023-06-29T11:45:59.597Z"
   },
   {
    "duration": 35,
    "start_time": "2023-06-29T11:45:59.615Z"
   },
   {
    "duration": 27,
    "start_time": "2023-06-29T11:45:59.652Z"
   },
   {
    "duration": 11,
    "start_time": "2023-06-29T11:45:59.681Z"
   },
   {
    "duration": 21,
    "start_time": "2023-06-29T11:45:59.694Z"
   },
   {
    "duration": 20,
    "start_time": "2023-06-29T11:45:59.722Z"
   },
   {
    "duration": 6,
    "start_time": "2023-06-29T11:45:59.744Z"
   },
   {
    "duration": 7,
    "start_time": "2023-06-29T11:45:59.753Z"
   },
   {
    "duration": 6,
    "start_time": "2023-06-29T11:45:59.761Z"
   },
   {
    "duration": 14,
    "start_time": "2023-06-29T11:45:59.769Z"
   },
   {
    "duration": 19,
    "start_time": "2023-06-29T11:45:59.785Z"
   },
   {
    "duration": 14,
    "start_time": "2023-06-29T11:45:59.806Z"
   },
   {
    "duration": 13,
    "start_time": "2023-06-29T11:45:59.822Z"
   },
   {
    "duration": 10,
    "start_time": "2023-06-29T11:45:59.837Z"
   },
   {
    "duration": 10,
    "start_time": "2023-06-29T11:45:59.848Z"
   },
   {
    "duration": 15,
    "start_time": "2023-06-29T11:45:59.860Z"
   },
   {
    "duration": 10,
    "start_time": "2023-06-29T11:45:59.877Z"
   },
   {
    "duration": 12,
    "start_time": "2023-06-29T11:45:59.909Z"
   },
   {
    "duration": 14,
    "start_time": "2023-06-29T11:45:59.923Z"
   },
   {
    "duration": 21,
    "start_time": "2023-06-29T11:45:59.939Z"
   },
   {
    "duration": 5,
    "start_time": "2023-06-29T11:45:59.962Z"
   },
   {
    "duration": 5,
    "start_time": "2023-06-29T11:45:59.969Z"
   },
   {
    "duration": 7,
    "start_time": "2023-06-29T11:45:59.976Z"
   },
   {
    "duration": 240,
    "start_time": "2023-06-29T11:45:59.985Z"
   },
   {
    "duration": 165,
    "start_time": "2023-06-29T11:46:00.226Z"
   },
   {
    "duration": 15,
    "start_time": "2023-06-29T11:46:00.399Z"
   },
   {
    "duration": 57,
    "start_time": "2023-06-29T11:46:00.422Z"
   },
   {
    "duration": 41,
    "start_time": "2023-06-29T11:46:00.481Z"
   },
   {
    "duration": 57,
    "start_time": "2023-06-29T11:46:00.524Z"
   },
   {
    "duration": 378,
    "start_time": "2023-06-29T11:46:00.583Z"
   },
   {
    "duration": 10,
    "start_time": "2023-06-29T11:46:00.962Z"
   },
   {
    "duration": 268,
    "start_time": "2023-06-29T11:46:00.975Z"
   },
   {
    "duration": 7,
    "start_time": "2023-06-29T11:46:01.245Z"
   },
   {
    "duration": 436,
    "start_time": "2023-06-29T11:46:01.254Z"
   },
   {
    "duration": 18,
    "start_time": "2023-06-29T11:46:01.691Z"
   },
   {
    "duration": 60,
    "start_time": "2023-06-29T11:46:01.711Z"
   },
   {
    "duration": 79,
    "start_time": "2023-06-29T11:46:01.773Z"
   },
   {
    "duration": 282,
    "start_time": "2023-06-29T11:46:01.854Z"
   },
   {
    "duration": 10,
    "start_time": "2023-06-29T11:46:02.138Z"
   },
   {
    "duration": 403,
    "start_time": "2023-06-29T11:46:02.150Z"
   },
   {
    "duration": 4,
    "start_time": "2023-06-29T11:46:02.555Z"
   },
   {
    "duration": 38,
    "start_time": "2023-06-29T11:46:02.560Z"
   },
   {
    "duration": 160,
    "start_time": "2023-06-29T11:46:02.606Z"
   },
   {
    "duration": 6,
    "start_time": "2023-06-29T11:46:02.769Z"
   },
   {
    "duration": 47,
    "start_time": "2023-06-29T11:46:02.777Z"
   },
   {
    "duration": 29,
    "start_time": "2023-06-29T11:46:02.826Z"
   },
   {
    "duration": 199,
    "start_time": "2023-06-29T11:46:02.857Z"
   },
   {
    "duration": 7,
    "start_time": "2023-06-29T11:46:03.057Z"
   },
   {
    "duration": 16,
    "start_time": "2023-06-29T11:46:03.066Z"
   },
   {
    "duration": 25,
    "start_time": "2023-06-29T11:46:03.084Z"
   },
   {
    "duration": 14,
    "start_time": "2023-06-29T11:46:03.110Z"
   },
   {
    "duration": 99,
    "start_time": "2023-06-29T11:46:03.126Z"
   },
   {
    "duration": 8,
    "start_time": "2023-06-29T11:46:03.227Z"
   },
   {
    "duration": 22,
    "start_time": "2023-06-29T11:46:03.237Z"
   },
   {
    "duration": 27,
    "start_time": "2023-06-29T11:46:03.261Z"
   },
   {
    "duration": 108,
    "start_time": "2023-06-29T11:46:03.290Z"
   },
   {
    "duration": 36,
    "start_time": "2023-06-29T11:46:03.407Z"
   },
   {
    "duration": 35,
    "start_time": "2023-06-29T11:46:03.444Z"
   },
   {
    "duration": 49,
    "start_time": "2023-06-29T11:46:03.480Z"
   },
   {
    "duration": 14,
    "start_time": "2023-06-29T11:46:03.534Z"
   },
   {
    "duration": 11,
    "start_time": "2023-06-29T11:46:03.550Z"
   },
   {
    "duration": 9,
    "start_time": "2023-06-29T11:46:03.563Z"
   },
   {
    "duration": 55,
    "start_time": "2023-06-29T11:46:03.574Z"
   },
   {
    "duration": 12,
    "start_time": "2023-06-29T11:46:03.631Z"
   },
   {
    "duration": 14,
    "start_time": "2023-06-29T11:46:03.644Z"
   },
   {
    "duration": 18,
    "start_time": "2023-06-29T11:46:03.660Z"
   },
   {
    "duration": 11,
    "start_time": "2023-06-29T11:46:03.680Z"
   },
   {
    "duration": 54,
    "start_time": "2023-06-29T11:46:03.692Z"
   },
   {
    "duration": 48,
    "start_time": "2023-06-29T11:46:03.748Z"
   },
   {
    "duration": 21,
    "start_time": "2023-06-29T11:46:03.797Z"
   },
   {
    "duration": 108,
    "start_time": "2023-06-29T11:46:22.780Z"
   },
   {
    "duration": 4,
    "start_time": "2023-06-29T11:46:27.148Z"
   },
   {
    "duration": 19,
    "start_time": "2023-06-29T11:46:28.123Z"
   },
   {
    "duration": 1098,
    "start_time": "2023-06-29T11:46:35.675Z"
   },
   {
    "duration": 107,
    "start_time": "2023-06-29T11:46:36.775Z"
   },
   {
    "duration": 6,
    "start_time": "2023-06-29T11:46:36.884Z"
   },
   {
    "duration": 10,
    "start_time": "2023-06-29T11:46:36.893Z"
   },
   {
    "duration": 47,
    "start_time": "2023-06-29T11:46:36.905Z"
   },
   {
    "duration": 13,
    "start_time": "2023-06-29T11:46:36.954Z"
   },
   {
    "duration": 17,
    "start_time": "2023-06-29T11:46:36.969Z"
   },
   {
    "duration": 29,
    "start_time": "2023-06-29T11:46:36.988Z"
   },
   {
    "duration": 12,
    "start_time": "2023-06-29T11:46:37.018Z"
   },
   {
    "duration": 7,
    "start_time": "2023-06-29T11:46:37.033Z"
   },
   {
    "duration": 8,
    "start_time": "2023-06-29T11:46:37.042Z"
   },
   {
    "duration": 8,
    "start_time": "2023-06-29T11:46:37.051Z"
   },
   {
    "duration": 12,
    "start_time": "2023-06-29T11:46:37.060Z"
   },
   {
    "duration": 9,
    "start_time": "2023-06-29T11:46:37.073Z"
   },
   {
    "duration": 21,
    "start_time": "2023-06-29T11:46:37.084Z"
   },
   {
    "duration": 29,
    "start_time": "2023-06-29T11:46:37.106Z"
   },
   {
    "duration": 5,
    "start_time": "2023-06-29T11:46:37.137Z"
   },
   {
    "duration": 16,
    "start_time": "2023-06-29T11:46:37.144Z"
   },
   {
    "duration": 11,
    "start_time": "2023-06-29T11:46:37.162Z"
   },
   {
    "duration": 3,
    "start_time": "2023-06-29T11:46:37.175Z"
   },
   {
    "duration": 13,
    "start_time": "2023-06-29T11:46:37.180Z"
   },
   {
    "duration": 25,
    "start_time": "2023-06-29T11:46:37.195Z"
   },
   {
    "duration": 6,
    "start_time": "2023-06-29T11:46:37.222Z"
   },
   {
    "duration": 5,
    "start_time": "2023-06-29T11:46:37.230Z"
   },
   {
    "duration": 7,
    "start_time": "2023-06-29T11:46:37.237Z"
   },
   {
    "duration": 182,
    "start_time": "2023-06-29T11:46:37.246Z"
   },
   {
    "duration": 135,
    "start_time": "2023-06-29T11:46:37.430Z"
   },
   {
    "duration": 6,
    "start_time": "2023-06-29T11:46:37.569Z"
   },
   {
    "duration": 22,
    "start_time": "2023-06-29T11:46:37.576Z"
   },
   {
    "duration": 20,
    "start_time": "2023-06-29T11:46:37.613Z"
   },
   {
    "duration": 9,
    "start_time": "2023-06-29T11:46:37.636Z"
   },
   {
    "duration": 321,
    "start_time": "2023-06-29T11:46:37.647Z"
   },
   {
    "duration": 8,
    "start_time": "2023-06-29T11:46:37.970Z"
   },
   {
    "duration": 233,
    "start_time": "2023-06-29T11:46:37.980Z"
   },
   {
    "duration": 10,
    "start_time": "2023-06-29T11:46:38.218Z"
   },
   {
    "duration": 291,
    "start_time": "2023-06-29T11:46:38.229Z"
   },
   {
    "duration": 10,
    "start_time": "2023-06-29T11:46:38.521Z"
   },
   {
    "duration": 7,
    "start_time": "2023-06-29T11:46:38.533Z"
   },
   {
    "duration": 10,
    "start_time": "2023-06-29T11:46:38.542Z"
   },
   {
    "duration": 243,
    "start_time": "2023-06-29T11:46:38.553Z"
   },
   {
    "duration": 15,
    "start_time": "2023-06-29T11:46:38.799Z"
   },
   {
    "duration": 341,
    "start_time": "2023-06-29T11:46:38.815Z"
   },
   {
    "duration": 4,
    "start_time": "2023-06-29T11:46:39.158Z"
   },
   {
    "duration": 10,
    "start_time": "2023-06-29T11:46:39.163Z"
   },
   {
    "duration": 148,
    "start_time": "2023-06-29T11:46:39.174Z"
   },
   {
    "duration": 5,
    "start_time": "2023-06-29T11:46:39.324Z"
   },
   {
    "duration": 8,
    "start_time": "2023-06-29T11:46:39.331Z"
   },
   {
    "duration": 7,
    "start_time": "2023-06-29T11:46:39.340Z"
   },
   {
    "duration": 178,
    "start_time": "2023-06-29T11:46:39.348Z"
   },
   {
    "duration": 8,
    "start_time": "2023-06-29T11:46:39.527Z"
   },
   {
    "duration": 28,
    "start_time": "2023-06-29T11:46:39.537Z"
   },
   {
    "duration": 17,
    "start_time": "2023-06-29T11:46:39.567Z"
   },
   {
    "duration": 12,
    "start_time": "2023-06-29T11:46:39.586Z"
   },
   {
    "duration": 98,
    "start_time": "2023-06-29T11:46:39.599Z"
   },
   {
    "duration": 26,
    "start_time": "2023-06-29T11:46:39.699Z"
   },
   {
    "duration": 17,
    "start_time": "2023-06-29T11:46:39.727Z"
   },
   {
    "duration": 7,
    "start_time": "2023-06-29T11:46:39.746Z"
   },
   {
    "duration": 85,
    "start_time": "2023-06-29T11:46:39.755Z"
   },
   {
    "duration": 51,
    "start_time": "2023-06-29T11:46:39.842Z"
   },
   {
    "duration": 56,
    "start_time": "2023-06-29T11:46:39.895Z"
   },
   {
    "duration": 37,
    "start_time": "2023-06-29T11:46:39.953Z"
   },
   {
    "duration": 48,
    "start_time": "2023-06-29T11:46:39.992Z"
   },
   {
    "duration": 28,
    "start_time": "2023-06-29T11:46:40.042Z"
   },
   {
    "duration": 14,
    "start_time": "2023-06-29T11:46:40.072Z"
   },
   {
    "duration": 43,
    "start_time": "2023-06-29T11:46:40.088Z"
   },
   {
    "duration": 14,
    "start_time": "2023-06-29T11:46:40.133Z"
   },
   {
    "duration": 15,
    "start_time": "2023-06-29T11:46:40.149Z"
   },
   {
    "duration": 14,
    "start_time": "2023-06-29T11:46:40.165Z"
   },
   {
    "duration": 13,
    "start_time": "2023-06-29T11:46:40.181Z"
   },
   {
    "duration": 35,
    "start_time": "2023-06-29T11:46:40.196Z"
   },
   {
    "duration": 22,
    "start_time": "2023-06-29T11:46:40.232Z"
   },
   {
    "duration": 17,
    "start_time": "2023-06-29T11:46:40.256Z"
   },
   {
    "duration": 609,
    "start_time": "2023-06-29T11:58:34.156Z"
   },
   {
    "duration": 980,
    "start_time": "2023-06-29T11:58:41.152Z"
   },
   {
    "duration": 129,
    "start_time": "2023-06-29T11:58:42.134Z"
   },
   {
    "duration": 6,
    "start_time": "2023-06-29T11:58:42.264Z"
   },
   {
    "duration": 8,
    "start_time": "2023-06-29T11:58:42.272Z"
   },
   {
    "duration": 35,
    "start_time": "2023-06-29T11:58:42.282Z"
   },
   {
    "duration": 10,
    "start_time": "2023-06-29T11:58:42.319Z"
   },
   {
    "duration": 23,
    "start_time": "2023-06-29T11:58:42.330Z"
   },
   {
    "duration": 14,
    "start_time": "2023-06-29T11:58:42.355Z"
   },
   {
    "duration": 8,
    "start_time": "2023-06-29T11:58:42.370Z"
   },
   {
    "duration": 7,
    "start_time": "2023-06-29T11:58:42.379Z"
   },
   {
    "duration": 11,
    "start_time": "2023-06-29T11:58:42.387Z"
   },
   {
    "duration": 33,
    "start_time": "2023-06-29T11:58:42.405Z"
   },
   {
    "duration": 4,
    "start_time": "2023-06-29T11:58:42.440Z"
   },
   {
    "duration": 4,
    "start_time": "2023-06-29T11:58:42.448Z"
   },
   {
    "duration": 13,
    "start_time": "2023-06-29T11:58:42.453Z"
   },
   {
    "duration": 20,
    "start_time": "2023-06-29T11:58:42.468Z"
   },
   {
    "duration": 24,
    "start_time": "2023-06-29T11:58:42.490Z"
   },
   {
    "duration": 6,
    "start_time": "2023-06-29T11:58:42.517Z"
   },
   {
    "duration": 10,
    "start_time": "2023-06-29T11:58:42.524Z"
   },
   {
    "duration": 161,
    "start_time": "2023-06-29T11:58:42.535Z"
   },
   {
    "duration": 124,
    "start_time": "2023-06-29T11:58:42.697Z"
   },
   {
    "duration": 6,
    "start_time": "2023-06-29T11:58:42.823Z"
   },
   {
    "duration": 8,
    "start_time": "2023-06-29T11:58:42.830Z"
   },
   {
    "duration": 13,
    "start_time": "2023-06-29T11:58:42.839Z"
   },
   {
    "duration": 12,
    "start_time": "2023-06-29T11:58:42.853Z"
   },
   {
    "duration": 291,
    "start_time": "2023-06-29T11:58:42.866Z"
   },
   {
    "duration": 8,
    "start_time": "2023-06-29T11:58:43.159Z"
   },
   {
    "duration": 207,
    "start_time": "2023-06-29T11:58:43.169Z"
   },
   {
    "duration": 6,
    "start_time": "2023-06-29T11:58:43.378Z"
   },
   {
    "duration": 379,
    "start_time": "2023-06-29T11:58:43.385Z"
   },
   {
    "duration": 7,
    "start_time": "2023-06-29T11:58:43.766Z"
   },
   {
    "duration": 12,
    "start_time": "2023-06-29T11:58:43.775Z"
   },
   {
    "duration": 27,
    "start_time": "2023-06-29T11:58:43.789Z"
   },
   {
    "duration": 201,
    "start_time": "2023-06-29T11:58:43.818Z"
   },
   {
    "duration": 9,
    "start_time": "2023-06-29T11:58:44.021Z"
   },
   {
    "duration": 301,
    "start_time": "2023-06-29T11:58:44.031Z"
   },
   {
    "duration": 3,
    "start_time": "2023-06-29T11:58:44.334Z"
   },
   {
    "duration": 12,
    "start_time": "2023-06-29T11:58:44.338Z"
   },
   {
    "duration": 125,
    "start_time": "2023-06-29T11:58:44.351Z"
   },
   {
    "duration": 5,
    "start_time": "2023-06-29T11:58:44.477Z"
   },
   {
    "duration": 7,
    "start_time": "2023-06-29T11:58:44.505Z"
   },
   {
    "duration": 9,
    "start_time": "2023-06-29T11:58:44.514Z"
   },
   {
    "duration": 161,
    "start_time": "2023-06-29T11:58:44.524Z"
   },
   {
    "duration": 4,
    "start_time": "2023-06-29T11:58:44.687Z"
   },
   {
    "duration": 14,
    "start_time": "2023-06-29T11:58:44.705Z"
   },
   {
    "duration": 9,
    "start_time": "2023-06-29T11:58:44.721Z"
   },
   {
    "duration": 13,
    "start_time": "2023-06-29T11:58:44.731Z"
   },
   {
    "duration": 86,
    "start_time": "2023-06-29T11:58:44.746Z"
   },
   {
    "duration": 7,
    "start_time": "2023-06-29T11:58:44.833Z"
   },
   {
    "duration": 20,
    "start_time": "2023-06-29T11:58:44.842Z"
   },
   {
    "duration": 3,
    "start_time": "2023-06-29T11:58:44.863Z"
   },
   {
    "duration": 91,
    "start_time": "2023-06-29T11:58:44.868Z"
   },
   {
    "duration": 8,
    "start_time": "2023-06-29T11:58:44.961Z"
   },
   {
    "duration": 12,
    "start_time": "2023-06-29T11:58:44.970Z"
   },
   {
    "duration": 25,
    "start_time": "2023-06-29T11:58:44.984Z"
   },
   {
    "duration": 14,
    "start_time": "2023-06-29T11:58:45.011Z"
   },
   {
    "duration": 23,
    "start_time": "2023-06-29T11:58:45.027Z"
   },
   {
    "duration": 11,
    "start_time": "2023-06-29T11:58:45.052Z"
   },
   {
    "duration": 46,
    "start_time": "2023-06-29T11:58:45.064Z"
   },
   {
    "duration": 11,
    "start_time": "2023-06-29T11:58:45.118Z"
   },
   {
    "duration": 25,
    "start_time": "2023-06-29T11:58:45.131Z"
   },
   {
    "duration": 7,
    "start_time": "2023-06-29T11:58:45.157Z"
   },
   {
    "duration": 6,
    "start_time": "2023-06-29T11:58:45.165Z"
   },
   {
    "duration": 12,
    "start_time": "2023-06-29T11:58:45.172Z"
   },
   {
    "duration": 28,
    "start_time": "2023-06-29T11:58:45.186Z"
   },
   {
    "duration": 12,
    "start_time": "2023-06-29T11:58:45.215Z"
   },
   {
    "duration": 173,
    "start_time": "2023-06-29T11:59:59.081Z"
   },
   {
    "duration": 112,
    "start_time": "2023-06-29T12:00:15.947Z"
   },
   {
    "duration": 215,
    "start_time": "2023-06-29T12:01:36.885Z"
   },
   {
    "duration": 287,
    "start_time": "2023-06-29T12:01:42.268Z"
   },
   {
    "duration": 221,
    "start_time": "2023-06-29T12:02:13.147Z"
   },
   {
    "duration": 97,
    "start_time": "2023-06-29T12:05:59.030Z"
   },
   {
    "duration": 5,
    "start_time": "2023-06-29T12:06:05.878Z"
   },
   {
    "duration": 9,
    "start_time": "2023-06-29T12:06:08.182Z"
   },
   {
    "duration": 82,
    "start_time": "2023-06-29T12:06:19.754Z"
   },
   {
    "duration": 9,
    "start_time": "2023-06-29T12:06:49.933Z"
   },
   {
    "duration": 201,
    "start_time": "2023-06-29T12:07:05.170Z"
   },
   {
    "duration": 14,
    "start_time": "2023-06-29T12:07:36.675Z"
   },
   {
    "duration": 47,
    "start_time": "2023-06-29T12:07:52.330Z"
   },
   {
    "duration": 13,
    "start_time": "2023-06-29T12:08:20.523Z"
   },
   {
    "duration": 9,
    "start_time": "2023-06-29T12:08:53.882Z"
   },
   {
    "duration": 12,
    "start_time": "2023-06-29T12:08:59.367Z"
   },
   {
    "duration": 8,
    "start_time": "2023-06-29T12:09:04.420Z"
   },
   {
    "duration": 10,
    "start_time": "2023-06-29T12:09:12.160Z"
   },
   {
    "duration": 6,
    "start_time": "2023-06-29T12:09:16.027Z"
   },
   {
    "duration": 15,
    "start_time": "2023-06-29T12:09:34.929Z"
   },
   {
    "duration": 11,
    "start_time": "2023-06-29T12:09:39.832Z"
   },
   {
    "duration": 1395,
    "start_time": "2023-06-29T12:19:19.497Z"
   },
   {
    "duration": 110,
    "start_time": "2023-06-29T12:19:20.894Z"
   },
   {
    "duration": 12,
    "start_time": "2023-06-29T12:19:21.005Z"
   },
   {
    "duration": 39,
    "start_time": "2023-06-29T12:19:21.020Z"
   },
   {
    "duration": 50,
    "start_time": "2023-06-29T12:19:21.061Z"
   },
   {
    "duration": 32,
    "start_time": "2023-06-29T12:19:21.115Z"
   },
   {
    "duration": 30,
    "start_time": "2023-06-29T12:19:21.149Z"
   },
   {
    "duration": 32,
    "start_time": "2023-06-29T12:19:21.181Z"
   },
   {
    "duration": 28,
    "start_time": "2023-06-29T12:19:21.214Z"
   },
   {
    "duration": 14,
    "start_time": "2023-06-29T12:19:21.247Z"
   },
   {
    "duration": 18,
    "start_time": "2023-06-29T12:19:21.263Z"
   },
   {
    "duration": 15,
    "start_time": "2023-06-29T12:19:21.283Z"
   },
   {
    "duration": 25,
    "start_time": "2023-06-29T12:19:21.304Z"
   },
   {
    "duration": 14,
    "start_time": "2023-06-29T12:19:21.330Z"
   },
   {
    "duration": 23,
    "start_time": "2023-06-29T12:19:21.345Z"
   },
   {
    "duration": 37,
    "start_time": "2023-06-29T12:19:21.371Z"
   },
   {
    "duration": 43,
    "start_time": "2023-06-29T12:19:21.416Z"
   },
   {
    "duration": 14,
    "start_time": "2023-06-29T12:19:21.460Z"
   },
   {
    "duration": 171,
    "start_time": "2023-06-29T12:19:21.476Z"
   },
   {
    "duration": 112,
    "start_time": "2023-06-29T12:19:21.648Z"
   },
   {
    "duration": 10,
    "start_time": "2023-06-29T12:19:21.762Z"
   },
   {
    "duration": 32,
    "start_time": "2023-06-29T12:19:21.773Z"
   },
   {
    "duration": 21,
    "start_time": "2023-06-29T12:19:21.806Z"
   },
   {
    "duration": 6,
    "start_time": "2023-06-29T12:19:21.829Z"
   },
   {
    "duration": 324,
    "start_time": "2023-06-29T12:19:21.836Z"
   },
   {
    "duration": 13,
    "start_time": "2023-06-29T12:19:22.162Z"
   },
   {
    "duration": 71,
    "start_time": "2023-06-29T12:19:22.177Z"
   },
   {
    "duration": 224,
    "start_time": "2023-06-29T12:19:22.251Z"
   },
   {
    "duration": 6,
    "start_time": "2023-06-29T12:19:22.476Z"
   },
   {
    "duration": 327,
    "start_time": "2023-06-29T12:19:22.485Z"
   },
   {
    "duration": 9,
    "start_time": "2023-06-29T12:19:22.818Z"
   },
   {
    "duration": 36,
    "start_time": "2023-06-29T12:19:22.829Z"
   },
   {
    "duration": 25,
    "start_time": "2023-06-29T12:19:22.866Z"
   },
   {
    "duration": 255,
    "start_time": "2023-06-29T12:19:22.892Z"
   },
   {
    "duration": 7,
    "start_time": "2023-06-29T12:19:23.149Z"
   },
   {
    "duration": 336,
    "start_time": "2023-06-29T12:19:23.158Z"
   },
   {
    "duration": 21,
    "start_time": "2023-06-29T12:19:23.496Z"
   },
   {
    "duration": 22,
    "start_time": "2023-06-29T12:19:23.522Z"
   },
   {
    "duration": 157,
    "start_time": "2023-06-29T12:19:23.546Z"
   },
   {
    "duration": 8,
    "start_time": "2023-06-29T12:19:23.704Z"
   },
   {
    "duration": 18,
    "start_time": "2023-06-29T12:19:23.718Z"
   },
   {
    "duration": 13,
    "start_time": "2023-06-29T12:19:23.737Z"
   },
   {
    "duration": 186,
    "start_time": "2023-06-29T12:19:23.752Z"
   },
   {
    "duration": 5,
    "start_time": "2023-06-29T12:19:23.940Z"
   },
   {
    "duration": 24,
    "start_time": "2023-06-29T12:19:23.947Z"
   },
   {
    "duration": 22,
    "start_time": "2023-06-29T12:19:23.973Z"
   },
   {
    "duration": 34,
    "start_time": "2023-06-29T12:19:23.997Z"
   },
   {
    "duration": 84,
    "start_time": "2023-06-29T12:19:24.032Z"
   },
   {
    "duration": 16,
    "start_time": "2023-06-29T12:19:24.118Z"
   },
   {
    "duration": 18,
    "start_time": "2023-06-29T12:19:24.136Z"
   },
   {
    "duration": 9,
    "start_time": "2023-06-29T12:19:24.155Z"
   },
   {
    "duration": 107,
    "start_time": "2023-06-29T12:19:24.165Z"
   },
   {
    "duration": 4,
    "start_time": "2023-06-29T12:19:24.273Z"
   },
   {
    "duration": 39,
    "start_time": "2023-06-29T12:19:24.279Z"
   },
   {
    "duration": 33,
    "start_time": "2023-06-29T12:19:24.320Z"
   },
   {
    "duration": 12,
    "start_time": "2023-06-29T12:19:24.355Z"
   },
   {
    "duration": 3,
    "start_time": "2023-06-29T12:19:24.369Z"
   },
   {
    "duration": 22,
    "start_time": "2023-06-29T12:19:24.375Z"
   },
   {
    "duration": 39,
    "start_time": "2023-06-29T12:19:24.399Z"
   },
   {
    "duration": 12,
    "start_time": "2023-06-29T12:19:24.440Z"
   },
   {
    "duration": 12,
    "start_time": "2023-06-29T12:19:24.454Z"
   },
   {
    "duration": 8,
    "start_time": "2023-06-29T12:19:24.467Z"
   },
   {
    "duration": 65,
    "start_time": "2023-06-29T12:19:24.478Z"
   },
   {
    "duration": 20,
    "start_time": "2023-06-29T12:19:24.545Z"
   },
   {
    "duration": 21,
    "start_time": "2023-06-29T12:19:24.567Z"
   },
   {
    "duration": 15,
    "start_time": "2023-06-29T12:19:24.589Z"
   },
   {
    "duration": 3040,
    "start_time": "2023-06-29T12:22:16.418Z"
   },
   {
    "duration": 1024,
    "start_time": "2023-06-29T12:22:27.660Z"
   },
   {
    "duration": 104,
    "start_time": "2023-06-29T12:22:28.686Z"
   },
   {
    "duration": 6,
    "start_time": "2023-06-29T12:22:28.791Z"
   },
   {
    "duration": 30,
    "start_time": "2023-06-29T12:22:28.799Z"
   },
   {
    "duration": 34,
    "start_time": "2023-06-29T12:22:28.831Z"
   },
   {
    "duration": 24,
    "start_time": "2023-06-29T12:22:28.867Z"
   },
   {
    "duration": 38,
    "start_time": "2023-06-29T12:22:28.892Z"
   },
   {
    "duration": 15,
    "start_time": "2023-06-29T12:22:28.932Z"
   },
   {
    "duration": 21,
    "start_time": "2023-06-29T12:22:28.948Z"
   },
   {
    "duration": 51,
    "start_time": "2023-06-29T12:22:28.970Z"
   },
   {
    "duration": 27,
    "start_time": "2023-06-29T12:22:29.023Z"
   },
   {
    "duration": 26,
    "start_time": "2023-06-29T12:22:29.052Z"
   },
   {
    "duration": 40,
    "start_time": "2023-06-29T12:22:29.080Z"
   },
   {
    "duration": 68,
    "start_time": "2023-06-29T12:22:29.125Z"
   },
   {
    "duration": 80,
    "start_time": "2023-06-29T12:22:29.196Z"
   },
   {
    "duration": 67,
    "start_time": "2023-06-29T12:22:29.277Z"
   },
   {
    "duration": 26,
    "start_time": "2023-06-29T12:22:29.345Z"
   },
   {
    "duration": 20,
    "start_time": "2023-06-29T12:22:29.372Z"
   },
   {
    "duration": 202,
    "start_time": "2023-06-29T12:22:29.394Z"
   },
   {
    "duration": 127,
    "start_time": "2023-06-29T12:22:29.597Z"
   },
   {
    "duration": 5,
    "start_time": "2023-06-29T12:22:29.726Z"
   },
   {
    "duration": 20,
    "start_time": "2023-06-29T12:22:29.733Z"
   },
   {
    "duration": 10,
    "start_time": "2023-06-29T12:22:29.755Z"
   },
   {
    "duration": 6,
    "start_time": "2023-06-29T12:22:29.767Z"
   },
   {
    "duration": 313,
    "start_time": "2023-06-29T12:22:29.775Z"
   },
   {
    "duration": 11,
    "start_time": "2023-06-29T12:22:30.089Z"
   },
   {
    "duration": 72,
    "start_time": "2023-06-29T12:22:30.105Z"
   },
   {
    "duration": 269,
    "start_time": "2023-06-29T12:22:30.178Z"
   },
   {
    "duration": 7,
    "start_time": "2023-06-29T12:22:30.449Z"
   },
   {
    "duration": 384,
    "start_time": "2023-06-29T12:22:30.457Z"
   },
   {
    "duration": 7,
    "start_time": "2023-06-29T12:22:30.843Z"
   },
   {
    "duration": 32,
    "start_time": "2023-06-29T12:22:30.852Z"
   },
   {
    "duration": 59,
    "start_time": "2023-06-29T12:22:30.886Z"
   },
   {
    "duration": 245,
    "start_time": "2023-06-29T12:22:30.947Z"
   },
   {
    "duration": 9,
    "start_time": "2023-06-29T12:22:31.210Z"
   },
   {
    "duration": 336,
    "start_time": "2023-06-29T12:22:31.221Z"
   },
   {
    "duration": 4,
    "start_time": "2023-06-29T12:22:31.559Z"
   },
   {
    "duration": 33,
    "start_time": "2023-06-29T12:22:31.565Z"
   },
   {
    "duration": 170,
    "start_time": "2023-06-29T12:22:31.606Z"
   },
   {
    "duration": 36,
    "start_time": "2023-06-29T12:22:31.778Z"
   },
   {
    "duration": 50,
    "start_time": "2023-06-29T12:22:31.820Z"
   },
   {
    "duration": 145,
    "start_time": "2023-06-29T12:22:31.872Z"
   },
   {
    "duration": 198,
    "start_time": "2023-06-29T12:22:32.018Z"
   },
   {
    "duration": 5,
    "start_time": "2023-06-29T12:22:32.218Z"
   },
   {
    "duration": 44,
    "start_time": "2023-06-29T12:22:32.224Z"
   },
   {
    "duration": 59,
    "start_time": "2023-06-29T12:22:32.270Z"
   },
   {
    "duration": 51,
    "start_time": "2023-06-29T12:22:32.331Z"
   },
   {
    "duration": 139,
    "start_time": "2023-06-29T12:22:32.384Z"
   },
   {
    "duration": 9,
    "start_time": "2023-06-29T12:22:32.525Z"
   },
   {
    "duration": 26,
    "start_time": "2023-06-29T12:22:32.536Z"
   },
   {
    "duration": 30,
    "start_time": "2023-06-29T12:22:32.564Z"
   },
   {
    "duration": 152,
    "start_time": "2023-06-29T12:22:32.596Z"
   },
   {
    "duration": 3,
    "start_time": "2023-06-29T12:22:32.750Z"
   },
   {
    "duration": 10,
    "start_time": "2023-06-29T12:22:32.755Z"
   },
   {
    "duration": 49,
    "start_time": "2023-06-29T12:22:32.767Z"
   },
   {
    "duration": 28,
    "start_time": "2023-06-29T12:22:32.818Z"
   },
   {
    "duration": 8,
    "start_time": "2023-06-29T12:22:32.847Z"
   },
   {
    "duration": 27,
    "start_time": "2023-06-29T12:22:32.857Z"
   },
   {
    "duration": 55,
    "start_time": "2023-06-29T12:22:32.885Z"
   },
   {
    "duration": 41,
    "start_time": "2023-06-29T12:22:32.941Z"
   },
   {
    "duration": 13,
    "start_time": "2023-06-29T12:22:32.984Z"
   },
   {
    "duration": 23,
    "start_time": "2023-06-29T12:22:33.005Z"
   },
   {
    "duration": 25,
    "start_time": "2023-06-29T12:22:33.030Z"
   },
   {
    "duration": 32,
    "start_time": "2023-06-29T12:22:33.057Z"
   },
   {
    "duration": 44,
    "start_time": "2023-06-29T12:22:33.091Z"
   },
   {
    "duration": 36,
    "start_time": "2023-06-29T12:22:33.137Z"
   },
   {
    "duration": 112,
    "start_time": "2023-06-29T12:25:13.465Z"
   },
   {
    "duration": 4291,
    "start_time": "2023-06-29T12:25:16.098Z"
   },
   {
    "duration": 1204,
    "start_time": "2023-06-29T12:25:28.365Z"
   },
   {
    "duration": 149,
    "start_time": "2023-06-29T12:25:29.571Z"
   },
   {
    "duration": 9,
    "start_time": "2023-06-29T12:25:29.722Z"
   },
   {
    "duration": 33,
    "start_time": "2023-06-29T12:25:29.732Z"
   },
   {
    "duration": 42,
    "start_time": "2023-06-29T12:25:29.767Z"
   },
   {
    "duration": 15,
    "start_time": "2023-06-29T12:25:29.810Z"
   },
   {
    "duration": 16,
    "start_time": "2023-06-29T12:25:29.827Z"
   },
   {
    "duration": 18,
    "start_time": "2023-06-29T12:25:29.845Z"
   },
   {
    "duration": 8,
    "start_time": "2023-06-29T12:25:29.865Z"
   },
   {
    "duration": 9,
    "start_time": "2023-06-29T12:25:29.874Z"
   },
   {
    "duration": 41,
    "start_time": "2023-06-29T12:25:29.884Z"
   },
   {
    "duration": 26,
    "start_time": "2023-06-29T12:25:29.927Z"
   },
   {
    "duration": 12,
    "start_time": "2023-06-29T12:25:29.954Z"
   },
   {
    "duration": 10,
    "start_time": "2023-06-29T12:25:29.969Z"
   },
   {
    "duration": 39,
    "start_time": "2023-06-29T12:25:29.980Z"
   },
   {
    "duration": 80,
    "start_time": "2023-06-29T12:25:30.021Z"
   },
   {
    "duration": 42,
    "start_time": "2023-06-29T12:25:30.103Z"
   },
   {
    "duration": 79,
    "start_time": "2023-06-29T12:25:30.147Z"
   },
   {
    "duration": 229,
    "start_time": "2023-06-29T12:25:30.228Z"
   },
   {
    "duration": 128,
    "start_time": "2023-06-29T12:25:30.459Z"
   },
   {
    "duration": 23,
    "start_time": "2023-06-29T12:25:30.588Z"
   },
   {
    "duration": 37,
    "start_time": "2023-06-29T12:25:30.613Z"
   },
   {
    "duration": 43,
    "start_time": "2023-06-29T12:25:30.652Z"
   },
   {
    "duration": 80,
    "start_time": "2023-06-29T12:25:30.697Z"
   },
   {
    "duration": 357,
    "start_time": "2023-06-29T12:25:30.778Z"
   },
   {
    "duration": 11,
    "start_time": "2023-06-29T12:25:31.136Z"
   },
   {
    "duration": 98,
    "start_time": "2023-06-29T12:25:31.148Z"
   },
   {
    "duration": 324,
    "start_time": "2023-06-29T12:25:31.248Z"
   },
   {
    "duration": 6,
    "start_time": "2023-06-29T12:25:31.574Z"
   },
   {
    "duration": 360,
    "start_time": "2023-06-29T12:25:31.581Z"
   },
   {
    "duration": 8,
    "start_time": "2023-06-29T12:25:31.942Z"
   },
   {
    "duration": 42,
    "start_time": "2023-06-29T12:25:31.951Z"
   },
   {
    "duration": 57,
    "start_time": "2023-06-29T12:25:31.994Z"
   },
   {
    "duration": 267,
    "start_time": "2023-06-29T12:25:32.054Z"
   },
   {
    "duration": 10,
    "start_time": "2023-06-29T12:25:32.323Z"
   },
   {
    "duration": 330,
    "start_time": "2023-06-29T12:25:32.335Z"
   },
   {
    "duration": 4,
    "start_time": "2023-06-29T12:25:32.667Z"
   },
   {
    "duration": 18,
    "start_time": "2023-06-29T12:25:32.673Z"
   },
   {
    "duration": 165,
    "start_time": "2023-06-29T12:25:32.693Z"
   },
   {
    "duration": 4,
    "start_time": "2023-06-29T12:25:32.860Z"
   },
   {
    "duration": 11,
    "start_time": "2023-06-29T12:25:32.868Z"
   },
   {
    "duration": 6,
    "start_time": "2023-06-29T12:25:32.880Z"
   },
   {
    "duration": 190,
    "start_time": "2023-06-29T12:25:32.887Z"
   },
   {
    "duration": 5,
    "start_time": "2023-06-29T12:25:33.078Z"
   },
   {
    "duration": 57,
    "start_time": "2023-06-29T12:25:33.084Z"
   },
   {
    "duration": 17,
    "start_time": "2023-06-29T12:25:33.143Z"
   },
   {
    "duration": 27,
    "start_time": "2023-06-29T12:25:33.161Z"
   },
   {
    "duration": 98,
    "start_time": "2023-06-29T12:25:33.189Z"
   },
   {
    "duration": 3,
    "start_time": "2023-06-29T12:25:33.289Z"
   },
   {
    "duration": 47,
    "start_time": "2023-06-29T12:25:33.293Z"
   },
   {
    "duration": 4,
    "start_time": "2023-06-29T12:25:33.342Z"
   },
   {
    "duration": 117,
    "start_time": "2023-06-29T12:25:33.347Z"
   },
   {
    "duration": 3,
    "start_time": "2023-06-29T12:25:33.465Z"
   },
   {
    "duration": 27,
    "start_time": "2023-06-29T12:25:33.470Z"
   },
   {
    "duration": 58,
    "start_time": "2023-06-29T12:25:33.499Z"
   },
   {
    "duration": 10,
    "start_time": "2023-06-29T12:25:33.559Z"
   },
   {
    "duration": 5,
    "start_time": "2023-06-29T12:25:33.571Z"
   },
   {
    "duration": 31,
    "start_time": "2023-06-29T12:25:33.578Z"
   },
   {
    "duration": 34,
    "start_time": "2023-06-29T12:25:33.610Z"
   },
   {
    "duration": 12,
    "start_time": "2023-06-29T12:25:33.646Z"
   },
   {
    "duration": 10,
    "start_time": "2023-06-29T12:25:33.659Z"
   },
   {
    "duration": 13,
    "start_time": "2023-06-29T12:25:33.671Z"
   },
   {
    "duration": 12,
    "start_time": "2023-06-29T12:25:33.686Z"
   },
   {
    "duration": 48,
    "start_time": "2023-06-29T12:25:33.706Z"
   },
   {
    "duration": 35,
    "start_time": "2023-06-29T12:25:33.756Z"
   },
   {
    "duration": 24,
    "start_time": "2023-06-29T12:25:33.793Z"
   },
   {
    "duration": 289,
    "start_time": "2023-06-29T12:34:02.034Z"
   },
   {
    "duration": 243,
    "start_time": "2023-06-29T12:34:08.519Z"
   },
   {
    "duration": 415,
    "start_time": "2023-06-29T12:34:32.322Z"
   },
   {
    "duration": 4,
    "start_time": "2023-06-29T13:34:12.654Z"
   },
   {
    "duration": 6,
    "start_time": "2023-06-29T13:34:14.643Z"
   },
   {
    "duration": 10,
    "start_time": "2023-06-29T13:34:24.323Z"
   },
   {
    "duration": 366,
    "start_time": "2023-06-29T13:35:52.163Z"
   },
   {
    "duration": 303,
    "start_time": "2023-06-29T13:36:06.737Z"
   },
   {
    "duration": 146,
    "start_time": "2023-06-29T13:36:44.118Z"
   },
   {
    "duration": 7,
    "start_time": "2023-06-29T13:38:36.055Z"
   },
   {
    "duration": 4,
    "start_time": "2023-06-29T13:38:43.232Z"
   },
   {
    "duration": 117,
    "start_time": "2023-06-29T13:39:16.626Z"
   },
   {
    "duration": 204,
    "start_time": "2023-06-29T13:39:24.179Z"
   },
   {
    "duration": 14,
    "start_time": "2023-06-29T13:39:26.723Z"
   },
   {
    "duration": 143,
    "start_time": "2023-06-29T13:40:11.296Z"
   },
   {
    "duration": 128,
    "start_time": "2023-06-29T13:40:48.630Z"
   },
   {
    "duration": 228,
    "start_time": "2023-06-29T13:41:28.058Z"
   },
   {
    "duration": 185,
    "start_time": "2023-06-29T13:41:52.365Z"
   },
   {
    "duration": 9,
    "start_time": "2023-06-29T13:42:18.036Z"
   },
   {
    "duration": 10,
    "start_time": "2023-06-29T13:42:26.324Z"
   },
   {
    "duration": 14,
    "start_time": "2023-06-29T13:42:54.618Z"
   },
   {
    "duration": 16,
    "start_time": "2023-06-29T13:43:18.993Z"
   },
   {
    "duration": 12,
    "start_time": "2023-06-29T13:43:22.323Z"
   },
   {
    "duration": 17,
    "start_time": "2023-06-29T13:43:27.296Z"
   },
   {
    "duration": 13,
    "start_time": "2023-06-29T13:43:44.689Z"
   },
   {
    "duration": 3,
    "start_time": "2023-06-29T13:43:49.727Z"
   },
   {
    "duration": 9,
    "start_time": "2023-06-29T13:44:08.545Z"
   },
   {
    "duration": 13,
    "start_time": "2023-06-29T13:44:39.750Z"
   },
   {
    "duration": 14,
    "start_time": "2023-06-29T13:44:56.930Z"
   },
   {
    "duration": 12,
    "start_time": "2023-06-29T13:45:05.649Z"
   },
   {
    "duration": 8,
    "start_time": "2023-06-29T13:45:14.487Z"
   },
   {
    "duration": 10,
    "start_time": "2023-06-29T13:45:22.027Z"
   },
   {
    "duration": 32,
    "start_time": "2023-06-29T13:45:28.493Z"
   },
   {
    "duration": 10,
    "start_time": "2023-06-29T13:45:36.269Z"
   },
   {
    "duration": 12,
    "start_time": "2023-06-29T13:45:40.568Z"
   },
   {
    "duration": 171,
    "start_time": "2023-06-29T13:46:44.460Z"
   },
   {
    "duration": 1223,
    "start_time": "2023-06-29T13:46:46.739Z"
   },
   {
    "duration": 178,
    "start_time": "2023-06-29T13:47:18.748Z"
   },
   {
    "duration": 6,
    "start_time": "2023-06-29T14:05:33.760Z"
   },
   {
    "duration": 35,
    "start_time": "2023-06-29T14:06:45.230Z"
   },
   {
    "duration": 5,
    "start_time": "2023-06-29T14:12:39.263Z"
   },
   {
    "duration": 5,
    "start_time": "2023-06-29T14:12:40.486Z"
   },
   {
    "duration": 3,
    "start_time": "2023-06-29T14:12:42.283Z"
   },
   {
    "duration": 8,
    "start_time": "2023-06-29T14:12:45.151Z"
   },
   {
    "duration": 39,
    "start_time": "2023-06-29T14:12:46.028Z"
   },
   {
    "duration": 11,
    "start_time": "2023-06-29T14:13:00.016Z"
   },
   {
    "duration": 20,
    "start_time": "2023-06-29T14:13:04.462Z"
   },
   {
    "duration": 24,
    "start_time": "2023-06-29T14:17:06.187Z"
   },
   {
    "duration": 1638,
    "start_time": "2023-06-29T14:43:11.578Z"
   },
   {
    "duration": 940,
    "start_time": "2023-06-29T14:50:36.051Z"
   },
   {
    "duration": 94,
    "start_time": "2023-06-29T14:50:36.993Z"
   },
   {
    "duration": 6,
    "start_time": "2023-06-29T14:50:37.090Z"
   },
   {
    "duration": 23,
    "start_time": "2023-06-29T14:50:37.098Z"
   },
   {
    "duration": 33,
    "start_time": "2023-06-29T14:50:37.122Z"
   },
   {
    "duration": 17,
    "start_time": "2023-06-29T14:50:37.156Z"
   },
   {
    "duration": 17,
    "start_time": "2023-06-29T14:50:37.174Z"
   },
   {
    "duration": 24,
    "start_time": "2023-06-29T14:50:37.193Z"
   },
   {
    "duration": 11,
    "start_time": "2023-06-29T14:50:37.219Z"
   },
   {
    "duration": 13,
    "start_time": "2023-06-29T14:50:37.232Z"
   },
   {
    "duration": 9,
    "start_time": "2023-06-29T14:50:37.246Z"
   },
   {
    "duration": 11,
    "start_time": "2023-06-29T14:50:37.256Z"
   },
   {
    "duration": 3,
    "start_time": "2023-06-29T14:50:37.270Z"
   },
   {
    "duration": 6,
    "start_time": "2023-06-29T14:50:37.275Z"
   },
   {
    "duration": 29,
    "start_time": "2023-06-29T14:50:37.283Z"
   },
   {
    "duration": 21,
    "start_time": "2023-06-29T14:50:37.313Z"
   },
   {
    "duration": 5,
    "start_time": "2023-06-29T14:50:37.335Z"
   },
   {
    "duration": 9,
    "start_time": "2023-06-29T14:50:37.342Z"
   },
   {
    "duration": 164,
    "start_time": "2023-06-29T14:50:37.352Z"
   },
   {
    "duration": 110,
    "start_time": "2023-06-29T14:50:37.518Z"
   },
   {
    "duration": 16,
    "start_time": "2023-06-29T14:50:37.630Z"
   },
   {
    "duration": 10,
    "start_time": "2023-06-29T14:50:37.648Z"
   },
   {
    "duration": 12,
    "start_time": "2023-06-29T14:50:37.659Z"
   },
   {
    "duration": 10,
    "start_time": "2023-06-29T14:50:37.672Z"
   },
   {
    "duration": 322,
    "start_time": "2023-06-29T14:50:37.684Z"
   },
   {
    "duration": 9,
    "start_time": "2023-06-29T14:50:38.008Z"
   },
   {
    "duration": 40,
    "start_time": "2023-06-29T14:50:38.020Z"
   },
   {
    "duration": 217,
    "start_time": "2023-06-29T14:50:38.062Z"
   },
   {
    "duration": 6,
    "start_time": "2023-06-29T14:50:38.281Z"
   },
   {
    "duration": 323,
    "start_time": "2023-06-29T14:50:38.288Z"
   },
   {
    "duration": 4,
    "start_time": "2023-06-29T14:50:38.613Z"
   },
   {
    "duration": 17,
    "start_time": "2023-06-29T14:50:38.619Z"
   },
   {
    "duration": 229,
    "start_time": "2023-06-29T14:50:38.638Z"
   },
   {
    "duration": 7,
    "start_time": "2023-06-29T14:50:38.869Z"
   },
   {
    "duration": 336,
    "start_time": "2023-06-29T14:50:38.877Z"
   },
   {
    "duration": 4,
    "start_time": "2023-06-29T14:50:39.215Z"
   },
   {
    "duration": 8,
    "start_time": "2023-06-29T14:50:39.220Z"
   },
   {
    "duration": 135,
    "start_time": "2023-06-29T14:50:39.229Z"
   },
   {
    "duration": 4,
    "start_time": "2023-06-29T14:50:39.365Z"
   },
   {
    "duration": 26,
    "start_time": "2023-06-29T14:50:39.372Z"
   },
   {
    "duration": 21,
    "start_time": "2023-06-29T14:50:39.400Z"
   },
   {
    "duration": 174,
    "start_time": "2023-06-29T14:50:39.422Z"
   },
   {
    "duration": 8,
    "start_time": "2023-06-29T14:50:39.597Z"
   },
   {
    "duration": 166,
    "start_time": "2023-06-29T14:50:39.606Z"
   },
   {
    "duration": 4,
    "start_time": "2023-06-29T14:50:39.774Z"
   },
   {
    "duration": 17,
    "start_time": "2023-06-29T14:50:39.779Z"
   },
   {
    "duration": 7,
    "start_time": "2023-06-29T14:50:39.800Z"
   },
   {
    "duration": 5,
    "start_time": "2023-06-29T14:50:39.808Z"
   },
   {
    "duration": 93,
    "start_time": "2023-06-29T14:50:39.814Z"
   },
   {
    "duration": 12,
    "start_time": "2023-06-29T14:50:39.909Z"
   },
   {
    "duration": 23,
    "start_time": "2023-06-29T14:50:39.922Z"
   },
   {
    "duration": 4,
    "start_time": "2023-06-29T14:50:39.946Z"
   },
   {
    "duration": 91,
    "start_time": "2023-06-29T14:50:39.951Z"
   },
   {
    "duration": 10,
    "start_time": "2023-06-29T14:50:40.043Z"
   },
   {
    "duration": 13,
    "start_time": "2023-06-29T14:50:40.054Z"
   },
   {
    "duration": 32,
    "start_time": "2023-06-29T14:50:40.068Z"
   },
   {
    "duration": 11,
    "start_time": "2023-06-29T14:50:40.102Z"
   },
   {
    "duration": 2,
    "start_time": "2023-06-29T14:50:40.114Z"
   },
   {
    "duration": 39,
    "start_time": "2023-06-29T14:50:40.118Z"
   },
   {
    "duration": 27,
    "start_time": "2023-06-29T14:50:40.158Z"
   },
   {
    "duration": 9,
    "start_time": "2023-06-29T14:50:40.186Z"
   },
   {
    "duration": 8,
    "start_time": "2023-06-29T14:50:40.196Z"
   },
   {
    "duration": 13,
    "start_time": "2023-06-29T14:50:40.205Z"
   },
   {
    "duration": 13,
    "start_time": "2023-06-29T14:50:40.220Z"
   },
   {
    "duration": 6,
    "start_time": "2023-06-29T14:50:40.234Z"
   },
   {
    "duration": 19,
    "start_time": "2023-06-29T14:50:40.242Z"
   },
   {
    "duration": 13,
    "start_time": "2023-06-29T14:50:40.262Z"
   },
   {
    "duration": 7,
    "start_time": "2023-06-29T22:17:34.320Z"
   },
   {
    "duration": 4,
    "start_time": "2023-06-29T22:18:07.484Z"
   },
   {
    "duration": 5,
    "start_time": "2023-06-29T22:18:59.215Z"
   },
   {
    "duration": 107,
    "start_time": "2023-06-29T22:19:08.671Z"
   },
   {
    "duration": 8,
    "start_time": "2023-06-29T22:19:24.151Z"
   },
   {
    "duration": 14,
    "start_time": "2023-06-29T22:19:46.954Z"
   },
   {
    "duration": 9,
    "start_time": "2023-06-29T22:20:30.374Z"
   },
   {
    "duration": 6,
    "start_time": "2023-06-29T22:20:44.812Z"
   },
   {
    "duration": 10,
    "start_time": "2023-06-29T22:24:25.983Z"
   },
   {
    "duration": 10,
    "start_time": "2023-06-29T22:24:35.629Z"
   },
   {
    "duration": 10,
    "start_time": "2023-06-29T22:24:44.732Z"
   },
   {
    "duration": 7,
    "start_time": "2023-06-29T22:24:46.023Z"
   },
   {
    "duration": 17,
    "start_time": "2023-06-29T22:24:52.577Z"
   },
   {
    "duration": 1032,
    "start_time": "2023-06-29T22:24:58.865Z"
   },
   {
    "duration": 103,
    "start_time": "2023-06-29T22:24:59.899Z"
   },
   {
    "duration": 8,
    "start_time": "2023-06-29T22:25:00.004Z"
   },
   {
    "duration": 17,
    "start_time": "2023-06-29T22:25:00.014Z"
   },
   {
    "duration": 52,
    "start_time": "2023-06-29T22:25:00.033Z"
   },
   {
    "duration": 55,
    "start_time": "2023-06-29T22:25:00.086Z"
   },
   {
    "duration": 87,
    "start_time": "2023-06-29T22:25:00.143Z"
   },
   {
    "duration": 47,
    "start_time": "2023-06-29T22:25:00.232Z"
   },
   {
    "duration": 61,
    "start_time": "2023-06-29T22:25:00.281Z"
   },
   {
    "duration": 41,
    "start_time": "2023-06-29T22:25:00.346Z"
   },
   {
    "duration": 45,
    "start_time": "2023-06-29T22:25:00.389Z"
   },
   {
    "duration": 43,
    "start_time": "2023-06-29T22:25:00.436Z"
   },
   {
    "duration": 58,
    "start_time": "2023-06-29T22:25:00.481Z"
   },
   {
    "duration": 40,
    "start_time": "2023-06-29T22:25:00.541Z"
   },
   {
    "duration": 47,
    "start_time": "2023-06-29T22:25:00.583Z"
   },
   {
    "duration": 47,
    "start_time": "2023-06-29T22:25:00.631Z"
   },
   {
    "duration": 50,
    "start_time": "2023-06-29T22:25:00.680Z"
   },
   {
    "duration": 38,
    "start_time": "2023-06-29T22:25:00.732Z"
   },
   {
    "duration": 68,
    "start_time": "2023-06-29T22:25:00.771Z"
   },
   {
    "duration": 63,
    "start_time": "2023-06-29T22:25:00.841Z"
   },
   {
    "duration": 139,
    "start_time": "2023-06-29T22:25:00.905Z"
   },
   {
    "duration": 0,
    "start_time": "2023-06-29T22:25:01.047Z"
   },
   {
    "duration": 0,
    "start_time": "2023-06-29T22:25:01.048Z"
   },
   {
    "duration": 0,
    "start_time": "2023-06-29T22:25:01.049Z"
   },
   {
    "duration": 0,
    "start_time": "2023-06-29T22:25:01.051Z"
   },
   {
    "duration": 0,
    "start_time": "2023-06-29T22:25:01.052Z"
   },
   {
    "duration": 0,
    "start_time": "2023-06-29T22:25:01.053Z"
   },
   {
    "duration": 0,
    "start_time": "2023-06-29T22:25:01.054Z"
   },
   {
    "duration": 0,
    "start_time": "2023-06-29T22:25:01.054Z"
   },
   {
    "duration": 0,
    "start_time": "2023-06-29T22:25:01.055Z"
   },
   {
    "duration": 0,
    "start_time": "2023-06-29T22:25:01.056Z"
   },
   {
    "duration": 0,
    "start_time": "2023-06-29T22:25:01.057Z"
   },
   {
    "duration": 0,
    "start_time": "2023-06-29T22:25:01.058Z"
   },
   {
    "duration": 0,
    "start_time": "2023-06-29T22:25:01.059Z"
   },
   {
    "duration": 0,
    "start_time": "2023-06-29T22:25:01.060Z"
   },
   {
    "duration": 0,
    "start_time": "2023-06-29T22:25:01.061Z"
   },
   {
    "duration": 0,
    "start_time": "2023-06-29T22:25:01.062Z"
   },
   {
    "duration": 0,
    "start_time": "2023-06-29T22:25:01.063Z"
   },
   {
    "duration": 0,
    "start_time": "2023-06-29T22:25:01.064Z"
   },
   {
    "duration": 0,
    "start_time": "2023-06-29T22:25:01.064Z"
   },
   {
    "duration": 0,
    "start_time": "2023-06-29T22:25:01.065Z"
   },
   {
    "duration": 0,
    "start_time": "2023-06-29T22:25:01.100Z"
   },
   {
    "duration": 0,
    "start_time": "2023-06-29T22:25:01.101Z"
   },
   {
    "duration": 0,
    "start_time": "2023-06-29T22:25:01.103Z"
   },
   {
    "duration": 0,
    "start_time": "2023-06-29T22:25:01.104Z"
   },
   {
    "duration": 0,
    "start_time": "2023-06-29T22:25:01.105Z"
   },
   {
    "duration": 0,
    "start_time": "2023-06-29T22:25:01.106Z"
   },
   {
    "duration": 0,
    "start_time": "2023-06-29T22:25:01.107Z"
   },
   {
    "duration": 0,
    "start_time": "2023-06-29T22:25:01.108Z"
   },
   {
    "duration": 0,
    "start_time": "2023-06-29T22:25:01.109Z"
   },
   {
    "duration": 0,
    "start_time": "2023-06-29T22:25:01.110Z"
   },
   {
    "duration": 0,
    "start_time": "2023-06-29T22:25:01.111Z"
   },
   {
    "duration": 0,
    "start_time": "2023-06-29T22:25:01.112Z"
   },
   {
    "duration": 0,
    "start_time": "2023-06-29T22:25:01.113Z"
   },
   {
    "duration": 0,
    "start_time": "2023-06-29T22:25:01.114Z"
   },
   {
    "duration": 0,
    "start_time": "2023-06-29T22:25:01.115Z"
   },
   {
    "duration": 0,
    "start_time": "2023-06-29T22:25:01.116Z"
   },
   {
    "duration": 0,
    "start_time": "2023-06-29T22:25:01.118Z"
   },
   {
    "duration": 0,
    "start_time": "2023-06-29T22:25:01.119Z"
   },
   {
    "duration": 0,
    "start_time": "2023-06-29T22:25:01.120Z"
   },
   {
    "duration": 0,
    "start_time": "2023-06-29T22:25:01.121Z"
   },
   {
    "duration": 0,
    "start_time": "2023-06-29T22:25:01.123Z"
   },
   {
    "duration": 0,
    "start_time": "2023-06-29T22:25:01.124Z"
   },
   {
    "duration": 0,
    "start_time": "2023-06-29T22:25:01.125Z"
   },
   {
    "duration": 0,
    "start_time": "2023-06-29T22:25:01.125Z"
   },
   {
    "duration": 0,
    "start_time": "2023-06-29T22:25:01.127Z"
   },
   {
    "duration": 0,
    "start_time": "2023-06-29T22:25:01.128Z"
   },
   {
    "duration": 0,
    "start_time": "2023-06-29T22:25:01.129Z"
   },
   {
    "duration": 0,
    "start_time": "2023-06-29T22:25:01.131Z"
   },
   {
    "duration": 0,
    "start_time": "2023-06-29T22:25:01.132Z"
   },
   {
    "duration": 0,
    "start_time": "2023-06-29T22:25:01.134Z"
   },
   {
    "duration": 0,
    "start_time": "2023-06-29T22:25:01.135Z"
   },
   {
    "duration": 419,
    "start_time": "2023-06-29T22:25:37.565Z"
   },
   {
    "duration": 4,
    "start_time": "2023-06-29T22:25:45.011Z"
   },
   {
    "duration": 76,
    "start_time": "2023-06-29T22:25:45.811Z"
   },
   {
    "duration": 952,
    "start_time": "2023-06-29T22:25:49.343Z"
   },
   {
    "duration": 121,
    "start_time": "2023-06-29T22:25:50.296Z"
   },
   {
    "duration": 6,
    "start_time": "2023-06-29T22:25:50.421Z"
   },
   {
    "duration": 11,
    "start_time": "2023-06-29T22:25:50.429Z"
   },
   {
    "duration": 22,
    "start_time": "2023-06-29T22:25:50.441Z"
   },
   {
    "duration": 10,
    "start_time": "2023-06-29T22:25:50.465Z"
   },
   {
    "duration": 31,
    "start_time": "2023-06-29T22:25:50.477Z"
   },
   {
    "duration": 12,
    "start_time": "2023-06-29T22:25:50.510Z"
   },
   {
    "duration": 6,
    "start_time": "2023-06-29T22:25:50.525Z"
   },
   {
    "duration": 5,
    "start_time": "2023-06-29T22:25:50.532Z"
   },
   {
    "duration": 9,
    "start_time": "2023-06-29T22:25:50.539Z"
   },
   {
    "duration": 22,
    "start_time": "2023-06-29T22:25:50.549Z"
   },
   {
    "duration": 8,
    "start_time": "2023-06-29T22:25:50.573Z"
   },
   {
    "duration": 24,
    "start_time": "2023-06-29T22:25:50.582Z"
   },
   {
    "duration": 18,
    "start_time": "2023-06-29T22:25:50.607Z"
   },
   {
    "duration": 11,
    "start_time": "2023-06-29T22:25:50.628Z"
   },
   {
    "duration": 15,
    "start_time": "2023-06-29T22:25:50.640Z"
   },
   {
    "duration": 10,
    "start_time": "2023-06-29T22:25:50.656Z"
   },
   {
    "duration": 39,
    "start_time": "2023-06-29T22:25:50.668Z"
   },
   {
    "duration": 5,
    "start_time": "2023-06-29T22:25:50.709Z"
   },
   {
    "duration": 121,
    "start_time": "2023-06-29T22:25:50.715Z"
   },
   {
    "duration": 0,
    "start_time": "2023-06-29T22:25:50.839Z"
   },
   {
    "duration": 0,
    "start_time": "2023-06-29T22:25:50.840Z"
   },
   {
    "duration": 0,
    "start_time": "2023-06-29T22:25:50.841Z"
   },
   {
    "duration": 0,
    "start_time": "2023-06-29T22:25:50.842Z"
   },
   {
    "duration": 0,
    "start_time": "2023-06-29T22:25:50.843Z"
   },
   {
    "duration": 0,
    "start_time": "2023-06-29T22:25:50.843Z"
   },
   {
    "duration": 0,
    "start_time": "2023-06-29T22:25:50.845Z"
   },
   {
    "duration": 0,
    "start_time": "2023-06-29T22:25:50.846Z"
   },
   {
    "duration": 0,
    "start_time": "2023-06-29T22:25:50.847Z"
   },
   {
    "duration": 0,
    "start_time": "2023-06-29T22:25:50.848Z"
   },
   {
    "duration": 0,
    "start_time": "2023-06-29T22:25:50.849Z"
   },
   {
    "duration": 0,
    "start_time": "2023-06-29T22:25:50.851Z"
   },
   {
    "duration": 0,
    "start_time": "2023-06-29T22:25:50.852Z"
   },
   {
    "duration": 0,
    "start_time": "2023-06-29T22:25:50.853Z"
   },
   {
    "duration": 0,
    "start_time": "2023-06-29T22:25:50.854Z"
   },
   {
    "duration": 0,
    "start_time": "2023-06-29T22:25:50.855Z"
   },
   {
    "duration": 0,
    "start_time": "2023-06-29T22:25:50.856Z"
   },
   {
    "duration": 0,
    "start_time": "2023-06-29T22:25:50.857Z"
   },
   {
    "duration": 0,
    "start_time": "2023-06-29T22:25:50.858Z"
   },
   {
    "duration": 0,
    "start_time": "2023-06-29T22:25:50.859Z"
   },
   {
    "duration": 0,
    "start_time": "2023-06-29T22:25:50.900Z"
   },
   {
    "duration": 0,
    "start_time": "2023-06-29T22:25:50.901Z"
   },
   {
    "duration": 0,
    "start_time": "2023-06-29T22:25:50.903Z"
   },
   {
    "duration": 0,
    "start_time": "2023-06-29T22:25:50.904Z"
   },
   {
    "duration": 0,
    "start_time": "2023-06-29T22:25:50.905Z"
   },
   {
    "duration": 0,
    "start_time": "2023-06-29T22:25:50.906Z"
   },
   {
    "duration": 0,
    "start_time": "2023-06-29T22:25:50.907Z"
   },
   {
    "duration": 0,
    "start_time": "2023-06-29T22:25:50.908Z"
   },
   {
    "duration": 0,
    "start_time": "2023-06-29T22:25:50.909Z"
   },
   {
    "duration": 0,
    "start_time": "2023-06-29T22:25:50.911Z"
   },
   {
    "duration": 0,
    "start_time": "2023-06-29T22:25:50.912Z"
   },
   {
    "duration": 0,
    "start_time": "2023-06-29T22:25:50.913Z"
   },
   {
    "duration": 0,
    "start_time": "2023-06-29T22:25:50.914Z"
   },
   {
    "duration": 0,
    "start_time": "2023-06-29T22:25:50.915Z"
   },
   {
    "duration": 0,
    "start_time": "2023-06-29T22:25:50.917Z"
   },
   {
    "duration": 0,
    "start_time": "2023-06-29T22:25:50.918Z"
   },
   {
    "duration": 0,
    "start_time": "2023-06-29T22:25:50.919Z"
   },
   {
    "duration": 0,
    "start_time": "2023-06-29T22:25:50.920Z"
   },
   {
    "duration": 0,
    "start_time": "2023-06-29T22:25:50.921Z"
   },
   {
    "duration": 0,
    "start_time": "2023-06-29T22:25:50.922Z"
   },
   {
    "duration": 0,
    "start_time": "2023-06-29T22:25:50.923Z"
   },
   {
    "duration": 0,
    "start_time": "2023-06-29T22:25:50.924Z"
   },
   {
    "duration": 0,
    "start_time": "2023-06-29T22:25:50.925Z"
   },
   {
    "duration": 1,
    "start_time": "2023-06-29T22:25:50.926Z"
   },
   {
    "duration": 0,
    "start_time": "2023-06-29T22:25:50.927Z"
   },
   {
    "duration": 0,
    "start_time": "2023-06-29T22:25:50.928Z"
   },
   {
    "duration": 0,
    "start_time": "2023-06-29T22:25:50.930Z"
   },
   {
    "duration": 0,
    "start_time": "2023-06-29T22:25:50.930Z"
   },
   {
    "duration": 0,
    "start_time": "2023-06-29T22:25:50.931Z"
   },
   {
    "duration": 0,
    "start_time": "2023-06-29T22:25:50.932Z"
   },
   {
    "duration": 0,
    "start_time": "2023-06-29T22:25:50.933Z"
   },
   {
    "duration": 13,
    "start_time": "2023-06-29T22:26:50.910Z"
   },
   {
    "duration": 11,
    "start_time": "2023-06-29T22:27:01.061Z"
   },
   {
    "duration": 11,
    "start_time": "2023-06-29T22:27:26.647Z"
   },
   {
    "duration": 12,
    "start_time": "2023-06-29T22:27:32.771Z"
   },
   {
    "duration": 10,
    "start_time": "2023-06-29T22:27:37.297Z"
   },
   {
    "duration": 11,
    "start_time": "2023-06-29T22:27:43.201Z"
   },
   {
    "duration": 12,
    "start_time": "2023-06-29T22:27:53.202Z"
   },
   {
    "duration": 1028,
    "start_time": "2023-06-29T22:28:05.501Z"
   },
   {
    "duration": 126,
    "start_time": "2023-06-29T22:28:06.531Z"
   },
   {
    "duration": 8,
    "start_time": "2023-06-29T22:28:06.659Z"
   },
   {
    "duration": 20,
    "start_time": "2023-06-29T22:28:06.669Z"
   },
   {
    "duration": 35,
    "start_time": "2023-06-29T22:28:06.692Z"
   },
   {
    "duration": 13,
    "start_time": "2023-06-29T22:28:06.728Z"
   },
   {
    "duration": 15,
    "start_time": "2023-06-29T22:28:06.743Z"
   },
   {
    "duration": 40,
    "start_time": "2023-06-29T22:28:06.760Z"
   },
   {
    "duration": 20,
    "start_time": "2023-06-29T22:28:06.803Z"
   },
   {
    "duration": 11,
    "start_time": "2023-06-29T22:28:06.825Z"
   },
   {
    "duration": 6,
    "start_time": "2023-06-29T22:28:06.838Z"
   },
   {
    "duration": 14,
    "start_time": "2023-06-29T22:28:06.846Z"
   },
   {
    "duration": 36,
    "start_time": "2023-06-29T22:28:06.862Z"
   },
   {
    "duration": 29,
    "start_time": "2023-06-29T22:28:06.903Z"
   },
   {
    "duration": 18,
    "start_time": "2023-06-29T22:28:06.933Z"
   },
   {
    "duration": 15,
    "start_time": "2023-06-29T22:28:06.953Z"
   },
   {
    "duration": 117,
    "start_time": "2023-06-29T22:28:06.970Z"
   },
   {
    "duration": 0,
    "start_time": "2023-06-29T22:28:07.091Z"
   },
   {
    "duration": 0,
    "start_time": "2023-06-29T22:28:07.099Z"
   },
   {
    "duration": 0,
    "start_time": "2023-06-29T22:28:07.100Z"
   },
   {
    "duration": 0,
    "start_time": "2023-06-29T22:28:07.102Z"
   },
   {
    "duration": 0,
    "start_time": "2023-06-29T22:28:07.103Z"
   },
   {
    "duration": 0,
    "start_time": "2023-06-29T22:28:07.105Z"
   },
   {
    "duration": 0,
    "start_time": "2023-06-29T22:28:07.106Z"
   },
   {
    "duration": 0,
    "start_time": "2023-06-29T22:28:07.108Z"
   },
   {
    "duration": 0,
    "start_time": "2023-06-29T22:28:07.109Z"
   },
   {
    "duration": 0,
    "start_time": "2023-06-29T22:28:07.110Z"
   },
   {
    "duration": 0,
    "start_time": "2023-06-29T22:28:07.111Z"
   },
   {
    "duration": 0,
    "start_time": "2023-06-29T22:28:07.113Z"
   },
   {
    "duration": 0,
    "start_time": "2023-06-29T22:28:07.114Z"
   },
   {
    "duration": 0,
    "start_time": "2023-06-29T22:28:07.115Z"
   },
   {
    "duration": 0,
    "start_time": "2023-06-29T22:28:07.116Z"
   },
   {
    "duration": 0,
    "start_time": "2023-06-29T22:28:07.118Z"
   },
   {
    "duration": 0,
    "start_time": "2023-06-29T22:28:07.119Z"
   },
   {
    "duration": 0,
    "start_time": "2023-06-29T22:28:07.120Z"
   },
   {
    "duration": 0,
    "start_time": "2023-06-29T22:28:07.121Z"
   },
   {
    "duration": 0,
    "start_time": "2023-06-29T22:28:07.122Z"
   },
   {
    "duration": 0,
    "start_time": "2023-06-29T22:28:07.123Z"
   },
   {
    "duration": 0,
    "start_time": "2023-06-29T22:28:07.125Z"
   },
   {
    "duration": 0,
    "start_time": "2023-06-29T22:28:07.126Z"
   },
   {
    "duration": 0,
    "start_time": "2023-06-29T22:28:07.127Z"
   },
   {
    "duration": 0,
    "start_time": "2023-06-29T22:28:07.129Z"
   },
   {
    "duration": 0,
    "start_time": "2023-06-29T22:28:07.130Z"
   },
   {
    "duration": 0,
    "start_time": "2023-06-29T22:28:07.131Z"
   },
   {
    "duration": 0,
    "start_time": "2023-06-29T22:28:07.132Z"
   },
   {
    "duration": 0,
    "start_time": "2023-06-29T22:28:07.133Z"
   },
   {
    "duration": 0,
    "start_time": "2023-06-29T22:28:07.134Z"
   },
   {
    "duration": 0,
    "start_time": "2023-06-29T22:28:07.135Z"
   },
   {
    "duration": 0,
    "start_time": "2023-06-29T22:28:07.136Z"
   },
   {
    "duration": 0,
    "start_time": "2023-06-29T22:28:07.137Z"
   },
   {
    "duration": 0,
    "start_time": "2023-06-29T22:28:07.138Z"
   },
   {
    "duration": 0,
    "start_time": "2023-06-29T22:28:07.139Z"
   },
   {
    "duration": 0,
    "start_time": "2023-06-29T22:28:07.200Z"
   },
   {
    "duration": 0,
    "start_time": "2023-06-29T22:28:07.201Z"
   },
   {
    "duration": 0,
    "start_time": "2023-06-29T22:28:07.203Z"
   },
   {
    "duration": 0,
    "start_time": "2023-06-29T22:28:07.205Z"
   },
   {
    "duration": 0,
    "start_time": "2023-06-29T22:28:07.206Z"
   },
   {
    "duration": 0,
    "start_time": "2023-06-29T22:28:07.207Z"
   },
   {
    "duration": 0,
    "start_time": "2023-06-29T22:28:07.209Z"
   },
   {
    "duration": 0,
    "start_time": "2023-06-29T22:28:07.210Z"
   },
   {
    "duration": 0,
    "start_time": "2023-06-29T22:28:07.212Z"
   },
   {
    "duration": 0,
    "start_time": "2023-06-29T22:28:07.213Z"
   },
   {
    "duration": 0,
    "start_time": "2023-06-29T22:28:07.215Z"
   },
   {
    "duration": 0,
    "start_time": "2023-06-29T22:28:07.216Z"
   },
   {
    "duration": 0,
    "start_time": "2023-06-29T22:28:07.218Z"
   },
   {
    "duration": 0,
    "start_time": "2023-06-29T22:28:07.219Z"
   },
   {
    "duration": 0,
    "start_time": "2023-06-29T22:28:07.220Z"
   },
   {
    "duration": 0,
    "start_time": "2023-06-29T22:28:07.221Z"
   },
   {
    "duration": 0,
    "start_time": "2023-06-29T22:28:07.223Z"
   },
   {
    "duration": 0,
    "start_time": "2023-06-29T22:28:07.230Z"
   },
   {
    "duration": 0,
    "start_time": "2023-06-29T22:28:07.231Z"
   },
   {
    "duration": 0,
    "start_time": "2023-06-29T22:28:07.232Z"
   },
   {
    "duration": 984,
    "start_time": "2023-06-29T22:28:50.611Z"
   },
   {
    "duration": 119,
    "start_time": "2023-06-29T22:28:51.597Z"
   },
   {
    "duration": 7,
    "start_time": "2023-06-29T22:28:51.720Z"
   },
   {
    "duration": 38,
    "start_time": "2023-06-29T22:28:51.729Z"
   },
   {
    "duration": 23,
    "start_time": "2023-06-29T22:28:51.770Z"
   },
   {
    "duration": 10,
    "start_time": "2023-06-29T22:28:51.795Z"
   },
   {
    "duration": 18,
    "start_time": "2023-06-29T22:28:51.807Z"
   },
   {
    "duration": 18,
    "start_time": "2023-06-29T22:28:51.826Z"
   },
   {
    "duration": 13,
    "start_time": "2023-06-29T22:28:51.845Z"
   },
   {
    "duration": 12,
    "start_time": "2023-06-29T22:28:51.859Z"
   },
   {
    "duration": 8,
    "start_time": "2023-06-29T22:28:51.873Z"
   },
   {
    "duration": 17,
    "start_time": "2023-06-29T22:28:51.883Z"
   },
   {
    "duration": 2,
    "start_time": "2023-06-29T22:28:51.902Z"
   },
   {
    "duration": 8,
    "start_time": "2023-06-29T22:28:51.907Z"
   },
   {
    "duration": 16,
    "start_time": "2023-06-29T22:28:51.917Z"
   },
   {
    "duration": 9,
    "start_time": "2023-06-29T22:28:51.935Z"
   },
   {
    "duration": 12,
    "start_time": "2023-06-29T22:28:51.946Z"
   },
   {
    "duration": 48,
    "start_time": "2023-06-29T22:28:51.959Z"
   },
   {
    "duration": 16,
    "start_time": "2023-06-29T22:28:52.009Z"
   },
   {
    "duration": 7,
    "start_time": "2023-06-29T22:28:52.026Z"
   },
   {
    "duration": 126,
    "start_time": "2023-06-29T22:28:52.034Z"
   },
   {
    "duration": 0,
    "start_time": "2023-06-29T22:28:52.163Z"
   },
   {
    "duration": 0,
    "start_time": "2023-06-29T22:28:52.164Z"
   },
   {
    "duration": 0,
    "start_time": "2023-06-29T22:28:52.166Z"
   },
   {
    "duration": 0,
    "start_time": "2023-06-29T22:28:52.167Z"
   },
   {
    "duration": 0,
    "start_time": "2023-06-29T22:28:52.169Z"
   },
   {
    "duration": 0,
    "start_time": "2023-06-29T22:28:52.169Z"
   },
   {
    "duration": 0,
    "start_time": "2023-06-29T22:28:52.171Z"
   },
   {
    "duration": 0,
    "start_time": "2023-06-29T22:28:52.172Z"
   },
   {
    "duration": 0,
    "start_time": "2023-06-29T22:28:52.174Z"
   },
   {
    "duration": 0,
    "start_time": "2023-06-29T22:28:52.199Z"
   },
   {
    "duration": 0,
    "start_time": "2023-06-29T22:28:52.201Z"
   },
   {
    "duration": 0,
    "start_time": "2023-06-29T22:28:52.202Z"
   },
   {
    "duration": 0,
    "start_time": "2023-06-29T22:28:52.203Z"
   },
   {
    "duration": 0,
    "start_time": "2023-06-29T22:28:52.204Z"
   },
   {
    "duration": 0,
    "start_time": "2023-06-29T22:28:52.205Z"
   },
   {
    "duration": 0,
    "start_time": "2023-06-29T22:28:52.206Z"
   },
   {
    "duration": 0,
    "start_time": "2023-06-29T22:28:52.207Z"
   },
   {
    "duration": 0,
    "start_time": "2023-06-29T22:28:52.209Z"
   },
   {
    "duration": 0,
    "start_time": "2023-06-29T22:28:52.210Z"
   },
   {
    "duration": 0,
    "start_time": "2023-06-29T22:28:52.211Z"
   },
   {
    "duration": 0,
    "start_time": "2023-06-29T22:28:52.213Z"
   },
   {
    "duration": 0,
    "start_time": "2023-06-29T22:28:52.214Z"
   },
   {
    "duration": 0,
    "start_time": "2023-06-29T22:28:52.215Z"
   },
   {
    "duration": 0,
    "start_time": "2023-06-29T22:28:52.216Z"
   },
   {
    "duration": 0,
    "start_time": "2023-06-29T22:28:52.217Z"
   },
   {
    "duration": 0,
    "start_time": "2023-06-29T22:28:52.219Z"
   },
   {
    "duration": 0,
    "start_time": "2023-06-29T22:28:52.219Z"
   },
   {
    "duration": 0,
    "start_time": "2023-06-29T22:28:52.221Z"
   },
   {
    "duration": 0,
    "start_time": "2023-06-29T22:28:52.222Z"
   },
   {
    "duration": 0,
    "start_time": "2023-06-29T22:28:52.223Z"
   },
   {
    "duration": 0,
    "start_time": "2023-06-29T22:28:52.224Z"
   },
   {
    "duration": 0,
    "start_time": "2023-06-29T22:28:52.225Z"
   },
   {
    "duration": 0,
    "start_time": "2023-06-29T22:28:52.227Z"
   },
   {
    "duration": 0,
    "start_time": "2023-06-29T22:28:52.228Z"
   },
   {
    "duration": 0,
    "start_time": "2023-06-29T22:28:52.230Z"
   },
   {
    "duration": 0,
    "start_time": "2023-06-29T22:28:52.232Z"
   },
   {
    "duration": 0,
    "start_time": "2023-06-29T22:28:52.233Z"
   },
   {
    "duration": 0,
    "start_time": "2023-06-29T22:28:52.234Z"
   },
   {
    "duration": 0,
    "start_time": "2023-06-29T22:28:52.236Z"
   },
   {
    "duration": 0,
    "start_time": "2023-06-29T22:28:52.237Z"
   },
   {
    "duration": 0,
    "start_time": "2023-06-29T22:28:52.238Z"
   },
   {
    "duration": 0,
    "start_time": "2023-06-29T22:28:52.240Z"
   },
   {
    "duration": 0,
    "start_time": "2023-06-29T22:28:52.300Z"
   },
   {
    "duration": 0,
    "start_time": "2023-06-29T22:28:52.301Z"
   },
   {
    "duration": 0,
    "start_time": "2023-06-29T22:28:52.302Z"
   },
   {
    "duration": 0,
    "start_time": "2023-06-29T22:28:52.304Z"
   },
   {
    "duration": 0,
    "start_time": "2023-06-29T22:28:52.304Z"
   },
   {
    "duration": 0,
    "start_time": "2023-06-29T22:28:52.306Z"
   },
   {
    "duration": 0,
    "start_time": "2023-06-29T22:28:52.307Z"
   },
   {
    "duration": 0,
    "start_time": "2023-06-29T22:28:52.308Z"
   },
   {
    "duration": 0,
    "start_time": "2023-06-29T22:28:52.310Z"
   },
   {
    "duration": 11,
    "start_time": "2023-06-29T22:29:19.651Z"
   },
   {
    "duration": 1008,
    "start_time": "2023-06-29T22:29:27.325Z"
   },
   {
    "duration": 123,
    "start_time": "2023-06-29T22:29:28.335Z"
   },
   {
    "duration": 6,
    "start_time": "2023-06-29T22:29:28.460Z"
   },
   {
    "duration": 12,
    "start_time": "2023-06-29T22:29:28.468Z"
   },
   {
    "duration": 32,
    "start_time": "2023-06-29T22:29:28.483Z"
   },
   {
    "duration": 13,
    "start_time": "2023-06-29T22:29:28.517Z"
   },
   {
    "duration": 12,
    "start_time": "2023-06-29T22:29:28.532Z"
   },
   {
    "duration": 19,
    "start_time": "2023-06-29T22:29:28.545Z"
   },
   {
    "duration": 18,
    "start_time": "2023-06-29T22:29:28.566Z"
   },
   {
    "duration": 7,
    "start_time": "2023-06-29T22:29:28.600Z"
   },
   {
    "duration": 8,
    "start_time": "2023-06-29T22:29:28.609Z"
   },
   {
    "duration": 12,
    "start_time": "2023-06-29T22:29:28.618Z"
   },
   {
    "duration": 11,
    "start_time": "2023-06-29T22:29:28.632Z"
   },
   {
    "duration": 15,
    "start_time": "2023-06-29T22:29:28.646Z"
   },
   {
    "duration": 20,
    "start_time": "2023-06-29T22:29:28.662Z"
   },
   {
    "duration": 22,
    "start_time": "2023-06-29T22:29:28.684Z"
   },
   {
    "duration": 11,
    "start_time": "2023-06-29T22:29:28.708Z"
   },
   {
    "duration": 10,
    "start_time": "2023-06-29T22:29:28.720Z"
   },
   {
    "duration": 149,
    "start_time": "2023-06-29T22:29:28.732Z"
   },
   {
    "duration": 0,
    "start_time": "2023-06-29T22:29:28.885Z"
   },
   {
    "duration": 0,
    "start_time": "2023-06-29T22:29:28.886Z"
   },
   {
    "duration": 0,
    "start_time": "2023-06-29T22:29:28.888Z"
   },
   {
    "duration": 0,
    "start_time": "2023-06-29T22:29:28.889Z"
   },
   {
    "duration": 0,
    "start_time": "2023-06-29T22:29:28.900Z"
   },
   {
    "duration": 0,
    "start_time": "2023-06-29T22:29:28.902Z"
   },
   {
    "duration": 0,
    "start_time": "2023-06-29T22:29:28.904Z"
   },
   {
    "duration": 0,
    "start_time": "2023-06-29T22:29:28.905Z"
   },
   {
    "duration": 0,
    "start_time": "2023-06-29T22:29:28.907Z"
   },
   {
    "duration": 0,
    "start_time": "2023-06-29T22:29:28.908Z"
   },
   {
    "duration": 0,
    "start_time": "2023-06-29T22:29:28.909Z"
   },
   {
    "duration": 0,
    "start_time": "2023-06-29T22:29:28.910Z"
   },
   {
    "duration": 0,
    "start_time": "2023-06-29T22:29:28.910Z"
   },
   {
    "duration": 0,
    "start_time": "2023-06-29T22:29:28.911Z"
   },
   {
    "duration": 0,
    "start_time": "2023-06-29T22:29:28.913Z"
   },
   {
    "duration": 0,
    "start_time": "2023-06-29T22:29:28.914Z"
   },
   {
    "duration": 0,
    "start_time": "2023-06-29T22:29:28.915Z"
   },
   {
    "duration": 0,
    "start_time": "2023-06-29T22:29:28.916Z"
   },
   {
    "duration": 0,
    "start_time": "2023-06-29T22:29:28.918Z"
   },
   {
    "duration": 0,
    "start_time": "2023-06-29T22:29:28.919Z"
   },
   {
    "duration": 0,
    "start_time": "2023-06-29T22:29:28.921Z"
   },
   {
    "duration": 0,
    "start_time": "2023-06-29T22:29:28.923Z"
   },
   {
    "duration": 0,
    "start_time": "2023-06-29T22:29:28.924Z"
   },
   {
    "duration": 0,
    "start_time": "2023-06-29T22:29:28.925Z"
   },
   {
    "duration": 0,
    "start_time": "2023-06-29T22:29:28.927Z"
   },
   {
    "duration": 0,
    "start_time": "2023-06-29T22:29:28.930Z"
   },
   {
    "duration": 0,
    "start_time": "2023-06-29T22:29:28.931Z"
   },
   {
    "duration": 0,
    "start_time": "2023-06-29T22:29:28.932Z"
   },
   {
    "duration": 0,
    "start_time": "2023-06-29T22:29:28.934Z"
   },
   {
    "duration": 0,
    "start_time": "2023-06-29T22:29:28.935Z"
   },
   {
    "duration": 0,
    "start_time": "2023-06-29T22:29:28.936Z"
   },
   {
    "duration": 0,
    "start_time": "2023-06-29T22:29:28.937Z"
   },
   {
    "duration": 0,
    "start_time": "2023-06-29T22:29:28.938Z"
   },
   {
    "duration": 0,
    "start_time": "2023-06-29T22:29:28.939Z"
   },
   {
    "duration": 0,
    "start_time": "2023-06-29T22:29:28.940Z"
   },
   {
    "duration": 0,
    "start_time": "2023-06-29T22:29:29.000Z"
   },
   {
    "duration": 0,
    "start_time": "2023-06-29T22:29:29.002Z"
   },
   {
    "duration": 0,
    "start_time": "2023-06-29T22:29:29.004Z"
   },
   {
    "duration": 0,
    "start_time": "2023-06-29T22:29:29.005Z"
   },
   {
    "duration": 0,
    "start_time": "2023-06-29T22:29:29.006Z"
   },
   {
    "duration": 0,
    "start_time": "2023-06-29T22:29:29.008Z"
   },
   {
    "duration": 0,
    "start_time": "2023-06-29T22:29:29.010Z"
   },
   {
    "duration": 0,
    "start_time": "2023-06-29T22:29:29.011Z"
   },
   {
    "duration": 0,
    "start_time": "2023-06-29T22:29:29.012Z"
   },
   {
    "duration": 0,
    "start_time": "2023-06-29T22:29:29.014Z"
   },
   {
    "duration": 0,
    "start_time": "2023-06-29T22:29:29.015Z"
   },
   {
    "duration": 0,
    "start_time": "2023-06-29T22:29:29.016Z"
   },
   {
    "duration": 0,
    "start_time": "2023-06-29T22:29:29.017Z"
   },
   {
    "duration": 0,
    "start_time": "2023-06-29T22:29:29.018Z"
   },
   {
    "duration": 0,
    "start_time": "2023-06-29T22:29:29.020Z"
   },
   {
    "duration": 0,
    "start_time": "2023-06-29T22:29:29.021Z"
   },
   {
    "duration": 0,
    "start_time": "2023-06-29T22:29:29.025Z"
   },
   {
    "duration": 0,
    "start_time": "2023-06-29T22:29:29.026Z"
   },
   {
    "duration": 6,
    "start_time": "2023-06-29T22:29:52.254Z"
   },
   {
    "duration": 20,
    "start_time": "2023-06-29T22:29:57.230Z"
   },
   {
    "duration": 986,
    "start_time": "2023-06-29T22:30:28.644Z"
   },
   {
    "duration": 119,
    "start_time": "2023-06-29T22:30:29.632Z"
   },
   {
    "duration": 8,
    "start_time": "2023-06-29T22:30:29.753Z"
   },
   {
    "duration": 16,
    "start_time": "2023-06-29T22:30:29.763Z"
   },
   {
    "duration": 33,
    "start_time": "2023-06-29T22:30:29.782Z"
   },
   {
    "duration": 15,
    "start_time": "2023-06-29T22:30:29.816Z"
   },
   {
    "duration": 27,
    "start_time": "2023-06-29T22:30:29.833Z"
   },
   {
    "duration": 21,
    "start_time": "2023-06-29T22:30:29.861Z"
   },
   {
    "duration": 16,
    "start_time": "2023-06-29T22:30:29.884Z"
   },
   {
    "duration": 24,
    "start_time": "2023-06-29T22:30:29.902Z"
   },
   {
    "duration": 12,
    "start_time": "2023-06-29T22:30:29.928Z"
   },
   {
    "duration": 12,
    "start_time": "2023-06-29T22:30:29.942Z"
   },
   {
    "duration": 20,
    "start_time": "2023-06-29T22:30:29.957Z"
   },
   {
    "duration": 26,
    "start_time": "2023-06-29T22:30:29.979Z"
   },
   {
    "duration": 75,
    "start_time": "2023-06-29T22:30:30.006Z"
   },
   {
    "duration": 52,
    "start_time": "2023-06-29T22:30:30.083Z"
   },
   {
    "duration": 67,
    "start_time": "2023-06-29T22:30:30.138Z"
   },
   {
    "duration": 38,
    "start_time": "2023-06-29T22:30:30.206Z"
   },
   {
    "duration": 38,
    "start_time": "2023-06-29T22:30:30.246Z"
   },
   {
    "duration": 52,
    "start_time": "2023-06-29T22:30:30.286Z"
   },
   {
    "duration": 74,
    "start_time": "2023-06-29T22:30:30.340Z"
   },
   {
    "duration": 188,
    "start_time": "2023-06-29T22:30:30.416Z"
   },
   {
    "duration": 120,
    "start_time": "2023-06-29T22:30:30.605Z"
   },
   {
    "duration": 6,
    "start_time": "2023-06-29T22:30:30.728Z"
   },
   {
    "duration": 44,
    "start_time": "2023-06-29T22:30:30.736Z"
   },
   {
    "duration": 40,
    "start_time": "2023-06-29T22:30:30.781Z"
   },
   {
    "duration": 35,
    "start_time": "2023-06-29T22:30:30.823Z"
   },
   {
    "duration": 26,
    "start_time": "2023-06-29T22:30:30.859Z"
   },
   {
    "duration": 41,
    "start_time": "2023-06-29T22:30:30.886Z"
   },
   {
    "duration": 393,
    "start_time": "2023-06-29T22:30:30.929Z"
   },
   {
    "duration": 12,
    "start_time": "2023-06-29T22:30:31.323Z"
   },
   {
    "duration": 98,
    "start_time": "2023-06-29T22:30:31.337Z"
   },
   {
    "duration": 306,
    "start_time": "2023-06-29T22:30:31.437Z"
   },
   {
    "duration": 6,
    "start_time": "2023-06-29T22:30:31.744Z"
   },
   {
    "duration": 371,
    "start_time": "2023-06-29T22:30:31.751Z"
   },
   {
    "duration": 5,
    "start_time": "2023-06-29T22:30:32.125Z"
   },
   {
    "duration": 46,
    "start_time": "2023-06-29T22:30:32.131Z"
   },
   {
    "duration": 292,
    "start_time": "2023-06-29T22:30:32.179Z"
   },
   {
    "duration": 13,
    "start_time": "2023-06-29T22:30:32.473Z"
   },
   {
    "duration": 329,
    "start_time": "2023-06-29T22:30:32.488Z"
   },
   {
    "duration": 3,
    "start_time": "2023-06-29T22:30:32.822Z"
   },
   {
    "duration": 33,
    "start_time": "2023-06-29T22:30:32.827Z"
   },
   {
    "duration": 223,
    "start_time": "2023-06-29T22:30:32.863Z"
   },
   {
    "duration": 15,
    "start_time": "2023-06-29T22:30:33.088Z"
   },
   {
    "duration": 21,
    "start_time": "2023-06-29T22:30:33.105Z"
   },
   {
    "duration": 24,
    "start_time": "2023-06-29T22:30:33.128Z"
   },
   {
    "duration": 235,
    "start_time": "2023-06-29T22:30:33.154Z"
   },
   {
    "duration": 15,
    "start_time": "2023-06-29T22:30:33.391Z"
   },
   {
    "duration": 214,
    "start_time": "2023-06-29T22:30:33.408Z"
   },
   {
    "duration": 6,
    "start_time": "2023-06-29T22:30:33.623Z"
   },
   {
    "duration": 9,
    "start_time": "2023-06-29T22:30:33.631Z"
   },
   {
    "duration": 32,
    "start_time": "2023-06-29T22:30:33.641Z"
   },
   {
    "duration": 23,
    "start_time": "2023-06-29T22:30:33.674Z"
   },
   {
    "duration": 85,
    "start_time": "2023-06-29T22:30:33.701Z"
   },
   {
    "duration": 19,
    "start_time": "2023-06-29T22:30:33.788Z"
   },
   {
    "duration": 18,
    "start_time": "2023-06-29T22:30:33.808Z"
   },
   {
    "duration": 24,
    "start_time": "2023-06-29T22:30:33.829Z"
   },
   {
    "duration": 83,
    "start_time": "2023-06-29T22:30:33.854Z"
   },
   {
    "duration": 7,
    "start_time": "2023-06-29T22:30:33.939Z"
   },
   {
    "duration": 19,
    "start_time": "2023-06-29T22:30:33.948Z"
   },
   {
    "duration": 38,
    "start_time": "2023-06-29T22:30:33.969Z"
   },
   {
    "duration": 12,
    "start_time": "2023-06-29T22:30:34.008Z"
   },
   {
    "duration": 14,
    "start_time": "2023-06-29T22:30:34.022Z"
   },
   {
    "duration": 17,
    "start_time": "2023-06-29T22:30:34.038Z"
   },
   {
    "duration": 23,
    "start_time": "2023-06-29T22:30:34.056Z"
   },
   {
    "duration": 27,
    "start_time": "2023-06-29T22:30:34.082Z"
   },
   {
    "duration": 10,
    "start_time": "2023-06-29T22:30:34.112Z"
   },
   {
    "duration": 12,
    "start_time": "2023-06-29T22:30:34.124Z"
   },
   {
    "duration": 18,
    "start_time": "2023-06-29T22:30:34.137Z"
   },
   {
    "duration": 18,
    "start_time": "2023-06-29T22:30:34.157Z"
   },
   {
    "duration": 49,
    "start_time": "2023-06-29T22:30:34.177Z"
   },
   {
    "duration": 16,
    "start_time": "2023-06-29T22:30:34.228Z"
   },
   {
    "duration": 3,
    "start_time": "2023-06-29T22:46:07.417Z"
   },
   {
    "duration": 99,
    "start_time": "2023-06-29T22:46:11.041Z"
   },
   {
    "duration": 3,
    "start_time": "2023-06-29T22:46:16.255Z"
   },
   {
    "duration": 21,
    "start_time": "2023-06-29T22:46:17.930Z"
   },
   {
    "duration": 1018,
    "start_time": "2023-06-29T22:46:29.226Z"
   },
   {
    "duration": 128,
    "start_time": "2023-06-29T22:46:30.246Z"
   },
   {
    "duration": 7,
    "start_time": "2023-06-29T22:46:30.376Z"
   },
   {
    "duration": 49,
    "start_time": "2023-06-29T22:46:30.384Z"
   },
   {
    "duration": 53,
    "start_time": "2023-06-29T22:46:30.436Z"
   },
   {
    "duration": 12,
    "start_time": "2023-06-29T22:46:30.491Z"
   },
   {
    "duration": 45,
    "start_time": "2023-06-29T22:46:30.504Z"
   },
   {
    "duration": 53,
    "start_time": "2023-06-29T22:46:30.550Z"
   },
   {
    "duration": 39,
    "start_time": "2023-06-29T22:46:30.605Z"
   },
   {
    "duration": 32,
    "start_time": "2023-06-29T22:46:30.646Z"
   },
   {
    "duration": 34,
    "start_time": "2023-06-29T22:46:30.679Z"
   },
   {
    "duration": 70,
    "start_time": "2023-06-29T22:46:30.714Z"
   },
   {
    "duration": 58,
    "start_time": "2023-06-29T22:46:30.786Z"
   },
   {
    "duration": 35,
    "start_time": "2023-06-29T22:46:30.848Z"
   },
   {
    "duration": 48,
    "start_time": "2023-06-29T22:46:30.884Z"
   },
   {
    "duration": 47,
    "start_time": "2023-06-29T22:46:30.933Z"
   },
   {
    "duration": 63,
    "start_time": "2023-06-29T22:46:30.981Z"
   },
   {
    "duration": 67,
    "start_time": "2023-06-29T22:46:31.045Z"
   },
   {
    "duration": 52,
    "start_time": "2023-06-29T22:46:31.113Z"
   },
   {
    "duration": 46,
    "start_time": "2023-06-29T22:46:31.167Z"
   },
   {
    "duration": 51,
    "start_time": "2023-06-29T22:46:31.214Z"
   },
   {
    "duration": 38,
    "start_time": "2023-06-29T22:46:31.266Z"
   },
   {
    "duration": 187,
    "start_time": "2023-06-29T22:46:31.306Z"
   },
   {
    "duration": 120,
    "start_time": "2023-06-29T22:46:31.495Z"
   },
   {
    "duration": 5,
    "start_time": "2023-06-29T22:46:31.617Z"
   },
   {
    "duration": 39,
    "start_time": "2023-06-29T22:46:31.623Z"
   },
   {
    "duration": 52,
    "start_time": "2023-06-29T22:46:31.664Z"
   },
   {
    "duration": 31,
    "start_time": "2023-06-29T22:46:31.717Z"
   },
   {
    "duration": 38,
    "start_time": "2023-06-29T22:46:31.750Z"
   },
   {
    "duration": 8,
    "start_time": "2023-06-29T22:46:31.789Z"
   },
   {
    "duration": 304,
    "start_time": "2023-06-29T22:46:31.799Z"
   },
   {
    "duration": 10,
    "start_time": "2023-06-29T22:46:32.104Z"
   },
   {
    "duration": 75,
    "start_time": "2023-06-29T22:46:32.115Z"
   },
   {
    "duration": 239,
    "start_time": "2023-06-29T22:46:32.191Z"
   },
   {
    "duration": 7,
    "start_time": "2023-06-29T22:46:32.432Z"
   },
   {
    "duration": 413,
    "start_time": "2023-06-29T22:46:32.442Z"
   },
   {
    "duration": 3,
    "start_time": "2023-06-29T22:46:32.857Z"
   },
   {
    "duration": 8,
    "start_time": "2023-06-29T22:46:32.862Z"
   },
   {
    "duration": 245,
    "start_time": "2023-06-29T22:46:32.871Z"
   },
   {
    "duration": 8,
    "start_time": "2023-06-29T22:46:33.117Z"
   },
   {
    "duration": 295,
    "start_time": "2023-06-29T22:46:33.129Z"
   },
   {
    "duration": 4,
    "start_time": "2023-06-29T22:46:33.425Z"
   },
   {
    "duration": 10,
    "start_time": "2023-06-29T22:46:33.430Z"
   },
   {
    "duration": 185,
    "start_time": "2023-06-29T22:46:33.441Z"
   },
   {
    "duration": 5,
    "start_time": "2023-06-29T22:46:33.629Z"
   },
   {
    "duration": 21,
    "start_time": "2023-06-29T22:46:33.636Z"
   },
   {
    "duration": 10,
    "start_time": "2023-06-29T22:46:33.659Z"
   },
   {
    "duration": 165,
    "start_time": "2023-06-29T22:46:33.671Z"
   },
   {
    "duration": 8,
    "start_time": "2023-06-29T22:46:33.837Z"
   },
   {
    "duration": 209,
    "start_time": "2023-06-29T22:46:33.847Z"
   },
   {
    "duration": 5,
    "start_time": "2023-06-29T22:46:34.058Z"
   },
   {
    "duration": 10,
    "start_time": "2023-06-29T22:46:34.064Z"
   },
   {
    "duration": 10,
    "start_time": "2023-06-29T22:46:34.076Z"
   },
   {
    "duration": 5,
    "start_time": "2023-06-29T22:46:34.100Z"
   },
   {
    "duration": 96,
    "start_time": "2023-06-29T22:46:34.107Z"
   },
   {
    "duration": 16,
    "start_time": "2023-06-29T22:46:34.205Z"
   },
   {
    "duration": 16,
    "start_time": "2023-06-29T22:46:34.223Z"
   },
   {
    "duration": 9,
    "start_time": "2023-06-29T22:46:34.241Z"
   },
   {
    "duration": 91,
    "start_time": "2023-06-29T22:46:34.251Z"
   },
   {
    "duration": 9,
    "start_time": "2023-06-29T22:46:34.343Z"
   },
   {
    "duration": 16,
    "start_time": "2023-06-29T22:46:34.353Z"
   },
   {
    "duration": 30,
    "start_time": "2023-06-29T22:46:34.371Z"
   },
   {
    "duration": 12,
    "start_time": "2023-06-29T22:46:34.403Z"
   },
   {
    "duration": 10,
    "start_time": "2023-06-29T22:46:34.416Z"
   },
   {
    "duration": 6,
    "start_time": "2023-06-29T22:46:34.429Z"
   },
   {
    "duration": 44,
    "start_time": "2023-06-29T22:46:34.437Z"
   },
   {
    "duration": 24,
    "start_time": "2023-06-29T22:46:34.484Z"
   },
   {
    "duration": 10,
    "start_time": "2023-06-29T22:46:34.509Z"
   },
   {
    "duration": 11,
    "start_time": "2023-06-29T22:46:34.520Z"
   },
   {
    "duration": 10,
    "start_time": "2023-06-29T22:46:34.533Z"
   },
   {
    "duration": 18,
    "start_time": "2023-06-29T22:46:34.545Z"
   },
   {
    "duration": 37,
    "start_time": "2023-06-29T22:46:34.565Z"
   },
   {
    "duration": 15,
    "start_time": "2023-06-29T22:46:34.603Z"
   },
   {
    "duration": 110,
    "start_time": "2023-06-29T22:46:34.619Z"
   },
   {
    "duration": 83,
    "start_time": "2023-06-29T22:47:35.605Z"
   }
  ],
  "kernelspec": {
   "display_name": "Python 3 (ipykernel)",
   "language": "python",
   "name": "python3"
  },
  "language_info": {
   "codemirror_mode": {
    "name": "ipython",
    "version": 3
   },
   "file_extension": ".py",
   "mimetype": "text/x-python",
   "name": "python",
   "nbconvert_exporter": "python",
   "pygments_lexer": "ipython3",
   "version": "3.9.13"
  },
  "toc": {
   "base_numbering": 1,
   "nav_menu": {},
   "number_sections": true,
   "sideBar": true,
   "skip_h1_title": true,
   "title_cell": "Оглавление",
   "title_sidebar": "Оглавление",
   "toc_cell": true,
   "toc_position": {
    "height": "735px",
    "left": "27px",
    "top": "111.125px",
    "width": "353px"
   },
   "toc_section_display": true,
   "toc_window_display": true
  }
 },
 "nbformat": 4,
 "nbformat_minor": 2
}
