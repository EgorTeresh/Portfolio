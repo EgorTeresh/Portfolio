{
 "cells": [
  {
   "cell_type": "markdown",
   "id": "a9ad08fc",
   "metadata": {},
   "source": [
    "# Дашборд БФ Рауль"
   ]
  },
  {
   "cell_type": "markdown",
   "id": "26314ffa",
   "metadata": {},
   "source": [
    "## Описание проекта"
   ]
  },
  {
   "cell_type": "markdown",
   "id": "2c2c557a",
   "metadata": {},
   "source": [
    "Благоворительный фонд \"Рауль\" специализируется на помощи в трудоустройстве людей с инвалтдностью. Для оперативной аналитики их работы им необходимо создать дашборд, где будет отражаться динамика трудоустройства по разным критериям (наличию инвалидности, прохождения адаптивной образователной программы, сиротского опыта и т.п.). Данный дашборд также должен отображать динамику трудоустройства в различных интервалах: помесячно, поквартално, ежегодно.\n",
    "\n",
    "В нашем распоряжении есть датасет где отображены клиенты, их признаки и даты трудоустройства. С этим датасетом мы и будем работать."
   ]
  },
  {
   "cell_type": "markdown",
   "id": "51075d14",
   "metadata": {},
   "source": [
    "**Дашборд**"
   ]
  },
  {
   "cell_type": "markdown",
   "id": "156c8418",
   "metadata": {},
   "source": [
    "Ссылка: https://datalens.yandex/czqoiqk4rz4i1"
   ]
  }
 ],
 "metadata": {
  "kernelspec": {
   "display_name": "Python 3 (ipykernel)",
   "language": "python",
   "name": "python3"
  },
  "language_info": {
   "codemirror_mode": {
    "name": "ipython",
    "version": 3
   },
   "file_extension": ".py",
   "mimetype": "text/x-python",
   "name": "python",
   "nbconvert_exporter": "python",
   "pygments_lexer": "ipython3",
   "version": "3.9.13"
  },
  "toc": {
   "base_numbering": 1,
   "nav_menu": {},
   "number_sections": false,
   "sideBar": true,
   "skip_h1_title": true,
   "title_cell": "Оглавление",
   "title_sidebar": "Оглавление",
   "toc_cell": false,
   "toc_position": {
    "height": "calc(100% - 180px)",
    "left": "10px",
    "top": "150px",
    "width": "374.391px"
   },
   "toc_section_display": true,
   "toc_window_display": true
  }
 },
 "nbformat": 4,
 "nbformat_minor": 5
}
