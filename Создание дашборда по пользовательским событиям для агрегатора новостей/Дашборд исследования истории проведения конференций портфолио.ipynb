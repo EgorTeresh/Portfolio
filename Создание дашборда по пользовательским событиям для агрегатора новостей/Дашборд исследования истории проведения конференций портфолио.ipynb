{
 "cells": [
  {
   "cell_type": "markdown",
   "id": "89ef2af3",
   "metadata": {},
   "source": [
    "# Описание"
   ]
  },
  {
   "cell_type": "markdown",
   "id": "f877bd68",
   "metadata": {},
   "source": [
    "\n",
    "В данной работе будет построено несколько дашбордов, где будет описана история проведения конференций (место, время, количество участников, темы и тд.) некомерческого фонда TED, которые проводит популярные конференции. На них выступают специалисты из разных областей и читают лекции на актуальные социальный, культурные и научные темы."
   ]
  },
  {
   "cell_type": "markdown",
   "id": "fda8cb93",
   "metadata": {},
   "source": [
    "В качестве инструмента для создания дашборда, будет использован Tableau"
   ]
  },
  {
   "cell_type": "markdown",
   "id": "9f78e5b2",
   "metadata": {},
   "source": [
    "# Дашборд"
   ]
  },
  {
   "cell_type": "markdown",
   "id": "9475eb81",
   "metadata": {},
   "source": [
    "Ссылка на презентацию (дашборд): https://public.tableau.com/views/Project_16934296582730/sheet23?:language=en-US&publish=yes&:display_count=n&:origin=viz_share_link"
   ]
  }
 ],
 "metadata": {
  "ExecuteTimeLog": [
   {
    "duration": 5,
    "start_time": "2023-09-04T11:49:27.434Z"
   },
   {
    "duration": 166,
    "start_time": "2023-09-04T20:12:03.599Z"
   }
  ],
  "kernelspec": {
   "display_name": "Python 3 (ipykernel)",
   "language": "python",
   "name": "python3"
  },
  "language_info": {
   "codemirror_mode": {
    "name": "ipython",
    "version": 3
   },
   "file_extension": ".py",
   "mimetype": "text/x-python",
   "name": "python",
   "nbconvert_exporter": "python",
   "pygments_lexer": "ipython3",
   "version": "3.9.13"
  },
  "toc": {
   "base_numbering": 1,
   "nav_menu": {},
   "number_sections": true,
   "sideBar": true,
   "skip_h1_title": true,
   "title_cell": "Table of Contents",
   "title_sidebar": "Contents",
   "toc_cell": false,
   "toc_position": {},
   "toc_section_display": true,
   "toc_window_display": false
  }
 },
 "nbformat": 4,
 "nbformat_minor": 5
}
