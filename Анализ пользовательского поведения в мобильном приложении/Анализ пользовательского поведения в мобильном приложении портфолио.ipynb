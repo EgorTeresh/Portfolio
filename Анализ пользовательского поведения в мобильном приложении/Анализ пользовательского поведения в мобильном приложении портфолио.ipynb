{
 "cells": [
  {
   "cell_type": "markdown",
   "metadata": {
    "toc": true
   },
   "source": [
    "<h1>Оглавление<span class=\"tocSkip\"></span></h1>\n",
    "<div class=\"toc\"><ul class=\"toc-item\"><li><span><a href=\"#Введение\" data-toc-modified-id=\"Введение-1\"><span class=\"toc-item-num\">1&nbsp;&nbsp;</span>Введение</a></span></li><li><span><a href=\"#Открытие-и-изучение-данных\" data-toc-modified-id=\"Открытие-и-изучение-данных-2\"><span class=\"toc-item-num\">2&nbsp;&nbsp;</span>Открытие и изучение данных</a></span><ul class=\"toc-item\"><li><ul class=\"toc-item\"><li><span><a href=\"#Промежуточный-вывод\" data-toc-modified-id=\"Промежуточный-вывод-2.0.1\"><span class=\"toc-item-num\">2.0.1&nbsp;&nbsp;</span>Промежуточный вывод</a></span></li></ul></li></ul></li><li><span><a href=\"#Предобработка-данных\" data-toc-modified-id=\"Предобработка-данных-3\"><span class=\"toc-item-num\">3&nbsp;&nbsp;</span>Предобработка данных</a></span><ul class=\"toc-item\"><li><ul class=\"toc-item\"><li><span><a href=\"#Промежуточный-вывод\" data-toc-modified-id=\"Промежуточный-вывод-3.0.1\"><span class=\"toc-item-num\">3.0.1&nbsp;&nbsp;</span>Промежуточный вывод</a></span></li></ul></li></ul></li><li><span><a href=\"#Анализ-данных\" data-toc-modified-id=\"Анализ-данных-4\"><span class=\"toc-item-num\">4&nbsp;&nbsp;</span>Анализ данных</a></span><ul class=\"toc-item\"><li><ul class=\"toc-item\"><li><span><a href=\"#Промежуточный-вывод\" data-toc-modified-id=\"Промежуточный-вывод-4.0.1\"><span class=\"toc-item-num\">4.0.1&nbsp;&nbsp;</span>Промежуточный вывод</a></span></li></ul></li></ul></li><li><span><a href=\"#Воронка-событий\" data-toc-modified-id=\"Воронка-событий-5\"><span class=\"toc-item-num\">5&nbsp;&nbsp;</span>Воронка событий</a></span><ul class=\"toc-item\"><li><ul class=\"toc-item\"><li><span><a href=\"#Промежуточный-вывод\" data-toc-modified-id=\"Промежуточный-вывод-5.0.1\"><span class=\"toc-item-num\">5.0.1&nbsp;&nbsp;</span>Промежуточный вывод</a></span></li></ul></li></ul></li><li><span><a href=\"#Результаты-экперимента\" data-toc-modified-id=\"Результаты-экперимента-6\"><span class=\"toc-item-num\">6&nbsp;&nbsp;</span>Результаты экперимента</a></span><ul class=\"toc-item\"><li><ul class=\"toc-item\"><li><span><a href=\"#Промежуточный-вывод\" data-toc-modified-id=\"Промежуточный-вывод-6.0.1\"><span class=\"toc-item-num\">6.0.1&nbsp;&nbsp;</span>Промежуточный вывод</a></span></li></ul></li></ul></li><li><span><a href=\"#Итоговый-вывод\" data-toc-modified-id=\"Итоговый-вывод-7\"><span class=\"toc-item-num\">7&nbsp;&nbsp;</span>Итоговый вывод</a></span></li></ul></div>"
   ]
  },
  {
   "cell_type": "markdown",
   "metadata": {},
   "source": [
    "# Деокмпозиция"
   ]
  },
  {
   "cell_type": "markdown",
   "metadata": {},
   "source": [
    "- **Введение**\n",
    "- **Шаг 1. Загрузка и первичный анализ данных**\n",
    "    - Загрузка необходимых библиотек\n",
    "    - Загрузка датасетов о визитах, заказах и рекламных расходов\n",
    "    - Первичное изучение данных\n",
    "    - Промежуточный вывод\n",
    "    - Выполнить предобработку \n",
    "- **Шаг 2. Предобработка данных**\n",
    "    - Заменить названия столбцов;\n",
    "    - Проверить пропуски и типы данных. Откорректировать, если нужно;\n",
    "    - Добавить столбец даты и времени, а также отдельный столбец дат;\n",
    "- **Шаг 3. Анализ данных**\n",
    "    - Сколько всего событий в логе?\n",
    "    - Сколько всего пользователей в логе?\n",
    "    - Сколько в среднем событий приходится на пользователя?\n",
    "    - Данными за какой период предосталвены? Найти максимальную и минимальную дату. Изучить, как меняется количество данных: пострить столбчатую диаграмму, которая отобразит количество событий в зависимости от времени в разрезе групп. Можно ли быть уверенным, что данные одинаково полные за весь период? Технически в логи новых дней по некоторым пользователям могут «доезжать» события из прошлого — это может «перекашивать данные». Определить, с какого момента данные полные и отбросьте более старые. Данными за какой период времени имеются на самом деле?\n",
    "    - Много ли событий и пользователей вы потеряли, отбросив старые данные?\n",
    "    - Проверить, что у вас есть пользователи из всех трёх экспериментальных групп.\n",
    "- **Шаг 4. Анализ воронки событий**\n",
    "    - Какие события есть в логах, как часто они встречаются. Отсортировать события по частоте.\n",
    "    - Сколько пользователей совершали каждое из этих событий. Отсортировать события по числу пользователей. Посчитать долю пользователей, которые хоть раз совершали событие.\n",
    "    - В каком порядке происходят события. Все ли они выстраиваются в последовательную цепочку? Их не нужно учитывать при расчёте воронки.\n",
    "    - По воронке событий посчитать, какая доля пользователей проходит на следующий шаг воронки (от числа пользователей на предыдущем). То есть для последовательности событий A → B → C посчитайте отношение числа пользователей с событием B к количеству пользователей с событием A, а также отношение числа пользователей с событием C к количеству пользователей с событием B.\n",
    "    - На каком шаге теряется больше всего пользователей?\n",
    "    - Какая доля пользователей доходит от первого события до оплаты?\n",
    "- **Шаг 5. Изучить результаты эксперимента**\n",
    "    - Сколько пользователей в каждой экспериментальной группе?\n",
    "    - Есть 2 контрольные группы для А/А-эксперимента, чтобы проверить корректность всех механизмов и расчётов. Проверить, находят ли статистические критерии разницу между выборками 246 и 247.\n",
    "    - Выберать самое популярное событие. Посчитать число пользователей, совершивших это событие в каждой из контрольных групп. Посчитать долю пользователей, совершивших это событие. Проверить, будет ли отличие между группами статистически достоверным. То же самое сделать для всех других событий (удобно обернуть проверку в отдельную функцию). Можно ли сказать, что разбиение на группы работает корректно?\n",
    "    - Аналогично поступить с группой с изменённым шрифтом. Сравнить результаты с каждой из контрольных групп в отдельности по каждому событию. Сравнить результаты с объединённой контрольной группой. Какие выводы из эксперимента можно сделать?\n",
    "    - Какой уровень значимости выбран при проверке статистических гипотез выше? Посчитайть, сколько проверок статистических гипотез было сделано. При уровне значимости 0.1 в 10% случаев можно ошибочно отклонить нулевую гипотезу при условии, что она верна. Какой уровень значимости стоит применить?"
   ]
  },
  {
   "cell_type": "markdown",
   "metadata": {},
   "source": [
    "# Анализ пользовательского поведения в мобильном приложении"
   ]
  },
  {
   "cell_type": "markdown",
   "metadata": {},
   "source": [
    "### Введение"
   ]
  },
  {
   "cell_type": "markdown",
   "metadata": {},
   "source": [
    "В данном проекте мне необходимо изучить поведение пользователей в мобильном приложении стартапа, который продает продукты. Изучить воронку продаж, посчитать конверсию. Вывести и изучить результаты А/А/В тестирования, так как было принято решение изменить используемые шрифты. Для этого у меня есть данные из датафрейма logs_exp, где есть две контроьный и одна эксперементальная группа. По результатам тестирования я дам рекомендации по введению нового шрифта в приложение."
   ]
  },
  {
   "cell_type": "markdown",
   "metadata": {},
   "source": [
    "### Открытие и изучение данных"
   ]
  },
  {
   "cell_type": "code",
   "execution_count": 1,
   "metadata": {},
   "outputs": [],
   "source": [
    "import pandas as pd\n",
    "import datetime as dt\n",
    "import numpy as np\n",
    "import scipy.stats as stats\n",
    "import matplotlib.pyplot as plt\n",
    "import seaborn as sns\n",
    "import math as mth\n",
    "from scipy import stats as st"
   ]
  },
  {
   "cell_type": "code",
   "execution_count": 2,
   "metadata": {},
   "outputs": [],
   "source": [
    "logs_exp = pd.read_csv(r'C:\\Users\\egor1\\OneDrive\\Рабочий стол\\All\\ПРАКТИКУМ\\Проекты Практикум\\БАЗЫ ДАННЫХ\\Сборный проект-2/logs_exp.csv', sep = '\\t')"
   ]
  },
  {
   "cell_type": "code",
   "execution_count": 3,
   "metadata": {},
   "outputs": [
    {
     "data": {
      "text/html": [
       "<div>\n",
       "<style scoped>\n",
       "    .dataframe tbody tr th:only-of-type {\n",
       "        vertical-align: middle;\n",
       "    }\n",
       "\n",
       "    .dataframe tbody tr th {\n",
       "        vertical-align: top;\n",
       "    }\n",
       "\n",
       "    .dataframe thead th {\n",
       "        text-align: right;\n",
       "    }\n",
       "</style>\n",
       "<table border=\"1\" class=\"dataframe\">\n",
       "  <thead>\n",
       "    <tr style=\"text-align: right;\">\n",
       "      <th></th>\n",
       "      <th>EventName</th>\n",
       "      <th>DeviceIDHash</th>\n",
       "      <th>EventTimestamp</th>\n",
       "      <th>ExpId</th>\n",
       "    </tr>\n",
       "  </thead>\n",
       "  <tbody>\n",
       "    <tr>\n",
       "      <th>0</th>\n",
       "      <td>MainScreenAppear</td>\n",
       "      <td>4575588528974610257</td>\n",
       "      <td>1564029816</td>\n",
       "      <td>246</td>\n",
       "    </tr>\n",
       "    <tr>\n",
       "      <th>1</th>\n",
       "      <td>MainScreenAppear</td>\n",
       "      <td>7416695313311560658</td>\n",
       "      <td>1564053102</td>\n",
       "      <td>246</td>\n",
       "    </tr>\n",
       "    <tr>\n",
       "      <th>2</th>\n",
       "      <td>PaymentScreenSuccessful</td>\n",
       "      <td>3518123091307005509</td>\n",
       "      <td>1564054127</td>\n",
       "      <td>248</td>\n",
       "    </tr>\n",
       "    <tr>\n",
       "      <th>3</th>\n",
       "      <td>CartScreenAppear</td>\n",
       "      <td>3518123091307005509</td>\n",
       "      <td>1564054127</td>\n",
       "      <td>248</td>\n",
       "    </tr>\n",
       "    <tr>\n",
       "      <th>4</th>\n",
       "      <td>PaymentScreenSuccessful</td>\n",
       "      <td>6217807653094995999</td>\n",
       "      <td>1564055322</td>\n",
       "      <td>248</td>\n",
       "    </tr>\n",
       "    <tr>\n",
       "      <th>5</th>\n",
       "      <td>CartScreenAppear</td>\n",
       "      <td>6217807653094995999</td>\n",
       "      <td>1564055323</td>\n",
       "      <td>248</td>\n",
       "    </tr>\n",
       "    <tr>\n",
       "      <th>6</th>\n",
       "      <td>OffersScreenAppear</td>\n",
       "      <td>8351860793733343758</td>\n",
       "      <td>1564066242</td>\n",
       "      <td>246</td>\n",
       "    </tr>\n",
       "    <tr>\n",
       "      <th>7</th>\n",
       "      <td>MainScreenAppear</td>\n",
       "      <td>5682100281902512875</td>\n",
       "      <td>1564085677</td>\n",
       "      <td>246</td>\n",
       "    </tr>\n",
       "    <tr>\n",
       "      <th>8</th>\n",
       "      <td>MainScreenAppear</td>\n",
       "      <td>1850981295691852772</td>\n",
       "      <td>1564086702</td>\n",
       "      <td>247</td>\n",
       "    </tr>\n",
       "    <tr>\n",
       "      <th>9</th>\n",
       "      <td>MainScreenAppear</td>\n",
       "      <td>5407636962369102641</td>\n",
       "      <td>1564112112</td>\n",
       "      <td>246</td>\n",
       "    </tr>\n",
       "  </tbody>\n",
       "</table>\n",
       "</div>"
      ],
      "text/plain": [
       "                 EventName         DeviceIDHash  EventTimestamp  ExpId\n",
       "0         MainScreenAppear  4575588528974610257      1564029816    246\n",
       "1         MainScreenAppear  7416695313311560658      1564053102    246\n",
       "2  PaymentScreenSuccessful  3518123091307005509      1564054127    248\n",
       "3         CartScreenAppear  3518123091307005509      1564054127    248\n",
       "4  PaymentScreenSuccessful  6217807653094995999      1564055322    248\n",
       "5         CartScreenAppear  6217807653094995999      1564055323    248\n",
       "6       OffersScreenAppear  8351860793733343758      1564066242    246\n",
       "7         MainScreenAppear  5682100281902512875      1564085677    246\n",
       "8         MainScreenAppear  1850981295691852772      1564086702    247\n",
       "9         MainScreenAppear  5407636962369102641      1564112112    246"
      ]
     },
     "execution_count": 3,
     "metadata": {},
     "output_type": "execute_result"
    }
   ],
   "source": [
    "logs_exp.head(10)"
   ]
  },
  {
   "cell_type": "code",
   "execution_count": 4,
   "metadata": {},
   "outputs": [
    {
     "name": "stdout",
     "output_type": "stream",
     "text": [
      "<class 'pandas.core.frame.DataFrame'>\n",
      "RangeIndex: 244126 entries, 0 to 244125\n",
      "Data columns (total 4 columns):\n",
      " #   Column          Non-Null Count   Dtype \n",
      "---  ------          --------------   ----- \n",
      " 0   EventName       244126 non-null  object\n",
      " 1   DeviceIDHash    244126 non-null  int64 \n",
      " 2   EventTimestamp  244126 non-null  int64 \n",
      " 3   ExpId           244126 non-null  int64 \n",
      "dtypes: int64(3), object(1)\n",
      "memory usage: 7.5+ MB\n"
     ]
    }
   ],
   "source": [
    "logs_exp.info()"
   ]
  },
  {
   "cell_type": "code",
   "execution_count": 5,
   "metadata": {},
   "outputs": [
    {
     "name": "stdout",
     "output_type": "stream",
     "text": [
      "Количество записей участников первой контрольной группы: 80304\n",
      "Количество записей участников второй контрольной группы: 78075\n",
      "Количество записей участников эксперементальной группы: 85747\n"
     ]
    }
   ],
   "source": [
    "print(f'Количество записей участников первой контрольной группы:', logs_exp[logs_exp['ExpId']==246]['ExpId'].count())\n",
    "print(f'Количество записей участников второй контрольной группы:', logs_exp[logs_exp['ExpId']==247]['ExpId'].count())\n",
    "print(f'Количество записей участников эксперементальной группы:', logs_exp[logs_exp['ExpId']==248]['ExpId'].count())"
   ]
  },
  {
   "cell_type": "code",
   "execution_count": 6,
   "metadata": {},
   "outputs": [
    {
     "name": "stdout",
     "output_type": "stream",
     "text": [
      "Количество уникальных событий: 5\n"
     ]
    }
   ],
   "source": [
    "print('Количество уникальных событий:',logs_exp['EventName'].nunique())"
   ]
  },
  {
   "cell_type": "code",
   "execution_count": 7,
   "metadata": {},
   "outputs": [
    {
     "name": "stdout",
     "output_type": "stream",
     "text": [
      "Количество участников первой контрольной группы: 2489\n",
      "Количество участников второй контрольной группы: 2520\n",
      "Количество участников эксперементальной группы: 2542\n"
     ]
    }
   ],
   "source": [
    "print(f'Количество участников первой контрольной группы:', logs_exp[logs_exp['ExpId']==246]['DeviceIDHash'].nunique())\n",
    "print(f'Количество участников второй контрольной группы:', logs_exp[logs_exp['ExpId']==247]['DeviceIDHash'].nunique())\n",
    "print(f'Количество участников эксперементальной группы:', logs_exp[logs_exp['ExpId']==248]['DeviceIDHash'].nunique())"
   ]
  },
  {
   "cell_type": "markdown",
   "metadata": {},
   "source": [
    "##### Промежуточный вывод"
   ]
  },
  {
   "cell_type": "markdown",
   "metadata": {},
   "source": [
    "Мы открыли и изучили данные, количество записей о трех группах отлючаются, но это не повлияет на анализ, так как количество пользователей в трех группах плюс/минус одинаковое. Можно сказать, что данные впорядке. Далее нам предстоит предобработать данные, чтобы работать с ними, проверить на дубликаты, на пропуски, поменять названия столбоцов и изменить типы данных.\n",
    "В таблице представлены столбцы:\n",
    " - **EventName** — название события;\n",
    " - **DeviceIDHash** — уникальный идентификатор пользователя;\n",
    " - **EventTimestamp** — время события;\n",
    " - **ExpId** — номер эксперимента: 246 и 247 — контрольные группы, а 248 — экспериментальная."
   ]
  },
  {
   "cell_type": "markdown",
   "metadata": {},
   "source": [
    "### Предобработка данных"
   ]
  },
  {
   "cell_type": "code",
   "execution_count": 8,
   "metadata": {},
   "outputs": [
    {
     "data": {
      "text/plain": [
       "EventName         0\n",
       "DeviceIDHash      0\n",
       "EventTimestamp    0\n",
       "ExpId             0\n",
       "dtype: int64"
      ]
     },
     "execution_count": 8,
     "metadata": {},
     "output_type": "execute_result"
    }
   ],
   "source": [
    "logs_exp.isnull().sum()"
   ]
  },
  {
   "cell_type": "code",
   "execution_count": 9,
   "metadata": {},
   "outputs": [
    {
     "data": {
      "text/plain": [
       "413"
      ]
     },
     "execution_count": 9,
     "metadata": {},
     "output_type": "execute_result"
    }
   ],
   "source": [
    "logs_exp.duplicated().sum()"
   ]
  },
  {
   "cell_type": "code",
   "execution_count": 10,
   "metadata": {},
   "outputs": [],
   "source": [
    "logs_exp = logs_exp.rename(columns= {'EventName':'eventname', 'DeviceIDHash':'userid', 'EventTimestamp':'eventtime', 'ExpId':'exp'})"
   ]
  },
  {
   "cell_type": "code",
   "execution_count": 11,
   "metadata": {},
   "outputs": [],
   "source": [
    "logs_exp['group'] = logs_exp['exp']\n",
    "logs_exp['group'] = logs_exp['group'].replace(246, 'A1')\n",
    "logs_exp['group'] = logs_exp['group'].replace(247, 'A2')\n",
    "logs_exp['group'] = logs_exp['group'].replace(248, 'B')"
   ]
  },
  {
   "cell_type": "code",
   "execution_count": 12,
   "metadata": {},
   "outputs": [
    {
     "data": {
      "text/plain": [
       "0    1564029816\n",
       "1    1564053102\n",
       "2    1564054127\n",
       "3    1564054127\n",
       "4    1564055322\n",
       "Name: eventtime, dtype: int64"
      ]
     },
     "execution_count": 12,
     "metadata": {},
     "output_type": "execute_result"
    }
   ],
   "source": [
    "logs_exp['eventtime'].head(5)"
   ]
  },
  {
   "cell_type": "code",
   "execution_count": 13,
   "metadata": {},
   "outputs": [
    {
     "name": "stdout",
     "output_type": "stream",
     "text": [
      "<class 'pandas.core.frame.DataFrame'>\n",
      "RangeIndex: 244126 entries, 0 to 244125\n",
      "Data columns (total 5 columns):\n",
      " #   Column     Non-Null Count   Dtype \n",
      "---  ------     --------------   ----- \n",
      " 0   eventname  244126 non-null  object\n",
      " 1   userid     244126 non-null  int64 \n",
      " 2   eventtime  244126 non-null  int64 \n",
      " 3   exp        244126 non-null  int64 \n",
      " 4   group      244126 non-null  object\n",
      "dtypes: int64(3), object(2)\n",
      "memory usage: 9.3+ MB\n"
     ]
    }
   ],
   "source": [
    "logs_exp.info()"
   ]
  },
  {
   "cell_type": "code",
   "execution_count": 14,
   "metadata": {},
   "outputs": [],
   "source": [
    "logs_exp['eventtime'] = logs_exp['eventtime'].astype('datetime64[s]')\n",
    "logs_exp['date'] = logs_exp['eventtime'].astype('datetime64[D]')\n",
    "logs_exp['date'] = pd.to_datetime(logs_exp['date'], unit='s')"
   ]
  },
  {
   "cell_type": "code",
   "execution_count": 15,
   "metadata": {},
   "outputs": [
    {
     "data": {
      "text/html": [
       "<div>\n",
       "<style scoped>\n",
       "    .dataframe tbody tr th:only-of-type {\n",
       "        vertical-align: middle;\n",
       "    }\n",
       "\n",
       "    .dataframe tbody tr th {\n",
       "        vertical-align: top;\n",
       "    }\n",
       "\n",
       "    .dataframe thead th {\n",
       "        text-align: right;\n",
       "    }\n",
       "</style>\n",
       "<table border=\"1\" class=\"dataframe\">\n",
       "  <thead>\n",
       "    <tr style=\"text-align: right;\">\n",
       "      <th></th>\n",
       "      <th>eventname</th>\n",
       "      <th>userid</th>\n",
       "      <th>eventtime</th>\n",
       "      <th>exp</th>\n",
       "      <th>group</th>\n",
       "      <th>date</th>\n",
       "    </tr>\n",
       "  </thead>\n",
       "  <tbody>\n",
       "    <tr>\n",
       "      <th>0</th>\n",
       "      <td>MainScreenAppear</td>\n",
       "      <td>4575588528974610257</td>\n",
       "      <td>2019-07-25 04:43:36</td>\n",
       "      <td>246</td>\n",
       "      <td>A1</td>\n",
       "      <td>2019-07-25</td>\n",
       "    </tr>\n",
       "    <tr>\n",
       "      <th>1</th>\n",
       "      <td>MainScreenAppear</td>\n",
       "      <td>7416695313311560658</td>\n",
       "      <td>2019-07-25 11:11:42</td>\n",
       "      <td>246</td>\n",
       "      <td>A1</td>\n",
       "      <td>2019-07-25</td>\n",
       "    </tr>\n",
       "    <tr>\n",
       "      <th>2</th>\n",
       "      <td>PaymentScreenSuccessful</td>\n",
       "      <td>3518123091307005509</td>\n",
       "      <td>2019-07-25 11:28:47</td>\n",
       "      <td>248</td>\n",
       "      <td>B</td>\n",
       "      <td>2019-07-25</td>\n",
       "    </tr>\n",
       "    <tr>\n",
       "      <th>3</th>\n",
       "      <td>CartScreenAppear</td>\n",
       "      <td>3518123091307005509</td>\n",
       "      <td>2019-07-25 11:28:47</td>\n",
       "      <td>248</td>\n",
       "      <td>B</td>\n",
       "      <td>2019-07-25</td>\n",
       "    </tr>\n",
       "    <tr>\n",
       "      <th>4</th>\n",
       "      <td>PaymentScreenSuccessful</td>\n",
       "      <td>6217807653094995999</td>\n",
       "      <td>2019-07-25 11:48:42</td>\n",
       "      <td>248</td>\n",
       "      <td>B</td>\n",
       "      <td>2019-07-25</td>\n",
       "    </tr>\n",
       "  </tbody>\n",
       "</table>\n",
       "</div>"
      ],
      "text/plain": [
       "                 eventname               userid           eventtime  exp  \\\n",
       "0         MainScreenAppear  4575588528974610257 2019-07-25 04:43:36  246   \n",
       "1         MainScreenAppear  7416695313311560658 2019-07-25 11:11:42  246   \n",
       "2  PaymentScreenSuccessful  3518123091307005509 2019-07-25 11:28:47  248   \n",
       "3         CartScreenAppear  3518123091307005509 2019-07-25 11:28:47  248   \n",
       "4  PaymentScreenSuccessful  6217807653094995999 2019-07-25 11:48:42  248   \n",
       "\n",
       "  group       date  \n",
       "0    A1 2019-07-25  \n",
       "1    A1 2019-07-25  \n",
       "2     B 2019-07-25  \n",
       "3     B 2019-07-25  \n",
       "4     B 2019-07-25  "
      ]
     },
     "execution_count": 15,
     "metadata": {},
     "output_type": "execute_result"
    }
   ],
   "source": [
    "logs_exp.head(5)"
   ]
  },
  {
   "cell_type": "code",
   "execution_count": 16,
   "metadata": {},
   "outputs": [
    {
     "name": "stdout",
     "output_type": "stream",
     "text": [
      "<class 'pandas.core.frame.DataFrame'>\n",
      "RangeIndex: 244126 entries, 0 to 244125\n",
      "Data columns (total 6 columns):\n",
      " #   Column     Non-Null Count   Dtype         \n",
      "---  ------     --------------   -----         \n",
      " 0   eventname  244126 non-null  object        \n",
      " 1   userid     244126 non-null  int64         \n",
      " 2   eventtime  244126 non-null  datetime64[ns]\n",
      " 3   exp        244126 non-null  int64         \n",
      " 4   group      244126 non-null  object        \n",
      " 5   date       244126 non-null  datetime64[ns]\n",
      "dtypes: datetime64[ns](2), int64(2), object(2)\n",
      "memory usage: 11.2+ MB\n"
     ]
    }
   ],
   "source": [
    "logs_exp.info()"
   ]
  },
  {
   "cell_type": "code",
   "execution_count": 17,
   "metadata": {},
   "outputs": [
    {
     "data": {
      "text/html": [
       "<div>\n",
       "<style scoped>\n",
       "    .dataframe tbody tr th:only-of-type {\n",
       "        vertical-align: middle;\n",
       "    }\n",
       "\n",
       "    .dataframe tbody tr th {\n",
       "        vertical-align: top;\n",
       "    }\n",
       "\n",
       "    .dataframe thead th {\n",
       "        text-align: right;\n",
       "    }\n",
       "</style>\n",
       "<table border=\"1\" class=\"dataframe\">\n",
       "  <thead>\n",
       "    <tr style=\"text-align: right;\">\n",
       "      <th></th>\n",
       "      <th>userid</th>\n",
       "      <th>exp</th>\n",
       "    </tr>\n",
       "  </thead>\n",
       "  <tbody>\n",
       "    <tr>\n",
       "      <th>count</th>\n",
       "      <td>2.441260e+05</td>\n",
       "      <td>244126.000000</td>\n",
       "    </tr>\n",
       "    <tr>\n",
       "      <th>mean</th>\n",
       "      <td>4.627568e+18</td>\n",
       "      <td>247.022296</td>\n",
       "    </tr>\n",
       "    <tr>\n",
       "      <th>std</th>\n",
       "      <td>2.642425e+18</td>\n",
       "      <td>0.824434</td>\n",
       "    </tr>\n",
       "    <tr>\n",
       "      <th>min</th>\n",
       "      <td>6.888747e+15</td>\n",
       "      <td>246.000000</td>\n",
       "    </tr>\n",
       "    <tr>\n",
       "      <th>25%</th>\n",
       "      <td>2.372212e+18</td>\n",
       "      <td>246.000000</td>\n",
       "    </tr>\n",
       "    <tr>\n",
       "      <th>50%</th>\n",
       "      <td>4.623192e+18</td>\n",
       "      <td>247.000000</td>\n",
       "    </tr>\n",
       "    <tr>\n",
       "      <th>75%</th>\n",
       "      <td>6.932517e+18</td>\n",
       "      <td>248.000000</td>\n",
       "    </tr>\n",
       "    <tr>\n",
       "      <th>max</th>\n",
       "      <td>9.222603e+18</td>\n",
       "      <td>248.000000</td>\n",
       "    </tr>\n",
       "  </tbody>\n",
       "</table>\n",
       "</div>"
      ],
      "text/plain": [
       "             userid            exp\n",
       "count  2.441260e+05  244126.000000\n",
       "mean   4.627568e+18     247.022296\n",
       "std    2.642425e+18       0.824434\n",
       "min    6.888747e+15     246.000000\n",
       "25%    2.372212e+18     246.000000\n",
       "50%    4.623192e+18     247.000000\n",
       "75%    6.932517e+18     248.000000\n",
       "max    9.222603e+18     248.000000"
      ]
     },
     "execution_count": 17,
     "metadata": {},
     "output_type": "execute_result"
    }
   ],
   "source": [
    "logs_exp.describe()"
   ]
  },
  {
   "cell_type": "markdown",
   "metadata": {},
   "source": [
    "##### Промежуточный вывод"
   ]
  },
  {
   "cell_type": "markdown",
   "metadata": {},
   "source": [
    "Мы провели небольшую предобратку, поменяли названия столбцов, не обнаружили пропусков в датафрейме, обнаружили дубликаты, но они и должны быть, поскольку это дубликаты событий пользователя, пользователь может совершать несколько действий, также изменили типы данных и добавили столбцы со датой событий и группой"
   ]
  },
  {
   "cell_type": "markdown",
   "metadata": {},
   "source": [
    "### Анализ данных"
   ]
  },
  {
   "cell_type": "code",
   "execution_count": 18,
   "metadata": {},
   "outputs": [
    {
     "name": "stdout",
     "output_type": "stream",
     "text": [
      "Всего событий в логе: 244126\n"
     ]
    }
   ],
   "source": [
    "print('Всего событий в логе:',logs_exp['eventname'].count())"
   ]
  },
  {
   "cell_type": "code",
   "execution_count": 19,
   "metadata": {},
   "outputs": [
    {
     "name": "stdout",
     "output_type": "stream",
     "text": [
      "Всего уникальных пользователей: 7551\n"
     ]
    }
   ],
   "source": [
    "print('Всего уникальных пользователей:',logs_exp['userid'].nunique())"
   ]
  },
  {
   "cell_type": "code",
   "execution_count": 20,
   "metadata": {},
   "outputs": [
    {
     "name": "stdout",
     "output_type": "stream",
     "text": [
      "В среднем на одного пользователя приходятся событий: 32.33\n"
     ]
    }
   ],
   "source": [
    "print('В среднем на одного пользователя приходятся событий:',round(logs_exp.shape[0]/logs_exp['userid'].nunique(), 2))"
   ]
  },
  {
   "cell_type": "code",
   "execution_count": 21,
   "metadata": {},
   "outputs": [
    {
     "data": {
      "text/html": [
       "<div>\n",
       "<style scoped>\n",
       "    .dataframe tbody tr th:only-of-type {\n",
       "        vertical-align: middle;\n",
       "    }\n",
       "\n",
       "    .dataframe tbody tr th {\n",
       "        vertical-align: top;\n",
       "    }\n",
       "\n",
       "    .dataframe thead th {\n",
       "        text-align: right;\n",
       "    }\n",
       "</style>\n",
       "<table border=\"1\" class=\"dataframe\">\n",
       "  <thead>\n",
       "    <tr style=\"text-align: right;\">\n",
       "      <th></th>\n",
       "      <th>eventname</th>\n",
       "    </tr>\n",
       "  </thead>\n",
       "  <tbody>\n",
       "    <tr>\n",
       "      <th>count</th>\n",
       "      <td>7551.000000</td>\n",
       "    </tr>\n",
       "    <tr>\n",
       "      <th>mean</th>\n",
       "      <td>32.330287</td>\n",
       "    </tr>\n",
       "    <tr>\n",
       "      <th>std</th>\n",
       "      <td>65.312344</td>\n",
       "    </tr>\n",
       "    <tr>\n",
       "      <th>min</th>\n",
       "      <td>1.000000</td>\n",
       "    </tr>\n",
       "    <tr>\n",
       "      <th>25%</th>\n",
       "      <td>9.000000</td>\n",
       "    </tr>\n",
       "    <tr>\n",
       "      <th>50%</th>\n",
       "      <td>20.000000</td>\n",
       "    </tr>\n",
       "    <tr>\n",
       "      <th>75%</th>\n",
       "      <td>37.500000</td>\n",
       "    </tr>\n",
       "    <tr>\n",
       "      <th>max</th>\n",
       "      <td>2308.000000</td>\n",
       "    </tr>\n",
       "  </tbody>\n",
       "</table>\n",
       "</div>"
      ],
      "text/plain": [
       "         eventname\n",
       "count  7551.000000\n",
       "mean     32.330287\n",
       "std      65.312344\n",
       "min       1.000000\n",
       "25%       9.000000\n",
       "50%      20.000000\n",
       "75%      37.500000\n",
       "max    2308.000000"
      ]
     },
     "execution_count": 21,
     "metadata": {},
     "output_type": "execute_result"
    }
   ],
   "source": [
    "raspred = logs_exp.groupby(by='userid').agg({'eventname':'count'})\n",
    "raspred.describe()"
   ]
  },
  {
   "cell_type": "code",
   "execution_count": 22,
   "metadata": {},
   "outputs": [
    {
     "data": {
      "text/plain": [
       "Text(0, 0.5, 'Количество пользователей')"
      ]
     },
     "execution_count": 22,
     "metadata": {},
     "output_type": "execute_result"
    },
    {
     "data": {
      "image/png": "[encoded data removed]",
      "text/plain": [
       "<Figure size 1000x1000 with 1 Axes>"
      ]
     },
     "metadata": {},
     "output_type": "display_data"
    }
   ],
   "source": [
    "raspred.hist(bins=500, figsize=(10, 10))\n",
    "plt.title(\"Распределение количества событий по пользователям\")\n",
    "plt.xlabel(\"Количество событий\")\n",
    "plt.ylabel(\"Количество пользователей\")"
   ]
  },
  {
   "cell_type": "code",
   "execution_count": 23,
   "metadata": {},
   "outputs": [],
   "source": [
    "raspred = raspred.reset_index()"
   ]
  },
  {
   "cell_type": "code",
   "execution_count": 24,
   "metadata": {},
   "outputs": [
    {
     "data": {
      "text/plain": [
       "Text(0, 0.5, 'Количество событий')"
      ]
     },
     "execution_count": 24,
     "metadata": {},
     "output_type": "execute_result"
    },
    {
     "data": {
      "image/png": "[encoded data removed]",
      "text/plain": [
       "<Figure size 1700x1000 with 1 Axes>"
      ]
     },
     "metadata": {},
     "output_type": "display_data"
    }
   ],
   "source": [
    "plt.figure(figsize=(17, 10))\n",
    "plt.scatter(y = raspred['eventname'], x=raspred['userid'])\n",
    "plt.grid()\n",
    "plt.title(\"Распределение количества событий по пользователям\")\n",
    "plt.xlabel(\"Количество пользователей\")\n",
    "plt.ylabel(\"Количество событий\")"
   ]
  },
  {
   "cell_type": "code",
   "execution_count": 25,
   "metadata": {},
   "outputs": [
    {
     "name": "stdout",
     "output_type": "stream",
     "text": [
      "Максимальная дата события: 2019-08-07 00:00:00\n",
      "Минимальная дата события 2019-07-25 00:00:00\n"
     ]
    }
   ],
   "source": [
    "print('Максимальная дата события:', logs_exp['date'].max())\n",
    "print('Минимальная дата события', logs_exp['date'].min())"
   ]
  },
  {
   "cell_type": "code",
   "execution_count": 26,
   "metadata": {},
   "outputs": [
    {
     "name": "stdout",
     "output_type": "stream",
     "text": [
      "Длительность проведения теста: 13 days 00:00:00\n"
     ]
    }
   ],
   "source": [
    "print('Длительность проведения теста:', logs_exp['date'].max() - logs_exp['date'].min())"
   ]
  },
  {
   "cell_type": "code",
   "execution_count": 27,
   "metadata": {},
   "outputs": [],
   "source": [
    "period = logs_exp.pivot_table(index='date', values='userid', aggfunc='count')"
   ]
  },
  {
   "cell_type": "code",
   "execution_count": 28,
   "metadata": {},
   "outputs": [],
   "source": [
    "period['conversion'] = round(period['userid'] / period['userid'].sum() * 100, 3)\n",
    "period['sum'] = period['conversion'].cumsum()"
   ]
  },
  {
   "cell_type": "code",
   "execution_count": 29,
   "metadata": {},
   "outputs": [
    {
     "data": {
      "text/html": [
       "<div>\n",
       "<style scoped>\n",
       "    .dataframe tbody tr th:only-of-type {\n",
       "        vertical-align: middle;\n",
       "    }\n",
       "\n",
       "    .dataframe tbody tr th {\n",
       "        vertical-align: top;\n",
       "    }\n",
       "\n",
       "    .dataframe thead th {\n",
       "        text-align: right;\n",
       "    }\n",
       "</style>\n",
       "<table border=\"1\" class=\"dataframe\">\n",
       "  <thead>\n",
       "    <tr style=\"text-align: right;\">\n",
       "      <th></th>\n",
       "      <th>userid</th>\n",
       "      <th>conversion</th>\n",
       "      <th>sum</th>\n",
       "    </tr>\n",
       "    <tr>\n",
       "      <th>date</th>\n",
       "      <th></th>\n",
       "      <th></th>\n",
       "      <th></th>\n",
       "    </tr>\n",
       "  </thead>\n",
       "  <tbody>\n",
       "    <tr>\n",
       "      <th>2019-07-25</th>\n",
       "      <td>9</td>\n",
       "      <td>0.004</td>\n",
       "      <td>0.004</td>\n",
       "    </tr>\n",
       "    <tr>\n",
       "      <th>2019-07-26</th>\n",
       "      <td>31</td>\n",
       "      <td>0.013</td>\n",
       "      <td>0.017</td>\n",
       "    </tr>\n",
       "    <tr>\n",
       "      <th>2019-07-27</th>\n",
       "      <td>55</td>\n",
       "      <td>0.023</td>\n",
       "      <td>0.040</td>\n",
       "    </tr>\n",
       "    <tr>\n",
       "      <th>2019-07-28</th>\n",
       "      <td>105</td>\n",
       "      <td>0.043</td>\n",
       "      <td>0.083</td>\n",
       "    </tr>\n",
       "    <tr>\n",
       "      <th>2019-07-29</th>\n",
       "      <td>184</td>\n",
       "      <td>0.075</td>\n",
       "      <td>0.158</td>\n",
       "    </tr>\n",
       "    <tr>\n",
       "      <th>2019-07-30</th>\n",
       "      <td>413</td>\n",
       "      <td>0.169</td>\n",
       "      <td>0.327</td>\n",
       "    </tr>\n",
       "    <tr>\n",
       "      <th>2019-07-31</th>\n",
       "      <td>2031</td>\n",
       "      <td>0.832</td>\n",
       "      <td>1.159</td>\n",
       "    </tr>\n",
       "    <tr>\n",
       "      <th>2019-08-01</th>\n",
       "      <td>36229</td>\n",
       "      <td>14.840</td>\n",
       "      <td>15.999</td>\n",
       "    </tr>\n",
       "    <tr>\n",
       "      <th>2019-08-02</th>\n",
       "      <td>35606</td>\n",
       "      <td>14.585</td>\n",
       "      <td>30.584</td>\n",
       "    </tr>\n",
       "    <tr>\n",
       "      <th>2019-08-03</th>\n",
       "      <td>33351</td>\n",
       "      <td>13.661</td>\n",
       "      <td>44.245</td>\n",
       "    </tr>\n",
       "    <tr>\n",
       "      <th>2019-08-04</th>\n",
       "      <td>33033</td>\n",
       "      <td>13.531</td>\n",
       "      <td>57.776</td>\n",
       "    </tr>\n",
       "    <tr>\n",
       "      <th>2019-08-05</th>\n",
       "      <td>36113</td>\n",
       "      <td>14.793</td>\n",
       "      <td>72.569</td>\n",
       "    </tr>\n",
       "    <tr>\n",
       "      <th>2019-08-06</th>\n",
       "      <td>35822</td>\n",
       "      <td>14.674</td>\n",
       "      <td>87.243</td>\n",
       "    </tr>\n",
       "    <tr>\n",
       "      <th>2019-08-07</th>\n",
       "      <td>31144</td>\n",
       "      <td>12.757</td>\n",
       "      <td>100.000</td>\n",
       "    </tr>\n",
       "  </tbody>\n",
       "</table>\n",
       "</div>"
      ],
      "text/plain": [
       "            userid  conversion      sum\n",
       "date                                   \n",
       "2019-07-25       9       0.004    0.004\n",
       "2019-07-26      31       0.013    0.017\n",
       "2019-07-27      55       0.023    0.040\n",
       "2019-07-28     105       0.043    0.083\n",
       "2019-07-29     184       0.075    0.158\n",
       "2019-07-30     413       0.169    0.327\n",
       "2019-07-31    2031       0.832    1.159\n",
       "2019-08-01   36229      14.840   15.999\n",
       "2019-08-02   35606      14.585   30.584\n",
       "2019-08-03   33351      13.661   44.245\n",
       "2019-08-04   33033      13.531   57.776\n",
       "2019-08-05   36113      14.793   72.569\n",
       "2019-08-06   35822      14.674   87.243\n",
       "2019-08-07   31144      12.757  100.000"
      ]
     },
     "execution_count": 29,
     "metadata": {},
     "output_type": "execute_result"
    }
   ],
   "source": [
    "period"
   ]
  },
  {
   "cell_type": "code",
   "execution_count": 59,
   "metadata": {},
   "outputs": [
    {
     "data": {
      "image/png": "[encoded data removed]",
      "text/plain": [
       "<Figure size 1400x500 with 1 Axes>"
      ]
     },
     "metadata": {},
     "output_type": "display_data"
    }
   ],
   "source": [
    "logs_exp['eventtime'].hist(bins=14*24, figsize=(14, 5))\n",
    "plt.title('Распределение событий по дням')\n",
    "plt.ylabel('Количество событий')\n",
    "plt.xlabel('даты');"
   ]
  },
  {
   "cell_type": "markdown",
   "metadata": {},
   "source": [
    "Как мы видим, по выведенной мной таблице и гистограмме, основное количество событий происходит с 1 августа по 7 августа. Это значит что все дни ранее это были \"доезжающие значения\". Их необходимо убрать и оставить в основном датафрейме только данные с 1 по 7 августа."
   ]
  },
  {
   "cell_type": "code",
   "execution_count": 32,
   "metadata": {},
   "outputs": [],
   "source": [
    "logs = logs_exp.query('\"2019-08-01\" <= date <= \"2019-08-07\"')"
   ]
  },
  {
   "cell_type": "code",
   "execution_count": 33,
   "metadata": {},
   "outputs": [
    {
     "data": {
      "image/png": "[encoded data removed]",
      "text/plain": [
       "<Figure size 1500x600 with 1 Axes>"
      ]
     },
     "metadata": {},
     "output_type": "display_data"
    }
   ],
   "source": [
    "plt.figure(figsize =(15, 6))\n",
    "logs['date'].hist()\n",
    "plt.title('Распределение событий по дням')\n",
    "plt.ylabel('Количество событий')\n",
    "plt.xlabel('даты');"
   ]
  },
  {
   "cell_type": "code",
   "execution_count": 34,
   "metadata": {},
   "outputs": [
    {
     "name": "stdout",
     "output_type": "stream",
     "text": [
      "Количество событий, которое мы отбросили: 2828\n",
      "Количество событий, которое мы отбросили в процентах: 1.16\n"
     ]
    }
   ],
   "source": [
    "print('Количество событий, которое мы отбросили:',len(logs_exp) - len(logs))\n",
    "print('Количество событий, которое мы отбросили в процентах:', round((1-(len(logs) / len(logs_exp))) * 100, 2)) "
   ]
  },
  {
   "cell_type": "code",
   "execution_count": 35,
   "metadata": {},
   "outputs": [
    {
     "name": "stdout",
     "output_type": "stream",
     "text": [
      "Количество уникальных пользователей, которыхмы отбросили: 17\n",
      "Количество уникальных пользователей, которых мы отбросили в процентах: 0.23\n"
     ]
    }
   ],
   "source": [
    "print('Количество уникальных пользователей, которыхмы отбросили:',logs_exp['userid'].nunique() - logs['userid'].nunique())\n",
    "print('Количество уникальных пользователей, которых мы отбросили в процентах:', round((1-(logs['userid'].nunique() / logs_exp['userid'].nunique())) * 100, 2)) "
   ]
  },
  {
   "cell_type": "code",
   "execution_count": 36,
   "metadata": {},
   "outputs": [
    {
     "name": "stdout",
     "output_type": "stream",
     "text": [
      "Количество записей участников первой контрольной группы: 79425\n",
      "Количество записей участников второй контрольной группы: 77147\n",
      "Количество записей участников эксперементальной группы: 84726\n"
     ]
    }
   ],
   "source": [
    "print(f'Количество записей участников первой контрольной группы:', logs[logs['group']=='A1']['group'].count())\n",
    "print(f'Количество записей участников второй контрольной группы:', logs[logs['group']=='A2']['group'].count())\n",
    "print(f'Количество записей участников эксперементальной группы:', logs[logs['group']=='B']['group'].count())"
   ]
  },
  {
   "cell_type": "code",
   "execution_count": 37,
   "metadata": {},
   "outputs": [
    {
     "name": "stdout",
     "output_type": "stream",
     "text": [
      "Количество уникальных пользователей первой контрольной группы: 2484\n",
      "Количество уникальных пользователей второй контрольной группы: 2513\n",
      "Количество уникальных пользователей эксперементальной группы: 2537\n"
     ]
    }
   ],
   "source": [
    "print(f'Количество уникальных пользователей первой контрольной группы:', logs[logs['group']=='A1']['userid'].nunique())\n",
    "print(f'Количество уникальных пользователей второй контрольной группы:', logs[logs['group']=='A2']['userid'].nunique())\n",
    "print(f'Количество уникальных пользователей эксперементальной группы:', logs[logs['group']=='B']['userid'].nunique())"
   ]
  },
  {
   "cell_type": "markdown",
   "metadata": {},
   "source": [
    "##### Промежуточный вывод"
   ]
  },
  {
   "cell_type": "markdown",
   "metadata": {},
   "source": [
    "Мы изучили данные и провели их обработку, к чему мы пришли:\n",
    " - всего событий в логе 244126\n",
    " - всего уникальных пользователей в логе 7551\n",
    " - мы распологали данным с 2019-07-25 по 2019-08-27\n",
    " - выявили, что до 2019-07-31 включительно были \"доезжающие события\"\n",
    " - исключили данные из лога до 2019-07-31 включительно. Теперь у нас оптимальные данные с 2019-08-01 по2019-08-07\n",
    " - ограничив данные по датам мы потеряли 2828 событий, что является 1,16% от общего количества. При предобработке данных можно потерять до 5% данных и это нормально. Я считаю что наш результат превосходный.\n",
    " - ограничив данные по датам мы потеряли 17 уникальных пользователей, что является 0,23% от их общего количества. Я считаю, что это приемлимый результат и от этого мы не потеряем в результате исследвоания.\n",
    " - Количество записей каждой группы:\n",
    "     - A1: 79425\n",
    "     - A2: 77147\n",
    "     - B: 84726 \n",
    " - количество уникальных пользователей каждой группы:\n",
    "     - A1: 2484\n",
    "     - A2: 2513\n",
    "     - B: 2537"
   ]
  },
  {
   "cell_type": "markdown",
   "metadata": {},
   "source": [
    "### Воронка событий"
   ]
  },
  {
   "cell_type": "code",
   "execution_count": 38,
   "metadata": {},
   "outputs": [
    {
     "data": {
      "text/plain": [
       "array(['Tutorial', 'MainScreenAppear', 'OffersScreenAppear',\n",
       "       'CartScreenAppear', 'PaymentScreenSuccessful'], dtype=object)"
      ]
     },
     "execution_count": 38,
     "metadata": {},
     "output_type": "execute_result"
    }
   ],
   "source": [
    "logs['eventname'].unique()"
   ]
  },
  {
   "cell_type": "code",
   "execution_count": 39,
   "metadata": {},
   "outputs": [
    {
     "data": {
      "text/html": [
       "<div>\n",
       "<style scoped>\n",
       "    .dataframe tbody tr th:only-of-type {\n",
       "        vertical-align: middle;\n",
       "    }\n",
       "\n",
       "    .dataframe tbody tr th {\n",
       "        vertical-align: top;\n",
       "    }\n",
       "\n",
       "    .dataframe thead th {\n",
       "        text-align: right;\n",
       "    }\n",
       "</style>\n",
       "<table border=\"1\" class=\"dataframe\">\n",
       "  <thead>\n",
       "    <tr style=\"text-align: right;\">\n",
       "      <th></th>\n",
       "      <th>index</th>\n",
       "      <th>eventname</th>\n",
       "    </tr>\n",
       "  </thead>\n",
       "  <tbody>\n",
       "    <tr>\n",
       "      <th>0</th>\n",
       "      <td>MainScreenAppear</td>\n",
       "      <td>117431</td>\n",
       "    </tr>\n",
       "    <tr>\n",
       "      <th>1</th>\n",
       "      <td>OffersScreenAppear</td>\n",
       "      <td>46350</td>\n",
       "    </tr>\n",
       "    <tr>\n",
       "      <th>2</th>\n",
       "      <td>CartScreenAppear</td>\n",
       "      <td>42365</td>\n",
       "    </tr>\n",
       "    <tr>\n",
       "      <th>3</th>\n",
       "      <td>PaymentScreenSuccessful</td>\n",
       "      <td>34113</td>\n",
       "    </tr>\n",
       "    <tr>\n",
       "      <th>4</th>\n",
       "      <td>Tutorial</td>\n",
       "      <td>1039</td>\n",
       "    </tr>\n",
       "  </tbody>\n",
       "</table>\n",
       "</div>"
      ],
      "text/plain": [
       "                     index  eventname\n",
       "0         MainScreenAppear     117431\n",
       "1       OffersScreenAppear      46350\n",
       "2         CartScreenAppear      42365\n",
       "3  PaymentScreenSuccessful      34113\n",
       "4                 Tutorial       1039"
      ]
     },
     "execution_count": 39,
     "metadata": {},
     "output_type": "execute_result"
    }
   ],
   "source": [
    "name_event = logs['eventname'].value_counts().reset_index()\n",
    "name_event"
   ]
  },
  {
   "cell_type": "code",
   "execution_count": 40,
   "metadata": {},
   "outputs": [],
   "source": [
    "event = logs.groupby(by=['date', 'eventname']).agg({'eventname' : 'count'})"
   ]
  },
  {
   "cell_type": "code",
   "execution_count": 41,
   "metadata": {},
   "outputs": [
    {
     "data": {
      "image/png": "[encoded data removed]",
      "text/plain": [
       "<Figure size 1500x1000 with 1 Axes>"
      ]
     },
     "metadata": {},
     "output_type": "display_data"
    }
   ],
   "source": [
    "event.plot(kind='bar', figsize=(15, 10))\n",
    "plt.xlabel('Дата, название события')\n",
    "plt.ylabel('Количество событий');"
   ]
  },
  {
   "cell_type": "code",
   "execution_count": 42,
   "metadata": {},
   "outputs": [
    {
     "data": {
      "text/html": [
       "<div>\n",
       "<style scoped>\n",
       "    .dataframe tbody tr th:only-of-type {\n",
       "        vertical-align: middle;\n",
       "    }\n",
       "\n",
       "    .dataframe tbody tr th {\n",
       "        vertical-align: top;\n",
       "    }\n",
       "\n",
       "    .dataframe thead th {\n",
       "        text-align: right;\n",
       "    }\n",
       "</style>\n",
       "<table border=\"1\" class=\"dataframe\">\n",
       "  <thead>\n",
       "    <tr style=\"text-align: right;\">\n",
       "      <th></th>\n",
       "      <th></th>\n",
       "      <th>eventname</th>\n",
       "    </tr>\n",
       "    <tr>\n",
       "      <th>date</th>\n",
       "      <th>eventname</th>\n",
       "      <th></th>\n",
       "    </tr>\n",
       "  </thead>\n",
       "  <tbody>\n",
       "    <tr>\n",
       "      <th rowspan=\"5\" valign=\"top\">2019-08-01</th>\n",
       "      <th>CartScreenAppear</th>\n",
       "      <td>6231</td>\n",
       "    </tr>\n",
       "    <tr>\n",
       "      <th>MainScreenAppear</th>\n",
       "      <td>17957</td>\n",
       "    </tr>\n",
       "    <tr>\n",
       "      <th>OffersScreenAppear</th>\n",
       "      <td>6991</td>\n",
       "    </tr>\n",
       "    <tr>\n",
       "      <th>PaymentScreenSuccessful</th>\n",
       "      <td>4802</td>\n",
       "    </tr>\n",
       "    <tr>\n",
       "      <th>Tutorial</th>\n",
       "      <td>248</td>\n",
       "    </tr>\n",
       "    <tr>\n",
       "      <th rowspan=\"5\" valign=\"top\">2019-08-02</th>\n",
       "      <th>CartScreenAppear</th>\n",
       "      <td>6529</td>\n",
       "    </tr>\n",
       "    <tr>\n",
       "      <th>MainScreenAppear</th>\n",
       "      <td>16812</td>\n",
       "    </tr>\n",
       "    <tr>\n",
       "      <th>OffersScreenAppear</th>\n",
       "      <td>6926</td>\n",
       "    </tr>\n",
       "    <tr>\n",
       "      <th>PaymentScreenSuccessful</th>\n",
       "      <td>5171</td>\n",
       "    </tr>\n",
       "    <tr>\n",
       "      <th>Tutorial</th>\n",
       "      <td>168</td>\n",
       "    </tr>\n",
       "    <tr>\n",
       "      <th rowspan=\"5\" valign=\"top\">2019-08-03</th>\n",
       "      <th>CartScreenAppear</th>\n",
       "      <td>6381</td>\n",
       "    </tr>\n",
       "    <tr>\n",
       "      <th>MainScreenAppear</th>\n",
       "      <td>14845</td>\n",
       "    </tr>\n",
       "    <tr>\n",
       "      <th>OffersScreenAppear</th>\n",
       "      <td>6797</td>\n",
       "    </tr>\n",
       "    <tr>\n",
       "      <th>PaymentScreenSuccessful</th>\n",
       "      <td>5166</td>\n",
       "    </tr>\n",
       "    <tr>\n",
       "      <th>Tutorial</th>\n",
       "      <td>162</td>\n",
       "    </tr>\n",
       "    <tr>\n",
       "      <th rowspan=\"5\" valign=\"top\">2019-08-04</th>\n",
       "      <th>CartScreenAppear</th>\n",
       "      <td>6162</td>\n",
       "    </tr>\n",
       "    <tr>\n",
       "      <th>MainScreenAppear</th>\n",
       "      <td>15216</td>\n",
       "    </tr>\n",
       "    <tr>\n",
       "      <th>OffersScreenAppear</th>\n",
       "      <td>6490</td>\n",
       "    </tr>\n",
       "    <tr>\n",
       "      <th>PaymentScreenSuccessful</th>\n",
       "      <td>5025</td>\n",
       "    </tr>\n",
       "    <tr>\n",
       "      <th>Tutorial</th>\n",
       "      <td>140</td>\n",
       "    </tr>\n",
       "    <tr>\n",
       "      <th rowspan=\"5\" valign=\"top\">2019-08-05</th>\n",
       "      <th>CartScreenAppear</th>\n",
       "      <td>6257</td>\n",
       "    </tr>\n",
       "    <tr>\n",
       "      <th>MainScreenAppear</th>\n",
       "      <td>18020</td>\n",
       "    </tr>\n",
       "    <tr>\n",
       "      <th>OffersScreenAppear</th>\n",
       "      <td>6672</td>\n",
       "    </tr>\n",
       "    <tr>\n",
       "      <th>PaymentScreenSuccessful</th>\n",
       "      <td>5043</td>\n",
       "    </tr>\n",
       "    <tr>\n",
       "      <th>Tutorial</th>\n",
       "      <td>121</td>\n",
       "    </tr>\n",
       "    <tr>\n",
       "      <th rowspan=\"5\" valign=\"top\">2019-08-06</th>\n",
       "      <th>CartScreenAppear</th>\n",
       "      <td>5744</td>\n",
       "    </tr>\n",
       "    <tr>\n",
       "      <th>MainScreenAppear</th>\n",
       "      <td>18771</td>\n",
       "    </tr>\n",
       "    <tr>\n",
       "      <th>OffersScreenAppear</th>\n",
       "      <td>6533</td>\n",
       "    </tr>\n",
       "    <tr>\n",
       "      <th>PaymentScreenSuccessful</th>\n",
       "      <td>4644</td>\n",
       "    </tr>\n",
       "    <tr>\n",
       "      <th>Tutorial</th>\n",
       "      <td>130</td>\n",
       "    </tr>\n",
       "    <tr>\n",
       "      <th rowspan=\"5\" valign=\"top\">2019-08-07</th>\n",
       "      <th>CartScreenAppear</th>\n",
       "      <td>5061</td>\n",
       "    </tr>\n",
       "    <tr>\n",
       "      <th>MainScreenAppear</th>\n",
       "      <td>15810</td>\n",
       "    </tr>\n",
       "    <tr>\n",
       "      <th>OffersScreenAppear</th>\n",
       "      <td>5941</td>\n",
       "    </tr>\n",
       "    <tr>\n",
       "      <th>PaymentScreenSuccessful</th>\n",
       "      <td>4262</td>\n",
       "    </tr>\n",
       "    <tr>\n",
       "      <th>Tutorial</th>\n",
       "      <td>70</td>\n",
       "    </tr>\n",
       "  </tbody>\n",
       "</table>\n",
       "</div>"
      ],
      "text/plain": [
       "                                    eventname\n",
       "date       eventname                         \n",
       "2019-08-01 CartScreenAppear              6231\n",
       "           MainScreenAppear             17957\n",
       "           OffersScreenAppear            6991\n",
       "           PaymentScreenSuccessful       4802\n",
       "           Tutorial                       248\n",
       "2019-08-02 CartScreenAppear              6529\n",
       "           MainScreenAppear             16812\n",
       "           OffersScreenAppear            6926\n",
       "           PaymentScreenSuccessful       5171\n",
       "           Tutorial                       168\n",
       "2019-08-03 CartScreenAppear              6381\n",
       "           MainScreenAppear             14845\n",
       "           OffersScreenAppear            6797\n",
       "           PaymentScreenSuccessful       5166\n",
       "           Tutorial                       162\n",
       "2019-08-04 CartScreenAppear              6162\n",
       "           MainScreenAppear             15216\n",
       "           OffersScreenAppear            6490\n",
       "           PaymentScreenSuccessful       5025\n",
       "           Tutorial                       140\n",
       "2019-08-05 CartScreenAppear              6257\n",
       "           MainScreenAppear             18020\n",
       "           OffersScreenAppear            6672\n",
       "           PaymentScreenSuccessful       5043\n",
       "           Tutorial                       121\n",
       "2019-08-06 CartScreenAppear              5744\n",
       "           MainScreenAppear             18771\n",
       "           OffersScreenAppear            6533\n",
       "           PaymentScreenSuccessful       4644\n",
       "           Tutorial                       130\n",
       "2019-08-07 CartScreenAppear              5061\n",
       "           MainScreenAppear             15810\n",
       "           OffersScreenAppear            5941\n",
       "           PaymentScreenSuccessful       4262\n",
       "           Tutorial                        70"
      ]
     },
     "execution_count": 42,
     "metadata": {},
     "output_type": "execute_result"
    }
   ],
   "source": [
    "event"
   ]
  },
  {
   "cell_type": "code",
   "execution_count": 43,
   "metadata": {},
   "outputs": [],
   "source": [
    "event_users = logs.groupby(by='eventname')['userid'].nunique().sort_values(ascending=False).reset_index()\n",
    "event_users['percent'] = round(event_users['userid']/logs['userid'].nunique(), 2) "
   ]
  },
  {
   "cell_type": "code",
   "execution_count": 44,
   "metadata": {},
   "outputs": [
    {
     "data": {
      "text/html": [
       "<div>\n",
       "<style scoped>\n",
       "    .dataframe tbody tr th:only-of-type {\n",
       "        vertical-align: middle;\n",
       "    }\n",
       "\n",
       "    .dataframe tbody tr th {\n",
       "        vertical-align: top;\n",
       "    }\n",
       "\n",
       "    .dataframe thead th {\n",
       "        text-align: right;\n",
       "    }\n",
       "</style>\n",
       "<table border=\"1\" class=\"dataframe\">\n",
       "  <thead>\n",
       "    <tr style=\"text-align: right;\">\n",
       "      <th></th>\n",
       "      <th>eventname</th>\n",
       "      <th>userid</th>\n",
       "      <th>percent</th>\n",
       "    </tr>\n",
       "  </thead>\n",
       "  <tbody>\n",
       "    <tr>\n",
       "      <th>0</th>\n",
       "      <td>MainScreenAppear</td>\n",
       "      <td>7419</td>\n",
       "      <td>0.98</td>\n",
       "    </tr>\n",
       "    <tr>\n",
       "      <th>1</th>\n",
       "      <td>OffersScreenAppear</td>\n",
       "      <td>4593</td>\n",
       "      <td>0.61</td>\n",
       "    </tr>\n",
       "    <tr>\n",
       "      <th>2</th>\n",
       "      <td>CartScreenAppear</td>\n",
       "      <td>3734</td>\n",
       "      <td>0.50</td>\n",
       "    </tr>\n",
       "    <tr>\n",
       "      <th>3</th>\n",
       "      <td>PaymentScreenSuccessful</td>\n",
       "      <td>3539</td>\n",
       "      <td>0.47</td>\n",
       "    </tr>\n",
       "    <tr>\n",
       "      <th>4</th>\n",
       "      <td>Tutorial</td>\n",
       "      <td>840</td>\n",
       "      <td>0.11</td>\n",
       "    </tr>\n",
       "  </tbody>\n",
       "</table>\n",
       "</div>"
      ],
      "text/plain": [
       "                 eventname  userid  percent\n",
       "0         MainScreenAppear    7419     0.98\n",
       "1       OffersScreenAppear    4593     0.61\n",
       "2         CartScreenAppear    3734     0.50\n",
       "3  PaymentScreenSuccessful    3539     0.47\n",
       "4                 Tutorial     840     0.11"
      ]
     },
     "execution_count": 44,
     "metadata": {},
     "output_type": "execute_result"
    }
   ],
   "source": [
    "event_users"
   ]
  },
  {
   "cell_type": "markdown",
   "metadata": {},
   "source": [
    "Порядок происходящих событий:\n",
    " - MainScreenAppear\t- просмотр главного экрана\n",
    " - OffersScreenAppear - просмотр экраана каталога\n",
    " - CartScreenAppear\t- просмотр экрана корзины\n",
    " - PaymentScreenSuccessful - прсомотр экрана оплаты\n",
    "\n",
    "Tutorial не входит в цепочку событий, потому что это обучение и его можно пропустить, мы исключим его из основных рассчетов."
   ]
  },
  {
   "cell_type": "code",
   "execution_count": 45,
   "metadata": {},
   "outputs": [
    {
     "data": {
      "text/html": [
       "<div>\n",
       "<style scoped>\n",
       "    .dataframe tbody tr th:only-of-type {\n",
       "        vertical-align: middle;\n",
       "    }\n",
       "\n",
       "    .dataframe tbody tr th {\n",
       "        vertical-align: top;\n",
       "    }\n",
       "\n",
       "    .dataframe thead th {\n",
       "        text-align: right;\n",
       "    }\n",
       "</style>\n",
       "<table border=\"1\" class=\"dataframe\">\n",
       "  <thead>\n",
       "    <tr style=\"text-align: right;\">\n",
       "      <th></th>\n",
       "      <th>eventname</th>\n",
       "      <th>userid</th>\n",
       "      <th>percent</th>\n",
       "      <th>churn_rate</th>\n",
       "    </tr>\n",
       "  </thead>\n",
       "  <tbody>\n",
       "    <tr>\n",
       "      <th>0</th>\n",
       "      <td>MainScreenAppear</td>\n",
       "      <td>7419</td>\n",
       "      <td>0.99</td>\n",
       "      <td>1.00</td>\n",
       "    </tr>\n",
       "    <tr>\n",
       "      <th>1</th>\n",
       "      <td>OffersScreenAppear</td>\n",
       "      <td>4593</td>\n",
       "      <td>0.61</td>\n",
       "      <td>38.09</td>\n",
       "    </tr>\n",
       "    <tr>\n",
       "      <th>2</th>\n",
       "      <td>CartScreenAppear</td>\n",
       "      <td>3734</td>\n",
       "      <td>0.50</td>\n",
       "      <td>18.70</td>\n",
       "    </tr>\n",
       "    <tr>\n",
       "      <th>3</th>\n",
       "      <td>PaymentScreenSuccessful</td>\n",
       "      <td>3539</td>\n",
       "      <td>0.47</td>\n",
       "      <td>5.22</td>\n",
       "    </tr>\n",
       "  </tbody>\n",
       "</table>\n",
       "</div>"
      ],
      "text/plain": [
       "                 eventname  userid  percent  churn_rate\n",
       "0         MainScreenAppear    7419     0.99        1.00\n",
       "1       OffersScreenAppear    4593     0.61       38.09\n",
       "2         CartScreenAppear    3734     0.50       18.70\n",
       "3  PaymentScreenSuccessful    3539     0.47        5.22"
      ]
     },
     "execution_count": 45,
     "metadata": {},
     "output_type": "execute_result"
    }
   ],
   "source": [
    "moove = logs.query('eventname != \"Tutorial\"')\n",
    "event_users_new = moove.groupby(by='eventname')['userid'].nunique().sort_values(ascending=False).reset_index()\n",
    "event_users_new['percent'] = round(event_users_new['userid']/moove['userid'].nunique(), 2) \n",
    "\n",
    "event_users_new['churn_rate'] = round((1-(event_users_new['userid']/event_users_new['userid'].shift(1)))*100, 2)\n",
    "event_users_new.loc[0, 'churn_rate'] = 1.00\n",
    "\n",
    "event_users_new"
   ]
  },
  {
   "cell_type": "code",
   "execution_count": 46,
   "metadata": {},
   "outputs": [
    {
     "data": {
      "image/png": "[encoded data removed]",
      "text/plain": [
       "<Figure size 1000x500 with 1 Axes>"
      ]
     },
     "metadata": {},
     "output_type": "display_data"
    }
   ],
   "source": [
    "event_users_new.plot(kind='bar', x='eventname', y='userid', figsize=(10,5))\n",
    "plt.grid()\n",
    "plt.xlabel('События')\n",
    "plt.ylabel('количество пользователей')\n",
    "plt.title('График количества пользователей в событиях');"
   ]
  },
  {
   "cell_type": "markdown",
   "metadata": {},
   "source": [
    "##### Промежуточный вывод"
   ]
  },
  {
   "cell_type": "markdown",
   "metadata": {},
   "source": [
    "Мы изучили воронку событий и вот к чему пришли:\n",
    " - В таблице представлены столбцы:\n",
    "     - **MainScreenAppear**\t- просмотр главного экрана\n",
    "     - **OffersScreenAppear** - просмотр экраана каталога\n",
    "     - **CartScreenAppear**\t- просмотр экрана корзины\n",
    "     - **PaymentScreenSuccessful** - прсомотр экрана оплаты\n",
    "     - **Tutorial** - экран обучение, который можно пропустить\n",
    " - Сколько пользователей совершали событие:\n",
    "     - **MainScreenAppear**\t- 7419\n",
    "     - **OffersScreenAppear** - 4593\n",
    "     - **CartScreenAppear**\t- 3734\n",
    "     - **PaymentScreenSuccessful** - 3539\n",
    "     - **Tutorial** - 840\n",
    " - Какая доля от общего числа пользователей, которые хоть раз совершали событие:\n",
    "     - **MainScreenAppear**\t- 0,98 (Видимо не все пользователи заходят санчала на главный экран, возможно кто-то сразу заходит в каталог)\n",
    "     - **OffersScreenAppear** - 0,61\n",
    "     - **CartScreenAppear**\t- 0,50\n",
    "     - **PaymentScreenSuccessful** - 0,47\n",
    "     - **Tutorial** - 0,11 (Как видно, большинство пользователей пропускают обучение, поэтому мы исключили Tutorial  из дальнейших рассчетов.)\n",
    " - Порядок таков:\n",
    "     1. **MainScreenAppear**\n",
    "     2. **OffersScreenAppear**\n",
    "     3.  **CartScreenAppear**\n",
    "     4.  **PaymentScreenSuccessful**\n",
    " - Для лучшего понимания показателей мы рассчитали сколько пользователей мы теряли после каждого шага, то есть Churn Rate:\n",
    "     - **OffersScreenAppear** - 1.00%\n",
    "     - **CartScreenAppear**\t- 38.09%\n",
    "     - **PaymentScreenSuccessful** - 18.70%\n",
    "     - **Tutorial** - 5.22%\n",
    " - Больше всего мы теряем пользователей при переходе с главного экрана на экран каталога, то есть втором шаге, целых 38.09%, в следующем же шагах 18.7%, а в последнем и вовсе 5.22%.\n",
    " - По итогу от изначального количества пользователей, до оплаты доходит 0.47, то есть почти половина пользователей."
   ]
  },
  {
   "cell_type": "markdown",
   "metadata": {},
   "source": [
    "### Результаты экперимента"
   ]
  },
  {
   "cell_type": "code",
   "execution_count": 47,
   "metadata": {},
   "outputs": [
    {
     "name": "stdout",
     "output_type": "stream",
     "text": [
      "Количество участников первой контрольной группы, после очистки: 2484\n",
      "Количество участников второй контрольной группы, после очистки: 2513\n",
      "Количество участников эксперементальной группы, после очистки: 2537\n"
     ]
    }
   ],
   "source": [
    "print(f'Количество участников первой контрольной группы, после очистки:', logs[logs['group']=='A1']['userid'].nunique())\n",
    "print(f'Количество участников второй контрольной группы, после очистки:', logs[logs['group']=='A2']['userid'].nunique())\n",
    "print(f'Количество участников эксперементальной группы, после очистки:', logs[logs['group']=='B']['userid'].nunique())"
   ]
  },
  {
   "cell_type": "markdown",
   "metadata": {},
   "source": [
    "Критерии успешного A/A-теста: \n",
    " - Количество пользователей в различных группах различается не более, чем на 1%;\n",
    " - Для всех групп фиксируют и отправляют в системы аналитики данные об одном и том же;\n",
    " - Различие ключевых метрик по группам не превышает 1% и не имеет статистической значимости;\n",
    " - Попавший в одну из групп посетитель остаётся в этой группе до конца теста. Если пользователь видит разные версии исследуемой страницы в ходе одного исследования, неизвестно, какая именно повлияла на его решения. Значит, и результаты такого теста нельзя интерпретировать однозначно."
   ]
  },
  {
   "cell_type": "code",
   "execution_count": 48,
   "metadata": {},
   "outputs": [],
   "source": [
    "user_A1 = logs[logs['group']=='A1']"
   ]
  },
  {
   "cell_type": "code",
   "execution_count": 49,
   "metadata": {},
   "outputs": [],
   "source": [
    "user_A2 = logs[logs['group']=='A2']"
   ]
  },
  {
   "cell_type": "code",
   "execution_count": 50,
   "metadata": {},
   "outputs": [
    {
     "name": "stdout",
     "output_type": "stream",
     "text": [
      "Количество уникальных пользователей в группах А1 и А2 различается на: 1.17 %\n"
     ]
    }
   ],
   "source": [
    "print('Количество уникальных пользователей в группах А1 и А2 различается на:', round(((user_A2['userid'].nunique()/user_A1['userid'].nunique())-1)*100, 2), '%')"
   ]
  },
  {
   "cell_type": "markdown",
   "metadata": {},
   "source": [
    "Один из критериев успешного А/А-теста это различие не более, чем на 1%, но посчитаем, что в нашем случае это не критично."
   ]
  },
  {
   "cell_type": "markdown",
   "metadata": {},
   "source": [
    "Для проведения проверки между контрольными группами статистических различий создадим две таблицы, одна с полным количеством уникальных пользователей, вторая с количеством пользователей в каждом событии. Напишем функцию для опредления статистических различий между группами при помощи метода Боныфферони. Так как в нашем эксперименте 4 пары групп и 4 этапа в воронке, число гипотез равно 16, следовательно, bonferroni_alpha будет равно alpha / 16."
   ]
  },
  {
   "cell_type": "markdown",
   "metadata": {},
   "source": [
    "Нулевая гипотеза: \"Различий доли конверсии между группами А1 и А2 нет\"\n",
    "\n",
    "Альтернативная гипотеза: \"Различия доли конверсии между группами А1 и А2 есть\""
   ]
  },
  {
   "cell_type": "code",
   "execution_count": 51,
   "metadata": {},
   "outputs": [],
   "source": [
    "table_AA = logs.pivot_table(index='eventname', columns='group', values='userid', aggfunc='nunique')\\\n",
    ".sort_values(by='A1', ascending=False)\n",
    "\n",
    "table_AA['A'] = table_AA['A1'] + table_AA['A2']\n",
    "table_AA.drop(['Tutorial'], inplace=True)"
   ]
  },
  {
   "cell_type": "code",
   "execution_count": 52,
   "metadata": {},
   "outputs": [
    {
     "data": {
      "text/html": [
       "<div>\n",
       "<style scoped>\n",
       "    .dataframe tbody tr th:only-of-type {\n",
       "        vertical-align: middle;\n",
       "    }\n",
       "\n",
       "    .dataframe tbody tr th {\n",
       "        vertical-align: top;\n",
       "    }\n",
       "\n",
       "    .dataframe thead th {\n",
       "        text-align: right;\n",
       "    }\n",
       "</style>\n",
       "<table border=\"1\" class=\"dataframe\">\n",
       "  <thead>\n",
       "    <tr style=\"text-align: right;\">\n",
       "      <th>group</th>\n",
       "      <th>A1</th>\n",
       "      <th>A2</th>\n",
       "      <th>B</th>\n",
       "      <th>A</th>\n",
       "    </tr>\n",
       "    <tr>\n",
       "      <th>eventname</th>\n",
       "      <th></th>\n",
       "      <th></th>\n",
       "      <th></th>\n",
       "      <th></th>\n",
       "    </tr>\n",
       "  </thead>\n",
       "  <tbody>\n",
       "    <tr>\n",
       "      <th>MainScreenAppear</th>\n",
       "      <td>2450</td>\n",
       "      <td>2476</td>\n",
       "      <td>2493</td>\n",
       "      <td>4926</td>\n",
       "    </tr>\n",
       "    <tr>\n",
       "      <th>OffersScreenAppear</th>\n",
       "      <td>1542</td>\n",
       "      <td>1520</td>\n",
       "      <td>1531</td>\n",
       "      <td>3062</td>\n",
       "    </tr>\n",
       "    <tr>\n",
       "      <th>CartScreenAppear</th>\n",
       "      <td>1266</td>\n",
       "      <td>1238</td>\n",
       "      <td>1230</td>\n",
       "      <td>2504</td>\n",
       "    </tr>\n",
       "    <tr>\n",
       "      <th>PaymentScreenSuccessful</th>\n",
       "      <td>1200</td>\n",
       "      <td>1158</td>\n",
       "      <td>1181</td>\n",
       "      <td>2358</td>\n",
       "    </tr>\n",
       "  </tbody>\n",
       "</table>\n",
       "</div>"
      ],
      "text/plain": [
       "group                      A1    A2     B     A\n",
       "eventname                                      \n",
       "MainScreenAppear         2450  2476  2493  4926\n",
       "OffersScreenAppear       1542  1520  1531  3062\n",
       "CartScreenAppear         1266  1238  1230  2504\n",
       "PaymentScreenSuccessful  1200  1158  1181  2358"
      ]
     },
     "execution_count": 52,
     "metadata": {},
     "output_type": "execute_result"
    }
   ],
   "source": [
    "table_AA"
   ]
  },
  {
   "cell_type": "code",
   "execution_count": 53,
   "metadata": {},
   "outputs": [
    {
     "data": {
      "text/html": [
       "<div>\n",
       "<style scoped>\n",
       "    .dataframe tbody tr th:only-of-type {\n",
       "        vertical-align: middle;\n",
       "    }\n",
       "\n",
       "    .dataframe tbody tr th {\n",
       "        vertical-align: top;\n",
       "    }\n",
       "\n",
       "    .dataframe thead th {\n",
       "        text-align: right;\n",
       "    }\n",
       "</style>\n",
       "<table border=\"1\" class=\"dataframe\">\n",
       "  <thead>\n",
       "    <tr style=\"text-align: right;\">\n",
       "      <th></th>\n",
       "      <th>userid</th>\n",
       "    </tr>\n",
       "    <tr>\n",
       "      <th>group</th>\n",
       "      <th></th>\n",
       "    </tr>\n",
       "  </thead>\n",
       "  <tbody>\n",
       "    <tr>\n",
       "      <th>A1</th>\n",
       "      <td>2484</td>\n",
       "    </tr>\n",
       "    <tr>\n",
       "      <th>A2</th>\n",
       "      <td>2513</td>\n",
       "    </tr>\n",
       "    <tr>\n",
       "      <th>B</th>\n",
       "      <td>2537</td>\n",
       "    </tr>\n",
       "    <tr>\n",
       "      <th>A</th>\n",
       "      <td>4997</td>\n",
       "    </tr>\n",
       "    <tr>\n",
       "      <th>All</th>\n",
       "      <td>7534</td>\n",
       "    </tr>\n",
       "  </tbody>\n",
       "</table>\n",
       "</div>"
      ],
      "text/plain": [
       "       userid\n",
       "group        \n",
       "A1       2484\n",
       "A2       2513\n",
       "B        2537\n",
       "A        4997\n",
       "All      7534"
      ]
     },
     "execution_count": 53,
     "metadata": {},
     "output_type": "execute_result"
    }
   ],
   "source": [
    "count_user_group = logs.groupby('group')['userid'].nunique().reset_index()\n",
    "A = logs[logs['group']=='A1']['userid'].nunique()  + logs[logs['group']=='A2']['userid'].nunique()\n",
    "All = logs['userid'].nunique()\n",
    "count_user_group.loc[len(count_user_group['group'])+1] = ['A', A]\n",
    "count_user_group.loc[len(count_user_group['group'])+1] = ['All', All]\n",
    "count_user_group = count_user_group.set_index(count_user_group.columns[0])\n",
    "count_user_group\n"
   ]
  },
  {
   "cell_type": "code",
   "execution_count": 54,
   "metadata": {},
   "outputs": [],
   "source": [
    "alpha = .05\n",
    "def AA_test(group1, group2, event, alpha): \n",
    "    p1_event = table_AA.loc[event, group1]\n",
    "    p2_event = table_AA.loc[event, group2] \n",
    "    p1_users = count_user_group.loc[group1, 'userid'] \n",
    "    p2_users = count_user_group.loc[group2, 'userid'] \n",
    "    p1 = p1_event / p1_users \n",
    "    p2 = p2_event / p2_users \n",
    "    difference = p1 - p2\n",
    "    p_combined = (p1_event + p2_event) / (p1_users + p2_users) \n",
    "    z_value = difference / mth.sqrt(p_combined * (1 - p_combined) * (1 / p1_users + 1 / p2_users))\n",
    "    distr = st.norm(0, 1)\n",
    "    p_value = (1 - distr.cdf(abs(z_value))) * 2\n",
    "    \n",
    "    bonferroni_alpha = alpha / 16\n",
    "    \n",
    "    print(f'Проверка для групп {group1} и {group2}, событие: {event}, p-значение: {p_value:.2f}')\n",
    "    if (p_value < bonferroni_alpha):\n",
    "        print(\"Отвергаем нулевую гипотезу о равенстве доли конверсии в группах\")\n",
    "    else:\n",
    "        print(\"Не получилось отвергнуть нулевую гипотезу о равенстве доли конверсии в группах\")"
   ]
  },
  {
   "cell_type": "code",
   "execution_count": 55,
   "metadata": {},
   "outputs": [
    {
     "name": "stdout",
     "output_type": "stream",
     "text": [
      "Проверка для групп A1 и A2, событие: MainScreenAppear, p-значение: 0.76\n",
      "Не получилось отвергнуть нулевую гипотезу о равенстве доли конверсии в группах\n",
      "\n",
      "Проверка для групп A1 и A2, событие: OffersScreenAppear, p-значение: 0.25\n",
      "Не получилось отвергнуть нулевую гипотезу о равенстве доли конверсии в группах\n",
      "\n",
      "Проверка для групп A1 и A2, событие: CartScreenAppear, p-значение: 0.23\n",
      "Не получилось отвергнуть нулевую гипотезу о равенстве доли конверсии в группах\n",
      "\n",
      "Проверка для групп A1 и A2, событие: PaymentScreenSuccessful, p-значение: 0.11\n",
      "Не получилось отвергнуть нулевую гипотезу о равенстве доли конверсии в группах\n",
      "\n"
     ]
    }
   ],
   "source": [
    "for event in table_AA.index:\n",
    "    AA_test('A1', 'A2', event, 0.05)\n",
    "    print()"
   ]
  },
  {
   "cell_type": "markdown",
   "metadata": {},
   "source": [
    "Вывод о различии долей сделать нельзя. Результат А/А теста показывает, что обе контрольные группы показывают идентичные результаты. Это поможет сделать более достоверные выводы о дальнейшем A/B тестировании."
   ]
  },
  {
   "cell_type": "markdown",
   "metadata": {},
   "source": [
    "Проведем А/B тестирование.\n",
    "\n",
    "Нулевая гипотеза: \"Различий между группами по долям конверсии нету\"\n",
    "\n",
    "Альтернативная гипотеза: \"Различия между группами по долям конверсии имеются\""
   ]
  },
  {
   "cell_type": "code",
   "execution_count": 56,
   "metadata": {},
   "outputs": [
    {
     "name": "stdout",
     "output_type": "stream",
     "text": [
      "Проверка для групп A1 и B, событие: MainScreenAppear, p-значение: 0.29\n",
      "Не получилось отвергнуть нулевую гипотезу о равенстве доли конверсии в группах\n",
      "\n",
      "Проверка для групп A1 и B, событие: OffersScreenAppear, p-значение: 0.21\n",
      "Не получилось отвергнуть нулевую гипотезу о равенстве доли конверсии в группах\n",
      "\n",
      "Проверка для групп A1 и B, событие: CartScreenAppear, p-значение: 0.08\n",
      "Не получилось отвергнуть нулевую гипотезу о равенстве доли конверсии в группах\n",
      "\n",
      "Проверка для групп A1 и B, событие: PaymentScreenSuccessful, p-значение: 0.21\n",
      "Не получилось отвергнуть нулевую гипотезу о равенстве доли конверсии в группах\n",
      "\n"
     ]
    }
   ],
   "source": [
    "for event in table_AA.index:\n",
    "    AA_test('A1', 'B', event, 0.05)\n",
    "    print()"
   ]
  },
  {
   "cell_type": "code",
   "execution_count": 57,
   "metadata": {},
   "outputs": [
    {
     "name": "stdout",
     "output_type": "stream",
     "text": [
      "Проверка для групп A2 и B, событие: MainScreenAppear, p-значение: 0.46\n",
      "Не получилось отвергнуть нулевую гипотезу о равенстве доли конверсии в группах\n",
      "\n",
      "Проверка для групп A2 и B, событие: OffersScreenAppear, p-значение: 0.92\n",
      "Не получилось отвергнуть нулевую гипотезу о равенстве доли конверсии в группах\n",
      "\n",
      "Проверка для групп A2 и B, событие: CartScreenAppear, p-значение: 0.58\n",
      "Не получилось отвергнуть нулевую гипотезу о равенстве доли конверсии в группах\n",
      "\n",
      "Проверка для групп A2 и B, событие: PaymentScreenSuccessful, p-значение: 0.74\n",
      "Не получилось отвергнуть нулевую гипотезу о равенстве доли конверсии в группах\n",
      "\n"
     ]
    }
   ],
   "source": [
    "for event in table_AA.index:\n",
    "    AA_test('A2', 'B', event, 0.05)\n",
    "    print()"
   ]
  },
  {
   "cell_type": "code",
   "execution_count": 58,
   "metadata": {},
   "outputs": [
    {
     "name": "stdout",
     "output_type": "stream",
     "text": [
      "Проверка для групп A и B, событие: MainScreenAppear, p-значение: 0.29\n",
      "Не получилось отвергнуть нулевую гипотезу о равенстве доли конверсии в группах\n",
      "\n",
      "Проверка для групп A и B, событие: OffersScreenAppear, p-значение: 0.43\n",
      "Не получилось отвергнуть нулевую гипотезу о равенстве доли конверсии в группах\n",
      "\n",
      "Проверка для групп A и B, событие: CartScreenAppear, p-значение: 0.18\n",
      "Не получилось отвергнуть нулевую гипотезу о равенстве доли конверсии в группах\n",
      "\n",
      "Проверка для групп A и B, событие: PaymentScreenSuccessful, p-значение: 0.60\n",
      "Не получилось отвергнуть нулевую гипотезу о равенстве доли конверсии в группах\n",
      "\n"
     ]
    }
   ],
   "source": [
    "for event in table_AA.index:\n",
    "    AA_test('A', 'B', event, 0.05)\n",
    "    print()"
   ]
  },
  {
   "cell_type": "markdown",
   "metadata": {},
   "source": [
    "##### Промежуточный вывод"
   ]
  },
  {
   "cell_type": "markdown",
   "metadata": {},
   "source": [
    "По итогу А/В-теста, я могу с уверенностью сказать, что шрифт не влияет на использование пользователями приложением. Все результаты показали, что различий между группами нет."
   ]
  },
  {
   "cell_type": "markdown",
   "metadata": {},
   "source": [
    "### Итоговый вывод"
   ]
  },
  {
   "cell_type": "markdown",
   "metadata": {},
   "source": [
    "Отвечаю на основные вопросы проекта:\n",
    "- До покупки, от общего числа пользователей, доходит 47%\n",
    "- Больше всего мы теряем пользователей при переходе с главного экрана на экран каталога, то есть втором шаге, целых 38.09%, в следующем же шагах 18.7%, а в последнем и вовсе 5.22%.\n",
    "- От смены шрифта, активность пользователей не изменится, A/B-тест показал, что изменение шрифта не повлияет статистически на конверсию пользоватлей.\n",
    "\n",
    "Дополнитльные итоги:\n",
    "- Также мы провели предобработку данных и откинули лишние, мы ограничились только данными с 2019-08-01 по2019-08-07. За предыдущие даты данные оказались некорректными.\n",
    "- После предобработки мы потеряли менее 5% данных, что является хорошим результатом\n",
    "- Также мы провели предобработку данных и откинули лишние, мы ограничились только данными с 2019-08-01 по2019-08-07. За предыдущие даты данные оказались некорректными.\n",
    "- Вывили порядок событий:\n",
    "     1. **MainScreenAppear** - при этом некоторые пользователи пропускали это событие и сразу переходили к следующему\n",
    "     2. **OffersScreenAppear**\n",
    "     3.  **CartScreenAppear**\n",
    "     4.  **PaymentScreenSuccessful**\n",
    "- Исключили из анализа событие Tutorial, так как его, скорее всего, пользователи пропускали\n",
    "- Мы так же проверили контрольный группы А1 и А2 А/А-тестом, выяснили что статистически они не различаются по долям конверсии.\n",
    "\n",
    "Рекомендации: \n",
    "1. Мы теряем слишком много пользователей на первом экране (38.09%), его опредленно стоит переработать.\n",
    "2. При переходе с экрана корзины, на экран оплаты мы теряем около 5.22% пользователей, это очень странно, скороее всего там есть какие-то технические проблемы.\n",
    "3. Шрифт не имеет смысла менять, возможно он также удобен как и предыдущий. Рекомендую посмотреть на другие аспекты приложения, которые можно было бы поменять, после чего провести еще одно тестирования для выявления результата."
   ]
  }
 ],
 "metadata": {
  "ExecuteTimeLog": [
   {
    "duration": 383,
    "start_time": "2023-06-30T18:42:38.555Z"
   },
   {
    "duration": 783,
    "start_time": "2023-06-30T18:43:50.371Z"
   },
   {
    "duration": 904,
    "start_time": "2023-06-30T18:43:52.922Z"
   },
   {
    "duration": 354,
    "start_time": "2023-06-30T18:43:55.675Z"
   },
   {
    "duration": 88,
    "start_time": "2023-06-30T18:44:00.083Z"
   },
   {
    "duration": 89,
    "start_time": "2023-06-30T18:44:11.278Z"
   },
   {
    "duration": 4,
    "start_time": "2023-06-30T18:44:26.024Z"
   },
   {
    "duration": 85,
    "start_time": "2023-06-30T18:44:27.261Z"
   },
   {
    "duration": 326,
    "start_time": "2023-06-30T18:44:41.456Z"
   },
   {
    "duration": 21,
    "start_time": "2023-06-30T18:44:43.296Z"
   },
   {
    "duration": 96,
    "start_time": "2023-06-30T18:44:46.098Z"
   },
   {
    "duration": 9,
    "start_time": "2023-06-30T18:44:48.732Z"
   },
   {
    "duration": 304,
    "start_time": "2023-06-30T18:44:56.556Z"
   },
   {
    "duration": 8,
    "start_time": "2023-06-30T18:44:58.218Z"
   },
   {
    "duration": 176,
    "start_time": "2023-06-30T18:45:43.070Z"
   },
   {
    "duration": 11,
    "start_time": "2023-06-30T18:45:44.463Z"
   },
   {
    "duration": 8,
    "start_time": "2023-06-30T18:45:54.589Z"
   },
   {
    "duration": 20,
    "start_time": "2023-06-30T18:46:06.144Z"
   },
   {
    "duration": 1486,
    "start_time": "2023-06-30T18:47:10.668Z"
   },
   {
    "duration": 17,
    "start_time": "2023-06-30T18:47:24.120Z"
   },
   {
    "duration": 1385,
    "start_time": "2023-06-30T18:47:42.131Z"
   },
   {
    "duration": 10,
    "start_time": "2023-06-30T18:47:51.626Z"
   },
   {
    "duration": 88,
    "start_time": "2023-06-30T18:50:06.031Z"
   },
   {
    "duration": 128,
    "start_time": "2023-06-30T18:50:37.689Z"
   },
   {
    "duration": 18,
    "start_time": "2023-06-30T18:51:59.406Z"
   },
   {
    "duration": 78,
    "start_time": "2023-06-30T18:52:05.835Z"
   },
   {
    "duration": 86,
    "start_time": "2023-06-30T18:52:12.163Z"
   },
   {
    "duration": 20,
    "start_time": "2023-06-30T18:52:22.372Z"
   },
   {
    "duration": 19,
    "start_time": "2023-06-30T18:53:03.544Z"
   },
   {
    "duration": 28,
    "start_time": "2023-06-30T18:53:08.092Z"
   },
   {
    "duration": 23,
    "start_time": "2023-06-30T18:54:54.883Z"
   },
   {
    "duration": 75,
    "start_time": "2023-06-30T18:55:27.812Z"
   },
   {
    "duration": 40,
    "start_time": "2023-06-30T18:55:30.612Z"
   },
   {
    "duration": 31,
    "start_time": "2023-06-30T19:10:53.758Z"
   },
   {
    "duration": 16,
    "start_time": "2023-06-30T19:11:15.714Z"
   },
   {
    "duration": 50,
    "start_time": "2023-06-30T19:11:18.683Z"
   },
   {
    "duration": 56,
    "start_time": "2023-06-30T19:11:24.598Z"
   },
   {
    "duration": 33,
    "start_time": "2023-06-30T19:11:27.442Z"
   },
   {
    "duration": 15,
    "start_time": "2023-06-30T19:11:29.050Z"
   },
   {
    "duration": 11,
    "start_time": "2023-06-30T19:11:31.914Z"
   },
   {
    "duration": 13,
    "start_time": "2023-06-30T19:11:49.770Z"
   },
   {
    "duration": 19,
    "start_time": "2023-06-30T19:12:24.696Z"
   },
   {
    "duration": 7,
    "start_time": "2023-06-30T19:12:28.032Z"
   },
   {
    "duration": 1080,
    "start_time": "2023-06-30T20:14:58.802Z"
   },
   {
    "duration": 573,
    "start_time": "2023-06-30T20:14:59.884Z"
   },
   {
    "duration": 16,
    "start_time": "2023-06-30T20:15:00.460Z"
   },
   {
    "duration": 86,
    "start_time": "2023-06-30T20:15:00.478Z"
   },
   {
    "duration": 0,
    "start_time": "2023-06-30T20:15:00.567Z"
   },
   {
    "duration": 0,
    "start_time": "2023-06-30T20:15:00.569Z"
   },
   {
    "duration": 0,
    "start_time": "2023-06-30T20:15:00.570Z"
   },
   {
    "duration": 0,
    "start_time": "2023-06-30T20:15:00.573Z"
   },
   {
    "duration": 0,
    "start_time": "2023-06-30T20:15:00.574Z"
   },
   {
    "duration": 1,
    "start_time": "2023-06-30T20:15:00.575Z"
   },
   {
    "duration": 0,
    "start_time": "2023-06-30T20:15:00.577Z"
   },
   {
    "duration": 0,
    "start_time": "2023-06-30T20:15:00.579Z"
   },
   {
    "duration": 0,
    "start_time": "2023-06-30T20:15:00.580Z"
   },
   {
    "duration": 1169,
    "start_time": "2023-06-30T20:15:17.508Z"
   },
   {
    "duration": 244,
    "start_time": "2023-06-30T20:15:18.679Z"
   },
   {
    "duration": 15,
    "start_time": "2023-06-30T20:15:18.926Z"
   },
   {
    "duration": 40,
    "start_time": "2023-06-30T20:15:18.943Z"
   },
   {
    "duration": 29,
    "start_time": "2023-06-30T20:15:19.001Z"
   },
   {
    "duration": 31,
    "start_time": "2023-06-30T20:15:19.032Z"
   },
   {
    "duration": 56,
    "start_time": "2023-06-30T20:15:19.065Z"
   },
   {
    "duration": 15,
    "start_time": "2023-06-30T20:15:19.123Z"
   },
   {
    "duration": 34,
    "start_time": "2023-06-30T20:15:19.140Z"
   },
   {
    "duration": 31,
    "start_time": "2023-06-30T20:15:19.176Z"
   },
   {
    "duration": 29,
    "start_time": "2023-06-30T20:15:19.210Z"
   },
   {
    "duration": 18,
    "start_time": "2023-06-30T20:15:19.242Z"
   },
   {
    "duration": 99,
    "start_time": "2023-06-30T20:15:44.869Z"
   },
   {
    "duration": 4,
    "start_time": "2023-06-30T20:17:31.866Z"
   },
   {
    "duration": 13,
    "start_time": "2023-06-30T20:17:35.723Z"
   },
   {
    "duration": 16,
    "start_time": "2023-06-30T20:18:36.358Z"
   },
   {
    "duration": 7,
    "start_time": "2023-06-30T20:18:37.618Z"
   },
   {
    "duration": 1810,
    "start_time": "2023-06-30T20:19:03.844Z"
   },
   {
    "duration": 763,
    "start_time": "2023-06-30T20:19:19.659Z"
   },
   {
    "duration": 102,
    "start_time": "2023-06-30T20:21:19.131Z"
   },
   {
    "duration": 14,
    "start_time": "2023-06-30T20:21:22.886Z"
   },
   {
    "duration": 78,
    "start_time": "2023-06-30T20:22:44.887Z"
   },
   {
    "duration": 11,
    "start_time": "2023-06-30T20:22:57.917Z"
   },
   {
    "duration": 24,
    "start_time": "2023-06-30T20:23:08.694Z"
   },
   {
    "duration": 15,
    "start_time": "2023-06-30T20:23:10.417Z"
   },
   {
    "duration": 23,
    "start_time": "2023-06-30T20:23:18.524Z"
   },
   {
    "duration": 25,
    "start_time": "2023-06-30T20:23:26.357Z"
   },
   {
    "duration": 14,
    "start_time": "2023-06-30T20:23:31.431Z"
   },
   {
    "duration": 11,
    "start_time": "2023-06-30T20:23:45.386Z"
   },
   {
    "duration": 17,
    "start_time": "2023-06-30T20:25:00.726Z"
   },
   {
    "duration": 18,
    "start_time": "2023-06-30T20:25:52.024Z"
   },
   {
    "duration": 21,
    "start_time": "2023-06-30T20:26:01.556Z"
   },
   {
    "duration": 1241,
    "start_time": "2023-06-30T20:26:15.037Z"
   },
   {
    "duration": 302,
    "start_time": "2023-06-30T20:26:16.280Z"
   },
   {
    "duration": 22,
    "start_time": "2023-06-30T20:26:16.585Z"
   },
   {
    "duration": 33,
    "start_time": "2023-06-30T20:26:16.613Z"
   },
   {
    "duration": 29,
    "start_time": "2023-06-30T20:26:16.650Z"
   },
   {
    "duration": 55,
    "start_time": "2023-06-30T20:26:16.681Z"
   },
   {
    "duration": 31,
    "start_time": "2023-06-30T20:26:16.738Z"
   },
   {
    "duration": 16,
    "start_time": "2023-06-30T20:26:16.770Z"
   },
   {
    "duration": 107,
    "start_time": "2023-06-30T20:26:16.805Z"
   },
   {
    "duration": 6,
    "start_time": "2023-06-30T20:26:16.919Z"
   },
   {
    "duration": 76,
    "start_time": "2023-06-30T20:26:16.927Z"
   },
   {
    "duration": 153,
    "start_time": "2023-06-30T20:26:17.004Z"
   },
   {
    "duration": 0,
    "start_time": "2023-06-30T20:26:17.159Z"
   },
   {
    "duration": 0,
    "start_time": "2023-06-30T20:26:17.160Z"
   },
   {
    "duration": 0,
    "start_time": "2023-06-30T20:26:17.165Z"
   },
   {
    "duration": 0,
    "start_time": "2023-06-30T20:26:17.167Z"
   },
   {
    "duration": 0,
    "start_time": "2023-06-30T20:26:17.168Z"
   },
   {
    "duration": 14,
    "start_time": "2023-06-30T20:27:56.840Z"
   },
   {
    "duration": 18,
    "start_time": "2023-06-30T20:28:03.233Z"
   },
   {
    "duration": 16,
    "start_time": "2023-06-30T20:28:04.699Z"
   },
   {
    "duration": 17,
    "start_time": "2023-06-30T20:28:11.116Z"
   },
   {
    "duration": 31,
    "start_time": "2023-06-30T20:28:15.045Z"
   },
   {
    "duration": 18,
    "start_time": "2023-06-30T20:28:16.913Z"
   },
   {
    "duration": 28,
    "start_time": "2023-06-30T20:28:35.741Z"
   },
   {
    "duration": 16,
    "start_time": "2023-06-30T20:28:37.232Z"
   },
   {
    "duration": 13,
    "start_time": "2023-06-30T20:28:43.929Z"
   },
   {
    "duration": 20,
    "start_time": "2023-06-30T20:28:45.528Z"
   },
   {
    "duration": 1102,
    "start_time": "2023-06-30T20:28:54.582Z"
   },
   {
    "duration": 256,
    "start_time": "2023-06-30T20:28:55.686Z"
   },
   {
    "duration": 15,
    "start_time": "2023-06-30T20:28:55.944Z"
   },
   {
    "duration": 45,
    "start_time": "2023-06-30T20:28:55.960Z"
   },
   {
    "duration": 36,
    "start_time": "2023-06-30T20:28:56.008Z"
   },
   {
    "duration": 32,
    "start_time": "2023-06-30T20:28:56.046Z"
   },
   {
    "duration": 55,
    "start_time": "2023-06-30T20:28:56.080Z"
   },
   {
    "duration": 15,
    "start_time": "2023-06-30T20:28:56.137Z"
   },
   {
    "duration": 91,
    "start_time": "2023-06-30T20:28:56.153Z"
   },
   {
    "duration": 4,
    "start_time": "2023-06-30T20:28:56.246Z"
   },
   {
    "duration": 40,
    "start_time": "2023-06-30T20:28:56.252Z"
   },
   {
    "duration": 22,
    "start_time": "2023-06-30T20:28:56.294Z"
   },
   {
    "duration": 19,
    "start_time": "2023-06-30T20:28:56.319Z"
   },
   {
    "duration": 2910,
    "start_time": "2023-06-30T20:28:56.342Z"
   },
   {
    "duration": 0,
    "start_time": "2023-06-30T20:28:59.254Z"
   },
   {
    "duration": 0,
    "start_time": "2023-06-30T20:28:59.255Z"
   },
   {
    "duration": 0,
    "start_time": "2023-06-30T20:28:59.257Z"
   },
   {
    "duration": 39,
    "start_time": "2023-06-30T20:29:03.703Z"
   },
   {
    "duration": 17,
    "start_time": "2023-06-30T20:29:05.022Z"
   },
   {
    "duration": 1105,
    "start_time": "2023-06-30T20:29:12.733Z"
   },
   {
    "duration": 243,
    "start_time": "2023-06-30T20:29:13.840Z"
   },
   {
    "duration": 20,
    "start_time": "2023-06-30T20:29:14.085Z"
   },
   {
    "duration": 36,
    "start_time": "2023-06-30T20:29:14.107Z"
   },
   {
    "duration": 23,
    "start_time": "2023-06-30T20:29:14.146Z"
   },
   {
    "duration": 51,
    "start_time": "2023-06-30T20:29:14.171Z"
   },
   {
    "duration": 31,
    "start_time": "2023-06-30T20:29:14.223Z"
   },
   {
    "duration": 13,
    "start_time": "2023-06-30T20:29:14.256Z"
   },
   {
    "duration": 93,
    "start_time": "2023-06-30T20:29:14.271Z"
   },
   {
    "duration": 4,
    "start_time": "2023-06-30T20:29:14.366Z"
   },
   {
    "duration": 34,
    "start_time": "2023-06-30T20:29:14.372Z"
   },
   {
    "duration": 39,
    "start_time": "2023-06-30T20:29:14.408Z"
   },
   {
    "duration": 27,
    "start_time": "2023-06-30T20:29:14.449Z"
   },
   {
    "duration": 1597,
    "start_time": "2023-06-30T20:29:14.478Z"
   },
   {
    "duration": 0,
    "start_time": "2023-06-30T20:29:16.076Z"
   },
   {
    "duration": 0,
    "start_time": "2023-06-30T20:29:16.078Z"
   },
   {
    "duration": 0,
    "start_time": "2023-06-30T20:29:16.080Z"
   },
   {
    "duration": 66,
    "start_time": "2023-06-30T20:29:25.954Z"
   },
   {
    "duration": 18,
    "start_time": "2023-06-30T20:29:27.434Z"
   },
   {
    "duration": 24,
    "start_time": "2023-06-30T20:30:10.004Z"
   },
   {
    "duration": 21,
    "start_time": "2023-06-30T20:30:11.331Z"
   },
   {
    "duration": 8,
    "start_time": "2023-06-30T20:30:15.143Z"
   },
   {
    "duration": 14,
    "start_time": "2023-06-30T20:30:16.513Z"
   },
   {
    "duration": 1035,
    "start_time": "2023-06-30T20:30:24.721Z"
   },
   {
    "duration": 221,
    "start_time": "2023-06-30T20:30:25.758Z"
   },
   {
    "duration": 13,
    "start_time": "2023-06-30T20:30:25.981Z"
   },
   {
    "duration": 20,
    "start_time": "2023-06-30T20:30:26.002Z"
   },
   {
    "duration": 27,
    "start_time": "2023-06-30T20:30:26.025Z"
   },
   {
    "duration": 48,
    "start_time": "2023-06-30T20:30:26.054Z"
   },
   {
    "duration": 27,
    "start_time": "2023-06-30T20:30:26.104Z"
   },
   {
    "duration": 19,
    "start_time": "2023-06-30T20:30:26.133Z"
   },
   {
    "duration": 95,
    "start_time": "2023-06-30T20:30:26.154Z"
   },
   {
    "duration": 4,
    "start_time": "2023-06-30T20:30:26.251Z"
   },
   {
    "duration": 75,
    "start_time": "2023-06-30T20:30:26.257Z"
   },
   {
    "duration": 14,
    "start_time": "2023-06-30T20:30:26.334Z"
   },
   {
    "duration": 18,
    "start_time": "2023-06-30T20:30:26.350Z"
   },
   {
    "duration": 1458,
    "start_time": "2023-06-30T20:30:26.370Z"
   },
   {
    "duration": 0,
    "start_time": "2023-06-30T20:30:27.830Z"
   },
   {
    "duration": 0,
    "start_time": "2023-06-30T20:30:27.831Z"
   },
   {
    "duration": 0,
    "start_time": "2023-06-30T20:30:27.833Z"
   },
   {
    "duration": 21,
    "start_time": "2023-06-30T20:30:33.065Z"
   },
   {
    "duration": 14,
    "start_time": "2023-06-30T20:30:34.254Z"
   },
   {
    "duration": 1028,
    "start_time": "2023-06-30T20:30:47.048Z"
   },
   {
    "duration": 224,
    "start_time": "2023-06-30T20:30:48.078Z"
   },
   {
    "duration": 12,
    "start_time": "2023-06-30T20:30:48.304Z"
   },
   {
    "duration": 31,
    "start_time": "2023-06-30T20:30:48.318Z"
   },
   {
    "duration": 23,
    "start_time": "2023-06-30T20:30:48.351Z"
   },
   {
    "duration": 48,
    "start_time": "2023-06-30T20:30:48.375Z"
   },
   {
    "duration": 27,
    "start_time": "2023-06-30T20:30:48.424Z"
   },
   {
    "duration": 13,
    "start_time": "2023-06-30T20:30:48.453Z"
   },
   {
    "duration": 84,
    "start_time": "2023-06-30T20:30:48.468Z"
   },
   {
    "duration": 4,
    "start_time": "2023-06-30T20:30:48.554Z"
   },
   {
    "duration": 84,
    "start_time": "2023-06-30T20:30:48.559Z"
   },
   {
    "duration": 13,
    "start_time": "2023-06-30T20:30:48.645Z"
   },
   {
    "duration": 11,
    "start_time": "2023-06-30T20:30:48.660Z"
   },
   {
    "duration": 1584,
    "start_time": "2023-06-30T20:30:48.673Z"
   },
   {
    "duration": 0,
    "start_time": "2023-06-30T20:30:50.260Z"
   },
   {
    "duration": 0,
    "start_time": "2023-06-30T20:30:50.261Z"
   },
   {
    "duration": 0,
    "start_time": "2023-06-30T20:30:50.263Z"
   },
   {
    "duration": 1328,
    "start_time": "2023-06-30T20:31:57.977Z"
   },
   {
    "duration": 35,
    "start_time": "2023-06-30T20:32:07.151Z"
   },
   {
    "duration": 17,
    "start_time": "2023-06-30T20:32:36.526Z"
   },
   {
    "duration": 16,
    "start_time": "2023-06-30T20:35:43.432Z"
   },
   {
    "duration": 13,
    "start_time": "2023-06-30T20:35:56.816Z"
   },
   {
    "duration": 50,
    "start_time": "2023-06-30T20:36:05.656Z"
   },
   {
    "duration": 16,
    "start_time": "2023-06-30T20:38:16.337Z"
   },
   {
    "duration": 19,
    "start_time": "2023-06-30T20:38:26.817Z"
   },
   {
    "duration": 17,
    "start_time": "2023-06-30T20:38:29.936Z"
   },
   {
    "duration": 11,
    "start_time": "2023-06-30T20:39:28.630Z"
   },
   {
    "duration": 33,
    "start_time": "2023-06-30T20:39:40.394Z"
   },
   {
    "duration": 22,
    "start_time": "2023-06-30T20:43:27.350Z"
   },
   {
    "duration": 11,
    "start_time": "2023-06-30T20:43:31.934Z"
   },
   {
    "duration": 39,
    "start_time": "2023-06-30T20:43:37.599Z"
   },
   {
    "duration": 25,
    "start_time": "2023-06-30T20:43:38.888Z"
   },
   {
    "duration": 1099,
    "start_time": "2023-06-30T20:43:42.118Z"
   },
   {
    "duration": 241,
    "start_time": "2023-06-30T20:43:43.226Z"
   },
   {
    "duration": 15,
    "start_time": "2023-06-30T20:43:43.469Z"
   },
   {
    "duration": 42,
    "start_time": "2023-06-30T20:43:43.487Z"
   },
   {
    "duration": 25,
    "start_time": "2023-06-30T20:43:43.531Z"
   },
   {
    "duration": 55,
    "start_time": "2023-06-30T20:43:43.558Z"
   },
   {
    "duration": 31,
    "start_time": "2023-06-30T20:43:43.619Z"
   },
   {
    "duration": 17,
    "start_time": "2023-06-30T20:43:43.652Z"
   },
   {
    "duration": 96,
    "start_time": "2023-06-30T20:43:43.671Z"
   },
   {
    "duration": 4,
    "start_time": "2023-06-30T20:43:43.768Z"
   },
   {
    "duration": 89,
    "start_time": "2023-06-30T20:43:43.774Z"
   },
   {
    "duration": 54,
    "start_time": "2023-06-30T20:43:43.866Z"
   },
   {
    "duration": 135,
    "start_time": "2023-06-30T20:43:43.924Z"
   },
   {
    "duration": 0,
    "start_time": "2023-06-30T20:43:44.061Z"
   },
   {
    "duration": 0,
    "start_time": "2023-06-30T20:43:44.061Z"
   },
   {
    "duration": 1,
    "start_time": "2023-06-30T20:43:44.062Z"
   },
   {
    "duration": 0,
    "start_time": "2023-06-30T20:43:44.063Z"
   },
   {
    "duration": 18,
    "start_time": "2023-06-30T20:44:31.727Z"
   },
   {
    "duration": 14,
    "start_time": "2023-06-30T20:44:34.015Z"
   },
   {
    "duration": 35,
    "start_time": "2023-06-30T20:44:49.896Z"
   },
   {
    "duration": 1249,
    "start_time": "2023-06-30T20:49:04.950Z"
   },
   {
    "duration": 188,
    "start_time": "2023-06-30T20:49:06.205Z"
   },
   {
    "duration": 5,
    "start_time": "2023-06-30T20:49:07.121Z"
   },
   {
    "duration": 15,
    "start_time": "2023-06-30T20:49:08.296Z"
   },
   {
    "duration": 27,
    "start_time": "2023-06-30T20:49:10.961Z"
   },
   {
    "duration": 9,
    "start_time": "2023-06-30T20:49:12.057Z"
   },
   {
    "duration": 35,
    "start_time": "2023-06-30T20:49:19.554Z"
   },
   {
    "duration": 13,
    "start_time": "2023-06-30T20:49:19.920Z"
   },
   {
    "duration": 41,
    "start_time": "2023-06-30T20:49:35.641Z"
   },
   {
    "duration": 19,
    "start_time": "2023-06-30T20:49:35.832Z"
   },
   {
    "duration": 40,
    "start_time": "2023-06-30T20:49:49.695Z"
   },
   {
    "duration": 109,
    "start_time": "2023-06-30T22:25:37.257Z"
   },
   {
    "duration": 1049,
    "start_time": "2023-06-30T22:25:44.720Z"
   },
   {
    "duration": 204,
    "start_time": "2023-06-30T22:25:45.771Z"
   },
   {
    "duration": 25,
    "start_time": "2023-06-30T22:25:45.980Z"
   },
   {
    "duration": 20,
    "start_time": "2023-06-30T22:25:46.008Z"
   },
   {
    "duration": 25,
    "start_time": "2023-06-30T22:25:46.030Z"
   },
   {
    "duration": 50,
    "start_time": "2023-06-30T22:25:46.056Z"
   },
   {
    "duration": 27,
    "start_time": "2023-06-30T22:25:46.108Z"
   },
   {
    "duration": 14,
    "start_time": "2023-06-30T22:25:46.137Z"
   },
   {
    "duration": 93,
    "start_time": "2023-06-30T22:25:46.152Z"
   },
   {
    "duration": 4,
    "start_time": "2023-06-30T22:25:46.246Z"
   },
   {
    "duration": 72,
    "start_time": "2023-06-30T22:25:46.252Z"
   },
   {
    "duration": 39,
    "start_time": "2023-06-30T22:25:46.326Z"
   },
   {
    "duration": 10,
    "start_time": "2023-06-30T22:25:46.367Z"
   },
   {
    "duration": 48,
    "start_time": "2023-06-30T22:25:46.379Z"
   },
   {
    "duration": 20,
    "start_time": "2023-06-30T22:25:46.428Z"
   },
   {
    "duration": 16,
    "start_time": "2023-06-30T22:26:08.321Z"
   },
   {
    "duration": 17,
    "start_time": "2023-06-30T22:26:12.768Z"
   },
   {
    "duration": 16,
    "start_time": "2023-06-30T22:26:37.969Z"
   },
   {
    "duration": 11,
    "start_time": "2023-06-30T22:26:48.584Z"
   },
   {
    "duration": 1061,
    "start_time": "2023-06-30T22:28:34.881Z"
   },
   {
    "duration": 218,
    "start_time": "2023-06-30T22:28:35.944Z"
   },
   {
    "duration": 11,
    "start_time": "2023-06-30T22:28:36.164Z"
   },
   {
    "duration": 42,
    "start_time": "2023-06-30T22:28:36.177Z"
   },
   {
    "duration": 49,
    "start_time": "2023-06-30T22:28:36.220Z"
   },
   {
    "duration": 27,
    "start_time": "2023-06-30T22:28:36.271Z"
   },
   {
    "duration": 39,
    "start_time": "2023-06-30T22:28:36.300Z"
   },
   {
    "duration": 54,
    "start_time": "2023-06-30T22:28:36.340Z"
   },
   {
    "duration": 81,
    "start_time": "2023-06-30T22:28:36.396Z"
   },
   {
    "duration": 4,
    "start_time": "2023-06-30T22:28:36.479Z"
   },
   {
    "duration": 65,
    "start_time": "2023-06-30T22:28:36.484Z"
   },
   {
    "duration": 51,
    "start_time": "2023-06-30T22:28:36.551Z"
   },
   {
    "duration": 12,
    "start_time": "2023-06-30T22:28:36.603Z"
   },
   {
    "duration": 43,
    "start_time": "2023-06-30T22:28:36.617Z"
   },
   {
    "duration": 33,
    "start_time": "2023-06-30T22:28:36.662Z"
   },
   {
    "duration": 30,
    "start_time": "2023-06-30T22:28:36.697Z"
   },
   {
    "duration": 37841,
    "start_time": "2023-06-30T22:28:36.729Z"
   },
   {
    "duration": 78,
    "start_time": "2023-06-30T22:29:32.313Z"
   },
   {
    "duration": 4,
    "start_time": "2023-06-30T22:29:35.793Z"
   },
   {
    "duration": 13,
    "start_time": "2023-06-30T22:29:45.840Z"
   },
   {
    "duration": 13,
    "start_time": "2023-06-30T22:30:00.122Z"
   },
   {
    "duration": 12,
    "start_time": "2023-06-30T22:30:22.102Z"
   },
   {
    "duration": 98,
    "start_time": "2023-06-30T22:30:47.332Z"
   },
   {
    "duration": 13,
    "start_time": "2023-06-30T22:30:49.957Z"
   },
   {
    "duration": 14,
    "start_time": "2023-06-30T22:30:53.986Z"
   },
   {
    "duration": 34,
    "start_time": "2023-06-30T22:30:58.622Z"
   },
   {
    "duration": 10,
    "start_time": "2023-06-30T22:32:44.527Z"
   },
   {
    "duration": 10,
    "start_time": "2023-06-30T22:32:50.896Z"
   },
   {
    "duration": 120,
    "start_time": "2023-06-30T22:33:38.062Z"
   },
   {
    "duration": 9,
    "start_time": "2023-06-30T22:33:42.578Z"
   },
   {
    "duration": 13,
    "start_time": "2023-06-30T22:33:49.800Z"
   },
   {
    "duration": 174,
    "start_time": "2023-06-30T22:34:33.985Z"
   },
   {
    "duration": 544,
    "start_time": "2023-06-30T22:35:52.105Z"
   },
   {
    "duration": 488,
    "start_time": "2023-06-30T22:36:14.998Z"
   },
   {
    "duration": 547,
    "start_time": "2023-06-30T22:36:25.866Z"
   },
   {
    "duration": 14,
    "start_time": "2023-06-30T22:42:31.614Z"
   },
   {
    "duration": 10,
    "start_time": "2023-06-30T22:42:37.886Z"
   },
   {
    "duration": 16,
    "start_time": "2023-06-30T22:42:43.052Z"
   },
   {
    "duration": 12,
    "start_time": "2023-06-30T22:42:51.941Z"
   },
   {
    "duration": 14,
    "start_time": "2023-06-30T22:43:15.449Z"
   },
   {
    "duration": 14,
    "start_time": "2023-06-30T22:43:52.243Z"
   },
   {
    "duration": 123,
    "start_time": "2023-06-30T22:44:31.861Z"
   },
   {
    "duration": 12,
    "start_time": "2023-06-30T22:44:40.722Z"
   },
   {
    "duration": 18,
    "start_time": "2023-06-30T22:46:16.055Z"
   },
   {
    "duration": 16,
    "start_time": "2023-06-30T22:46:32.709Z"
   },
   {
    "duration": 39,
    "start_time": "2023-06-30T22:47:35.156Z"
   },
   {
    "duration": 23,
    "start_time": "2023-06-30T22:48:01.859Z"
   },
   {
    "duration": 26,
    "start_time": "2023-06-30T22:48:31.711Z"
   },
   {
    "duration": 20,
    "start_time": "2023-06-30T22:48:49.225Z"
   },
   {
    "duration": 9,
    "start_time": "2023-06-30T22:49:12.117Z"
   },
   {
    "duration": 19,
    "start_time": "2023-06-30T22:49:17.379Z"
   },
   {
    "duration": 19,
    "start_time": "2023-06-30T22:49:26.737Z"
   },
   {
    "duration": 17,
    "start_time": "2023-06-30T22:51:58.260Z"
   },
   {
    "duration": 160,
    "start_time": "2023-06-30T22:52:35.221Z"
   },
   {
    "duration": 6,
    "start_time": "2023-06-30T22:53:03.410Z"
   },
   {
    "duration": 75,
    "start_time": "2023-06-30T22:53:26.202Z"
   },
   {
    "duration": 27,
    "start_time": "2023-06-30T22:53:32.688Z"
   },
   {
    "duration": 10,
    "start_time": "2023-06-30T22:55:28.130Z"
   },
   {
    "duration": 19,
    "start_time": "2023-06-30T22:56:02.967Z"
   },
   {
    "duration": 11,
    "start_time": "2023-06-30T22:56:24.890Z"
   },
   {
    "duration": 19,
    "start_time": "2023-06-30T22:57:11.439Z"
   },
   {
    "duration": 36,
    "start_time": "2023-06-30T22:57:40.391Z"
   },
   {
    "duration": 50,
    "start_time": "2023-06-30T23:06:09.622Z"
   },
   {
    "duration": 52,
    "start_time": "2023-06-30T23:06:39.517Z"
   },
   {
    "duration": 55,
    "start_time": "2023-06-30T23:07:17.028Z"
   },
   {
    "duration": 21,
    "start_time": "2023-06-30T23:08:52.638Z"
   },
   {
    "duration": 16,
    "start_time": "2023-06-30T23:08:59.326Z"
   },
   {
    "duration": 57,
    "start_time": "2023-06-30T23:09:00.958Z"
   },
   {
    "duration": 24,
    "start_time": "2023-06-30T23:09:04.291Z"
   },
   {
    "duration": 56,
    "start_time": "2023-06-30T23:09:05.800Z"
   },
   {
    "duration": 997,
    "start_time": "2023-06-30T23:09:11.656Z"
   },
   {
    "duration": 225,
    "start_time": "2023-06-30T23:09:12.656Z"
   },
   {
    "duration": 18,
    "start_time": "2023-06-30T23:09:12.887Z"
   },
   {
    "duration": 19,
    "start_time": "2023-06-30T23:09:12.907Z"
   },
   {
    "duration": 24,
    "start_time": "2023-06-30T23:09:12.928Z"
   },
   {
    "duration": 57,
    "start_time": "2023-06-30T23:09:12.953Z"
   },
   {
    "duration": 28,
    "start_time": "2023-06-30T23:09:13.011Z"
   },
   {
    "duration": 15,
    "start_time": "2023-06-30T23:09:13.041Z"
   },
   {
    "duration": 98,
    "start_time": "2023-06-30T23:09:13.057Z"
   },
   {
    "duration": 8,
    "start_time": "2023-06-30T23:09:13.157Z"
   },
   {
    "duration": 66,
    "start_time": "2023-06-30T23:09:13.167Z"
   },
   {
    "duration": 52,
    "start_time": "2023-06-30T23:09:13.234Z"
   },
   {
    "duration": 22,
    "start_time": "2023-06-30T23:09:13.288Z"
   },
   {
    "duration": 35,
    "start_time": "2023-06-30T23:09:13.312Z"
   },
   {
    "duration": 11,
    "start_time": "2023-06-30T23:09:13.349Z"
   },
   {
    "duration": 14,
    "start_time": "2023-06-30T23:09:13.361Z"
   },
   {
    "duration": 7,
    "start_time": "2023-06-30T23:09:13.376Z"
   },
   {
    "duration": 6,
    "start_time": "2023-06-30T23:09:13.402Z"
   },
   {
    "duration": 6,
    "start_time": "2023-06-30T23:09:13.410Z"
   },
   {
    "duration": 5,
    "start_time": "2023-06-30T23:09:13.418Z"
   },
   {
    "duration": 139,
    "start_time": "2023-06-30T23:09:13.425Z"
   },
   {
    "duration": 0,
    "start_time": "2023-06-30T23:09:13.566Z"
   },
   {
    "duration": 0,
    "start_time": "2023-06-30T23:09:13.567Z"
   },
   {
    "duration": 0,
    "start_time": "2023-06-30T23:09:13.569Z"
   },
   {
    "duration": 0,
    "start_time": "2023-06-30T23:09:13.570Z"
   },
   {
    "duration": 1,
    "start_time": "2023-06-30T23:09:13.571Z"
   },
   {
    "duration": 0,
    "start_time": "2023-06-30T23:09:13.574Z"
   },
   {
    "duration": 32,
    "start_time": "2023-06-30T23:09:28.105Z"
   },
   {
    "duration": 36,
    "start_time": "2023-06-30T23:09:32.586Z"
   },
   {
    "duration": 1049,
    "start_time": "2023-06-30T23:09:57.116Z"
   },
   {
    "duration": 214,
    "start_time": "2023-06-30T23:09:58.167Z"
   },
   {
    "duration": 21,
    "start_time": "2023-06-30T23:09:58.383Z"
   },
   {
    "duration": 37,
    "start_time": "2023-06-30T23:09:58.406Z"
   },
   {
    "duration": 43,
    "start_time": "2023-06-30T23:09:58.446Z"
   },
   {
    "duration": 45,
    "start_time": "2023-06-30T23:09:58.491Z"
   },
   {
    "duration": 54,
    "start_time": "2023-06-30T23:09:58.537Z"
   },
   {
    "duration": 44,
    "start_time": "2023-06-30T23:09:58.592Z"
   },
   {
    "duration": 83,
    "start_time": "2023-06-30T23:09:58.638Z"
   },
   {
    "duration": 7,
    "start_time": "2023-06-30T23:09:58.723Z"
   },
   {
    "duration": 54,
    "start_time": "2023-06-30T23:09:58.732Z"
   },
   {
    "duration": 56,
    "start_time": "2023-06-30T23:09:58.788Z"
   },
   {
    "duration": 10,
    "start_time": "2023-06-30T23:09:58.845Z"
   },
   {
    "duration": 48,
    "start_time": "2023-06-30T23:09:58.857Z"
   },
   {
    "duration": 10,
    "start_time": "2023-06-30T23:09:58.907Z"
   },
   {
    "duration": 11,
    "start_time": "2023-06-30T23:09:58.919Z"
   },
   {
    "duration": 7,
    "start_time": "2023-06-30T23:09:58.931Z"
   },
   {
    "duration": 7,
    "start_time": "2023-06-30T23:09:58.940Z"
   },
   {
    "duration": 7,
    "start_time": "2023-06-30T23:09:58.948Z"
   },
   {
    "duration": 10,
    "start_time": "2023-07-01T12:05:56.546Z"
   },
   {
    "duration": 1292,
    "start_time": "2023-07-01T12:06:00.580Z"
   },
   {
    "duration": 554,
    "start_time": "2023-07-01T12:06:01.874Z"
   },
   {
    "duration": 14,
    "start_time": "2023-07-01T12:06:02.430Z"
   },
   {
    "duration": 56,
    "start_time": "2023-07-01T12:06:02.445Z"
   },
   {
    "duration": 24,
    "start_time": "2023-07-01T12:06:02.504Z"
   },
   {
    "duration": 36,
    "start_time": "2023-07-01T12:06:02.530Z"
   },
   {
    "duration": 51,
    "start_time": "2023-07-01T12:06:02.567Z"
   },
   {
    "duration": 24,
    "start_time": "2023-07-01T12:06:02.620Z"
   },
   {
    "duration": 77,
    "start_time": "2023-07-01T12:06:02.646Z"
   },
   {
    "duration": 7,
    "start_time": "2023-07-01T12:06:02.725Z"
   },
   {
    "duration": 47,
    "start_time": "2023-07-01T12:06:02.733Z"
   },
   {
    "duration": 60,
    "start_time": "2023-07-01T12:06:02.782Z"
   },
   {
    "duration": 9,
    "start_time": "2023-07-01T12:06:02.844Z"
   },
   {
    "duration": 48,
    "start_time": "2023-07-01T12:06:02.857Z"
   },
   {
    "duration": 12,
    "start_time": "2023-07-01T12:06:02.906Z"
   },
   {
    "duration": 18,
    "start_time": "2023-07-01T12:06:02.920Z"
   },
   {
    "duration": 7,
    "start_time": "2023-07-01T12:06:02.940Z"
   },
   {
    "duration": 13,
    "start_time": "2023-07-01T12:06:02.948Z"
   },
   {
    "duration": 7,
    "start_time": "2023-07-01T12:06:02.963Z"
   },
   {
    "duration": 4,
    "start_time": "2023-07-01T12:06:02.972Z"
   },
   {
    "duration": 1017,
    "start_time": "2023-07-01T12:06:12.679Z"
   },
   {
    "duration": 194,
    "start_time": "2023-07-01T12:06:13.698Z"
   },
   {
    "duration": 10,
    "start_time": "2023-07-01T12:06:13.894Z"
   },
   {
    "duration": 20,
    "start_time": "2023-07-01T12:06:13.906Z"
   },
   {
    "duration": 20,
    "start_time": "2023-07-01T12:06:13.928Z"
   },
   {
    "duration": 52,
    "start_time": "2023-07-01T12:06:13.950Z"
   },
   {
    "duration": 26,
    "start_time": "2023-07-01T12:06:14.004Z"
   },
   {
    "duration": 15,
    "start_time": "2023-07-01T12:06:14.031Z"
   },
   {
    "duration": 83,
    "start_time": "2023-07-01T12:06:14.047Z"
   },
   {
    "duration": 6,
    "start_time": "2023-07-01T12:06:14.132Z"
   },
   {
    "duration": 55,
    "start_time": "2023-07-01T12:06:14.139Z"
   },
   {
    "duration": 41,
    "start_time": "2023-07-01T12:06:14.196Z"
   },
   {
    "duration": 8,
    "start_time": "2023-07-01T12:06:14.239Z"
   },
   {
    "duration": 36,
    "start_time": "2023-07-01T12:06:14.249Z"
   },
   {
    "duration": 15,
    "start_time": "2023-07-01T12:06:14.286Z"
   },
   {
    "duration": 16,
    "start_time": "2023-07-01T12:06:14.303Z"
   },
   {
    "duration": 8,
    "start_time": "2023-07-01T12:06:14.321Z"
   },
   {
    "duration": 5,
    "start_time": "2023-07-01T12:06:14.331Z"
   },
   {
    "duration": 5,
    "start_time": "2023-07-01T12:06:14.338Z"
   },
   {
    "duration": 5,
    "start_time": "2023-07-01T12:06:14.344Z"
   },
   {
    "duration": 94,
    "start_time": "2023-07-01T12:06:52.427Z"
   },
   {
    "duration": 9,
    "start_time": "2023-07-01T12:07:00.232Z"
   },
   {
    "duration": 32,
    "start_time": "2023-07-01T12:07:05.958Z"
   },
   {
    "duration": 16,
    "start_time": "2023-07-01T12:07:15.274Z"
   },
   {
    "duration": 9,
    "start_time": "2023-07-01T12:07:22.665Z"
   },
   {
    "duration": 9,
    "start_time": "2023-07-01T12:07:27.023Z"
   },
   {
    "duration": 131,
    "start_time": "2023-07-01T12:08:32.589Z"
   },
   {
    "duration": 1708,
    "start_time": "2023-07-01T12:08:39.866Z"
   },
   {
    "duration": 6,
    "start_time": "2023-07-01T12:08:48.153Z"
   },
   {
    "duration": 1375,
    "start_time": "2023-07-01T12:09:24.682Z"
   },
   {
    "duration": 3,
    "start_time": "2023-07-01T12:10:24.004Z"
   },
   {
    "duration": 9,
    "start_time": "2023-07-01T12:10:38.333Z"
   },
   {
    "duration": 7,
    "start_time": "2023-07-01T12:10:42.158Z"
   },
   {
    "duration": 1028,
    "start_time": "2023-07-01T12:10:48.364Z"
   },
   {
    "duration": 188,
    "start_time": "2023-07-01T12:10:49.393Z"
   },
   {
    "duration": 18,
    "start_time": "2023-07-01T12:10:49.582Z"
   },
   {
    "duration": 20,
    "start_time": "2023-07-01T12:10:49.601Z"
   },
   {
    "duration": 20,
    "start_time": "2023-07-01T12:10:49.623Z"
   },
   {
    "duration": 27,
    "start_time": "2023-07-01T12:10:49.644Z"
   },
   {
    "duration": 45,
    "start_time": "2023-07-01T12:10:49.673Z"
   },
   {
    "duration": 14,
    "start_time": "2023-07-01T12:10:49.720Z"
   },
   {
    "duration": 85,
    "start_time": "2023-07-01T12:10:49.736Z"
   },
   {
    "duration": 6,
    "start_time": "2023-07-01T12:10:49.823Z"
   },
   {
    "duration": 48,
    "start_time": "2023-07-01T12:10:49.830Z"
   },
   {
    "duration": 51,
    "start_time": "2023-07-01T12:10:49.879Z"
   },
   {
    "duration": 10,
    "start_time": "2023-07-01T12:10:49.931Z"
   },
   {
    "duration": 55,
    "start_time": "2023-07-01T12:10:49.944Z"
   },
   {
    "duration": 10,
    "start_time": "2023-07-01T12:10:50.001Z"
   },
   {
    "duration": 13,
    "start_time": "2023-07-01T12:10:50.012Z"
   },
   {
    "duration": 10,
    "start_time": "2023-07-01T12:10:50.026Z"
   },
   {
    "duration": 10,
    "start_time": "2023-07-01T12:10:50.038Z"
   },
   {
    "duration": 13,
    "start_time": "2023-07-01T12:10:50.050Z"
   },
   {
    "duration": 21,
    "start_time": "2023-07-01T12:10:50.065Z"
   },
   {
    "duration": 1292,
    "start_time": "2023-07-01T12:10:50.088Z"
   },
   {
    "duration": 0,
    "start_time": "2023-07-01T12:10:51.382Z"
   },
   {
    "duration": 6,
    "start_time": "2023-07-01T12:10:53.658Z"
   },
   {
    "duration": 7,
    "start_time": "2023-07-01T12:11:16.916Z"
   },
   {
    "duration": 7,
    "start_time": "2023-07-01T12:11:19.298Z"
   },
   {
    "duration": 1055,
    "start_time": "2023-07-01T12:11:31.598Z"
   },
   {
    "duration": 189,
    "start_time": "2023-07-01T12:11:32.654Z"
   },
   {
    "duration": 11,
    "start_time": "2023-07-01T12:11:32.845Z"
   },
   {
    "duration": 17,
    "start_time": "2023-07-01T12:11:32.857Z"
   },
   {
    "duration": 38,
    "start_time": "2023-07-01T12:11:32.876Z"
   },
   {
    "duration": 25,
    "start_time": "2023-07-01T12:11:32.916Z"
   },
   {
    "duration": 23,
    "start_time": "2023-07-01T12:11:32.943Z"
   },
   {
    "duration": 35,
    "start_time": "2023-07-01T12:11:32.967Z"
   },
   {
    "duration": 59,
    "start_time": "2023-07-01T12:11:33.003Z"
   },
   {
    "duration": 7,
    "start_time": "2023-07-01T12:11:33.063Z"
   },
   {
    "duration": 57,
    "start_time": "2023-07-01T12:11:33.071Z"
   },
   {
    "duration": 41,
    "start_time": "2023-07-01T12:11:33.129Z"
   },
   {
    "duration": 8,
    "start_time": "2023-07-01T12:11:33.172Z"
   },
   {
    "duration": 35,
    "start_time": "2023-07-01T12:11:33.182Z"
   },
   {
    "duration": 10,
    "start_time": "2023-07-01T12:11:33.219Z"
   },
   {
    "duration": 10,
    "start_time": "2023-07-01T12:11:33.230Z"
   },
   {
    "duration": 5,
    "start_time": "2023-07-01T12:11:33.241Z"
   },
   {
    "duration": 4,
    "start_time": "2023-07-01T12:11:33.248Z"
   },
   {
    "duration": 10,
    "start_time": "2023-07-01T12:11:33.254Z"
   },
   {
    "duration": 39,
    "start_time": "2023-07-01T12:11:33.266Z"
   },
   {
    "duration": 2,
    "start_time": "2023-07-01T12:11:33.306Z"
   },
   {
    "duration": 10,
    "start_time": "2023-07-01T12:11:33.310Z"
   },
   {
    "duration": 284,
    "start_time": "2023-07-01T12:12:53.436Z"
   },
   {
    "duration": 174,
    "start_time": "2023-07-01T12:13:22.679Z"
   },
   {
    "duration": 181,
    "start_time": "2023-07-01T12:13:26.905Z"
   },
   {
    "duration": 6,
    "start_time": "2023-07-01T12:22:49.651Z"
   },
   {
    "duration": 8,
    "start_time": "2023-07-01T12:22:52.934Z"
   },
   {
    "duration": 4,
    "start_time": "2023-07-01T12:23:08.894Z"
   },
   {
    "duration": 8,
    "start_time": "2023-07-01T12:23:11.924Z"
   },
   {
    "duration": 6,
    "start_time": "2023-07-01T12:23:27.534Z"
   },
   {
    "duration": 8,
    "start_time": "2023-07-01T12:23:29.058Z"
   },
   {
    "duration": 4,
    "start_time": "2023-07-01T12:23:52.893Z"
   },
   {
    "duration": 8,
    "start_time": "2023-07-01T12:23:54.797Z"
   },
   {
    "duration": 4,
    "start_time": "2023-07-01T12:24:06.226Z"
   },
   {
    "duration": 10,
    "start_time": "2023-07-01T12:24:08.337Z"
   },
   {
    "duration": 5,
    "start_time": "2023-07-01T12:24:33.465Z"
   },
   {
    "duration": 11,
    "start_time": "2023-07-01T12:24:35.844Z"
   },
   {
    "duration": 5,
    "start_time": "2023-07-01T12:24:39.466Z"
   },
   {
    "duration": 10,
    "start_time": "2023-07-01T12:24:41.492Z"
   },
   {
    "duration": 192,
    "start_time": "2023-07-01T12:26:49.579Z"
   },
   {
    "duration": 178,
    "start_time": "2023-07-01T12:27:16.518Z"
   },
   {
    "duration": 278,
    "start_time": "2023-07-01T12:27:29.375Z"
   },
   {
    "duration": 212,
    "start_time": "2023-07-01T12:28:09.448Z"
   },
   {
    "duration": 206,
    "start_time": "2023-07-01T12:28:15.963Z"
   },
   {
    "duration": 279,
    "start_time": "2023-07-01T12:28:25.999Z"
   },
   {
    "duration": 186,
    "start_time": "2023-07-01T12:28:30.206Z"
   },
   {
    "duration": 208,
    "start_time": "2023-07-01T12:28:49.015Z"
   },
   {
    "duration": 187,
    "start_time": "2023-07-01T12:28:54.670Z"
   },
   {
    "duration": 186,
    "start_time": "2023-07-01T12:29:07.682Z"
   },
   {
    "duration": 184,
    "start_time": "2023-07-01T12:29:11.559Z"
   },
   {
    "duration": 52,
    "start_time": "2023-07-01T12:31:55.368Z"
   },
   {
    "duration": 14,
    "start_time": "2023-07-01T12:32:13.844Z"
   },
   {
    "duration": 46,
    "start_time": "2023-07-01T12:32:35.745Z"
   },
   {
    "duration": 26,
    "start_time": "2023-07-01T12:32:49.283Z"
   },
   {
    "duration": 13,
    "start_time": "2023-07-01T12:32:52.662Z"
   },
   {
    "duration": 13,
    "start_time": "2023-07-01T12:33:02.193Z"
   },
   {
    "duration": 10,
    "start_time": "2023-07-01T12:33:54.212Z"
   },
   {
    "duration": 8,
    "start_time": "2023-07-01T12:34:12.903Z"
   },
   {
    "duration": 3,
    "start_time": "2023-07-01T12:34:35.871Z"
   },
   {
    "duration": 4,
    "start_time": "2023-07-01T12:35:56.774Z"
   },
   {
    "duration": 5,
    "start_time": "2023-07-01T12:36:04.481Z"
   },
   {
    "duration": 144,
    "start_time": "2023-07-01T12:36:07.752Z"
   },
   {
    "duration": 4,
    "start_time": "2023-07-01T12:36:11.532Z"
   },
   {
    "duration": 85,
    "start_time": "2023-07-01T12:36:14.661Z"
   },
   {
    "duration": 14,
    "start_time": "2023-07-01T12:36:38.393Z"
   },
   {
    "duration": 4,
    "start_time": "2023-07-01T12:36:54.049Z"
   },
   {
    "duration": 77,
    "start_time": "2023-07-01T12:37:02.464Z"
   },
   {
    "duration": 4,
    "start_time": "2023-07-01T12:37:05.489Z"
   },
   {
    "duration": 4,
    "start_time": "2023-07-01T12:37:29.165Z"
   },
   {
    "duration": 4,
    "start_time": "2023-07-01T12:37:38.564Z"
   },
   {
    "duration": 28,
    "start_time": "2023-07-01T12:47:18.438Z"
   },
   {
    "duration": 17,
    "start_time": "2023-07-01T12:53:20.492Z"
   },
   {
    "duration": 23,
    "start_time": "2023-07-01T12:53:56.390Z"
   },
   {
    "duration": 14,
    "start_time": "2023-07-01T13:07:22.498Z"
   },
   {
    "duration": 55,
    "start_time": "2023-07-01T13:07:46.357Z"
   },
   {
    "duration": 67,
    "start_time": "2023-07-01T13:09:50.844Z"
   },
   {
    "duration": 55,
    "start_time": "2023-07-01T13:10:11.686Z"
   },
   {
    "duration": 192,
    "start_time": "2023-07-01T13:12:57.131Z"
   },
   {
    "duration": 18,
    "start_time": "2023-07-01T13:24:04.220Z"
   },
   {
    "duration": 37,
    "start_time": "2023-07-01T13:25:11.487Z"
   },
   {
    "duration": 32,
    "start_time": "2023-07-01T13:25:23.182Z"
   },
   {
    "duration": 115,
    "start_time": "2023-07-01T13:25:42.347Z"
   },
   {
    "duration": 87,
    "start_time": "2023-07-01T13:32:06.051Z"
   },
   {
    "duration": 460,
    "start_time": "2023-07-01T13:32:09.489Z"
   },
   {
    "duration": 485,
    "start_time": "2023-07-01T13:32:42.157Z"
   },
   {
    "duration": 8,
    "start_time": "2023-07-01T13:34:09.499Z"
   },
   {
    "duration": 412,
    "start_time": "2023-07-01T13:34:26.219Z"
   },
   {
    "duration": 1264,
    "start_time": "2023-07-01T13:34:40.138Z"
   },
   {
    "duration": 437,
    "start_time": "2023-07-01T13:34:45.143Z"
   },
   {
    "duration": 23,
    "start_time": "2023-07-01T13:36:30.616Z"
   },
   {
    "duration": 5,
    "start_time": "2023-07-01T13:36:35.396Z"
   },
   {
    "duration": 21,
    "start_time": "2023-07-01T13:36:49.870Z"
   },
   {
    "duration": 40,
    "start_time": "2023-07-01T13:37:02.583Z"
   },
   {
    "duration": 12,
    "start_time": "2023-07-01T13:41:53.105Z"
   },
   {
    "duration": 3,
    "start_time": "2023-07-01T13:42:15.681Z"
   },
   {
    "duration": 8,
    "start_time": "2023-07-01T13:42:49.181Z"
   },
   {
    "duration": 57,
    "start_time": "2023-07-01T13:43:04.730Z"
   },
   {
    "duration": 567,
    "start_time": "2023-07-01T13:45:16.290Z"
   },
   {
    "duration": 285,
    "start_time": "2023-07-01T13:45:25.587Z"
   },
   {
    "duration": 3,
    "start_time": "2023-07-01T13:45:29.597Z"
   },
   {
    "duration": 12,
    "start_time": "2023-07-01T13:45:37.720Z"
   },
   {
    "duration": 3,
    "start_time": "2023-07-01T13:45:42.556Z"
   },
   {
    "duration": 37,
    "start_time": "2023-07-01T13:45:55.222Z"
   },
   {
    "duration": 61,
    "start_time": "2023-07-01T13:46:08.241Z"
   },
   {
    "duration": 2,
    "start_time": "2023-07-01T13:46:13.692Z"
   },
   {
    "duration": 20,
    "start_time": "2023-07-01T13:46:59.878Z"
   },
   {
    "duration": 112,
    "start_time": "2023-07-01T13:47:10.093Z"
   },
   {
    "duration": 10,
    "start_time": "2023-07-01T13:47:16.365Z"
   },
   {
    "duration": 12,
    "start_time": "2023-07-01T13:47:46.223Z"
   },
   {
    "duration": 11,
    "start_time": "2023-07-01T13:47:50.460Z"
   },
   {
    "duration": 8,
    "start_time": "2023-07-01T13:48:28.052Z"
   },
   {
    "duration": 10,
    "start_time": "2023-07-01T13:48:31.706Z"
   },
   {
    "duration": 9,
    "start_time": "2023-07-01T13:51:47.068Z"
   },
   {
    "duration": 213,
    "start_time": "2023-07-01T13:52:02.024Z"
   },
   {
    "duration": 485,
    "start_time": "2023-07-01T13:53:53.806Z"
   },
   {
    "duration": 946,
    "start_time": "2023-07-01T14:55:20.637Z"
   },
   {
    "duration": 381,
    "start_time": "2023-07-01T14:55:21.584Z"
   },
   {
    "duration": 11,
    "start_time": "2023-07-01T14:55:21.966Z"
   },
   {
    "duration": 25,
    "start_time": "2023-07-01T14:55:21.980Z"
   },
   {
    "duration": 19,
    "start_time": "2023-07-01T14:55:22.007Z"
   },
   {
    "duration": 26,
    "start_time": "2023-07-01T14:55:22.028Z"
   },
   {
    "duration": 23,
    "start_time": "2023-07-01T14:55:22.055Z"
   },
   {
    "duration": 26,
    "start_time": "2023-07-01T14:55:22.080Z"
   },
   {
    "duration": 62,
    "start_time": "2023-07-01T14:55:22.107Z"
   },
   {
    "duration": 6,
    "start_time": "2023-07-01T14:55:22.172Z"
   },
   {
    "duration": 51,
    "start_time": "2023-07-01T14:55:22.180Z"
   },
   {
    "duration": 36,
    "start_time": "2023-07-01T14:55:22.233Z"
   },
   {
    "duration": 9,
    "start_time": "2023-07-01T14:55:22.271Z"
   },
   {
    "duration": 23,
    "start_time": "2023-07-01T14:55:22.299Z"
   },
   {
    "duration": 35,
    "start_time": "2023-07-01T14:55:22.324Z"
   },
   {
    "duration": 10,
    "start_time": "2023-07-01T14:55:22.361Z"
   },
   {
    "duration": 27,
    "start_time": "2023-07-01T14:55:22.372Z"
   },
   {
    "duration": 6,
    "start_time": "2023-07-01T14:55:22.401Z"
   },
   {
    "duration": 5,
    "start_time": "2023-07-01T14:55:22.409Z"
   },
   {
    "duration": 5,
    "start_time": "2023-07-01T14:55:22.415Z"
   },
   {
    "duration": 14,
    "start_time": "2023-07-01T14:55:22.422Z"
   },
   {
    "duration": 6,
    "start_time": "2023-07-01T14:55:22.438Z"
   },
   {
    "duration": 19,
    "start_time": "2023-07-01T14:55:22.445Z"
   },
   {
    "duration": 284,
    "start_time": "2023-07-01T14:55:22.465Z"
   },
   {
    "duration": 14,
    "start_time": "2023-07-01T14:55:22.750Z"
   },
   {
    "duration": 190,
    "start_time": "2023-07-01T14:55:22.765Z"
   },
   {
    "duration": 4,
    "start_time": "2023-07-01T14:55:22.956Z"
   },
   {
    "duration": 19,
    "start_time": "2023-07-01T14:55:22.963Z"
   },
   {
    "duration": 74,
    "start_time": "2023-07-01T14:55:22.983Z"
   },
   {
    "duration": 65,
    "start_time": "2023-07-01T14:55:23.059Z"
   },
   {
    "duration": 17,
    "start_time": "2023-07-01T14:55:23.126Z"
   },
   {
    "duration": 33,
    "start_time": "2023-07-01T14:55:23.145Z"
   },
   {
    "duration": 447,
    "start_time": "2023-07-01T14:55:23.180Z"
   },
   {
    "duration": 8,
    "start_time": "2023-07-01T14:55:23.628Z"
   },
   {
    "duration": 513,
    "start_time": "2023-07-01T14:56:24.523Z"
   },
   {
    "duration": 426,
    "start_time": "2023-07-01T14:56:33.070Z"
   },
   {
    "duration": 8,
    "start_time": "2023-07-01T14:56:42.648Z"
   },
   {
    "duration": 8,
    "start_time": "2023-07-01T14:57:40.022Z"
   },
   {
    "duration": 7,
    "start_time": "2023-07-01T14:57:55.874Z"
   },
   {
    "duration": 7,
    "start_time": "2023-07-01T14:58:04.158Z"
   },
   {
    "duration": 9,
    "start_time": "2023-07-01T14:58:07.961Z"
   },
   {
    "duration": 10,
    "start_time": "2023-07-01T14:59:10.676Z"
   },
   {
    "duration": 17,
    "start_time": "2023-07-01T14:59:22.167Z"
   },
   {
    "duration": 20,
    "start_time": "2023-07-01T14:59:29.911Z"
   },
   {
    "duration": 20,
    "start_time": "2023-07-01T14:59:36.953Z"
   },
   {
    "duration": 21,
    "start_time": "2023-07-01T14:59:56.840Z"
   },
   {
    "duration": 8,
    "start_time": "2023-07-01T15:05:33.396Z"
   },
   {
    "duration": 50,
    "start_time": "2023-07-01T15:05:37.036Z"
   },
   {
    "duration": 51,
    "start_time": "2023-07-01T15:20:04.576Z"
   },
   {
    "duration": 5,
    "start_time": "2023-07-01T15:20:08.811Z"
   },
   {
    "duration": 48,
    "start_time": "2023-07-01T15:20:34.206Z"
   },
   {
    "duration": 6,
    "start_time": "2023-07-01T15:20:35.844Z"
   },
   {
    "duration": 38,
    "start_time": "2023-07-01T15:20:48.511Z"
   },
   {
    "duration": 53,
    "start_time": "2023-07-01T15:20:55.015Z"
   },
   {
    "duration": 47,
    "start_time": "2023-07-01T15:21:03.573Z"
   },
   {
    "duration": 1930,
    "start_time": "2023-07-01T15:22:01.647Z"
   },
   {
    "duration": 48,
    "start_time": "2023-07-01T15:22:08.725Z"
   },
   {
    "duration": 7,
    "start_time": "2023-07-01T15:22:10.453Z"
   },
   {
    "duration": 128,
    "start_time": "2023-07-01T15:22:25.889Z"
   },
   {
    "duration": 7,
    "start_time": "2023-07-01T15:22:28.146Z"
   },
   {
    "duration": 85,
    "start_time": "2023-07-01T15:52:16.998Z"
   },
   {
    "duration": 183,
    "start_time": "2023-07-01T15:52:22.134Z"
   },
   {
    "duration": 103,
    "start_time": "2023-07-01T15:54:35.433Z"
   },
   {
    "duration": 12,
    "start_time": "2023-07-01T15:54:43.267Z"
   },
   {
    "duration": 12,
    "start_time": "2023-07-01T15:55:23.542Z"
   },
   {
    "duration": 1400,
    "start_time": "2023-07-01T15:55:49.047Z"
   },
   {
    "duration": 1315,
    "start_time": "2023-07-01T15:56:04.767Z"
   },
   {
    "duration": 5,
    "start_time": "2023-07-01T15:56:27.690Z"
   },
   {
    "duration": 7,
    "start_time": "2023-07-01T15:56:34.548Z"
   },
   {
    "duration": 4,
    "start_time": "2023-07-01T15:57:01.085Z"
   },
   {
    "duration": 10,
    "start_time": "2023-07-01T15:57:02.393Z"
   },
   {
    "duration": 4,
    "start_time": "2023-07-01T15:57:05.451Z"
   },
   {
    "duration": 5,
    "start_time": "2023-07-01T15:57:21.343Z"
   },
   {
    "duration": 8,
    "start_time": "2023-07-01T15:57:23.149Z"
   },
   {
    "duration": 8,
    "start_time": "2023-07-01T15:58:04.086Z"
   },
   {
    "duration": 9,
    "start_time": "2023-07-01T15:58:06.299Z"
   },
   {
    "duration": 34,
    "start_time": "2023-07-01T16:03:41.665Z"
   },
   {
    "duration": 30,
    "start_time": "2023-07-01T16:04:00.541Z"
   },
   {
    "duration": 10,
    "start_time": "2023-07-01T16:04:54.528Z"
   },
   {
    "duration": 8,
    "start_time": "2023-07-01T16:05:01.455Z"
   },
   {
    "duration": 3,
    "start_time": "2023-07-01T16:06:24.102Z"
   },
   {
    "duration": 10,
    "start_time": "2023-07-01T16:06:25.499Z"
   },
   {
    "duration": 5,
    "start_time": "2023-07-01T16:06:28.042Z"
   },
   {
    "duration": 3,
    "start_time": "2023-07-01T16:06:35.843Z"
   },
   {
    "duration": 947,
    "start_time": "2023-07-01T16:06:39.054Z"
   },
   {
    "duration": 253,
    "start_time": "2023-07-01T16:06:40.003Z"
   },
   {
    "duration": 11,
    "start_time": "2023-07-01T16:06:40.259Z"
   },
   {
    "duration": 17,
    "start_time": "2023-07-01T16:06:40.271Z"
   },
   {
    "duration": 26,
    "start_time": "2023-07-01T16:06:40.290Z"
   },
   {
    "duration": 26,
    "start_time": "2023-07-01T16:06:40.318Z"
   },
   {
    "duration": 23,
    "start_time": "2023-07-01T16:06:40.345Z"
   },
   {
    "duration": 12,
    "start_time": "2023-07-01T16:06:40.399Z"
   },
   {
    "duration": 66,
    "start_time": "2023-07-01T16:06:40.413Z"
   },
   {
    "duration": 20,
    "start_time": "2023-07-01T16:06:40.480Z"
   },
   {
    "duration": 37,
    "start_time": "2023-07-01T16:06:40.502Z"
   },
   {
    "duration": 38,
    "start_time": "2023-07-01T16:06:40.540Z"
   },
   {
    "duration": 28,
    "start_time": "2023-07-01T16:06:40.579Z"
   },
   {
    "duration": 26,
    "start_time": "2023-07-01T16:06:40.609Z"
   },
   {
    "duration": 36,
    "start_time": "2023-07-01T16:06:40.636Z"
   },
   {
    "duration": 32,
    "start_time": "2023-07-01T16:06:40.674Z"
   },
   {
    "duration": 8,
    "start_time": "2023-07-01T16:06:40.708Z"
   },
   {
    "duration": 8,
    "start_time": "2023-07-01T16:06:40.718Z"
   },
   {
    "duration": 5,
    "start_time": "2023-07-01T16:06:40.727Z"
   },
   {
    "duration": 8,
    "start_time": "2023-07-01T16:06:40.734Z"
   },
   {
    "duration": 16,
    "start_time": "2023-07-01T16:06:40.744Z"
   },
   {
    "duration": 39,
    "start_time": "2023-07-01T16:06:40.762Z"
   },
   {
    "duration": 19,
    "start_time": "2023-07-01T16:06:40.802Z"
   },
   {
    "duration": 276,
    "start_time": "2023-07-01T16:06:40.823Z"
   },
   {
    "duration": 15,
    "start_time": "2023-07-01T16:06:41.101Z"
   },
   {
    "duration": 241,
    "start_time": "2023-07-01T16:06:41.118Z"
   },
   {
    "duration": 3,
    "start_time": "2023-07-01T16:06:41.362Z"
   },
   {
    "duration": 22,
    "start_time": "2023-07-01T16:06:41.367Z"
   },
   {
    "duration": 64,
    "start_time": "2023-07-01T16:06:41.391Z"
   },
   {
    "duration": 72,
    "start_time": "2023-07-01T16:06:41.456Z"
   },
   {
    "duration": 23,
    "start_time": "2023-07-01T16:06:41.530Z"
   },
   {
    "duration": 22,
    "start_time": "2023-07-01T16:06:41.555Z"
   },
   {
    "duration": 50,
    "start_time": "2023-07-01T16:06:41.579Z"
   },
   {
    "duration": 452,
    "start_time": "2023-07-01T16:06:41.631Z"
   },
   {
    "duration": 14,
    "start_time": "2023-07-01T16:06:42.085Z"
   },
   {
    "duration": 84,
    "start_time": "2023-07-01T16:06:42.101Z"
   },
   {
    "duration": 9,
    "start_time": "2023-07-01T16:06:42.186Z"
   },
   {
    "duration": 18,
    "start_time": "2023-07-01T16:06:42.197Z"
   },
   {
    "duration": 33,
    "start_time": "2023-07-01T16:06:42.217Z"
   },
   {
    "duration": 20,
    "start_time": "2023-07-01T16:06:42.251Z"
   },
   {
    "duration": 25,
    "start_time": "2023-07-01T16:06:42.273Z"
   },
   {
    "duration": 28,
    "start_time": "2023-07-01T16:06:42.300Z"
   },
   {
    "duration": 5,
    "start_time": "2023-07-01T16:08:36.322Z"
   },
   {
    "duration": 4,
    "start_time": "2023-07-01T16:08:45.250Z"
   },
   {
    "duration": 7,
    "start_time": "2023-07-01T16:08:47.645Z"
   },
   {
    "duration": 5,
    "start_time": "2023-07-01T16:08:52.964Z"
   },
   {
    "duration": 5,
    "start_time": "2023-07-01T16:08:54.578Z"
   },
   {
    "duration": 5,
    "start_time": "2023-07-01T16:08:54.785Z"
   },
   {
    "duration": 9,
    "start_time": "2023-07-01T16:08:56.612Z"
   },
   {
    "duration": 5,
    "start_time": "2023-07-01T16:09:03.018Z"
   },
   {
    "duration": 3,
    "start_time": "2023-07-01T16:09:04.160Z"
   },
   {
    "duration": 3,
    "start_time": "2023-07-01T16:09:04.379Z"
   },
   {
    "duration": 10,
    "start_time": "2023-07-01T16:09:06.142Z"
   },
   {
    "duration": 1169,
    "start_time": "2023-07-01T16:09:12.955Z"
   },
   {
    "duration": 174,
    "start_time": "2023-07-01T16:09:14.125Z"
   },
   {
    "duration": 10,
    "start_time": "2023-07-01T16:09:14.300Z"
   },
   {
    "duration": 17,
    "start_time": "2023-07-01T16:09:14.311Z"
   },
   {
    "duration": 19,
    "start_time": "2023-07-01T16:09:14.329Z"
   },
   {
    "duration": 51,
    "start_time": "2023-07-01T16:09:14.349Z"
   },
   {
    "duration": 23,
    "start_time": "2023-07-01T16:09:14.401Z"
   },
   {
    "duration": 11,
    "start_time": "2023-07-01T16:09:14.425Z"
   },
   {
    "duration": 73,
    "start_time": "2023-07-01T16:09:14.438Z"
   },
   {
    "duration": 6,
    "start_time": "2023-07-01T16:09:14.512Z"
   },
   {
    "duration": 40,
    "start_time": "2023-07-01T16:09:14.519Z"
   },
   {
    "duration": 62,
    "start_time": "2023-07-01T16:09:14.561Z"
   },
   {
    "duration": 9,
    "start_time": "2023-07-01T16:09:14.625Z"
   },
   {
    "duration": 29,
    "start_time": "2023-07-01T16:09:14.636Z"
   },
   {
    "duration": 50,
    "start_time": "2023-07-01T16:09:14.667Z"
   },
   {
    "duration": 10,
    "start_time": "2023-07-01T16:09:14.718Z"
   },
   {
    "duration": 13,
    "start_time": "2023-07-01T16:09:14.729Z"
   },
   {
    "duration": 9,
    "start_time": "2023-07-01T16:09:14.744Z"
   },
   {
    "duration": 14,
    "start_time": "2023-07-01T16:09:14.755Z"
   },
   {
    "duration": 24,
    "start_time": "2023-07-01T16:09:14.770Z"
   },
   {
    "duration": 33,
    "start_time": "2023-07-01T16:09:14.795Z"
   },
   {
    "duration": 7,
    "start_time": "2023-07-01T16:09:14.830Z"
   },
   {
    "duration": 39,
    "start_time": "2023-07-01T16:09:14.839Z"
   },
   {
    "duration": 295,
    "start_time": "2023-07-01T16:09:14.880Z"
   },
   {
    "duration": 22,
    "start_time": "2023-07-01T16:09:15.177Z"
   },
   {
    "duration": 185,
    "start_time": "2023-07-01T16:09:15.201Z"
   },
   {
    "duration": 4,
    "start_time": "2023-07-01T16:09:15.388Z"
   },
   {
    "duration": 18,
    "start_time": "2023-07-01T16:09:15.400Z"
   },
   {
    "duration": 54,
    "start_time": "2023-07-01T16:09:15.420Z"
   },
   {
    "duration": 73,
    "start_time": "2023-07-01T16:09:15.476Z"
   },
   {
    "duration": 17,
    "start_time": "2023-07-01T16:09:15.550Z"
   },
   {
    "duration": 38,
    "start_time": "2023-07-01T16:09:15.569Z"
   },
   {
    "duration": 39,
    "start_time": "2023-07-01T16:09:15.609Z"
   },
   {
    "duration": 500,
    "start_time": "2023-07-01T16:09:15.649Z"
   },
   {
    "duration": 10,
    "start_time": "2023-07-01T16:09:16.151Z"
   },
   {
    "duration": 85,
    "start_time": "2023-07-01T16:09:16.163Z"
   },
   {
    "duration": 6,
    "start_time": "2023-07-01T16:09:16.249Z"
   },
   {
    "duration": 36,
    "start_time": "2023-07-01T16:09:16.256Z"
   },
   {
    "duration": 10,
    "start_time": "2023-07-01T16:09:16.293Z"
   },
   {
    "duration": 17,
    "start_time": "2023-07-01T16:09:16.304Z"
   },
   {
    "duration": 9,
    "start_time": "2023-07-01T16:09:16.324Z"
   },
   {
    "duration": 12,
    "start_time": "2023-07-01T16:09:16.335Z"
   },
   {
    "duration": 127,
    "start_time": "2023-07-01T16:10:38.397Z"
   },
   {
    "duration": 30,
    "start_time": "2023-07-01T16:10:56.796Z"
   },
   {
    "duration": 68,
    "start_time": "2023-07-01T16:11:01.850Z"
   },
   {
    "duration": 66,
    "start_time": "2023-07-01T16:11:18.421Z"
   },
   {
    "duration": 6,
    "start_time": "2023-07-01T16:11:21.775Z"
   },
   {
    "duration": 5,
    "start_time": "2023-07-01T16:11:41.971Z"
   },
   {
    "duration": 5,
    "start_time": "2023-07-01T16:11:56.444Z"
   },
   {
    "duration": 6,
    "start_time": "2023-07-01T16:12:00.850Z"
   },
   {
    "duration": 6,
    "start_time": "2023-07-01T16:12:09.037Z"
   },
   {
    "duration": 9,
    "start_time": "2023-07-01T16:12:11.178Z"
   },
   {
    "duration": 5,
    "start_time": "2023-07-01T16:12:21.141Z"
   },
   {
    "duration": 8,
    "start_time": "2023-07-01T16:12:22.920Z"
   },
   {
    "duration": 963,
    "start_time": "2023-07-01T16:12:28.039Z"
   },
   {
    "duration": 170,
    "start_time": "2023-07-01T16:12:29.004Z"
   },
   {
    "duration": 10,
    "start_time": "2023-07-01T16:12:29.175Z"
   },
   {
    "duration": 24,
    "start_time": "2023-07-01T16:12:29.186Z"
   },
   {
    "duration": 21,
    "start_time": "2023-07-01T16:12:29.211Z"
   },
   {
    "duration": 26,
    "start_time": "2023-07-01T16:12:29.234Z"
   },
   {
    "duration": 52,
    "start_time": "2023-07-01T16:12:29.262Z"
   },
   {
    "duration": 13,
    "start_time": "2023-07-01T16:12:29.315Z"
   },
   {
    "duration": 84,
    "start_time": "2023-07-01T16:12:29.330Z"
   },
   {
    "duration": 5,
    "start_time": "2023-07-01T16:12:29.415Z"
   },
   {
    "duration": 43,
    "start_time": "2023-07-01T16:12:29.422Z"
   },
   {
    "duration": 50,
    "start_time": "2023-07-01T16:12:29.466Z"
   },
   {
    "duration": 9,
    "start_time": "2023-07-01T16:12:29.517Z"
   },
   {
    "duration": 32,
    "start_time": "2023-07-01T16:12:29.529Z"
   },
   {
    "duration": 48,
    "start_time": "2023-07-01T16:12:29.562Z"
   },
   {
    "duration": 10,
    "start_time": "2023-07-01T16:12:29.611Z"
   },
   {
    "duration": 9,
    "start_time": "2023-07-01T16:12:29.622Z"
   },
   {
    "duration": 9,
    "start_time": "2023-07-01T16:12:29.633Z"
   },
   {
    "duration": 12,
    "start_time": "2023-07-01T16:12:29.643Z"
   },
   {
    "duration": 7,
    "start_time": "2023-07-01T16:12:29.657Z"
   },
   {
    "duration": 12,
    "start_time": "2023-07-01T16:12:29.665Z"
   },
   {
    "duration": 25,
    "start_time": "2023-07-01T16:12:29.678Z"
   },
   {
    "duration": 20,
    "start_time": "2023-07-01T16:12:29.704Z"
   },
   {
    "duration": 284,
    "start_time": "2023-07-01T16:12:29.725Z"
   },
   {
    "duration": 15,
    "start_time": "2023-07-01T16:12:30.012Z"
   },
   {
    "duration": 195,
    "start_time": "2023-07-01T16:12:30.029Z"
   },
   {
    "duration": 3,
    "start_time": "2023-07-01T16:12:30.226Z"
   },
   {
    "duration": 41,
    "start_time": "2023-07-01T16:12:30.231Z"
   },
   {
    "duration": 68,
    "start_time": "2023-07-01T16:12:30.274Z"
   },
   {
    "duration": 57,
    "start_time": "2023-07-01T16:12:30.343Z"
   },
   {
    "duration": 17,
    "start_time": "2023-07-01T16:12:30.402Z"
   },
   {
    "duration": 48,
    "start_time": "2023-07-01T16:12:30.421Z"
   },
   {
    "duration": 83,
    "start_time": "2023-07-01T16:12:30.470Z"
   },
   {
    "duration": 438,
    "start_time": "2023-07-01T16:12:30.555Z"
   },
   {
    "duration": 11,
    "start_time": "2023-07-01T16:12:30.995Z"
   },
   {
    "duration": 98,
    "start_time": "2023-07-01T16:12:31.007Z"
   },
   {
    "duration": 6,
    "start_time": "2023-07-01T16:12:31.107Z"
   },
   {
    "duration": 54,
    "start_time": "2023-07-01T16:12:31.114Z"
   },
   {
    "duration": 32,
    "start_time": "2023-07-01T16:12:31.169Z"
   },
   {
    "duration": 34,
    "start_time": "2023-07-01T16:12:31.202Z"
   },
   {
    "duration": 31,
    "start_time": "2023-07-01T16:12:31.239Z"
   },
   {
    "duration": 21,
    "start_time": "2023-07-01T16:12:31.272Z"
   },
   {
    "duration": 86,
    "start_time": "2023-07-01T16:12:31.294Z"
   },
   {
    "duration": 6,
    "start_time": "2023-07-01T16:12:31.382Z"
   },
   {
    "duration": 42,
    "start_time": "2023-07-01T16:12:31.389Z"
   },
   {
    "duration": 31,
    "start_time": "2023-07-01T16:12:31.432Z"
   },
   {
    "duration": 6,
    "start_time": "2023-07-01T16:13:40.188Z"
   },
   {
    "duration": 10,
    "start_time": "2023-07-01T16:13:41.548Z"
   },
   {
    "duration": 5,
    "start_time": "2023-07-01T16:16:47.940Z"
   },
   {
    "duration": 8,
    "start_time": "2023-07-01T16:16:52.393Z"
   },
   {
    "duration": 972,
    "start_time": "2023-07-01T16:17:42.024Z"
   },
   {
    "duration": 188,
    "start_time": "2023-07-01T16:17:42.998Z"
   },
   {
    "duration": 12,
    "start_time": "2023-07-01T16:17:43.187Z"
   },
   {
    "duration": 16,
    "start_time": "2023-07-01T16:17:43.200Z"
   },
   {
    "duration": 19,
    "start_time": "2023-07-01T16:17:43.218Z"
   },
   {
    "duration": 25,
    "start_time": "2023-07-01T16:17:43.239Z"
   },
   {
    "duration": 48,
    "start_time": "2023-07-01T16:17:43.265Z"
   },
   {
    "duration": 12,
    "start_time": "2023-07-01T16:17:43.314Z"
   },
   {
    "duration": 63,
    "start_time": "2023-07-01T16:17:43.327Z"
   },
   {
    "duration": 5,
    "start_time": "2023-07-01T16:17:43.400Z"
   },
   {
    "duration": 40,
    "start_time": "2023-07-01T16:17:43.406Z"
   },
   {
    "duration": 52,
    "start_time": "2023-07-01T16:17:43.447Z"
   },
   {
    "duration": 9,
    "start_time": "2023-07-01T16:17:43.501Z"
   },
   {
    "duration": 41,
    "start_time": "2023-07-01T16:17:43.514Z"
   },
   {
    "duration": 44,
    "start_time": "2023-07-01T16:17:43.556Z"
   },
   {
    "duration": 9,
    "start_time": "2023-07-01T16:17:43.602Z"
   },
   {
    "duration": 7,
    "start_time": "2023-07-01T16:17:43.612Z"
   },
   {
    "duration": 6,
    "start_time": "2023-07-01T16:17:43.620Z"
   },
   {
    "duration": 5,
    "start_time": "2023-07-01T16:17:43.627Z"
   },
   {
    "duration": 5,
    "start_time": "2023-07-01T16:17:43.633Z"
   },
   {
    "duration": 14,
    "start_time": "2023-07-01T16:17:43.639Z"
   },
   {
    "duration": 6,
    "start_time": "2023-07-01T16:17:43.654Z"
   },
   {
    "duration": 9,
    "start_time": "2023-07-01T16:17:43.699Z"
   },
   {
    "duration": 285,
    "start_time": "2023-07-01T16:17:43.710Z"
   },
   {
    "duration": 14,
    "start_time": "2023-07-01T16:17:43.999Z"
   },
   {
    "duration": 189,
    "start_time": "2023-07-01T16:17:44.015Z"
   },
   {
    "duration": 3,
    "start_time": "2023-07-01T16:17:44.206Z"
   },
   {
    "duration": 15,
    "start_time": "2023-07-01T16:17:44.210Z"
   },
   {
    "duration": 54,
    "start_time": "2023-07-01T16:17:44.227Z"
   },
   {
    "duration": 65,
    "start_time": "2023-07-01T16:17:44.282Z"
   },
   {
    "duration": 17,
    "start_time": "2023-07-01T16:17:44.349Z"
   },
   {
    "duration": 41,
    "start_time": "2023-07-01T16:17:44.367Z"
   },
   {
    "duration": 52,
    "start_time": "2023-07-01T16:17:44.410Z"
   },
   {
    "duration": 452,
    "start_time": "2023-07-01T16:17:44.464Z"
   },
   {
    "duration": 7,
    "start_time": "2023-07-01T16:17:44.918Z"
   },
   {
    "duration": 54,
    "start_time": "2023-07-01T16:17:44.927Z"
   },
   {
    "duration": 23,
    "start_time": "2023-07-01T16:17:44.982Z"
   },
   {
    "duration": 32,
    "start_time": "2023-07-01T16:17:45.007Z"
   },
   {
    "duration": 8,
    "start_time": "2023-07-01T16:17:45.041Z"
   },
   {
    "duration": 21,
    "start_time": "2023-07-01T16:17:45.051Z"
   },
   {
    "duration": 8,
    "start_time": "2023-07-01T16:17:45.075Z"
   },
   {
    "duration": 16,
    "start_time": "2023-07-01T16:17:45.084Z"
   },
   {
    "duration": 79,
    "start_time": "2023-07-01T16:17:45.101Z"
   },
   {
    "duration": 7,
    "start_time": "2023-07-01T16:17:45.182Z"
   },
   {
    "duration": 9,
    "start_time": "2023-07-01T16:17:45.191Z"
   },
   {
    "duration": 8,
    "start_time": "2023-07-01T16:17:45.201Z"
   },
   {
    "duration": 5,
    "start_time": "2023-07-01T16:17:45.211Z"
   },
   {
    "duration": 9,
    "start_time": "2023-07-01T16:17:45.217Z"
   },
   {
    "duration": 1025,
    "start_time": "2023-07-01T16:17:55.325Z"
   },
   {
    "duration": 193,
    "start_time": "2023-07-01T16:17:56.352Z"
   },
   {
    "duration": 11,
    "start_time": "2023-07-01T16:17:56.547Z"
   },
   {
    "duration": 19,
    "start_time": "2023-07-01T16:17:56.560Z"
   },
   {
    "duration": 37,
    "start_time": "2023-07-01T16:17:56.580Z"
   },
   {
    "duration": 26,
    "start_time": "2023-07-01T16:17:56.618Z"
   },
   {
    "duration": 23,
    "start_time": "2023-07-01T16:17:56.645Z"
   },
   {
    "duration": 34,
    "start_time": "2023-07-01T16:17:56.670Z"
   },
   {
    "duration": 57,
    "start_time": "2023-07-01T16:17:56.706Z"
   },
   {
    "duration": 6,
    "start_time": "2023-07-01T16:17:56.765Z"
   },
   {
    "duration": 59,
    "start_time": "2023-07-01T16:17:56.772Z"
   },
   {
    "duration": 41,
    "start_time": "2023-07-01T16:17:56.832Z"
   },
   {
    "duration": 9,
    "start_time": "2023-07-01T16:17:56.874Z"
   },
   {
    "duration": 38,
    "start_time": "2023-07-01T16:17:56.885Z"
   },
   {
    "duration": 37,
    "start_time": "2023-07-01T16:17:56.925Z"
   },
   {
    "duration": 10,
    "start_time": "2023-07-01T16:17:56.964Z"
   },
   {
    "duration": 29,
    "start_time": "2023-07-01T16:17:56.975Z"
   },
   {
    "duration": 8,
    "start_time": "2023-07-01T16:17:57.005Z"
   },
   {
    "duration": 7,
    "start_time": "2023-07-01T16:17:57.015Z"
   },
   {
    "duration": 8,
    "start_time": "2023-07-01T16:17:57.023Z"
   },
   {
    "duration": 32,
    "start_time": "2023-07-01T16:17:57.032Z"
   },
   {
    "duration": 8,
    "start_time": "2023-07-01T16:17:57.066Z"
   },
   {
    "duration": 26,
    "start_time": "2023-07-01T16:17:57.076Z"
   },
   {
    "duration": 289,
    "start_time": "2023-07-01T16:17:57.103Z"
   },
   {
    "duration": 17,
    "start_time": "2023-07-01T16:17:57.393Z"
   },
   {
    "duration": 191,
    "start_time": "2023-07-01T16:17:57.412Z"
   },
   {
    "duration": 4,
    "start_time": "2023-07-01T16:17:57.605Z"
   },
   {
    "duration": 24,
    "start_time": "2023-07-01T16:17:57.612Z"
   },
   {
    "duration": 73,
    "start_time": "2023-07-01T16:17:57.638Z"
   },
   {
    "duration": 53,
    "start_time": "2023-07-01T16:17:57.713Z"
   },
   {
    "duration": 32,
    "start_time": "2023-07-01T16:17:57.768Z"
   },
   {
    "duration": 23,
    "start_time": "2023-07-01T16:17:57.802Z"
   },
   {
    "duration": 36,
    "start_time": "2023-07-01T16:17:57.826Z"
   },
   {
    "duration": 463,
    "start_time": "2023-07-01T16:17:57.864Z"
   },
   {
    "duration": 8,
    "start_time": "2023-07-01T16:17:58.329Z"
   },
   {
    "duration": 63,
    "start_time": "2023-07-01T16:17:58.338Z"
   },
   {
    "duration": 6,
    "start_time": "2023-07-01T16:17:58.403Z"
   },
   {
    "duration": 10,
    "start_time": "2023-07-01T16:17:58.410Z"
   },
   {
    "duration": 11,
    "start_time": "2023-07-01T16:17:58.421Z"
   },
   {
    "duration": 7,
    "start_time": "2023-07-01T16:17:58.433Z"
   },
   {
    "duration": 8,
    "start_time": "2023-07-01T16:17:58.442Z"
   },
   {
    "duration": 8,
    "start_time": "2023-07-01T16:17:58.452Z"
   },
   {
    "duration": 91,
    "start_time": "2023-07-01T16:17:58.461Z"
   },
   {
    "duration": 7,
    "start_time": "2023-07-01T16:17:58.553Z"
   },
   {
    "duration": 5,
    "start_time": "2023-07-01T16:17:58.562Z"
   },
   {
    "duration": 10,
    "start_time": "2023-07-01T16:17:58.568Z"
   },
   {
    "duration": 23,
    "start_time": "2023-07-01T16:17:58.579Z"
   },
   {
    "duration": 10,
    "start_time": "2023-07-01T16:17:58.603Z"
   },
   {
    "duration": 1108,
    "start_time": "2023-07-01T16:18:14.475Z"
   },
   {
    "duration": 180,
    "start_time": "2023-07-01T16:18:15.585Z"
   },
   {
    "duration": 10,
    "start_time": "2023-07-01T16:18:15.766Z"
   },
   {
    "duration": 27,
    "start_time": "2023-07-01T16:18:15.777Z"
   },
   {
    "duration": 19,
    "start_time": "2023-07-01T16:18:15.806Z"
   },
   {
    "duration": 26,
    "start_time": "2023-07-01T16:18:15.827Z"
   },
   {
    "duration": 47,
    "start_time": "2023-07-01T16:18:15.854Z"
   },
   {
    "duration": 19,
    "start_time": "2023-07-01T16:18:15.903Z"
   },
   {
    "duration": 84,
    "start_time": "2023-07-01T16:18:15.924Z"
   },
   {
    "duration": 6,
    "start_time": "2023-07-01T16:18:16.010Z"
   },
   {
    "duration": 64,
    "start_time": "2023-07-01T16:18:16.018Z"
   },
   {
    "duration": 56,
    "start_time": "2023-07-01T16:18:16.084Z"
   },
   {
    "duration": 11,
    "start_time": "2023-07-01T16:18:16.141Z"
   },
   {
    "duration": 71,
    "start_time": "2023-07-01T16:18:16.155Z"
   },
   {
    "duration": 91,
    "start_time": "2023-07-01T16:18:16.228Z"
   },
   {
    "duration": 11,
    "start_time": "2023-07-01T16:18:16.320Z"
   },
   {
    "duration": 8,
    "start_time": "2023-07-01T16:18:16.333Z"
   },
   {
    "duration": 8,
    "start_time": "2023-07-01T16:18:16.343Z"
   },
   {
    "duration": 6,
    "start_time": "2023-07-01T16:18:16.353Z"
   },
   {
    "duration": 5,
    "start_time": "2023-07-01T16:18:16.360Z"
   },
   {
    "duration": 49,
    "start_time": "2023-07-01T16:18:16.367Z"
   },
   {
    "duration": 7,
    "start_time": "2023-07-01T16:18:16.418Z"
   },
   {
    "duration": 10,
    "start_time": "2023-07-01T16:18:16.427Z"
   },
   {
    "duration": 299,
    "start_time": "2023-07-01T16:18:16.438Z"
   },
   {
    "duration": 15,
    "start_time": "2023-07-01T16:18:16.738Z"
   },
   {
    "duration": 185,
    "start_time": "2023-07-01T16:18:16.754Z"
   },
   {
    "duration": 3,
    "start_time": "2023-07-01T16:18:16.941Z"
   },
   {
    "duration": 24,
    "start_time": "2023-07-01T16:18:16.946Z"
   },
   {
    "duration": 67,
    "start_time": "2023-07-01T16:18:16.972Z"
   },
   {
    "duration": 64,
    "start_time": "2023-07-01T16:18:17.041Z"
   },
   {
    "duration": 18,
    "start_time": "2023-07-01T16:18:17.107Z"
   },
   {
    "duration": 23,
    "start_time": "2023-07-01T16:18:17.127Z"
   },
   {
    "duration": 62,
    "start_time": "2023-07-01T16:18:17.152Z"
   },
   {
    "duration": 448,
    "start_time": "2023-07-01T16:18:17.216Z"
   },
   {
    "duration": 8,
    "start_time": "2023-07-01T16:18:17.665Z"
   },
   {
    "duration": 65,
    "start_time": "2023-07-01T16:18:17.674Z"
   },
   {
    "duration": 7,
    "start_time": "2023-07-01T16:18:17.741Z"
   },
   {
    "duration": 3,
    "start_time": "2023-07-01T16:18:17.750Z"
   },
   {
    "duration": 9,
    "start_time": "2023-07-01T16:18:17.754Z"
   },
   {
    "duration": 10,
    "start_time": "2023-07-01T16:18:17.764Z"
   },
   {
    "duration": 42,
    "start_time": "2023-07-01T16:18:17.778Z"
   },
   {
    "duration": 16,
    "start_time": "2023-07-01T16:18:17.822Z"
   },
   {
    "duration": 74,
    "start_time": "2023-07-01T16:18:17.839Z"
   },
   {
    "duration": 7,
    "start_time": "2023-07-01T16:18:17.914Z"
   },
   {
    "duration": 5,
    "start_time": "2023-07-01T16:18:17.923Z"
   },
   {
    "duration": 11,
    "start_time": "2023-07-01T16:18:17.929Z"
   },
   {
    "duration": 4,
    "start_time": "2023-07-01T16:18:33.275Z"
   },
   {
    "duration": 11,
    "start_time": "2023-07-01T16:18:34.945Z"
   },
   {
    "duration": 7,
    "start_time": "2023-07-01T16:18:41.952Z"
   },
   {
    "duration": 6,
    "start_time": "2023-07-01T16:18:44.131Z"
   },
   {
    "duration": 10,
    "start_time": "2023-07-01T16:18:45.809Z"
   },
   {
    "duration": 7,
    "start_time": "2023-07-01T16:18:46.687Z"
   },
   {
    "duration": 10,
    "start_time": "2023-07-01T16:18:46.839Z"
   },
   {
    "duration": 9,
    "start_time": "2023-07-01T16:18:47.027Z"
   },
   {
    "duration": 9,
    "start_time": "2023-07-01T16:18:47.153Z"
   },
   {
    "duration": 4,
    "start_time": "2023-07-01T16:18:50.096Z"
   },
   {
    "duration": 7,
    "start_time": "2023-07-01T16:18:51.371Z"
   },
   {
    "duration": 4,
    "start_time": "2023-07-01T16:19:05.875Z"
   },
   {
    "duration": 8,
    "start_time": "2023-07-01T16:19:07.413Z"
   },
   {
    "duration": 5,
    "start_time": "2023-07-01T16:19:11.236Z"
   },
   {
    "duration": 9,
    "start_time": "2023-07-01T16:19:12.984Z"
   },
   {
    "duration": 5,
    "start_time": "2023-07-01T16:19:35.581Z"
   },
   {
    "duration": 7,
    "start_time": "2023-07-01T16:19:37.067Z"
   },
   {
    "duration": 956,
    "start_time": "2023-07-01T17:10:13.958Z"
   },
   {
    "duration": 187,
    "start_time": "2023-07-01T17:10:14.916Z"
   },
   {
    "duration": 11,
    "start_time": "2023-07-01T17:10:15.104Z"
   },
   {
    "duration": 36,
    "start_time": "2023-07-01T17:10:15.117Z"
   },
   {
    "duration": 32,
    "start_time": "2023-07-01T17:10:15.155Z"
   },
   {
    "duration": 26,
    "start_time": "2023-07-01T17:10:15.188Z"
   },
   {
    "duration": 22,
    "start_time": "2023-07-01T17:10:15.215Z"
   },
   {
    "duration": 12,
    "start_time": "2023-07-01T17:10:15.238Z"
   },
   {
    "duration": 83,
    "start_time": "2023-07-01T17:10:15.251Z"
   },
   {
    "duration": 6,
    "start_time": "2023-07-01T17:10:15.335Z"
   },
   {
    "duration": 55,
    "start_time": "2023-07-01T17:10:15.343Z"
   },
   {
    "duration": 48,
    "start_time": "2023-07-01T17:10:15.400Z"
   },
   {
    "duration": 9,
    "start_time": "2023-07-01T17:10:15.449Z"
   },
   {
    "duration": 42,
    "start_time": "2023-07-01T17:10:15.461Z"
   },
   {
    "duration": 46,
    "start_time": "2023-07-01T17:10:15.505Z"
   },
   {
    "duration": 11,
    "start_time": "2023-07-01T17:10:15.553Z"
   },
   {
    "duration": 8,
    "start_time": "2023-07-01T17:10:15.565Z"
   },
   {
    "duration": 27,
    "start_time": "2023-07-01T17:10:15.574Z"
   },
   {
    "duration": 5,
    "start_time": "2023-07-01T17:10:15.602Z"
   },
   {
    "duration": 7,
    "start_time": "2023-07-01T17:10:15.608Z"
   },
   {
    "duration": 24,
    "start_time": "2023-07-01T17:10:15.616Z"
   },
   {
    "duration": 7,
    "start_time": "2023-07-01T17:10:15.641Z"
   },
   {
    "duration": 19,
    "start_time": "2023-07-01T17:10:15.649Z"
   },
   {
    "duration": 260,
    "start_time": "2023-07-01T17:10:15.670Z"
   },
   {
    "duration": 15,
    "start_time": "2023-07-01T17:10:15.931Z"
   },
   {
    "duration": 214,
    "start_time": "2023-07-01T17:10:15.948Z"
   },
   {
    "duration": 4,
    "start_time": "2023-07-01T17:10:16.164Z"
   },
   {
    "duration": 34,
    "start_time": "2023-07-01T17:10:16.171Z"
   },
   {
    "duration": 82,
    "start_time": "2023-07-01T17:10:16.207Z"
   },
   {
    "duration": 59,
    "start_time": "2023-07-01T17:10:16.290Z"
   },
   {
    "duration": 16,
    "start_time": "2023-07-01T17:10:16.351Z"
   },
   {
    "duration": 36,
    "start_time": "2023-07-01T17:10:16.368Z"
   },
   {
    "duration": 35,
    "start_time": "2023-07-01T17:10:16.406Z"
   },
   {
    "duration": 443,
    "start_time": "2023-07-01T17:10:16.442Z"
   },
   {
    "duration": 14,
    "start_time": "2023-07-01T17:10:16.886Z"
   },
   {
    "duration": 51,
    "start_time": "2023-07-01T17:10:16.902Z"
   },
   {
    "duration": 6,
    "start_time": "2023-07-01T17:10:16.955Z"
   },
   {
    "duration": 4,
    "start_time": "2023-07-01T17:10:16.962Z"
   },
   {
    "duration": 7,
    "start_time": "2023-07-01T17:10:16.967Z"
   },
   {
    "duration": 6,
    "start_time": "2023-07-01T17:10:17.000Z"
   },
   {
    "duration": 8,
    "start_time": "2023-07-01T17:10:17.009Z"
   },
   {
    "duration": 10,
    "start_time": "2023-07-01T17:10:17.018Z"
   },
   {
    "duration": 94,
    "start_time": "2023-07-01T17:10:17.029Z"
   },
   {
    "duration": 6,
    "start_time": "2023-07-01T17:10:17.125Z"
   },
   {
    "duration": 6,
    "start_time": "2023-07-01T17:10:17.133Z"
   },
   {
    "duration": 10,
    "start_time": "2023-07-01T17:10:17.140Z"
   },
   {
    "duration": 5,
    "start_time": "2023-07-01T17:10:26.623Z"
   },
   {
    "duration": 7,
    "start_time": "2023-07-01T17:10:29.760Z"
   },
   {
    "duration": 81,
    "start_time": "2023-07-01T17:11:06.492Z"
   },
   {
    "duration": 72,
    "start_time": "2023-07-01T17:11:39.930Z"
   },
   {
    "duration": 215,
    "start_time": "2023-07-01T17:12:30.557Z"
   },
   {
    "duration": 135,
    "start_time": "2023-07-01T17:12:36.557Z"
   },
   {
    "duration": 100,
    "start_time": "2023-07-01T17:12:41.590Z"
   },
   {
    "duration": 8,
    "start_time": "2023-07-01T17:12:59.246Z"
   },
   {
    "duration": 109,
    "start_time": "2023-07-01T17:13:15.056Z"
   },
   {
    "duration": 12,
    "start_time": "2023-07-01T17:13:20.430Z"
   },
   {
    "duration": 133,
    "start_time": "2023-07-01T17:13:48.631Z"
   },
   {
    "duration": 118,
    "start_time": "2023-07-01T17:14:25.332Z"
   },
   {
    "duration": 12,
    "start_time": "2023-07-01T17:16:08.250Z"
   },
   {
    "duration": 11,
    "start_time": "2023-07-01T17:16:11.473Z"
   },
   {
    "duration": 112,
    "start_time": "2023-07-01T17:16:45.284Z"
   },
   {
    "duration": 108,
    "start_time": "2023-07-01T17:17:06.506Z"
   },
   {
    "duration": 17,
    "start_time": "2023-07-01T17:17:19.602Z"
   },
   {
    "duration": 16,
    "start_time": "2023-07-01T17:17:30.155Z"
   },
   {
    "duration": 105,
    "start_time": "2023-07-01T17:17:35.129Z"
   },
   {
    "duration": 152,
    "start_time": "2023-07-01T17:17:44.334Z"
   },
   {
    "duration": 108,
    "start_time": "2023-07-01T17:17:47.028Z"
   },
   {
    "duration": 107,
    "start_time": "2023-07-01T17:17:52.612Z"
   },
   {
    "duration": 100,
    "start_time": "2023-07-01T17:18:08.539Z"
   },
   {
    "duration": 121,
    "start_time": "2023-07-01T17:18:33.707Z"
   },
   {
    "duration": 122,
    "start_time": "2023-07-01T17:19:05.566Z"
   },
   {
    "duration": 125,
    "start_time": "2023-07-01T17:19:38.876Z"
   },
   {
    "duration": 126,
    "start_time": "2023-07-01T17:19:44.199Z"
   },
   {
    "duration": 116,
    "start_time": "2023-07-01T17:20:13.039Z"
   },
   {
    "duration": 192,
    "start_time": "2023-07-01T17:20:23.491Z"
   },
   {
    "duration": 262,
    "start_time": "2023-07-01T17:21:24.135Z"
   },
   {
    "duration": 274,
    "start_time": "2023-07-01T17:21:29.667Z"
   },
   {
    "duration": 162,
    "start_time": "2023-07-01T17:21:48.353Z"
   },
   {
    "duration": 143,
    "start_time": "2023-07-01T17:22:20.963Z"
   },
   {
    "duration": 108,
    "start_time": "2023-07-01T17:22:36.157Z"
   },
   {
    "duration": 135,
    "start_time": "2023-07-01T17:23:05.599Z"
   },
   {
    "duration": 117,
    "start_time": "2023-07-01T17:23:08.218Z"
   },
   {
    "duration": 13,
    "start_time": "2023-07-01T17:23:12.652Z"
   },
   {
    "duration": 13,
    "start_time": "2023-07-01T17:23:31.090Z"
   },
   {
    "duration": 1052,
    "start_time": "2023-07-01T17:24:03.014Z"
   },
   {
    "duration": 141,
    "start_time": "2023-07-01T17:24:04.068Z"
   },
   {
    "duration": 10,
    "start_time": "2023-07-01T17:24:04.210Z"
   },
   {
    "duration": 17,
    "start_time": "2023-07-01T17:24:04.222Z"
   },
   {
    "duration": 18,
    "start_time": "2023-07-01T17:24:04.241Z"
   },
   {
    "duration": 48,
    "start_time": "2023-07-01T17:24:04.260Z"
   },
   {
    "duration": 23,
    "start_time": "2023-07-01T17:24:04.309Z"
   },
   {
    "duration": 12,
    "start_time": "2023-07-01T17:24:04.334Z"
   },
   {
    "duration": 69,
    "start_time": "2023-07-01T17:24:04.348Z"
   },
   {
    "duration": 7,
    "start_time": "2023-07-01T17:24:04.419Z"
   },
   {
    "duration": 38,
    "start_time": "2023-07-01T17:24:04.427Z"
   },
   {
    "duration": 52,
    "start_time": "2023-07-01T17:24:04.467Z"
   },
   {
    "duration": 8,
    "start_time": "2023-07-01T17:24:04.520Z"
   },
   {
    "duration": 26,
    "start_time": "2023-07-01T17:24:04.531Z"
   },
   {
    "duration": 54,
    "start_time": "2023-07-01T17:24:04.558Z"
   },
   {
    "duration": 10,
    "start_time": "2023-07-01T17:24:04.614Z"
   },
   {
    "duration": 8,
    "start_time": "2023-07-01T17:24:04.625Z"
   },
   {
    "duration": 10,
    "start_time": "2023-07-01T17:24:04.635Z"
   },
   {
    "duration": 6,
    "start_time": "2023-07-01T17:24:04.647Z"
   },
   {
    "duration": 5,
    "start_time": "2023-07-01T17:24:04.654Z"
   },
   {
    "duration": 39,
    "start_time": "2023-07-01T17:24:04.660Z"
   },
   {
    "duration": 7,
    "start_time": "2023-07-01T17:24:04.701Z"
   },
   {
    "duration": 13,
    "start_time": "2023-07-01T17:24:04.709Z"
   },
   {
    "duration": 286,
    "start_time": "2023-07-01T17:24:04.724Z"
   },
   {
    "duration": 15,
    "start_time": "2023-07-01T17:24:05.011Z"
   },
   {
    "duration": 189,
    "start_time": "2023-07-01T17:24:05.027Z"
   },
   {
    "duration": 4,
    "start_time": "2023-07-01T17:24:05.217Z"
   },
   {
    "duration": 19,
    "start_time": "2023-07-01T17:24:05.222Z"
   },
   {
    "duration": 86,
    "start_time": "2023-07-01T17:24:05.242Z"
   },
   {
    "duration": 55,
    "start_time": "2023-07-01T17:24:05.330Z"
   },
   {
    "duration": 30,
    "start_time": "2023-07-01T17:24:05.387Z"
   },
   {
    "duration": 31,
    "start_time": "2023-07-01T17:24:05.419Z"
   },
   {
    "duration": 34,
    "start_time": "2023-07-01T17:24:05.452Z"
   },
   {
    "duration": 454,
    "start_time": "2023-07-01T17:24:05.488Z"
   },
   {
    "duration": 12,
    "start_time": "2023-07-01T17:24:05.944Z"
   },
   {
    "duration": 77,
    "start_time": "2023-07-01T17:24:05.958Z"
   },
   {
    "duration": 7,
    "start_time": "2023-07-01T17:24:06.037Z"
   },
   {
    "duration": 112,
    "start_time": "2023-07-01T17:24:06.046Z"
   },
   {
    "duration": 136,
    "start_time": "2023-07-01T17:24:17.433Z"
   },
   {
    "duration": 126,
    "start_time": "2023-07-01T17:24:24.624Z"
   },
   {
    "duration": 91,
    "start_time": "2023-07-01T17:24:41.241Z"
   },
   {
    "duration": 247,
    "start_time": "2023-07-01T17:25:41.015Z"
   },
   {
    "duration": 124,
    "start_time": "2023-07-01T17:25:48.858Z"
   },
   {
    "duration": 136,
    "start_time": "2023-07-01T17:26:09.539Z"
   },
   {
    "duration": 129,
    "start_time": "2023-07-01T17:26:16.696Z"
   },
   {
    "duration": 142,
    "start_time": "2023-07-01T17:27:43.077Z"
   },
   {
    "duration": 217,
    "start_time": "2023-07-01T17:27:49.094Z"
   },
   {
    "duration": 215,
    "start_time": "2023-07-01T17:27:57.365Z"
   },
   {
    "duration": 155,
    "start_time": "2023-07-01T17:27:59.845Z"
   },
   {
    "duration": 152,
    "start_time": "2023-07-01T17:30:27.801Z"
   },
   {
    "duration": 160,
    "start_time": "2023-07-01T17:30:52.293Z"
   },
   {
    "duration": 150,
    "start_time": "2023-07-01T17:30:59.288Z"
   },
   {
    "duration": 1638,
    "start_time": "2023-07-01T18:34:28.826Z"
   },
   {
    "duration": 54,
    "start_time": "2023-07-01T18:35:02.498Z"
   },
   {
    "duration": 54,
    "start_time": "2023-07-01T18:35:07.386Z"
   },
   {
    "duration": 2822,
    "start_time": "2023-07-01T18:35:38.848Z"
   },
   {
    "duration": 67,
    "start_time": "2023-07-01T18:35:47.027Z"
   },
   {
    "duration": 18,
    "start_time": "2023-07-01T18:37:58.357Z"
   },
   {
    "duration": 23,
    "start_time": "2023-07-01T18:38:00.362Z"
   },
   {
    "duration": 1820,
    "start_time": "2023-07-01T18:39:23.745Z"
   },
   {
    "duration": 19,
    "start_time": "2023-07-01T18:39:37.035Z"
   },
   {
    "duration": 19,
    "start_time": "2023-07-01T18:39:38.456Z"
   },
   {
    "duration": 5,
    "start_time": "2023-07-01T18:39:39.800Z"
   },
   {
    "duration": 6,
    "start_time": "2023-07-01T18:40:24.150Z"
   },
   {
    "duration": 5,
    "start_time": "2023-07-01T18:40:33.389Z"
   },
   {
    "duration": 6,
    "start_time": "2023-07-01T18:40:36.873Z"
   },
   {
    "duration": 7,
    "start_time": "2023-07-01T18:40:49.693Z"
   },
   {
    "duration": 6,
    "start_time": "2023-07-01T18:40:57.480Z"
   },
   {
    "duration": 6,
    "start_time": "2023-07-01T18:41:00.642Z"
   },
   {
    "duration": 6,
    "start_time": "2023-07-01T18:41:05.905Z"
   },
   {
    "duration": 6,
    "start_time": "2023-07-01T18:41:18.482Z"
   },
   {
    "duration": 6,
    "start_time": "2023-07-01T18:41:32.435Z"
   },
   {
    "duration": 6,
    "start_time": "2023-07-01T18:41:32.885Z"
   },
   {
    "duration": 5,
    "start_time": "2023-07-01T18:41:33.133Z"
   },
   {
    "duration": 6,
    "start_time": "2023-07-01T18:41:33.312Z"
   },
   {
    "duration": 6,
    "start_time": "2023-07-01T18:41:33.474Z"
   },
   {
    "duration": 5,
    "start_time": "2023-07-01T18:41:33.617Z"
   },
   {
    "duration": 7,
    "start_time": "2023-07-01T18:42:13.699Z"
   },
   {
    "duration": 785,
    "start_time": "2023-07-01T18:42:24.408Z"
   },
   {
    "duration": 5,
    "start_time": "2023-07-01T18:42:28.284Z"
   },
   {
    "duration": 5,
    "start_time": "2023-07-01T18:42:42.712Z"
   },
   {
    "duration": 5,
    "start_time": "2023-07-01T18:43:29.622Z"
   },
   {
    "duration": 25,
    "start_time": "2023-07-01T19:03:27.239Z"
   },
   {
    "duration": 24,
    "start_time": "2023-07-01T19:04:00.550Z"
   },
   {
    "duration": 99,
    "start_time": "2023-07-01T19:05:27.800Z"
   },
   {
    "duration": 7,
    "start_time": "2023-07-01T19:05:32.803Z"
   },
   {
    "duration": 4,
    "start_time": "2023-07-01T19:06:04.585Z"
   },
   {
    "duration": 4,
    "start_time": "2023-07-01T19:06:25.756Z"
   },
   {
    "duration": 6,
    "start_time": "2023-07-01T19:06:29.268Z"
   },
   {
    "duration": 74,
    "start_time": "2023-07-01T19:06:37.644Z"
   },
   {
    "duration": 97,
    "start_time": "2023-07-01T19:06:56.584Z"
   },
   {
    "duration": 8,
    "start_time": "2023-07-01T19:06:57.887Z"
   },
   {
    "duration": 21,
    "start_time": "2023-07-01T19:09:59.774Z"
   },
   {
    "duration": 52,
    "start_time": "2023-07-01T19:10:09.221Z"
   },
   {
    "duration": 6,
    "start_time": "2023-07-01T19:10:14.875Z"
   },
   {
    "duration": 1328,
    "start_time": "2023-07-01T19:11:25.359Z"
   },
   {
    "duration": 1233,
    "start_time": "2023-07-01T19:11:42.244Z"
   },
   {
    "duration": 1335,
    "start_time": "2023-07-01T19:11:46.006Z"
   },
   {
    "duration": 69,
    "start_time": "2023-07-01T19:11:57.400Z"
   },
   {
    "duration": 61,
    "start_time": "2023-07-01T19:12:30.549Z"
   },
   {
    "duration": 59,
    "start_time": "2023-07-01T19:12:38.383Z"
   },
   {
    "duration": 63,
    "start_time": "2023-07-01T19:12:40.231Z"
   },
   {
    "duration": 58,
    "start_time": "2023-07-01T19:12:42.314Z"
   },
   {
    "duration": 59,
    "start_time": "2023-07-01T19:14:08.563Z"
   },
   {
    "duration": 8,
    "start_time": "2023-07-01T19:14:12.699Z"
   },
   {
    "duration": 53,
    "start_time": "2023-07-01T19:14:21.334Z"
   },
   {
    "duration": 6,
    "start_time": "2023-07-01T19:14:23.091Z"
   },
   {
    "duration": 55,
    "start_time": "2023-07-01T19:14:45.681Z"
   },
   {
    "duration": 6,
    "start_time": "2023-07-01T19:14:47.246Z"
   },
   {
    "duration": 1575,
    "start_time": "2023-07-01T19:15:58.116Z"
   },
   {
    "duration": 1206,
    "start_time": "2023-07-01T19:16:17.051Z"
   },
   {
    "duration": 1236,
    "start_time": "2023-07-01T19:16:36.507Z"
   },
   {
    "duration": 5,
    "start_time": "2023-07-01T19:16:48.518Z"
   },
   {
    "duration": 3,
    "start_time": "2023-07-01T19:17:07.387Z"
   },
   {
    "duration": 6,
    "start_time": "2023-07-01T19:17:08.788Z"
   },
   {
    "duration": 2,
    "start_time": "2023-07-01T19:17:14.411Z"
   },
   {
    "duration": 5,
    "start_time": "2023-07-01T19:17:16.146Z"
   },
   {
    "duration": 3,
    "start_time": "2023-07-01T19:17:21.031Z"
   },
   {
    "duration": 5,
    "start_time": "2023-07-01T19:17:26.647Z"
   },
   {
    "duration": 1045,
    "start_time": "2023-07-01T19:17:30.055Z"
   },
   {
    "duration": 442,
    "start_time": "2023-07-01T19:17:31.102Z"
   },
   {
    "duration": 10,
    "start_time": "2023-07-01T19:17:31.545Z"
   },
   {
    "duration": 34,
    "start_time": "2023-07-01T19:17:31.557Z"
   },
   {
    "duration": 25,
    "start_time": "2023-07-01T19:17:31.593Z"
   },
   {
    "duration": 28,
    "start_time": "2023-07-01T19:17:31.619Z"
   },
   {
    "duration": 43,
    "start_time": "2023-07-01T19:17:31.649Z"
   },
   {
    "duration": 13,
    "start_time": "2023-07-01T19:17:31.693Z"
   },
   {
    "duration": 69,
    "start_time": "2023-07-01T19:17:31.707Z"
   },
   {
    "duration": 5,
    "start_time": "2023-07-01T19:17:31.777Z"
   },
   {
    "duration": 59,
    "start_time": "2023-07-01T19:17:31.784Z"
   },
   {
    "duration": 40,
    "start_time": "2023-07-01T19:17:31.844Z"
   },
   {
    "duration": 9,
    "start_time": "2023-07-01T19:17:31.885Z"
   },
   {
    "duration": 49,
    "start_time": "2023-07-01T19:17:31.896Z"
   },
   {
    "duration": 43,
    "start_time": "2023-07-01T19:17:31.947Z"
   },
   {
    "duration": 9,
    "start_time": "2023-07-01T19:17:31.992Z"
   },
   {
    "duration": 26,
    "start_time": "2023-07-01T19:17:32.003Z"
   },
   {
    "duration": 29,
    "start_time": "2023-07-01T19:17:32.030Z"
   },
   {
    "duration": 35,
    "start_time": "2023-07-01T19:17:32.061Z"
   },
   {
    "duration": 70,
    "start_time": "2023-07-01T19:17:32.098Z"
   },
   {
    "duration": 14,
    "start_time": "2023-07-01T19:17:32.169Z"
   },
   {
    "duration": 6,
    "start_time": "2023-07-01T19:17:32.185Z"
   },
   {
    "duration": 12,
    "start_time": "2023-07-01T19:17:32.192Z"
   },
   {
    "duration": 291,
    "start_time": "2023-07-01T19:17:32.205Z"
   },
   {
    "duration": 15,
    "start_time": "2023-07-01T19:17:32.499Z"
   },
   {
    "duration": 181,
    "start_time": "2023-07-01T19:17:32.516Z"
   },
   {
    "duration": 3,
    "start_time": "2023-07-01T19:17:32.700Z"
   },
   {
    "duration": 48,
    "start_time": "2023-07-01T19:17:32.704Z"
   },
   {
    "duration": 60,
    "start_time": "2023-07-01T19:17:32.754Z"
   },
   {
    "duration": 50,
    "start_time": "2023-07-01T19:17:32.816Z"
   },
   {
    "duration": 36,
    "start_time": "2023-07-01T19:17:32.867Z"
   },
   {
    "duration": 22,
    "start_time": "2023-07-01T19:17:32.904Z"
   },
   {
    "duration": 50,
    "start_time": "2023-07-01T19:17:32.927Z"
   },
   {
    "duration": 433,
    "start_time": "2023-07-01T19:17:32.979Z"
   },
   {
    "duration": 8,
    "start_time": "2023-07-01T19:17:33.414Z"
   },
   {
    "duration": 53,
    "start_time": "2023-07-01T19:17:33.423Z"
   },
   {
    "duration": 22,
    "start_time": "2023-07-01T19:17:33.478Z"
   },
   {
    "duration": 76,
    "start_time": "2023-07-01T19:17:33.502Z"
   },
   {
    "duration": 165,
    "start_time": "2023-07-01T19:17:33.580Z"
   },
   {
    "duration": 61,
    "start_time": "2023-07-01T19:17:33.746Z"
   },
   {
    "duration": 17,
    "start_time": "2023-07-01T19:17:33.810Z"
   },
   {
    "duration": 19,
    "start_time": "2023-07-01T19:17:33.828Z"
   },
   {
    "duration": 6,
    "start_time": "2023-07-01T19:17:33.849Z"
   },
   {
    "duration": 118,
    "start_time": "2023-07-01T19:17:33.857Z"
   },
   {
    "duration": 7,
    "start_time": "2023-07-01T19:17:33.977Z"
   },
   {
    "duration": 58,
    "start_time": "2023-07-01T19:17:33.985Z"
   },
   {
    "duration": 7,
    "start_time": "2023-07-01T19:17:34.045Z"
   },
   {
    "duration": 5,
    "start_time": "2023-07-01T19:17:34.054Z"
   },
   {
    "duration": 1337,
    "start_time": "2023-07-01T19:17:34.060Z"
   },
   {
    "duration": 0,
    "start_time": "2023-07-01T19:17:35.399Z"
   },
   {
    "duration": 11,
    "start_time": "2023-07-01T19:17:55.699Z"
   },
   {
    "duration": 11,
    "start_time": "2023-07-01T19:18:29.591Z"
   },
   {
    "duration": 5,
    "start_time": "2023-07-01T19:18:40.407Z"
   },
   {
    "duration": 1026,
    "start_time": "2023-07-01T19:18:41.721Z"
   },
   {
    "duration": 951,
    "start_time": "2023-07-01T19:19:03.395Z"
   },
   {
    "duration": 5,
    "start_time": "2023-07-01T19:19:56.747Z"
   },
   {
    "duration": 1048,
    "start_time": "2023-07-01T19:20:11.169Z"
   },
   {
    "duration": 1031,
    "start_time": "2023-07-01T19:20:18.457Z"
   },
   {
    "duration": 146,
    "start_time": "2023-07-01T19:20:19.490Z"
   },
   {
    "duration": 11,
    "start_time": "2023-07-01T19:20:19.638Z"
   },
   {
    "duration": 16,
    "start_time": "2023-07-01T19:20:19.651Z"
   },
   {
    "duration": 37,
    "start_time": "2023-07-01T19:20:19.669Z"
   },
   {
    "duration": 26,
    "start_time": "2023-07-01T19:20:19.707Z"
   },
   {
    "duration": 24,
    "start_time": "2023-07-01T19:20:19.735Z"
   },
   {
    "duration": 13,
    "start_time": "2023-07-01T19:20:19.760Z"
   },
   {
    "duration": 59,
    "start_time": "2023-07-01T19:20:19.799Z"
   },
   {
    "duration": 6,
    "start_time": "2023-07-01T19:20:19.860Z"
   },
   {
    "duration": 58,
    "start_time": "2023-07-01T19:20:19.867Z"
   },
   {
    "duration": 39,
    "start_time": "2023-07-01T19:20:19.927Z"
   },
   {
    "duration": 7,
    "start_time": "2023-07-01T19:20:19.967Z"
   },
   {
    "duration": 42,
    "start_time": "2023-07-01T19:20:19.976Z"
   },
   {
    "duration": 43,
    "start_time": "2023-07-01T19:20:20.019Z"
   },
   {
    "duration": 9,
    "start_time": "2023-07-01T19:20:20.063Z"
   },
   {
    "duration": 22,
    "start_time": "2023-07-01T19:20:20.073Z"
   },
   {
    "duration": 17,
    "start_time": "2023-07-01T19:20:20.096Z"
   },
   {
    "duration": 9,
    "start_time": "2023-07-01T19:20:20.115Z"
   },
   {
    "duration": 10,
    "start_time": "2023-07-01T19:20:20.125Z"
   },
   {
    "duration": 15,
    "start_time": "2023-07-01T19:20:20.137Z"
   },
   {
    "duration": 7,
    "start_time": "2023-07-01T19:20:20.153Z"
   },
   {
    "duration": 14,
    "start_time": "2023-07-01T19:20:20.162Z"
   },
   {
    "duration": 291,
    "start_time": "2023-07-01T19:20:20.178Z"
   },
   {
    "duration": 14,
    "start_time": "2023-07-01T19:20:20.471Z"
   },
   {
    "duration": 189,
    "start_time": "2023-07-01T19:20:20.486Z"
   },
   {
    "duration": 4,
    "start_time": "2023-07-01T19:20:20.676Z"
   },
   {
    "duration": 28,
    "start_time": "2023-07-01T19:20:20.682Z"
   },
   {
    "duration": 62,
    "start_time": "2023-07-01T19:20:20.712Z"
   },
   {
    "duration": 56,
    "start_time": "2023-07-01T19:20:20.776Z"
   },
   {
    "duration": 18,
    "start_time": "2023-07-01T19:20:20.833Z"
   },
   {
    "duration": 36,
    "start_time": "2023-07-01T19:20:20.853Z"
   },
   {
    "duration": 40,
    "start_time": "2023-07-01T19:20:20.891Z"
   },
   {
    "duration": 443,
    "start_time": "2023-07-01T19:20:20.933Z"
   },
   {
    "duration": 8,
    "start_time": "2023-07-01T19:20:21.377Z"
   },
   {
    "duration": 69,
    "start_time": "2023-07-01T19:20:21.386Z"
   },
   {
    "duration": 6,
    "start_time": "2023-07-01T19:20:21.457Z"
   },
   {
    "duration": 95,
    "start_time": "2023-07-01T19:20:21.464Z"
   },
   {
    "duration": 159,
    "start_time": "2023-07-01T19:20:21.561Z"
   },
   {
    "duration": 51,
    "start_time": "2023-07-01T19:20:21.722Z"
   },
   {
    "duration": 30,
    "start_time": "2023-07-01T19:20:21.775Z"
   },
   {
    "duration": 23,
    "start_time": "2023-07-01T19:20:21.807Z"
   },
   {
    "duration": 5,
    "start_time": "2023-07-01T19:20:21.832Z"
   },
   {
    "duration": 110,
    "start_time": "2023-07-01T19:20:21.839Z"
   },
   {
    "duration": 7,
    "start_time": "2023-07-01T19:20:21.951Z"
   },
   {
    "duration": 68,
    "start_time": "2023-07-01T19:20:21.959Z"
   },
   {
    "duration": 6,
    "start_time": "2023-07-01T19:20:22.029Z"
   },
   {
    "duration": 8,
    "start_time": "2023-07-01T19:20:22.036Z"
   },
   {
    "duration": 1416,
    "start_time": "2023-07-01T19:20:22.045Z"
   },
   {
    "duration": 0,
    "start_time": "2023-07-01T19:20:23.462Z"
   },
   {
    "duration": 0,
    "start_time": "2023-07-01T19:20:23.464Z"
   },
   {
    "duration": 57,
    "start_time": "2023-07-01T19:21:12.791Z"
   },
   {
    "duration": 44,
    "start_time": "2023-07-01T19:21:37.558Z"
   },
   {
    "duration": 60,
    "start_time": "2023-07-01T19:21:56.834Z"
   },
   {
    "duration": 1085,
    "start_time": "2023-07-01T19:22:26.287Z"
   },
   {
    "duration": 147,
    "start_time": "2023-07-01T19:22:27.375Z"
   },
   {
    "duration": 11,
    "start_time": "2023-07-01T19:22:27.523Z"
   },
   {
    "duration": 17,
    "start_time": "2023-07-01T19:22:27.535Z"
   },
   {
    "duration": 20,
    "start_time": "2023-07-01T19:22:27.554Z"
   },
   {
    "duration": 44,
    "start_time": "2023-07-01T19:22:27.575Z"
   },
   {
    "duration": 22,
    "start_time": "2023-07-01T19:22:27.621Z"
   },
   {
    "duration": 12,
    "start_time": "2023-07-01T19:22:27.644Z"
   },
   {
    "duration": 81,
    "start_time": "2023-07-01T19:22:27.657Z"
   },
   {
    "duration": 6,
    "start_time": "2023-07-01T19:22:27.740Z"
   },
   {
    "duration": 52,
    "start_time": "2023-07-01T19:22:27.748Z"
   },
   {
    "duration": 40,
    "start_time": "2023-07-01T19:22:27.802Z"
   },
   {
    "duration": 9,
    "start_time": "2023-07-01T19:22:27.844Z"
   },
   {
    "duration": 48,
    "start_time": "2023-07-01T19:22:27.856Z"
   },
   {
    "duration": 36,
    "start_time": "2023-07-01T19:22:27.906Z"
   },
   {
    "duration": 10,
    "start_time": "2023-07-01T19:22:27.943Z"
   },
   {
    "duration": 7,
    "start_time": "2023-07-01T19:22:27.954Z"
   },
   {
    "duration": 6,
    "start_time": "2023-07-01T19:22:27.962Z"
   },
   {
    "duration": 35,
    "start_time": "2023-07-01T19:22:27.969Z"
   },
   {
    "duration": 6,
    "start_time": "2023-07-01T19:22:28.005Z"
   },
   {
    "duration": 15,
    "start_time": "2023-07-01T19:22:28.012Z"
   },
   {
    "duration": 6,
    "start_time": "2023-07-01T19:22:28.029Z"
   },
   {
    "duration": 10,
    "start_time": "2023-07-01T19:22:28.036Z"
   },
   {
    "duration": 291,
    "start_time": "2023-07-01T19:22:28.047Z"
   },
   {
    "duration": 14,
    "start_time": "2023-07-01T19:22:28.339Z"
   },
   {
    "duration": 182,
    "start_time": "2023-07-01T19:22:28.354Z"
   },
   {
    "duration": 4,
    "start_time": "2023-07-01T19:22:28.537Z"
   },
   {
    "duration": 17,
    "start_time": "2023-07-01T19:22:28.542Z"
   },
   {
    "duration": 69,
    "start_time": "2023-07-01T19:22:28.560Z"
   },
   {
    "duration": 50,
    "start_time": "2023-07-01T19:22:28.631Z"
   },
   {
    "duration": 27,
    "start_time": "2023-07-01T19:22:28.683Z"
   },
   {
    "duration": 27,
    "start_time": "2023-07-01T19:22:28.712Z"
   },
   {
    "duration": 40,
    "start_time": "2023-07-01T19:22:28.740Z"
   },
   {
    "duration": 429,
    "start_time": "2023-07-01T19:22:28.781Z"
   },
   {
    "duration": 7,
    "start_time": "2023-07-01T19:22:29.212Z"
   },
   {
    "duration": 50,
    "start_time": "2023-07-01T19:22:29.221Z"
   },
   {
    "duration": 6,
    "start_time": "2023-07-01T19:22:29.272Z"
   },
   {
    "duration": 90,
    "start_time": "2023-07-01T19:22:29.280Z"
   },
   {
    "duration": 166,
    "start_time": "2023-07-01T19:22:29.371Z"
   },
   {
    "duration": 61,
    "start_time": "2023-07-01T19:22:29.539Z"
   },
   {
    "duration": 17,
    "start_time": "2023-07-01T19:22:29.604Z"
   },
   {
    "duration": 17,
    "start_time": "2023-07-01T19:22:29.623Z"
   },
   {
    "duration": 6,
    "start_time": "2023-07-01T19:22:29.642Z"
   },
   {
    "duration": 128,
    "start_time": "2023-07-01T19:22:29.649Z"
   },
   {
    "duration": 7,
    "start_time": "2023-07-01T19:22:29.778Z"
   },
   {
    "duration": 59,
    "start_time": "2023-07-01T19:22:29.787Z"
   },
   {
    "duration": 2,
    "start_time": "2023-07-01T19:22:29.848Z"
   },
   {
    "duration": 39,
    "start_time": "2023-07-01T19:22:29.852Z"
   },
   {
    "duration": 10,
    "start_time": "2023-07-01T19:22:29.893Z"
   },
   {
    "duration": 1294,
    "start_time": "2023-07-01T19:22:29.904Z"
   },
   {
    "duration": 0,
    "start_time": "2023-07-01T19:22:31.200Z"
   },
   {
    "duration": 0,
    "start_time": "2023-07-01T19:22:31.202Z"
   },
   {
    "duration": 0,
    "start_time": "2023-07-01T19:22:31.203Z"
   },
   {
    "duration": 4,
    "start_time": "2023-07-01T19:24:16.959Z"
   },
   {
    "duration": 922,
    "start_time": "2023-07-01T19:24:18.955Z"
   },
   {
    "duration": 7,
    "start_time": "2023-07-01T19:40:01.389Z"
   },
   {
    "duration": 100,
    "start_time": "2023-07-01T19:45:42.926Z"
   },
   {
    "duration": 118,
    "start_time": "2023-07-01T19:45:51.754Z"
   },
   {
    "duration": 8,
    "start_time": "2023-07-01T19:45:53.342Z"
   },
   {
    "duration": 2675,
    "start_time": "2023-07-01T19:46:02.876Z"
   },
   {
    "duration": 11,
    "start_time": "2023-07-01T19:48:15.012Z"
   },
   {
    "duration": 45,
    "start_time": "2023-07-01T19:48:18.688Z"
   },
   {
    "duration": 5,
    "start_time": "2023-07-01T19:48:21.623Z"
   },
   {
    "duration": 6,
    "start_time": "2023-07-01T19:48:22.381Z"
   },
   {
    "duration": 9,
    "start_time": "2023-07-01T19:48:27.100Z"
   },
   {
    "duration": 92,
    "start_time": "2023-07-01T19:48:36.575Z"
   },
   {
    "duration": 1548,
    "start_time": "2023-07-01T19:48:38.686Z"
   },
   {
    "duration": 5,
    "start_time": "2023-07-01T19:48:56.464Z"
   },
   {
    "duration": 101,
    "start_time": "2023-07-01T19:48:58.114Z"
   },
   {
    "duration": 12,
    "start_time": "2023-07-01T19:48:59.938Z"
   },
   {
    "duration": 3,
    "start_time": "2023-07-01T19:49:32.285Z"
   },
   {
    "duration": 11,
    "start_time": "2023-07-01T19:49:37.059Z"
   },
   {
    "duration": 2,
    "start_time": "2023-07-01T19:49:50.042Z"
   },
   {
    "duration": 8,
    "start_time": "2023-07-01T19:49:53.215Z"
   },
   {
    "duration": 3299,
    "start_time": "2023-07-01T19:50:02.811Z"
   },
   {
    "duration": 101,
    "start_time": "2023-07-01T19:50:20.865Z"
   },
   {
    "duration": 6,
    "start_time": "2023-07-01T19:50:22.077Z"
   },
   {
    "duration": 52,
    "start_time": "2023-07-01T19:50:23.962Z"
   },
   {
    "duration": 9,
    "start_time": "2023-07-01T19:50:26.313Z"
   },
   {
    "duration": 2308,
    "start_time": "2023-07-01T19:50:28.628Z"
   },
   {
    "duration": 46,
    "start_time": "2023-07-01T19:51:12.182Z"
   },
   {
    "duration": 13,
    "start_time": "2023-07-01T19:51:20.325Z"
   },
   {
    "duration": 38,
    "start_time": "2023-07-01T19:52:31.835Z"
   },
   {
    "duration": 46,
    "start_time": "2023-07-01T19:52:44.813Z"
   },
   {
    "duration": 47,
    "start_time": "2023-07-01T19:52:48.075Z"
   },
   {
    "duration": 937,
    "start_time": "2023-07-01T19:52:54.276Z"
   },
   {
    "duration": 5,
    "start_time": "2023-07-01T19:53:49.337Z"
   },
   {
    "duration": 43,
    "start_time": "2023-07-01T19:54:21.644Z"
   },
   {
    "duration": 57,
    "start_time": "2023-07-01T19:55:03.482Z"
   },
   {
    "duration": 47,
    "start_time": "2023-07-01T19:55:13.619Z"
   },
   {
    "duration": 42,
    "start_time": "2023-07-01T19:55:15.635Z"
   },
   {
    "duration": 46,
    "start_time": "2023-07-01T19:55:42.264Z"
   },
   {
    "duration": 1237,
    "start_time": "2023-07-01T19:55:49.788Z"
   },
   {
    "duration": 1830,
    "start_time": "2023-07-01T19:55:59.414Z"
   },
   {
    "duration": 1035,
    "start_time": "2023-07-01T19:56:38.054Z"
   },
   {
    "duration": 166,
    "start_time": "2023-07-01T19:56:39.090Z"
   },
   {
    "duration": 11,
    "start_time": "2023-07-01T19:56:39.257Z"
   },
   {
    "duration": 36,
    "start_time": "2023-07-01T19:56:39.270Z"
   },
   {
    "duration": 19,
    "start_time": "2023-07-01T19:56:39.316Z"
   },
   {
    "duration": 42,
    "start_time": "2023-07-01T19:56:39.337Z"
   },
   {
    "duration": 39,
    "start_time": "2023-07-01T19:56:39.381Z"
   },
   {
    "duration": 14,
    "start_time": "2023-07-01T19:56:39.421Z"
   },
   {
    "duration": 84,
    "start_time": "2023-07-01T19:56:39.436Z"
   },
   {
    "duration": 7,
    "start_time": "2023-07-01T19:56:39.523Z"
   },
   {
    "duration": 46,
    "start_time": "2023-07-01T19:56:39.531Z"
   },
   {
    "duration": 52,
    "start_time": "2023-07-01T19:56:39.579Z"
   },
   {
    "duration": 8,
    "start_time": "2023-07-01T19:56:39.633Z"
   },
   {
    "duration": 39,
    "start_time": "2023-07-01T19:56:39.643Z"
   },
   {
    "duration": 52,
    "start_time": "2023-07-01T19:56:39.683Z"
   },
   {
    "duration": 10,
    "start_time": "2023-07-01T19:56:39.737Z"
   },
   {
    "duration": 22,
    "start_time": "2023-07-01T19:56:39.749Z"
   },
   {
    "duration": 24,
    "start_time": "2023-07-01T19:56:39.773Z"
   },
   {
    "duration": 33,
    "start_time": "2023-07-01T19:56:39.798Z"
   },
   {
    "duration": 5,
    "start_time": "2023-07-01T19:56:39.833Z"
   },
   {
    "duration": 19,
    "start_time": "2023-07-01T19:56:39.840Z"
   },
   {
    "duration": 8,
    "start_time": "2023-07-01T19:56:39.861Z"
   },
   {
    "duration": 46,
    "start_time": "2023-07-01T19:56:39.870Z"
   },
   {
    "duration": 274,
    "start_time": "2023-07-01T19:56:39.917Z"
   },
   {
    "duration": 25,
    "start_time": "2023-07-01T19:56:40.193Z"
   },
   {
    "duration": 201,
    "start_time": "2023-07-01T19:56:40.219Z"
   },
   {
    "duration": 8,
    "start_time": "2023-07-01T19:56:40.421Z"
   },
   {
    "duration": 36,
    "start_time": "2023-07-01T19:56:40.432Z"
   },
   {
    "duration": 61,
    "start_time": "2023-07-01T19:56:40.469Z"
   },
   {
    "duration": 50,
    "start_time": "2023-07-01T19:56:40.532Z"
   },
   {
    "duration": 37,
    "start_time": "2023-07-01T19:56:40.583Z"
   },
   {
    "duration": 41,
    "start_time": "2023-07-01T19:56:40.622Z"
   },
   {
    "duration": 64,
    "start_time": "2023-07-01T19:56:40.665Z"
   },
   {
    "duration": 479,
    "start_time": "2023-07-01T19:56:40.730Z"
   },
   {
    "duration": 11,
    "start_time": "2023-07-01T19:56:41.218Z"
   },
   {
    "duration": 64,
    "start_time": "2023-07-01T19:56:41.230Z"
   },
   {
    "duration": 21,
    "start_time": "2023-07-01T19:56:41.295Z"
   },
   {
    "duration": 78,
    "start_time": "2023-07-01T19:56:41.317Z"
   },
   {
    "duration": 201,
    "start_time": "2023-07-01T19:56:41.396Z"
   },
   {
    "duration": 58,
    "start_time": "2023-07-01T19:56:41.600Z"
   },
   {
    "duration": 17,
    "start_time": "2023-07-01T19:56:41.659Z"
   },
   {
    "duration": 44,
    "start_time": "2023-07-01T19:56:41.678Z"
   },
   {
    "duration": 14,
    "start_time": "2023-07-01T19:56:41.723Z"
   },
   {
    "duration": 118,
    "start_time": "2023-07-01T19:56:41.738Z"
   },
   {
    "duration": 6,
    "start_time": "2023-07-01T19:56:41.858Z"
   },
   {
    "duration": 81,
    "start_time": "2023-07-01T19:56:41.866Z"
   },
   {
    "duration": 3,
    "start_time": "2023-07-01T19:56:41.948Z"
   },
   {
    "duration": 8,
    "start_time": "2023-07-01T19:56:41.953Z"
   },
   {
    "duration": 7,
    "start_time": "2023-07-01T19:56:41.962Z"
   },
   {
    "duration": 18,
    "start_time": "2023-07-01T19:56:41.970Z"
   },
   {
    "duration": 69,
    "start_time": "2023-07-01T19:56:41.990Z"
   },
   {
    "duration": 144,
    "start_time": "2023-07-01T19:58:39.531Z"
   },
   {
    "duration": 7,
    "start_time": "2023-07-01T19:58:40.914Z"
   },
   {
    "duration": 174,
    "start_time": "2023-07-01T19:59:22.366Z"
   },
   {
    "duration": 106,
    "start_time": "2023-07-01T19:59:38.657Z"
   },
   {
    "duration": 74,
    "start_time": "2023-07-01T19:59:41.819Z"
   },
   {
    "duration": 2,
    "start_time": "2023-07-01T19:59:43.295Z"
   },
   {
    "duration": 3,
    "start_time": "2023-07-01T19:59:46.157Z"
   },
   {
    "duration": 89,
    "start_time": "2023-07-01T19:59:49.432Z"
   },
   {
    "duration": 7,
    "start_time": "2023-07-01T19:59:51.319Z"
   },
   {
    "duration": 8,
    "start_time": "2023-07-01T19:59:53.532Z"
   },
   {
    "duration": 49,
    "start_time": "2023-07-01T19:59:53.770Z"
   },
   {
    "duration": 4,
    "start_time": "2023-07-01T19:59:53.825Z"
   },
   {
    "duration": 9,
    "start_time": "2023-07-01T19:59:53.941Z"
   },
   {
    "duration": 11,
    "start_time": "2023-07-01T20:09:13.621Z"
   },
   {
    "duration": 10,
    "start_time": "2023-07-01T20:09:15.652Z"
   },
   {
    "duration": 10,
    "start_time": "2023-07-01T20:09:22.913Z"
   },
   {
    "duration": 10,
    "start_time": "2023-07-01T20:10:06.163Z"
   },
   {
    "duration": 9,
    "start_time": "2023-07-01T20:10:16.670Z"
   },
   {
    "duration": 7,
    "start_time": "2023-07-01T20:10:19.112Z"
   },
   {
    "duration": 74,
    "start_time": "2023-07-01T20:10:32.923Z"
   },
   {
    "duration": 5,
    "start_time": "2023-07-01T20:12:51.688Z"
   },
   {
    "duration": 8,
    "start_time": "2023-07-01T20:12:53.792Z"
   },
   {
    "duration": 5,
    "start_time": "2023-07-01T20:13:38.613Z"
   },
   {
    "duration": 1011,
    "start_time": "2023-07-01T20:13:41.460Z"
   },
   {
    "duration": 143,
    "start_time": "2023-07-01T20:13:42.474Z"
   },
   {
    "duration": 11,
    "start_time": "2023-07-01T20:13:42.619Z"
   },
   {
    "duration": 18,
    "start_time": "2023-07-01T20:13:42.631Z"
   },
   {
    "duration": 20,
    "start_time": "2023-07-01T20:13:42.651Z"
   },
   {
    "duration": 46,
    "start_time": "2023-07-01T20:13:42.673Z"
   },
   {
    "duration": 31,
    "start_time": "2023-07-01T20:13:42.720Z"
   },
   {
    "duration": 13,
    "start_time": "2023-07-01T20:13:42.752Z"
   },
   {
    "duration": 111,
    "start_time": "2023-07-01T20:13:42.767Z"
   },
   {
    "duration": 6,
    "start_time": "2023-07-01T20:13:42.880Z"
   },
   {
    "duration": 39,
    "start_time": "2023-07-01T20:13:42.899Z"
   },
   {
    "duration": 41,
    "start_time": "2023-07-01T20:13:42.940Z"
   },
   {
    "duration": 18,
    "start_time": "2023-07-01T20:13:42.983Z"
   },
   {
    "duration": 27,
    "start_time": "2023-07-01T20:13:43.003Z"
   },
   {
    "duration": 36,
    "start_time": "2023-07-01T20:13:43.032Z"
   },
   {
    "duration": 36,
    "start_time": "2023-07-01T20:13:43.070Z"
   },
   {
    "duration": 12,
    "start_time": "2023-07-01T20:13:43.108Z"
   },
   {
    "duration": 10,
    "start_time": "2023-07-01T20:13:43.122Z"
   },
   {
    "duration": 6,
    "start_time": "2023-07-01T20:13:43.134Z"
   },
   {
    "duration": 6,
    "start_time": "2023-07-01T20:13:43.141Z"
   },
   {
    "duration": 19,
    "start_time": "2023-07-01T20:13:43.148Z"
   },
   {
    "duration": 33,
    "start_time": "2023-07-01T20:13:43.169Z"
   },
   {
    "duration": 13,
    "start_time": "2023-07-01T20:13:43.203Z"
   },
   {
    "duration": 266,
    "start_time": "2023-07-01T20:13:43.217Z"
   },
   {
    "duration": 21,
    "start_time": "2023-07-01T20:13:43.485Z"
   },
   {
    "duration": 196,
    "start_time": "2023-07-01T20:13:43.508Z"
   },
   {
    "duration": 7,
    "start_time": "2023-07-01T20:13:43.706Z"
   },
   {
    "duration": 24,
    "start_time": "2023-07-01T20:13:43.715Z"
   },
   {
    "duration": 71,
    "start_time": "2023-07-01T20:13:43.741Z"
   },
   {
    "duration": 51,
    "start_time": "2023-07-01T20:13:43.814Z"
   },
   {
    "duration": 34,
    "start_time": "2023-07-01T20:13:43.866Z"
   },
   {
    "duration": 21,
    "start_time": "2023-07-01T20:13:43.902Z"
   },
   {
    "duration": 35,
    "start_time": "2023-07-01T20:13:43.925Z"
   },
   {
    "duration": 453,
    "start_time": "2023-07-01T20:13:43.962Z"
   },
   {
    "duration": 9,
    "start_time": "2023-07-01T20:13:44.416Z"
   },
   {
    "duration": 77,
    "start_time": "2023-07-01T20:13:44.427Z"
   },
   {
    "duration": 7,
    "start_time": "2023-07-01T20:13:44.505Z"
   },
   {
    "duration": 71,
    "start_time": "2023-07-01T20:13:44.513Z"
   },
   {
    "duration": 171,
    "start_time": "2023-07-01T20:13:44.600Z"
   },
   {
    "duration": 65,
    "start_time": "2023-07-01T20:13:44.773Z"
   },
   {
    "duration": 18,
    "start_time": "2023-07-01T20:13:44.841Z"
   },
   {
    "duration": 17,
    "start_time": "2023-07-01T20:13:44.860Z"
   },
   {
    "duration": 21,
    "start_time": "2023-07-01T20:13:44.879Z"
   },
   {
    "duration": 122,
    "start_time": "2023-07-01T20:13:44.902Z"
   },
   {
    "duration": 0,
    "start_time": "2023-07-01T20:13:45.026Z"
   },
   {
    "duration": 0,
    "start_time": "2023-07-01T20:13:45.027Z"
   },
   {
    "duration": 0,
    "start_time": "2023-07-01T20:13:45.028Z"
   },
   {
    "duration": 0,
    "start_time": "2023-07-01T20:13:45.029Z"
   },
   {
    "duration": 0,
    "start_time": "2023-07-01T20:13:45.030Z"
   },
   {
    "duration": 0,
    "start_time": "2023-07-01T20:13:45.030Z"
   },
   {
    "duration": 0,
    "start_time": "2023-07-01T20:13:45.031Z"
   },
   {
    "duration": 1089,
    "start_time": "2023-07-01T20:14:16.293Z"
   },
   {
    "duration": 144,
    "start_time": "2023-07-01T20:14:17.384Z"
   },
   {
    "duration": 10,
    "start_time": "2023-07-01T20:14:17.530Z"
   },
   {
    "duration": 28,
    "start_time": "2023-07-01T20:14:17.542Z"
   },
   {
    "duration": 27,
    "start_time": "2023-07-01T20:14:17.573Z"
   },
   {
    "duration": 28,
    "start_time": "2023-07-01T20:14:17.602Z"
   },
   {
    "duration": 28,
    "start_time": "2023-07-01T20:14:17.631Z"
   },
   {
    "duration": 12,
    "start_time": "2023-07-01T20:14:17.661Z"
   },
   {
    "duration": 81,
    "start_time": "2023-07-01T20:14:17.674Z"
   },
   {
    "duration": 6,
    "start_time": "2023-07-01T20:14:17.756Z"
   },
   {
    "duration": 56,
    "start_time": "2023-07-01T20:14:17.764Z"
   },
   {
    "duration": 41,
    "start_time": "2023-07-01T20:14:17.821Z"
   },
   {
    "duration": 8,
    "start_time": "2023-07-01T20:14:17.864Z"
   },
   {
    "duration": 41,
    "start_time": "2023-07-01T20:14:17.874Z"
   },
   {
    "duration": 38,
    "start_time": "2023-07-01T20:14:17.916Z"
   },
   {
    "duration": 10,
    "start_time": "2023-07-01T20:14:17.956Z"
   },
   {
    "duration": 7,
    "start_time": "2023-07-01T20:14:17.967Z"
   },
   {
    "duration": 29,
    "start_time": "2023-07-01T20:14:17.975Z"
   },
   {
    "duration": 11,
    "start_time": "2023-07-01T20:14:18.006Z"
   },
   {
    "duration": 4,
    "start_time": "2023-07-01T20:14:18.018Z"
   },
   {
    "duration": 19,
    "start_time": "2023-07-01T20:14:18.024Z"
   },
   {
    "duration": 9,
    "start_time": "2023-07-01T20:14:18.044Z"
   },
   {
    "duration": 15,
    "start_time": "2023-07-01T20:14:18.054Z"
   },
   {
    "duration": 324,
    "start_time": "2023-07-01T20:14:18.071Z"
   },
   {
    "duration": 15,
    "start_time": "2023-07-01T20:14:18.463Z"
   },
   {
    "duration": 181,
    "start_time": "2023-07-01T20:14:18.480Z"
   },
   {
    "duration": 4,
    "start_time": "2023-07-01T20:14:18.663Z"
   },
   {
    "duration": 37,
    "start_time": "2023-07-01T20:14:18.668Z"
   },
   {
    "duration": 95,
    "start_time": "2023-07-01T20:14:18.708Z"
   },
   {
    "duration": 55,
    "start_time": "2023-07-01T20:14:18.805Z"
   },
   {
    "duration": 16,
    "start_time": "2023-07-01T20:14:18.862Z"
   },
   {
    "duration": 34,
    "start_time": "2023-07-01T20:14:18.880Z"
   },
   {
    "duration": 44,
    "start_time": "2023-07-01T20:14:18.916Z"
   },
   {
    "duration": 441,
    "start_time": "2023-07-01T20:14:18.962Z"
   },
   {
    "duration": 9,
    "start_time": "2023-07-01T20:14:19.404Z"
   },
   {
    "duration": 60,
    "start_time": "2023-07-01T20:14:19.414Z"
   },
   {
    "duration": 7,
    "start_time": "2023-07-01T20:14:19.475Z"
   },
   {
    "duration": 82,
    "start_time": "2023-07-01T20:14:19.501Z"
   },
   {
    "duration": 171,
    "start_time": "2023-07-01T20:14:19.585Z"
   },
   {
    "duration": 71,
    "start_time": "2023-07-01T20:14:19.758Z"
   },
   {
    "duration": 18,
    "start_time": "2023-07-01T20:14:19.830Z"
   },
   {
    "duration": 19,
    "start_time": "2023-07-01T20:14:19.850Z"
   },
   {
    "duration": 7,
    "start_time": "2023-07-01T20:14:19.871Z"
   },
   {
    "duration": 103,
    "start_time": "2023-07-01T20:14:19.899Z"
   },
   {
    "duration": 0,
    "start_time": "2023-07-01T20:14:20.004Z"
   },
   {
    "duration": 0,
    "start_time": "2023-07-01T20:14:20.005Z"
   },
   {
    "duration": 0,
    "start_time": "2023-07-01T20:14:20.006Z"
   },
   {
    "duration": 0,
    "start_time": "2023-07-01T20:14:20.007Z"
   },
   {
    "duration": 0,
    "start_time": "2023-07-01T20:14:20.008Z"
   },
   {
    "duration": 0,
    "start_time": "2023-07-01T20:14:20.009Z"
   },
   {
    "duration": 0,
    "start_time": "2023-07-01T20:14:20.010Z"
   },
   {
    "duration": 1066,
    "start_time": "2023-07-01T20:14:33.714Z"
   },
   {
    "duration": 150,
    "start_time": "2023-07-01T20:14:34.782Z"
   },
   {
    "duration": 12,
    "start_time": "2023-07-01T20:14:34.933Z"
   },
   {
    "duration": 20,
    "start_time": "2023-07-01T20:14:34.947Z"
   },
   {
    "duration": 39,
    "start_time": "2023-07-01T20:14:34.969Z"
   },
   {
    "duration": 46,
    "start_time": "2023-07-01T20:14:35.010Z"
   },
   {
    "duration": 24,
    "start_time": "2023-07-01T20:14:35.057Z"
   },
   {
    "duration": 28,
    "start_time": "2023-07-01T20:14:35.083Z"
   },
   {
    "duration": 62,
    "start_time": "2023-07-01T20:14:35.112Z"
   },
   {
    "duration": 6,
    "start_time": "2023-07-01T20:14:35.176Z"
   },
   {
    "duration": 40,
    "start_time": "2023-07-01T20:14:35.199Z"
   },
   {
    "duration": 40,
    "start_time": "2023-07-01T20:14:35.241Z"
   },
   {
    "duration": 24,
    "start_time": "2023-07-01T20:14:35.282Z"
   },
   {
    "duration": 39,
    "start_time": "2023-07-01T20:14:35.310Z"
   },
   {
    "duration": 63,
    "start_time": "2023-07-01T20:14:35.351Z"
   },
   {
    "duration": 10,
    "start_time": "2023-07-01T20:14:35.415Z"
   },
   {
    "duration": 29,
    "start_time": "2023-07-01T20:14:35.426Z"
   },
   {
    "duration": 15,
    "start_time": "2023-07-01T20:14:35.457Z"
   },
   {
    "duration": 14,
    "start_time": "2023-07-01T20:14:35.473Z"
   },
   {
    "duration": 6,
    "start_time": "2023-07-01T20:14:35.488Z"
   },
   {
    "duration": 33,
    "start_time": "2023-07-01T20:14:35.496Z"
   },
   {
    "duration": 7,
    "start_time": "2023-07-01T20:14:35.531Z"
   },
   {
    "duration": 31,
    "start_time": "2023-07-01T20:14:35.540Z"
   },
   {
    "duration": 287,
    "start_time": "2023-07-01T20:14:35.573Z"
   },
   {
    "duration": 20,
    "start_time": "2023-07-01T20:14:35.862Z"
   },
   {
    "duration": 209,
    "start_time": "2023-07-01T20:14:35.884Z"
   },
   {
    "duration": 10,
    "start_time": "2023-07-01T20:14:36.096Z"
   },
   {
    "duration": 24,
    "start_time": "2023-07-01T20:14:36.107Z"
   },
   {
    "duration": 93,
    "start_time": "2023-07-01T20:14:36.133Z"
   },
   {
    "duration": 87,
    "start_time": "2023-07-01T20:14:36.228Z"
   },
   {
    "duration": 28,
    "start_time": "2023-07-01T20:14:36.318Z"
   },
   {
    "duration": 24,
    "start_time": "2023-07-01T20:14:36.347Z"
   },
   {
    "duration": 55,
    "start_time": "2023-07-01T20:14:36.373Z"
   },
   {
    "duration": 466,
    "start_time": "2023-07-01T20:14:36.429Z"
   },
   {
    "duration": 14,
    "start_time": "2023-07-01T20:14:36.897Z"
   },
   {
    "duration": 53,
    "start_time": "2023-07-01T20:14:36.912Z"
   },
   {
    "duration": 6,
    "start_time": "2023-07-01T20:14:36.967Z"
   },
   {
    "duration": 90,
    "start_time": "2023-07-01T20:14:36.975Z"
   },
   {
    "duration": 213,
    "start_time": "2023-07-01T20:14:37.067Z"
   },
   {
    "duration": 68,
    "start_time": "2023-07-01T20:14:37.282Z"
   },
   {
    "duration": 18,
    "start_time": "2023-07-01T20:14:37.353Z"
   },
   {
    "duration": 36,
    "start_time": "2023-07-01T20:14:37.373Z"
   },
   {
    "duration": 18,
    "start_time": "2023-07-01T20:14:37.411Z"
   },
   {
    "duration": 85,
    "start_time": "2023-07-01T20:14:37.431Z"
   },
   {
    "duration": 8,
    "start_time": "2023-07-01T20:14:37.518Z"
   },
   {
    "duration": 49,
    "start_time": "2023-07-01T20:14:37.528Z"
   },
   {
    "duration": 20,
    "start_time": "2023-07-01T20:14:37.579Z"
   },
   {
    "duration": 8,
    "start_time": "2023-07-01T20:14:37.601Z"
   },
   {
    "duration": 12,
    "start_time": "2023-07-01T20:14:37.610Z"
   },
   {
    "duration": 9,
    "start_time": "2023-07-01T20:14:37.623Z"
   },
   {
    "duration": 17,
    "start_time": "2023-07-01T20:14:37.633Z"
   },
   {
    "duration": 1111,
    "start_time": "2023-07-01T20:31:09.113Z"
   },
   {
    "duration": 157,
    "start_time": "2023-07-01T20:31:10.226Z"
   },
   {
    "duration": 18,
    "start_time": "2023-07-01T20:31:10.385Z"
   },
   {
    "duration": 21,
    "start_time": "2023-07-01T20:31:10.404Z"
   },
   {
    "duration": 22,
    "start_time": "2023-07-01T20:31:10.427Z"
   },
   {
    "duration": 52,
    "start_time": "2023-07-01T20:31:10.450Z"
   },
   {
    "duration": 25,
    "start_time": "2023-07-01T20:31:10.503Z"
   },
   {
    "duration": 15,
    "start_time": "2023-07-01T20:31:10.530Z"
   },
   {
    "duration": 90,
    "start_time": "2023-07-01T20:31:10.547Z"
   },
   {
    "duration": 5,
    "start_time": "2023-07-01T20:31:10.639Z"
   },
   {
    "duration": 53,
    "start_time": "2023-07-01T20:31:10.646Z"
   },
   {
    "duration": 40,
    "start_time": "2023-07-01T20:31:10.701Z"
   },
   {
    "duration": 9,
    "start_time": "2023-07-01T20:31:10.742Z"
   },
   {
    "duration": 31,
    "start_time": "2023-07-01T20:31:10.754Z"
   },
   {
    "duration": 48,
    "start_time": "2023-07-01T20:31:10.786Z"
   },
   {
    "duration": 19,
    "start_time": "2023-07-01T20:31:10.835Z"
   },
   {
    "duration": 11,
    "start_time": "2023-07-01T20:31:10.856Z"
   },
   {
    "duration": 32,
    "start_time": "2023-07-01T20:31:10.869Z"
   },
   {
    "duration": 6,
    "start_time": "2023-07-01T20:31:10.903Z"
   },
   {
    "duration": 5,
    "start_time": "2023-07-01T20:31:10.911Z"
   },
   {
    "duration": 19,
    "start_time": "2023-07-01T20:31:10.918Z"
   },
   {
    "duration": 8,
    "start_time": "2023-07-01T20:31:10.939Z"
   },
   {
    "duration": 13,
    "start_time": "2023-07-01T20:31:10.949Z"
   },
   {
    "duration": 294,
    "start_time": "2023-07-01T20:31:10.964Z"
   },
   {
    "duration": 16,
    "start_time": "2023-07-01T20:31:11.260Z"
   },
   {
    "duration": 190,
    "start_time": "2023-07-01T20:31:11.277Z"
   },
   {
    "duration": 4,
    "start_time": "2023-07-01T20:31:11.469Z"
   },
   {
    "duration": 32,
    "start_time": "2023-07-01T20:31:11.475Z"
   },
   {
    "duration": 61,
    "start_time": "2023-07-01T20:31:11.509Z"
   },
   {
    "duration": 66,
    "start_time": "2023-07-01T20:31:11.572Z"
   },
   {
    "duration": 18,
    "start_time": "2023-07-01T20:31:11.639Z"
   },
   {
    "duration": 45,
    "start_time": "2023-07-01T20:31:11.658Z"
   },
   {
    "duration": 39,
    "start_time": "2023-07-01T20:31:11.704Z"
   },
   {
    "duration": 450,
    "start_time": "2023-07-01T20:31:11.745Z"
   },
   {
    "duration": 10,
    "start_time": "2023-07-01T20:31:12.196Z"
   },
   {
    "duration": 58,
    "start_time": "2023-07-01T20:31:12.207Z"
   },
   {
    "duration": 7,
    "start_time": "2023-07-01T20:31:12.266Z"
   },
   {
    "duration": 88,
    "start_time": "2023-07-01T20:31:12.275Z"
   },
   {
    "duration": 158,
    "start_time": "2023-07-01T20:31:12.364Z"
   },
   {
    "duration": 52,
    "start_time": "2023-07-01T20:31:12.523Z"
   },
   {
    "duration": 32,
    "start_time": "2023-07-01T20:31:12.578Z"
   },
   {
    "duration": 28,
    "start_time": "2023-07-01T20:31:12.612Z"
   },
   {
    "duration": 10,
    "start_time": "2023-07-01T20:31:12.643Z"
   },
   {
    "duration": 98,
    "start_time": "2023-07-01T20:31:12.654Z"
   },
   {
    "duration": 7,
    "start_time": "2023-07-01T20:31:12.753Z"
   },
   {
    "duration": 80,
    "start_time": "2023-07-01T20:31:12.762Z"
   },
   {
    "duration": 5,
    "start_time": "2023-07-01T20:31:12.843Z"
   },
   {
    "duration": 12,
    "start_time": "2023-07-01T20:31:12.849Z"
   },
   {
    "duration": 7,
    "start_time": "2023-07-01T20:31:12.862Z"
   },
   {
    "duration": 34,
    "start_time": "2023-07-01T20:31:12.870Z"
   },
   {
    "duration": 8,
    "start_time": "2023-07-01T20:31:12.905Z"
   },
   {
    "duration": 1169,
    "start_time": "2023-07-01T21:46:02.214Z"
   },
   {
    "duration": 197,
    "start_time": "2023-07-01T21:46:03.386Z"
   },
   {
    "duration": 17,
    "start_time": "2023-07-01T21:46:03.586Z"
   },
   {
    "duration": 18,
    "start_time": "2023-07-01T21:46:03.605Z"
   },
   {
    "duration": 55,
    "start_time": "2023-07-01T21:46:03.625Z"
   },
   {
    "duration": 25,
    "start_time": "2023-07-01T21:46:03.682Z"
   },
   {
    "duration": 25,
    "start_time": "2023-07-01T21:46:03.709Z"
   },
   {
    "duration": 39,
    "start_time": "2023-07-01T21:46:03.735Z"
   },
   {
    "duration": 68,
    "start_time": "2023-07-01T21:46:03.777Z"
   },
   {
    "duration": 11,
    "start_time": "2023-07-01T21:46:03.860Z"
   },
   {
    "duration": 47,
    "start_time": "2023-07-01T21:46:03.877Z"
   },
   {
    "duration": 56,
    "start_time": "2023-07-01T21:46:03.925Z"
   },
   {
    "duration": 10,
    "start_time": "2023-07-01T21:46:03.983Z"
   },
   {
    "duration": 32,
    "start_time": "2023-07-01T21:46:03.996Z"
   },
   {
    "duration": 66,
    "start_time": "2023-07-01T21:46:04.030Z"
   },
   {
    "duration": 11,
    "start_time": "2023-07-01T21:46:04.098Z"
   },
   {
    "duration": 15,
    "start_time": "2023-07-01T21:46:04.111Z"
   },
   {
    "duration": 9,
    "start_time": "2023-07-01T21:46:04.128Z"
   },
   {
    "duration": 11,
    "start_time": "2023-07-01T21:46:04.159Z"
   },
   {
    "duration": 8,
    "start_time": "2023-07-01T21:46:04.172Z"
   },
   {
    "duration": 39,
    "start_time": "2023-07-01T21:46:04.182Z"
   },
   {
    "duration": 19,
    "start_time": "2023-07-01T21:46:04.223Z"
   },
   {
    "duration": 36,
    "start_time": "2023-07-01T21:46:04.244Z"
   },
   {
    "duration": 298,
    "start_time": "2023-07-01T21:46:04.282Z"
   },
   {
    "duration": 16,
    "start_time": "2023-07-01T21:46:04.582Z"
   },
   {
    "duration": 218,
    "start_time": "2023-07-01T21:46:04.600Z"
   },
   {
    "duration": 4,
    "start_time": "2023-07-01T21:46:04.819Z"
   },
   {
    "duration": 23,
    "start_time": "2023-07-01T21:46:04.826Z"
   },
   {
    "duration": 70,
    "start_time": "2023-07-01T21:46:04.859Z"
   },
   {
    "duration": 70,
    "start_time": "2023-07-01T21:46:04.931Z"
   },
   {
    "duration": 17,
    "start_time": "2023-07-01T21:46:05.003Z"
   },
   {
    "duration": 39,
    "start_time": "2023-07-01T21:46:05.021Z"
   },
   {
    "duration": 39,
    "start_time": "2023-07-01T21:46:05.061Z"
   },
   {
    "duration": 485,
    "start_time": "2023-07-01T21:46:05.101Z"
   },
   {
    "duration": 9,
    "start_time": "2023-07-01T21:46:05.588Z"
   },
   {
    "duration": 78,
    "start_time": "2023-07-01T21:46:05.598Z"
   },
   {
    "duration": 7,
    "start_time": "2023-07-01T21:46:05.677Z"
   },
   {
    "duration": 89,
    "start_time": "2023-07-01T21:46:05.686Z"
   },
   {
    "duration": 196,
    "start_time": "2023-07-01T21:46:05.777Z"
   },
   {
    "duration": 58,
    "start_time": "2023-07-01T21:46:05.974Z"
   },
   {
    "duration": 37,
    "start_time": "2023-07-01T21:46:06.034Z"
   },
   {
    "duration": 18,
    "start_time": "2023-07-01T21:46:06.077Z"
   },
   {
    "duration": 22,
    "start_time": "2023-07-01T21:46:06.097Z"
   },
   {
    "duration": 97,
    "start_time": "2023-07-01T21:46:06.121Z"
   },
   {
    "duration": 6,
    "start_time": "2023-07-01T21:46:06.220Z"
   },
   {
    "duration": 65,
    "start_time": "2023-07-01T21:46:06.228Z"
   },
   {
    "duration": 5,
    "start_time": "2023-07-01T21:46:06.294Z"
   },
   {
    "duration": 26,
    "start_time": "2023-07-01T21:46:06.301Z"
   },
   {
    "duration": 16,
    "start_time": "2023-07-01T21:46:06.328Z"
   },
   {
    "duration": 9,
    "start_time": "2023-07-01T21:46:06.347Z"
   },
   {
    "duration": 25,
    "start_time": "2023-07-01T21:46:06.358Z"
   },
   {
    "duration": 16,
    "start_time": "2023-07-01T21:55:48.700Z"
   },
   {
    "duration": 639,
    "start_time": "2023-07-01T21:55:53.490Z"
   },
   {
    "duration": 83,
    "start_time": "2023-07-01T22:12:33.470Z"
   },
   {
    "duration": 145,
    "start_time": "2023-07-02T11:06:18.338Z"
   },
   {
    "duration": 62,
    "start_time": "2023-07-02T11:09:33.626Z"
   },
   {
    "duration": 1310,
    "start_time": "2023-07-02T11:09:38.454Z"
   },
   {
    "duration": 704,
    "start_time": "2023-07-02T11:09:39.766Z"
   },
   {
    "duration": 13,
    "start_time": "2023-07-02T11:09:40.472Z"
   },
   {
    "duration": 46,
    "start_time": "2023-07-02T11:09:40.486Z"
   },
   {
    "duration": 22,
    "start_time": "2023-07-02T11:09:40.539Z"
   },
   {
    "duration": 28,
    "start_time": "2023-07-02T11:09:40.563Z"
   },
   {
    "duration": 41,
    "start_time": "2023-07-02T11:09:40.592Z"
   },
   {
    "duration": 20,
    "start_time": "2023-07-02T11:09:40.639Z"
   },
   {
    "duration": 84,
    "start_time": "2023-07-02T11:09:40.660Z"
   },
   {
    "duration": 6,
    "start_time": "2023-07-02T11:09:40.745Z"
   },
   {
    "duration": 41,
    "start_time": "2023-07-02T11:09:40.753Z"
   },
   {
    "duration": 68,
    "start_time": "2023-07-02T11:09:40.795Z"
   },
   {
    "duration": 9,
    "start_time": "2023-07-02T11:09:40.866Z"
   },
   {
    "duration": 67,
    "start_time": "2023-07-02T11:09:40.878Z"
   },
   {
    "duration": 42,
    "start_time": "2023-07-02T11:09:40.948Z"
   },
   {
    "duration": 26,
    "start_time": "2023-07-02T11:09:40.991Z"
   },
   {
    "duration": 28,
    "start_time": "2023-07-02T11:09:41.029Z"
   },
   {
    "duration": 8,
    "start_time": "2023-07-02T11:09:41.058Z"
   },
   {
    "duration": 28,
    "start_time": "2023-07-02T11:09:41.068Z"
   },
   {
    "duration": 54,
    "start_time": "2023-07-02T11:09:41.098Z"
   },
   {
    "duration": 11,
    "start_time": "2023-07-02T11:09:41.154Z"
   },
   {
    "duration": 17,
    "start_time": "2023-07-02T11:09:41.167Z"
   },
   {
    "duration": 7,
    "start_time": "2023-07-02T11:09:41.185Z"
   },
   {
    "duration": 40,
    "start_time": "2023-07-02T11:09:41.193Z"
   },
   {
    "duration": 403,
    "start_time": "2023-07-02T11:09:41.234Z"
   },
   {
    "duration": 524,
    "start_time": "2023-07-02T11:09:41.638Z"
   },
   {
    "duration": 13,
    "start_time": "2023-07-02T11:09:42.163Z"
   },
   {
    "duration": 204,
    "start_time": "2023-07-02T11:09:42.178Z"
   },
   {
    "duration": 4,
    "start_time": "2023-07-02T11:09:42.384Z"
   },
   {
    "duration": 36,
    "start_time": "2023-07-02T11:09:42.389Z"
   },
   {
    "duration": 62,
    "start_time": "2023-07-02T11:09:42.435Z"
   },
   {
    "duration": 77,
    "start_time": "2023-07-02T11:09:42.498Z"
   },
   {
    "duration": 18,
    "start_time": "2023-07-02T11:09:42.576Z"
   },
   {
    "duration": 57,
    "start_time": "2023-07-02T11:09:42.599Z"
   },
   {
    "duration": 38,
    "start_time": "2023-07-02T11:09:42.658Z"
   },
   {
    "duration": 580,
    "start_time": "2023-07-02T11:09:42.698Z"
   },
   {
    "duration": 9,
    "start_time": "2023-07-02T11:09:43.280Z"
   },
   {
    "duration": 113,
    "start_time": "2023-07-02T11:09:43.304Z"
   },
   {
    "duration": 11,
    "start_time": "2023-07-02T11:09:43.418Z"
   },
   {
    "duration": 95,
    "start_time": "2023-07-02T11:09:43.430Z"
   },
   {
    "duration": 163,
    "start_time": "2023-07-02T11:09:43.529Z"
   },
   {
    "duration": 87,
    "start_time": "2023-07-02T11:09:43.696Z"
   },
   {
    "duration": 36,
    "start_time": "2023-07-02T11:09:43.785Z"
   },
   {
    "duration": 32,
    "start_time": "2023-07-02T11:09:43.829Z"
   },
   {
    "duration": 22,
    "start_time": "2023-07-02T11:09:43.862Z"
   },
   {
    "duration": 130,
    "start_time": "2023-07-02T11:09:43.886Z"
   },
   {
    "duration": 12,
    "start_time": "2023-07-02T11:09:44.025Z"
   },
   {
    "duration": 55,
    "start_time": "2023-07-02T11:09:44.040Z"
   },
   {
    "duration": 37,
    "start_time": "2023-07-02T11:09:44.096Z"
   },
   {
    "duration": 25,
    "start_time": "2023-07-02T11:09:44.138Z"
   },
   {
    "duration": 11,
    "start_time": "2023-07-02T11:09:44.165Z"
   },
   {
    "duration": 39,
    "start_time": "2023-07-02T11:09:44.177Z"
   },
   {
    "duration": 34,
    "start_time": "2023-07-02T11:09:44.219Z"
   },
   {
    "duration": 167,
    "start_time": "2023-07-02T11:09:59.397Z"
   },
   {
    "duration": 383,
    "start_time": "2023-07-02T11:10:07.897Z"
   },
   {
    "duration": 360,
    "start_time": "2023-07-02T11:10:40.321Z"
   },
   {
    "duration": 821,
    "start_time": "2023-07-02T11:10:55.566Z"
   },
   {
    "duration": 789,
    "start_time": "2023-07-02T11:11:20.426Z"
   },
   {
    "duration": 800,
    "start_time": "2023-07-02T11:11:23.446Z"
   },
   {
    "duration": 832,
    "start_time": "2023-07-02T11:11:26.797Z"
   },
   {
    "duration": 761,
    "start_time": "2023-07-02T11:11:29.864Z"
   },
   {
    "duration": 911,
    "start_time": "2023-07-02T11:11:32.640Z"
   },
   {
    "duration": 26,
    "start_time": "2023-07-02T11:12:13.432Z"
   },
   {
    "duration": 23,
    "start_time": "2023-07-02T11:12:18.855Z"
   },
   {
    "duration": 23,
    "start_time": "2023-07-02T11:12:52.366Z"
   },
   {
    "duration": 744,
    "start_time": "2023-07-02T11:12:59.416Z"
   },
   {
    "duration": 27,
    "start_time": "2023-07-02T11:13:11.827Z"
   },
   {
    "duration": 905,
    "start_time": "2023-07-02T11:13:15.672Z"
   },
   {
    "duration": 12,
    "start_time": "2023-07-02T11:13:39.534Z"
   },
   {
    "duration": 5,
    "start_time": "2023-07-02T11:13:44.938Z"
   },
   {
    "duration": 10,
    "start_time": "2023-07-02T11:14:32.166Z"
   },
   {
    "duration": 15,
    "start_time": "2023-07-02T11:14:45.422Z"
   },
   {
    "duration": 27,
    "start_time": "2023-07-02T11:14:53.998Z"
   },
   {
    "duration": 10,
    "start_time": "2023-07-02T11:14:56.046Z"
   },
   {
    "duration": 134,
    "start_time": "2023-07-02T11:15:37.625Z"
   },
   {
    "duration": 127,
    "start_time": "2023-07-02T11:15:41.453Z"
   },
   {
    "duration": 2154,
    "start_time": "2023-07-02T11:15:46.741Z"
   },
   {
    "duration": 16,
    "start_time": "2023-07-02T11:15:59.225Z"
   },
   {
    "duration": 191,
    "start_time": "2023-07-02T11:16:00.553Z"
   },
   {
    "duration": 242,
    "start_time": "2023-07-02T11:17:39.522Z"
   },
   {
    "duration": 127,
    "start_time": "2023-07-02T11:18:38.944Z"
   },
   {
    "duration": 113,
    "start_time": "2023-07-02T11:21:31.630Z"
   },
   {
    "duration": 12,
    "start_time": "2023-07-02T11:27:29.028Z"
   },
   {
    "duration": 255,
    "start_time": "2023-07-02T11:27:37.070Z"
   },
   {
    "duration": 1681,
    "start_time": "2023-07-02T11:44:13.398Z"
   },
   {
    "duration": 78,
    "start_time": "2023-07-02T11:44:42.766Z"
   },
   {
    "duration": 301,
    "start_time": "2023-07-02T11:50:18.436Z"
   },
   {
    "duration": 126,
    "start_time": "2023-07-02T11:50:56.227Z"
   },
   {
    "duration": 260,
    "start_time": "2023-07-02T11:51:04.674Z"
   },
   {
    "duration": 287,
    "start_time": "2023-07-02T11:51:41.771Z"
   },
   {
    "duration": 246,
    "start_time": "2023-07-02T11:51:50.446Z"
   },
   {
    "duration": 272,
    "start_time": "2023-07-02T11:51:53.838Z"
   },
   {
    "duration": 262,
    "start_time": "2023-07-02T11:52:00.039Z"
   },
   {
    "duration": 273,
    "start_time": "2023-07-02T11:52:01.952Z"
   },
   {
    "duration": 1227,
    "start_time": "2023-07-02T11:52:11.255Z"
   },
   {
    "duration": 199,
    "start_time": "2023-07-02T11:52:12.484Z"
   },
   {
    "duration": 46,
    "start_time": "2023-07-02T11:52:12.685Z"
   },
   {
    "duration": 24,
    "start_time": "2023-07-02T11:52:12.741Z"
   },
   {
    "duration": 21,
    "start_time": "2023-07-02T11:52:12.767Z"
   },
   {
    "duration": 46,
    "start_time": "2023-07-02T11:52:12.790Z"
   },
   {
    "duration": 49,
    "start_time": "2023-07-02T11:52:12.838Z"
   },
   {
    "duration": 44,
    "start_time": "2023-07-02T11:52:12.888Z"
   },
   {
    "duration": 81,
    "start_time": "2023-07-02T11:52:12.942Z"
   },
   {
    "duration": 5,
    "start_time": "2023-07-02T11:52:13.042Z"
   },
   {
    "duration": 84,
    "start_time": "2023-07-02T11:52:13.049Z"
   },
   {
    "duration": 46,
    "start_time": "2023-07-02T11:52:13.141Z"
   },
   {
    "duration": 8,
    "start_time": "2023-07-02T11:52:13.189Z"
   },
   {
    "duration": 131,
    "start_time": "2023-07-02T11:52:13.198Z"
   },
   {
    "duration": 41,
    "start_time": "2023-07-02T11:52:13.334Z"
   },
   {
    "duration": 19,
    "start_time": "2023-07-02T11:52:13.378Z"
   },
   {
    "duration": 56,
    "start_time": "2023-07-02T11:52:13.413Z"
   },
   {
    "duration": 24,
    "start_time": "2023-07-02T11:52:13.470Z"
   },
   {
    "duration": 90,
    "start_time": "2023-07-02T11:52:13.496Z"
   },
   {
    "duration": 750,
    "start_time": "2023-07-02T11:52:13.588Z"
   },
   {
    "duration": 3,
    "start_time": "2023-07-02T11:52:14.340Z"
   },
   {
    "duration": 193,
    "start_time": "2023-07-02T11:52:14.344Z"
   },
   {
    "duration": 12,
    "start_time": "2023-07-02T11:52:14.538Z"
   },
   {
    "duration": 14,
    "start_time": "2023-07-02T11:52:14.551Z"
   },
   {
    "duration": 15,
    "start_time": "2023-07-02T11:52:14.566Z"
   },
   {
    "duration": 7,
    "start_time": "2023-07-02T11:52:14.582Z"
   },
   {
    "duration": 65,
    "start_time": "2023-07-02T11:52:14.590Z"
   },
   {
    "duration": 426,
    "start_time": "2023-07-02T11:52:14.658Z"
   },
   {
    "duration": 571,
    "start_time": "2023-07-02T11:52:15.086Z"
   },
   {
    "duration": 16,
    "start_time": "2023-07-02T11:52:15.659Z"
   },
   {
    "duration": 240,
    "start_time": "2023-07-02T11:52:15.677Z"
   },
   {
    "duration": 5,
    "start_time": "2023-07-02T11:52:15.918Z"
   },
   {
    "duration": 41,
    "start_time": "2023-07-02T11:52:15.934Z"
   },
   {
    "duration": 178,
    "start_time": "2023-07-02T11:52:15.977Z"
   },
   {
    "duration": 92,
    "start_time": "2023-07-02T11:52:16.158Z"
   },
   {
    "duration": 20,
    "start_time": "2023-07-02T11:52:16.252Z"
   },
   {
    "duration": 59,
    "start_time": "2023-07-02T11:52:16.274Z"
   },
   {
    "duration": 96,
    "start_time": "2023-07-02T11:52:16.346Z"
   },
   {
    "duration": 543,
    "start_time": "2023-07-02T11:52:16.446Z"
   },
   {
    "duration": 45,
    "start_time": "2023-07-02T11:52:16.991Z"
   },
   {
    "duration": 84,
    "start_time": "2023-07-02T11:52:17.040Z"
   },
   {
    "duration": 11,
    "start_time": "2023-07-02T11:52:17.141Z"
   },
   {
    "duration": 102,
    "start_time": "2023-07-02T11:52:17.153Z"
   },
   {
    "duration": 198,
    "start_time": "2023-07-02T11:52:17.256Z"
   },
   {
    "duration": 89,
    "start_time": "2023-07-02T11:52:17.456Z"
   },
   {
    "duration": 26,
    "start_time": "2023-07-02T11:52:17.549Z"
   },
   {
    "duration": 63,
    "start_time": "2023-07-02T11:52:17.578Z"
   },
   {
    "duration": 27,
    "start_time": "2023-07-02T11:52:17.647Z"
   },
   {
    "duration": 140,
    "start_time": "2023-07-02T11:52:17.677Z"
   },
   {
    "duration": 19,
    "start_time": "2023-07-02T11:52:17.818Z"
   },
   {
    "duration": 157,
    "start_time": "2023-07-02T11:52:17.838Z"
   },
   {
    "duration": 288,
    "start_time": "2023-07-02T11:52:17.997Z"
   },
   {
    "duration": 5,
    "start_time": "2023-07-02T11:52:18.286Z"
   },
   {
    "duration": 69,
    "start_time": "2023-07-02T11:52:18.292Z"
   },
   {
    "duration": 11,
    "start_time": "2023-07-02T11:52:18.363Z"
   },
   {
    "duration": 37,
    "start_time": "2023-07-02T11:52:18.376Z"
   },
   {
    "duration": 44,
    "start_time": "2023-07-02T11:52:18.414Z"
   },
   {
    "duration": 418,
    "start_time": "2023-07-02T11:52:49.763Z"
   },
   {
    "duration": 282,
    "start_time": "2023-07-02T11:52:58.141Z"
   },
   {
    "duration": 285,
    "start_time": "2023-07-02T11:53:06.844Z"
   },
   {
    "duration": 291,
    "start_time": "2023-07-02T11:53:30.430Z"
   },
   {
    "duration": 266,
    "start_time": "2023-07-02T11:54:03.630Z"
   },
   {
    "duration": 297,
    "start_time": "2023-07-02T11:54:38.466Z"
   },
   {
    "duration": 1370,
    "start_time": "2023-07-02T11:54:43.825Z"
   },
   {
    "duration": 205,
    "start_time": "2023-07-02T11:54:45.197Z"
   },
   {
    "duration": 13,
    "start_time": "2023-07-02T11:54:45.404Z"
   },
   {
    "duration": 61,
    "start_time": "2023-07-02T11:54:45.421Z"
   },
   {
    "duration": 41,
    "start_time": "2023-07-02T11:54:45.484Z"
   },
   {
    "duration": 59,
    "start_time": "2023-07-02T11:54:45.526Z"
   },
   {
    "duration": 39,
    "start_time": "2023-07-02T11:54:45.586Z"
   },
   {
    "duration": 34,
    "start_time": "2023-07-02T11:54:45.626Z"
   },
   {
    "duration": 92,
    "start_time": "2023-07-02T11:54:45.662Z"
   },
   {
    "duration": 6,
    "start_time": "2023-07-02T11:54:45.756Z"
   },
   {
    "duration": 66,
    "start_time": "2023-07-02T11:54:45.763Z"
   },
   {
    "duration": 42,
    "start_time": "2023-07-02T11:54:45.843Z"
   },
   {
    "duration": 10,
    "start_time": "2023-07-02T11:54:45.886Z"
   },
   {
    "duration": 71,
    "start_time": "2023-07-02T11:54:45.898Z"
   },
   {
    "duration": 55,
    "start_time": "2023-07-02T11:54:45.971Z"
   },
   {
    "duration": 24,
    "start_time": "2023-07-02T11:54:46.028Z"
   },
   {
    "duration": 14,
    "start_time": "2023-07-02T11:54:46.054Z"
   },
   {
    "duration": 8,
    "start_time": "2023-07-02T11:54:46.070Z"
   },
   {
    "duration": 69,
    "start_time": "2023-07-02T11:54:46.080Z"
   },
   {
    "duration": 872,
    "start_time": "2023-07-02T11:54:46.151Z"
   },
   {
    "duration": 3,
    "start_time": "2023-07-02T11:54:47.025Z"
   },
   {
    "duration": 267,
    "start_time": "2023-07-02T11:54:47.030Z"
   },
   {
    "duration": 8,
    "start_time": "2023-07-02T11:54:47.299Z"
   },
   {
    "duration": 59,
    "start_time": "2023-07-02T11:54:47.315Z"
   },
   {
    "duration": 15,
    "start_time": "2023-07-02T11:54:47.376Z"
   },
   {
    "duration": 11,
    "start_time": "2023-07-02T11:54:47.392Z"
   },
   {
    "duration": 74,
    "start_time": "2023-07-02T11:54:47.406Z"
   },
   {
    "duration": 483,
    "start_time": "2023-07-02T11:54:47.486Z"
   },
   {
    "duration": 673,
    "start_time": "2023-07-02T11:54:47.971Z"
   },
   {
    "duration": 19,
    "start_time": "2023-07-02T11:54:48.645Z"
   },
   {
    "duration": 207,
    "start_time": "2023-07-02T11:54:48.667Z"
   },
   {
    "duration": 4,
    "start_time": "2023-07-02T11:54:48.875Z"
   },
   {
    "duration": 45,
    "start_time": "2023-07-02T11:54:48.880Z"
   },
   {
    "duration": 67,
    "start_time": "2023-07-02T11:54:48.926Z"
   },
   {
    "duration": 73,
    "start_time": "2023-07-02T11:54:48.995Z"
   },
   {
    "duration": 17,
    "start_time": "2023-07-02T11:54:49.069Z"
   },
   {
    "duration": 42,
    "start_time": "2023-07-02T11:54:49.087Z"
   },
   {
    "duration": 49,
    "start_time": "2023-07-02T11:54:49.130Z"
   },
   {
    "duration": 568,
    "start_time": "2023-07-02T11:54:49.181Z"
   },
   {
    "duration": 13,
    "start_time": "2023-07-02T11:54:49.750Z"
   },
   {
    "duration": 92,
    "start_time": "2023-07-02T11:54:49.765Z"
   },
   {
    "duration": 7,
    "start_time": "2023-07-02T11:54:49.859Z"
   },
   {
    "duration": 90,
    "start_time": "2023-07-02T11:54:49.868Z"
   },
   {
    "duration": 204,
    "start_time": "2023-07-02T11:54:49.959Z"
   },
   {
    "duration": 72,
    "start_time": "2023-07-02T11:54:50.165Z"
   },
   {
    "duration": 26,
    "start_time": "2023-07-02T11:54:50.242Z"
   },
   {
    "duration": 26,
    "start_time": "2023-07-02T11:54:50.270Z"
   },
   {
    "duration": 27,
    "start_time": "2023-07-02T11:54:50.299Z"
   },
   {
    "duration": 182,
    "start_time": "2023-07-02T11:54:50.335Z"
   },
   {
    "duration": 17,
    "start_time": "2023-07-02T11:54:50.529Z"
   },
   {
    "duration": 192,
    "start_time": "2023-07-02T11:54:50.548Z"
   },
   {
    "duration": 381,
    "start_time": "2023-07-02T11:54:50.741Z"
   },
   {
    "duration": 0,
    "start_time": "2023-07-02T11:54:51.125Z"
   },
   {
    "duration": 0,
    "start_time": "2023-07-02T11:54:51.129Z"
   },
   {
    "duration": 0,
    "start_time": "2023-07-02T11:54:51.130Z"
   },
   {
    "duration": 0,
    "start_time": "2023-07-02T11:54:51.131Z"
   },
   {
    "duration": 0,
    "start_time": "2023-07-02T11:54:51.132Z"
   },
   {
    "duration": 316,
    "start_time": "2023-07-02T11:55:05.037Z"
   },
   {
    "duration": 67,
    "start_time": "2023-07-02T11:55:56.969Z"
   },
   {
    "duration": 60,
    "start_time": "2023-07-02T11:58:39.427Z"
   },
   {
    "duration": 79,
    "start_time": "2023-07-02T11:58:47.536Z"
   },
   {
    "duration": 55,
    "start_time": "2023-07-02T11:58:56.631Z"
   },
   {
    "duration": 2359,
    "start_time": "2023-07-02T11:59:33.397Z"
   },
   {
    "duration": 89,
    "start_time": "2023-07-02T12:00:27.021Z"
   },
   {
    "duration": 71,
    "start_time": "2023-07-02T12:00:36.325Z"
   },
   {
    "duration": 83,
    "start_time": "2023-07-02T12:03:41.687Z"
   },
   {
    "duration": 54,
    "start_time": "2023-07-02T12:07:14.026Z"
   },
   {
    "duration": 55,
    "start_time": "2023-07-02T12:07:34.043Z"
   },
   {
    "duration": 86,
    "start_time": "2023-07-02T12:07:42.851Z"
   },
   {
    "duration": 68,
    "start_time": "2023-07-02T12:08:03.422Z"
   },
   {
    "duration": 98,
    "start_time": "2023-07-02T12:08:14.592Z"
   },
   {
    "duration": 74,
    "start_time": "2023-07-02T12:08:47.941Z"
   },
   {
    "duration": 88,
    "start_time": "2023-07-02T12:09:06.796Z"
   },
   {
    "duration": 75,
    "start_time": "2023-07-02T12:09:17.185Z"
   },
   {
    "duration": 84,
    "start_time": "2023-07-02T12:09:19.497Z"
   },
   {
    "duration": 3,
    "start_time": "2023-07-02T12:09:20.988Z"
   },
   {
    "duration": 79,
    "start_time": "2023-07-02T12:09:26.480Z"
   },
   {
    "duration": 3,
    "start_time": "2023-07-02T12:09:28.855Z"
   },
   {
    "duration": 69,
    "start_time": "2023-07-02T12:10:02.855Z"
   },
   {
    "duration": 13,
    "start_time": "2023-07-02T12:10:04.334Z"
   },
   {
    "duration": 10,
    "start_time": "2023-07-02T12:10:22.926Z"
   },
   {
    "duration": 1285,
    "start_time": "2023-07-02T12:10:28.482Z"
   },
   {
    "duration": 1162,
    "start_time": "2023-07-02T12:10:40.033Z"
   },
   {
    "duration": 1104,
    "start_time": "2023-07-02T12:10:50.062Z"
   },
   {
    "duration": 99,
    "start_time": "2023-07-02T12:10:59.382Z"
   },
   {
    "duration": 96,
    "start_time": "2023-07-02T12:11:48.890Z"
   },
   {
    "duration": 831,
    "start_time": "2023-07-02T12:11:58.635Z"
   },
   {
    "duration": 107,
    "start_time": "2023-07-02T12:13:44.363Z"
   },
   {
    "duration": 165,
    "start_time": "2023-07-02T12:13:56.423Z"
   },
   {
    "duration": 67,
    "start_time": "2023-07-02T12:14:09.491Z"
   },
   {
    "duration": 101,
    "start_time": "2023-07-02T12:14:11.699Z"
   },
   {
    "duration": 80,
    "start_time": "2023-07-02T12:14:21.321Z"
   },
   {
    "duration": 1155,
    "start_time": "2023-07-02T12:14:40.926Z"
   },
   {
    "duration": 181,
    "start_time": "2023-07-02T12:14:42.083Z"
   },
   {
    "duration": 10,
    "start_time": "2023-07-02T12:14:42.265Z"
   },
   {
    "duration": 42,
    "start_time": "2023-07-02T12:14:42.277Z"
   },
   {
    "duration": 27,
    "start_time": "2023-07-02T12:14:42.330Z"
   },
   {
    "duration": 33,
    "start_time": "2023-07-02T12:14:42.359Z"
   },
   {
    "duration": 34,
    "start_time": "2023-07-02T12:14:42.394Z"
   },
   {
    "duration": 30,
    "start_time": "2023-07-02T12:14:42.429Z"
   },
   {
    "duration": 71,
    "start_time": "2023-07-02T12:14:42.460Z"
   },
   {
    "duration": 16,
    "start_time": "2023-07-02T12:14:42.537Z"
   },
   {
    "duration": 41,
    "start_time": "2023-07-02T12:14:42.555Z"
   },
   {
    "duration": 62,
    "start_time": "2023-07-02T12:14:42.598Z"
   },
   {
    "duration": 8,
    "start_time": "2023-07-02T12:14:42.662Z"
   },
   {
    "duration": 33,
    "start_time": "2023-07-02T12:14:42.672Z"
   },
   {
    "duration": 39,
    "start_time": "2023-07-02T12:14:42.707Z"
   },
   {
    "duration": 22,
    "start_time": "2023-07-02T12:14:42.747Z"
   },
   {
    "duration": 12,
    "start_time": "2023-07-02T12:14:42.771Z"
   },
   {
    "duration": 46,
    "start_time": "2023-07-02T12:14:42.785Z"
   },
   {
    "duration": 34,
    "start_time": "2023-07-02T12:14:42.837Z"
   },
   {
    "duration": 724,
    "start_time": "2023-07-02T12:14:42.873Z"
   },
   {
    "duration": 17,
    "start_time": "2023-07-02T12:14:43.598Z"
   },
   {
    "duration": 247,
    "start_time": "2023-07-02T12:14:43.617Z"
   },
   {
    "duration": 7,
    "start_time": "2023-07-02T12:14:43.865Z"
   },
   {
    "duration": 11,
    "start_time": "2023-07-02T12:14:43.874Z"
   },
   {
    "duration": 42,
    "start_time": "2023-07-02T12:14:43.886Z"
   },
   {
    "duration": 32,
    "start_time": "2023-07-02T12:14:43.929Z"
   },
   {
    "duration": 19,
    "start_time": "2023-07-02T12:14:43.963Z"
   },
   {
    "duration": 442,
    "start_time": "2023-07-02T12:14:43.983Z"
   },
   {
    "duration": 591,
    "start_time": "2023-07-02T12:14:44.426Z"
   },
   {
    "duration": 28,
    "start_time": "2023-07-02T12:14:45.021Z"
   },
   {
    "duration": 270,
    "start_time": "2023-07-02T12:14:45.054Z"
   },
   {
    "duration": 9,
    "start_time": "2023-07-02T12:14:45.328Z"
   },
   {
    "duration": 48,
    "start_time": "2023-07-02T12:14:45.341Z"
   },
   {
    "duration": 97,
    "start_time": "2023-07-02T12:14:45.390Z"
   },
   {
    "duration": 91,
    "start_time": "2023-07-02T12:14:45.489Z"
   },
   {
    "duration": 34,
    "start_time": "2023-07-02T12:14:45.582Z"
   },
   {
    "duration": 43,
    "start_time": "2023-07-02T12:14:45.629Z"
   },
   {
    "duration": 75,
    "start_time": "2023-07-02T12:14:45.674Z"
   },
   {
    "duration": 623,
    "start_time": "2023-07-02T12:14:45.761Z"
   },
   {
    "duration": 24,
    "start_time": "2023-07-02T12:14:46.385Z"
   },
   {
    "duration": 125,
    "start_time": "2023-07-02T12:14:46.437Z"
   },
   {
    "duration": 11,
    "start_time": "2023-07-02T12:14:46.567Z"
   },
   {
    "duration": 117,
    "start_time": "2023-07-02T12:14:46.580Z"
   },
   {
    "duration": 238,
    "start_time": "2023-07-02T12:14:46.698Z"
   },
   {
    "duration": 118,
    "start_time": "2023-07-02T12:14:46.943Z"
   },
   {
    "duration": 66,
    "start_time": "2023-07-02T12:14:47.062Z"
   },
   {
    "duration": 92,
    "start_time": "2023-07-02T12:14:47.129Z"
   },
   {
    "duration": 45,
    "start_time": "2023-07-02T12:14:47.238Z"
   },
   {
    "duration": 130,
    "start_time": "2023-07-02T12:14:47.285Z"
   },
   {
    "duration": 10,
    "start_time": "2023-07-02T12:14:47.416Z"
   },
   {
    "duration": 259,
    "start_time": "2023-07-02T12:14:47.427Z"
   },
   {
    "duration": 0,
    "start_time": "2023-07-02T12:14:47.688Z"
   },
   {
    "duration": 0,
    "start_time": "2023-07-02T12:14:47.689Z"
   },
   {
    "duration": 0,
    "start_time": "2023-07-02T12:14:47.691Z"
   },
   {
    "duration": 0,
    "start_time": "2023-07-02T12:14:47.692Z"
   },
   {
    "duration": 0,
    "start_time": "2023-07-02T12:14:47.693Z"
   },
   {
    "duration": 0,
    "start_time": "2023-07-02T12:14:47.695Z"
   },
   {
    "duration": 0,
    "start_time": "2023-07-02T12:14:47.818Z"
   },
   {
    "duration": 0,
    "start_time": "2023-07-02T12:14:47.819Z"
   },
   {
    "duration": 69,
    "start_time": "2023-07-02T12:15:03.222Z"
   },
   {
    "duration": 119,
    "start_time": "2023-07-02T12:15:05.148Z"
   },
   {
    "duration": 8,
    "start_time": "2023-07-02T12:15:18.762Z"
   },
   {
    "duration": 22,
    "start_time": "2023-07-02T12:15:31.853Z"
   },
   {
    "duration": 51,
    "start_time": "2023-07-02T12:16:08.223Z"
   },
   {
    "duration": 34,
    "start_time": "2023-07-02T12:16:19.548Z"
   },
   {
    "duration": 42,
    "start_time": "2023-07-02T12:16:26.095Z"
   },
   {
    "duration": 22,
    "start_time": "2023-07-02T12:16:28.446Z"
   },
   {
    "duration": 32,
    "start_time": "2023-07-02T12:16:31.294Z"
   },
   {
    "duration": 1036,
    "start_time": "2023-07-02T12:16:36.555Z"
   },
   {
    "duration": 19,
    "start_time": "2023-07-02T12:16:42.959Z"
   },
   {
    "duration": 39,
    "start_time": "2023-07-02T12:16:47.086Z"
   },
   {
    "duration": 52,
    "start_time": "2023-07-02T12:17:10.494Z"
   },
   {
    "duration": 31,
    "start_time": "2023-07-02T12:17:15.222Z"
   },
   {
    "duration": 1994,
    "start_time": "2023-07-02T12:17:19.443Z"
   },
   {
    "duration": 23,
    "start_time": "2023-07-02T12:17:30.346Z"
   },
   {
    "duration": 39,
    "start_time": "2023-07-02T12:17:34.230Z"
   },
   {
    "duration": 27,
    "start_time": "2023-07-02T12:17:40.737Z"
   },
   {
    "duration": 2675,
    "start_time": "2023-07-02T12:17:49.889Z"
   },
   {
    "duration": 20,
    "start_time": "2023-07-02T12:18:05.942Z"
   },
   {
    "duration": 25,
    "start_time": "2023-07-02T12:21:01.546Z"
   },
   {
    "duration": 93,
    "start_time": "2023-07-02T12:21:55.491Z"
   },
   {
    "duration": 39,
    "start_time": "2023-07-02T12:22:33.250Z"
   },
   {
    "duration": 84,
    "start_time": "2023-07-02T12:22:54.343Z"
   },
   {
    "duration": 69,
    "start_time": "2023-07-02T12:23:08.271Z"
   },
   {
    "duration": 78,
    "start_time": "2023-07-02T12:23:10.803Z"
   },
   {
    "duration": 70,
    "start_time": "2023-07-02T12:23:16.645Z"
   },
   {
    "duration": 46,
    "start_time": "2023-07-02T12:24:02.934Z"
   },
   {
    "duration": 93,
    "start_time": "2023-07-02T12:24:24.347Z"
   },
   {
    "duration": 1182,
    "start_time": "2023-07-02T12:24:38.963Z"
   },
   {
    "duration": 169,
    "start_time": "2023-07-02T12:24:40.147Z"
   },
   {
    "duration": 13,
    "start_time": "2023-07-02T12:24:40.317Z"
   },
   {
    "duration": 34,
    "start_time": "2023-07-02T12:24:40.335Z"
   },
   {
    "duration": 20,
    "start_time": "2023-07-02T12:24:40.371Z"
   },
   {
    "duration": 55,
    "start_time": "2023-07-02T12:24:40.393Z"
   },
   {
    "duration": 23,
    "start_time": "2023-07-02T12:24:40.450Z"
   },
   {
    "duration": 11,
    "start_time": "2023-07-02T12:24:40.475Z"
   },
   {
    "duration": 74,
    "start_time": "2023-07-02T12:24:40.488Z"
   },
   {
    "duration": 5,
    "start_time": "2023-07-02T12:24:40.563Z"
   },
   {
    "duration": 56,
    "start_time": "2023-07-02T12:24:40.570Z"
   },
   {
    "duration": 77,
    "start_time": "2023-07-02T12:24:40.628Z"
   },
   {
    "duration": 13,
    "start_time": "2023-07-02T12:24:40.706Z"
   },
   {
    "duration": 42,
    "start_time": "2023-07-02T12:24:40.722Z"
   },
   {
    "duration": 59,
    "start_time": "2023-07-02T12:24:40.766Z"
   },
   {
    "duration": 20,
    "start_time": "2023-07-02T12:24:40.830Z"
   },
   {
    "duration": 8,
    "start_time": "2023-07-02T12:24:40.852Z"
   },
   {
    "duration": 11,
    "start_time": "2023-07-02T12:24:40.861Z"
   },
   {
    "duration": 53,
    "start_time": "2023-07-02T12:24:40.874Z"
   },
   {
    "duration": 720,
    "start_time": "2023-07-02T12:24:40.931Z"
   },
   {
    "duration": 4,
    "start_time": "2023-07-02T12:24:41.653Z"
   },
   {
    "duration": 187,
    "start_time": "2023-07-02T12:24:41.658Z"
   },
   {
    "duration": 6,
    "start_time": "2023-07-02T12:24:41.850Z"
   },
   {
    "duration": 7,
    "start_time": "2023-07-02T12:24:41.857Z"
   },
   {
    "duration": 14,
    "start_time": "2023-07-02T12:24:41.866Z"
   },
   {
    "duration": 6,
    "start_time": "2023-07-02T12:24:41.881Z"
   },
   {
    "duration": 29,
    "start_time": "2023-07-02T12:24:41.888Z"
   },
   {
    "duration": 349,
    "start_time": "2023-07-02T12:24:41.918Z"
   },
   {
    "duration": 510,
    "start_time": "2023-07-02T12:24:42.269Z"
   },
   {
    "duration": 30,
    "start_time": "2023-07-02T12:24:42.781Z"
   },
   {
    "duration": 228,
    "start_time": "2023-07-02T12:24:42.821Z"
   },
   {
    "duration": 3,
    "start_time": "2023-07-02T12:24:43.050Z"
   },
   {
    "duration": 19,
    "start_time": "2023-07-02T12:24:43.058Z"
   },
   {
    "duration": 111,
    "start_time": "2023-07-02T12:24:43.079Z"
   },
   {
    "duration": 94,
    "start_time": "2023-07-02T12:24:43.191Z"
   },
   {
    "duration": 32,
    "start_time": "2023-07-02T12:24:43.287Z"
   },
   {
    "duration": 59,
    "start_time": "2023-07-02T12:24:43.320Z"
   },
   {
    "duration": 61,
    "start_time": "2023-07-02T12:24:43.381Z"
   },
   {
    "duration": 576,
    "start_time": "2023-07-02T12:24:43.453Z"
   },
   {
    "duration": 10,
    "start_time": "2023-07-02T12:24:44.041Z"
   },
   {
    "duration": 71,
    "start_time": "2023-07-02T12:24:44.054Z"
   },
   {
    "duration": 11,
    "start_time": "2023-07-02T12:24:44.133Z"
   },
   {
    "duration": 95,
    "start_time": "2023-07-02T12:24:44.146Z"
   },
   {
    "duration": 215,
    "start_time": "2023-07-02T12:24:44.245Z"
   },
   {
    "duration": 74,
    "start_time": "2023-07-02T12:24:44.462Z"
   },
   {
    "duration": 25,
    "start_time": "2023-07-02T12:24:44.539Z"
   },
   {
    "duration": 22,
    "start_time": "2023-07-02T12:24:44.566Z"
   },
   {
    "duration": 27,
    "start_time": "2023-07-02T12:24:44.590Z"
   },
   {
    "duration": 115,
    "start_time": "2023-07-02T12:24:44.618Z"
   },
   {
    "duration": 7,
    "start_time": "2023-07-02T12:24:44.745Z"
   },
   {
    "duration": 199,
    "start_time": "2023-07-02T12:24:44.753Z"
   },
   {
    "duration": 5,
    "start_time": "2023-07-02T12:24:44.954Z"
   },
   {
    "duration": 12,
    "start_time": "2023-07-02T12:24:44.960Z"
   },
   {
    "duration": 7,
    "start_time": "2023-07-02T12:24:44.973Z"
   },
   {
    "duration": 55,
    "start_time": "2023-07-02T12:24:44.982Z"
   },
   {
    "duration": 15,
    "start_time": "2023-07-02T12:24:45.039Z"
   },
   {
    "duration": 105,
    "start_time": "2023-07-02T12:25:13.324Z"
   },
   {
    "duration": 1293,
    "start_time": "2023-07-02T22:03:13.903Z"
   },
   {
    "duration": 155,
    "start_time": "2023-07-02T22:03:15.197Z"
   },
   {
    "duration": 10,
    "start_time": "2023-07-02T22:03:15.353Z"
   },
   {
    "duration": 38,
    "start_time": "2023-07-02T22:03:15.364Z"
   },
   {
    "duration": 31,
    "start_time": "2023-07-02T22:03:15.404Z"
   },
   {
    "duration": 27,
    "start_time": "2023-07-02T22:03:15.437Z"
   },
   {
    "duration": 22,
    "start_time": "2023-07-02T22:03:15.465Z"
   },
   {
    "duration": 15,
    "start_time": "2023-07-02T22:03:15.489Z"
   },
   {
    "duration": 87,
    "start_time": "2023-07-02T22:03:15.505Z"
   },
   {
    "duration": 7,
    "start_time": "2023-07-02T22:03:15.594Z"
   },
   {
    "duration": 64,
    "start_time": "2023-07-02T22:03:15.602Z"
   },
   {
    "duration": 53,
    "start_time": "2023-07-02T22:03:15.668Z"
   },
   {
    "duration": 12,
    "start_time": "2023-07-02T22:03:15.722Z"
   },
   {
    "duration": 43,
    "start_time": "2023-07-02T22:03:15.738Z"
   },
   {
    "duration": 37,
    "start_time": "2023-07-02T22:03:15.783Z"
   },
   {
    "duration": 10,
    "start_time": "2023-07-02T22:03:15.822Z"
   },
   {
    "duration": 30,
    "start_time": "2023-07-02T22:03:15.834Z"
   },
   {
    "duration": 22,
    "start_time": "2023-07-02T22:03:15.866Z"
   },
   {
    "duration": 30,
    "start_time": "2023-07-02T22:03:15.890Z"
   },
   {
    "duration": 649,
    "start_time": "2023-07-02T22:03:15.921Z"
   },
   {
    "duration": 3,
    "start_time": "2023-07-02T22:03:16.572Z"
   },
   {
    "duration": 167,
    "start_time": "2023-07-02T22:03:16.576Z"
   },
   {
    "duration": 5,
    "start_time": "2023-07-02T22:03:16.744Z"
   },
   {
    "duration": 60,
    "start_time": "2023-07-02T22:03:16.750Z"
   },
   {
    "duration": 29,
    "start_time": "2023-07-02T22:03:16.811Z"
   },
   {
    "duration": 14,
    "start_time": "2023-07-02T22:03:16.841Z"
   },
   {
    "duration": 13,
    "start_time": "2023-07-02T22:03:16.856Z"
   },
   {
    "duration": 329,
    "start_time": "2023-07-02T22:03:16.870Z"
   },
   {
    "duration": 508,
    "start_time": "2023-07-02T22:03:17.201Z"
   },
   {
    "duration": 25,
    "start_time": "2023-07-02T22:03:17.710Z"
   },
   {
    "duration": 208,
    "start_time": "2023-07-02T22:03:17.737Z"
   },
   {
    "duration": 4,
    "start_time": "2023-07-02T22:03:17.947Z"
   },
   {
    "duration": 29,
    "start_time": "2023-07-02T22:03:17.953Z"
   },
   {
    "duration": 79,
    "start_time": "2023-07-02T22:03:17.983Z"
   },
   {
    "duration": 52,
    "start_time": "2023-07-02T22:03:18.063Z"
   },
   {
    "duration": 23,
    "start_time": "2023-07-02T22:03:18.117Z"
   },
   {
    "duration": 23,
    "start_time": "2023-07-02T22:03:18.142Z"
   },
   {
    "duration": 45,
    "start_time": "2023-07-02T22:03:18.166Z"
   },
   {
    "duration": 457,
    "start_time": "2023-07-02T22:03:18.212Z"
   },
   {
    "duration": 8,
    "start_time": "2023-07-02T22:03:18.671Z"
   },
   {
    "duration": 9,
    "start_time": "2023-07-02T22:03:42.054Z"
   },
   {
    "duration": 36,
    "start_time": "2023-07-02T22:04:06.561Z"
   },
   {
    "duration": 99,
    "start_time": "2023-07-02T22:04:31.419Z"
   },
   {
    "duration": 8,
    "start_time": "2023-07-02T22:04:43.556Z"
   },
   {
    "duration": 12,
    "start_time": "2023-07-02T22:05:18.507Z"
   },
   {
    "duration": 87,
    "start_time": "2023-07-02T22:06:17.267Z"
   },
   {
    "duration": 58,
    "start_time": "2023-07-02T22:06:30.148Z"
   },
   {
    "duration": 57,
    "start_time": "2023-07-02T22:06:39.281Z"
   },
   {
    "duration": 45,
    "start_time": "2023-07-02T22:07:04.586Z"
   },
   {
    "duration": 43,
    "start_time": "2023-07-02T22:07:11.003Z"
   },
   {
    "duration": 43,
    "start_time": "2023-07-02T22:07:17.627Z"
   },
   {
    "duration": 96,
    "start_time": "2023-07-02T22:07:24.089Z"
   },
   {
    "duration": 43,
    "start_time": "2023-07-02T22:07:29.187Z"
   },
   {
    "duration": 43,
    "start_time": "2023-07-02T22:07:43.183Z"
   },
   {
    "duration": 8,
    "start_time": "2023-07-02T22:07:54.850Z"
   },
   {
    "duration": 41,
    "start_time": "2023-07-02T22:08:17.977Z"
   },
   {
    "duration": 431,
    "start_time": "2023-07-02T22:08:22.120Z"
   },
   {
    "duration": 421,
    "start_time": "2023-07-02T22:10:21.897Z"
   },
   {
    "duration": 1101,
    "start_time": "2023-08-07T17:53:07.696Z"
   },
   {
    "duration": 470,
    "start_time": "2023-08-07T17:53:08.799Z"
   },
   {
    "duration": 10,
    "start_time": "2023-08-07T17:53:09.271Z"
   },
   {
    "duration": 35,
    "start_time": "2023-08-07T17:53:09.283Z"
   },
   {
    "duration": 22,
    "start_time": "2023-08-07T17:53:09.320Z"
   },
   {
    "duration": 29,
    "start_time": "2023-08-07T17:53:09.344Z"
   },
   {
    "duration": 42,
    "start_time": "2023-08-07T17:53:09.374Z"
   },
   {
    "duration": 12,
    "start_time": "2023-08-07T17:53:09.418Z"
   },
   {
    "duration": 70,
    "start_time": "2023-08-07T17:53:09.432Z"
   },
   {
    "duration": 6,
    "start_time": "2023-08-07T17:53:09.504Z"
   },
   {
    "duration": 88,
    "start_time": "2023-08-07T17:53:09.511Z"
   },
   {
    "duration": 5,
    "start_time": "2023-08-07T17:53:09.601Z"
   },
   {
    "duration": 1602,
    "start_time": "2023-08-07T17:53:09.608Z"
   },
   {
    "duration": 0,
    "start_time": "2023-08-07T17:53:11.213Z"
   },
   {
    "duration": 0,
    "start_time": "2023-08-07T17:53:11.214Z"
   },
   {
    "duration": 0,
    "start_time": "2023-08-07T17:53:11.215Z"
   },
   {
    "duration": 0,
    "start_time": "2023-08-07T17:53:11.216Z"
   },
   {
    "duration": 0,
    "start_time": "2023-08-07T17:53:11.217Z"
   },
   {
    "duration": 0,
    "start_time": "2023-08-07T17:53:11.217Z"
   },
   {
    "duration": 0,
    "start_time": "2023-08-07T17:53:11.218Z"
   },
   {
    "duration": 0,
    "start_time": "2023-08-07T17:53:11.219Z"
   },
   {
    "duration": 0,
    "start_time": "2023-08-07T17:53:11.219Z"
   },
   {
    "duration": 0,
    "start_time": "2023-08-07T17:53:11.220Z"
   },
   {
    "duration": 0,
    "start_time": "2023-08-07T17:53:11.221Z"
   },
   {
    "duration": 0,
    "start_time": "2023-08-07T17:53:11.222Z"
   },
   {
    "duration": 0,
    "start_time": "2023-08-07T17:53:11.222Z"
   },
   {
    "duration": 0,
    "start_time": "2023-08-07T17:53:11.223Z"
   },
   {
    "duration": 0,
    "start_time": "2023-08-07T17:53:11.224Z"
   },
   {
    "duration": 0,
    "start_time": "2023-08-07T17:53:11.225Z"
   },
   {
    "duration": 0,
    "start_time": "2023-08-07T17:53:11.226Z"
   },
   {
    "duration": 0,
    "start_time": "2023-08-07T17:53:11.226Z"
   },
   {
    "duration": 0,
    "start_time": "2023-08-07T17:53:11.227Z"
   },
   {
    "duration": 0,
    "start_time": "2023-08-07T17:53:11.228Z"
   },
   {
    "duration": 0,
    "start_time": "2023-08-07T17:53:11.229Z"
   },
   {
    "duration": 0,
    "start_time": "2023-08-07T17:53:11.229Z"
   },
   {
    "duration": 0,
    "start_time": "2023-08-07T17:53:11.230Z"
   },
   {
    "duration": 0,
    "start_time": "2023-08-07T17:53:11.231Z"
   },
   {
    "duration": 0,
    "start_time": "2023-08-07T17:53:11.232Z"
   },
   {
    "duration": 0,
    "start_time": "2023-08-07T17:53:11.232Z"
   },
   {
    "duration": 0,
    "start_time": "2023-08-07T17:53:11.233Z"
   },
   {
    "duration": 0,
    "start_time": "2023-08-07T17:53:11.234Z"
   },
   {
    "duration": 0,
    "start_time": "2023-08-07T17:53:11.235Z"
   },
   {
    "duration": 0,
    "start_time": "2023-08-07T17:53:11.236Z"
   },
   {
    "duration": 0,
    "start_time": "2023-08-07T17:53:11.237Z"
   },
   {
    "duration": 0,
    "start_time": "2023-08-07T17:53:11.237Z"
   },
   {
    "duration": 0,
    "start_time": "2023-08-07T17:53:11.238Z"
   },
   {
    "duration": 0,
    "start_time": "2023-08-07T17:53:11.239Z"
   },
   {
    "duration": 1,
    "start_time": "2023-08-07T17:53:11.239Z"
   },
   {
    "duration": 0,
    "start_time": "2023-08-07T17:53:11.240Z"
   },
   {
    "duration": 0,
    "start_time": "2023-08-07T17:53:11.241Z"
   },
   {
    "duration": 0,
    "start_time": "2023-08-07T17:53:11.241Z"
   },
   {
    "duration": 0,
    "start_time": "2023-08-07T17:53:11.242Z"
   },
   {
    "duration": 0,
    "start_time": "2023-08-07T17:53:11.243Z"
   },
   {
    "duration": 0,
    "start_time": "2023-08-07T17:53:11.244Z"
   },
   {
    "duration": 0,
    "start_time": "2023-08-07T17:53:11.245Z"
   },
   {
    "duration": 0,
    "start_time": "2023-08-07T17:53:11.246Z"
   },
   {
    "duration": 0,
    "start_time": "2023-08-07T17:53:11.246Z"
   },
   {
    "duration": 0,
    "start_time": "2023-08-07T17:53:11.247Z"
   },
   {
    "duration": 1041,
    "start_time": "2023-08-07T17:53:36.257Z"
   },
   {
    "duration": 142,
    "start_time": "2023-08-07T17:53:37.300Z"
   },
   {
    "duration": 10,
    "start_time": "2023-08-07T17:53:37.444Z"
   },
   {
    "duration": 24,
    "start_time": "2023-08-07T17:53:37.455Z"
   },
   {
    "duration": 30,
    "start_time": "2023-08-07T17:53:37.480Z"
   },
   {
    "duration": 32,
    "start_time": "2023-08-07T17:53:37.511Z"
   },
   {
    "duration": 56,
    "start_time": "2023-08-07T17:53:37.544Z"
   },
   {
    "duration": 12,
    "start_time": "2023-08-07T17:53:37.602Z"
   },
   {
    "duration": 124,
    "start_time": "2023-08-07T17:53:37.616Z"
   },
   {
    "duration": 60,
    "start_time": "2023-08-07T17:53:37.743Z"
   },
   {
    "duration": 41,
    "start_time": "2023-08-07T17:53:37.804Z"
   },
   {
    "duration": 55,
    "start_time": "2023-08-07T17:53:37.846Z"
   },
   {
    "duration": 218,
    "start_time": "2023-08-07T17:53:37.902Z"
   },
   {
    "duration": 0,
    "start_time": "2023-08-07T17:53:38.123Z"
   },
   {
    "duration": 0,
    "start_time": "2023-08-07T17:53:38.125Z"
   },
   {
    "duration": 0,
    "start_time": "2023-08-07T17:53:38.126Z"
   },
   {
    "duration": 0,
    "start_time": "2023-08-07T17:53:38.127Z"
   },
   {
    "duration": 0,
    "start_time": "2023-08-07T17:53:38.128Z"
   },
   {
    "duration": 0,
    "start_time": "2023-08-07T17:53:38.129Z"
   },
   {
    "duration": 0,
    "start_time": "2023-08-07T17:53:38.129Z"
   },
   {
    "duration": 0,
    "start_time": "2023-08-07T17:53:38.130Z"
   },
   {
    "duration": 0,
    "start_time": "2023-08-07T17:53:38.131Z"
   },
   {
    "duration": 0,
    "start_time": "2023-08-07T17:53:38.131Z"
   },
   {
    "duration": 0,
    "start_time": "2023-08-07T17:53:38.132Z"
   },
   {
    "duration": 0,
    "start_time": "2023-08-07T17:53:38.133Z"
   },
   {
    "duration": 0,
    "start_time": "2023-08-07T17:53:38.134Z"
   },
   {
    "duration": 0,
    "start_time": "2023-08-07T17:53:38.135Z"
   },
   {
    "duration": 0,
    "start_time": "2023-08-07T17:53:38.136Z"
   },
   {
    "duration": 0,
    "start_time": "2023-08-07T17:53:38.137Z"
   },
   {
    "duration": 0,
    "start_time": "2023-08-07T17:53:38.138Z"
   },
   {
    "duration": 0,
    "start_time": "2023-08-07T17:53:38.139Z"
   },
   {
    "duration": 0,
    "start_time": "2023-08-07T17:53:38.140Z"
   },
   {
    "duration": 0,
    "start_time": "2023-08-07T17:53:38.140Z"
   },
   {
    "duration": 0,
    "start_time": "2023-08-07T17:53:38.200Z"
   },
   {
    "duration": 0,
    "start_time": "2023-08-07T17:53:38.201Z"
   },
   {
    "duration": 0,
    "start_time": "2023-08-07T17:53:38.202Z"
   },
   {
    "duration": 0,
    "start_time": "2023-08-07T17:53:38.203Z"
   },
   {
    "duration": 0,
    "start_time": "2023-08-07T17:53:38.204Z"
   },
   {
    "duration": 0,
    "start_time": "2023-08-07T17:53:38.205Z"
   },
   {
    "duration": 0,
    "start_time": "2023-08-07T17:53:38.206Z"
   },
   {
    "duration": 0,
    "start_time": "2023-08-07T17:53:38.207Z"
   },
   {
    "duration": 0,
    "start_time": "2023-08-07T17:53:38.208Z"
   },
   {
    "duration": 0,
    "start_time": "2023-08-07T17:53:38.209Z"
   },
   {
    "duration": 0,
    "start_time": "2023-08-07T17:53:38.210Z"
   },
   {
    "duration": 0,
    "start_time": "2023-08-07T17:53:38.210Z"
   },
   {
    "duration": 0,
    "start_time": "2023-08-07T17:53:38.211Z"
   },
   {
    "duration": 0,
    "start_time": "2023-08-07T17:53:38.212Z"
   },
   {
    "duration": 0,
    "start_time": "2023-08-07T17:53:38.214Z"
   },
   {
    "duration": 0,
    "start_time": "2023-08-07T17:53:38.214Z"
   },
   {
    "duration": 0,
    "start_time": "2023-08-07T17:53:38.215Z"
   },
   {
    "duration": 0,
    "start_time": "2023-08-07T17:53:38.216Z"
   },
   {
    "duration": 0,
    "start_time": "2023-08-07T17:53:38.218Z"
   },
   {
    "duration": 0,
    "start_time": "2023-08-07T17:53:38.219Z"
   },
   {
    "duration": 0,
    "start_time": "2023-08-07T17:53:38.220Z"
   },
   {
    "duration": 0,
    "start_time": "2023-08-07T17:53:38.222Z"
   },
   {
    "duration": 0,
    "start_time": "2023-08-07T17:53:38.223Z"
   },
   {
    "duration": 0,
    "start_time": "2023-08-07T17:53:38.224Z"
   },
   {
    "duration": 0,
    "start_time": "2023-08-07T17:53:38.225Z"
   },
   {
    "duration": 0,
    "start_time": "2023-08-07T17:53:38.227Z"
   },
   {
    "duration": 1356,
    "start_time": "2023-08-07T17:53:55.871Z"
   },
   {
    "duration": 304,
    "start_time": "2023-08-07T17:53:57.229Z"
   },
   {
    "duration": 71,
    "start_time": "2023-08-07T17:53:57.535Z"
   },
   {
    "duration": 31,
    "start_time": "2023-08-07T17:53:57.608Z"
   },
   {
    "duration": 74,
    "start_time": "2023-08-07T17:53:57.642Z"
   },
   {
    "duration": 85,
    "start_time": "2023-08-07T17:53:57.717Z"
   },
   {
    "duration": 26,
    "start_time": "2023-08-07T17:53:57.804Z"
   },
   {
    "duration": 70,
    "start_time": "2023-08-07T17:53:57.831Z"
   },
   {
    "duration": 119,
    "start_time": "2023-08-07T17:53:57.902Z"
   },
   {
    "duration": 6,
    "start_time": "2023-08-07T17:53:58.022Z"
   },
   {
    "duration": 109,
    "start_time": "2023-08-07T17:53:58.030Z"
   },
   {
    "duration": 58,
    "start_time": "2023-08-07T17:53:58.141Z"
   },
   {
    "duration": 35,
    "start_time": "2023-08-07T17:53:58.202Z"
   },
   {
    "duration": 1516,
    "start_time": "2023-08-07T17:53:58.240Z"
   },
   {
    "duration": 0,
    "start_time": "2023-08-07T17:53:59.758Z"
   },
   {
    "duration": 0,
    "start_time": "2023-08-07T17:53:59.759Z"
   },
   {
    "duration": 0,
    "start_time": "2023-08-07T17:53:59.760Z"
   },
   {
    "duration": 0,
    "start_time": "2023-08-07T17:53:59.761Z"
   },
   {
    "duration": 0,
    "start_time": "2023-08-07T17:53:59.762Z"
   },
   {
    "duration": 0,
    "start_time": "2023-08-07T17:53:59.762Z"
   },
   {
    "duration": 0,
    "start_time": "2023-08-07T17:53:59.763Z"
   },
   {
    "duration": 0,
    "start_time": "2023-08-07T17:53:59.764Z"
   },
   {
    "duration": 0,
    "start_time": "2023-08-07T17:53:59.765Z"
   },
   {
    "duration": 0,
    "start_time": "2023-08-07T17:53:59.766Z"
   },
   {
    "duration": 1,
    "start_time": "2023-08-07T17:53:59.766Z"
   },
   {
    "duration": 0,
    "start_time": "2023-08-07T17:53:59.767Z"
   },
   {
    "duration": 0,
    "start_time": "2023-08-07T17:53:59.768Z"
   },
   {
    "duration": 0,
    "start_time": "2023-08-07T17:53:59.769Z"
   },
   {
    "duration": 0,
    "start_time": "2023-08-07T17:53:59.770Z"
   },
   {
    "duration": 0,
    "start_time": "2023-08-07T17:53:59.771Z"
   },
   {
    "duration": 0,
    "start_time": "2023-08-07T17:53:59.771Z"
   },
   {
    "duration": 0,
    "start_time": "2023-08-07T17:53:59.772Z"
   },
   {
    "duration": 0,
    "start_time": "2023-08-07T17:53:59.773Z"
   },
   {
    "duration": 0,
    "start_time": "2023-08-07T17:53:59.774Z"
   },
   {
    "duration": 0,
    "start_time": "2023-08-07T17:53:59.775Z"
   },
   {
    "duration": 0,
    "start_time": "2023-08-07T17:53:59.775Z"
   },
   {
    "duration": 0,
    "start_time": "2023-08-07T17:53:59.776Z"
   },
   {
    "duration": 0,
    "start_time": "2023-08-07T17:53:59.777Z"
   },
   {
    "duration": 0,
    "start_time": "2023-08-07T17:53:59.778Z"
   },
   {
    "duration": 0,
    "start_time": "2023-08-07T17:53:59.779Z"
   },
   {
    "duration": 0,
    "start_time": "2023-08-07T17:53:59.781Z"
   },
   {
    "duration": 0,
    "start_time": "2023-08-07T17:53:59.782Z"
   },
   {
    "duration": 0,
    "start_time": "2023-08-07T17:53:59.783Z"
   },
   {
    "duration": 0,
    "start_time": "2023-08-07T17:53:59.784Z"
   },
   {
    "duration": 0,
    "start_time": "2023-08-07T17:53:59.785Z"
   },
   {
    "duration": 0,
    "start_time": "2023-08-07T17:53:59.787Z"
   },
   {
    "duration": 0,
    "start_time": "2023-08-07T17:53:59.788Z"
   },
   {
    "duration": 0,
    "start_time": "2023-08-07T17:53:59.789Z"
   },
   {
    "duration": 0,
    "start_time": "2023-08-07T17:53:59.791Z"
   },
   {
    "duration": 0,
    "start_time": "2023-08-07T17:53:59.794Z"
   },
   {
    "duration": 0,
    "start_time": "2023-08-07T17:53:59.795Z"
   },
   {
    "duration": 0,
    "start_time": "2023-08-07T17:53:59.797Z"
   },
   {
    "duration": 0,
    "start_time": "2023-08-07T17:53:59.800Z"
   },
   {
    "duration": 0,
    "start_time": "2023-08-07T17:53:59.801Z"
   },
   {
    "duration": 0,
    "start_time": "2023-08-07T17:53:59.803Z"
   },
   {
    "duration": 0,
    "start_time": "2023-08-07T17:53:59.804Z"
   },
   {
    "duration": 0,
    "start_time": "2023-08-07T17:53:59.805Z"
   },
   {
    "duration": 0,
    "start_time": "2023-08-07T17:53:59.806Z"
   },
   {
    "duration": 0,
    "start_time": "2023-08-07T17:53:59.808Z"
   },
   {
    "duration": 44,
    "start_time": "2023-08-07T17:55:23.975Z"
   },
   {
    "duration": 1471,
    "start_time": "2023-10-05T14:53:29.906Z"
   },
   {
    "duration": 791,
    "start_time": "2023-10-05T14:53:31.380Z"
   },
   {
    "duration": 14,
    "start_time": "2023-10-05T14:53:32.174Z"
   },
   {
    "duration": 91,
    "start_time": "2023-10-05T14:53:32.190Z"
   },
   {
    "duration": 81,
    "start_time": "2023-10-05T14:53:32.284Z"
   },
   {
    "duration": 98,
    "start_time": "2023-10-05T14:53:32.371Z"
   },
   {
    "duration": 78,
    "start_time": "2023-10-05T14:53:32.472Z"
   },
   {
    "duration": 24,
    "start_time": "2023-10-05T14:53:32.552Z"
   },
   {
    "duration": 183,
    "start_time": "2023-10-05T14:53:32.578Z"
   },
   {
    "duration": 9,
    "start_time": "2023-10-05T14:53:32.762Z"
   },
   {
    "duration": 104,
    "start_time": "2023-10-05T14:53:32.774Z"
   },
   {
    "duration": 4,
    "start_time": "2023-10-05T14:53:32.880Z"
   },
   {
    "duration": 102,
    "start_time": "2023-10-05T14:53:32.885Z"
   },
   {
    "duration": 175,
    "start_time": "2023-10-05T14:53:32.990Z"
   },
   {
    "duration": 13,
    "start_time": "2023-10-05T14:53:33.173Z"
   },
   {
    "duration": 107,
    "start_time": "2023-10-05T14:53:33.188Z"
   },
   {
    "duration": 93,
    "start_time": "2023-10-05T14:53:33.297Z"
   },
   {
    "duration": 63,
    "start_time": "2023-10-05T14:53:33.392Z"
   },
   {
    "duration": 24,
    "start_time": "2023-10-05T14:53:33.456Z"
   },
   {
    "duration": 11,
    "start_time": "2023-10-05T14:53:33.482Z"
   },
   {
    "duration": 98,
    "start_time": "2023-10-05T14:53:33.494Z"
   },
   {
    "duration": 1012,
    "start_time": "2023-10-05T14:53:33.595Z"
   },
   {
    "duration": 5,
    "start_time": "2023-10-05T14:53:34.610Z"
   },
   {
    "duration": 211,
    "start_time": "2023-10-05T14:53:34.616Z"
   },
   {
    "duration": 6,
    "start_time": "2023-10-05T14:53:34.829Z"
   },
   {
    "duration": 39,
    "start_time": "2023-10-05T14:53:34.837Z"
   },
   {
    "duration": 44,
    "start_time": "2023-10-05T14:53:34.877Z"
   },
   {
    "duration": 21,
    "start_time": "2023-10-05T14:53:34.923Z"
   },
   {
    "duration": 63,
    "start_time": "2023-10-05T14:53:34.946Z"
   },
   {
    "duration": 418,
    "start_time": "2023-10-05T14:53:35.011Z"
   },
   {
    "duration": 594,
    "start_time": "2023-10-05T14:53:35.431Z"
   },
   {
    "duration": 36,
    "start_time": "2023-10-05T14:53:36.026Z"
   },
   {
    "duration": 294,
    "start_time": "2023-10-05T14:53:36.064Z"
   },
   {
    "duration": 5,
    "start_time": "2023-10-05T14:53:36.359Z"
   },
   {
    "duration": 65,
    "start_time": "2023-10-05T14:53:36.365Z"
   },
   {
    "duration": 161,
    "start_time": "2023-10-05T14:53:36.431Z"
   },
   {
    "duration": 131,
    "start_time": "2023-10-05T14:53:36.594Z"
   },
   {
    "duration": 17,
    "start_time": "2023-10-05T14:53:36.726Z"
   },
   {
    "duration": 43,
    "start_time": "2023-10-05T14:53:36.745Z"
   },
   {
    "duration": 55,
    "start_time": "2023-10-05T14:53:36.790Z"
   },
   {
    "duration": 484,
    "start_time": "2023-10-05T14:53:36.853Z"
   },
   {
    "duration": 19,
    "start_time": "2023-10-05T14:53:37.338Z"
   },
   {
    "duration": 84,
    "start_time": "2023-10-05T14:53:37.358Z"
   },
   {
    "duration": 15,
    "start_time": "2023-10-05T14:53:37.443Z"
   },
   {
    "duration": 84,
    "start_time": "2023-10-05T14:53:37.459Z"
   },
   {
    "duration": 162,
    "start_time": "2023-10-05T14:53:37.545Z"
   },
   {
    "duration": 80,
    "start_time": "2023-10-05T14:53:37.710Z"
   },
   {
    "duration": 18,
    "start_time": "2023-10-05T14:53:37.791Z"
   },
   {
    "duration": 59,
    "start_time": "2023-10-05T14:53:37.810Z"
   },
   {
    "duration": 39,
    "start_time": "2023-10-05T14:53:37.870Z"
   },
   {
    "duration": 121,
    "start_time": "2023-10-05T14:53:37.910Z"
   },
   {
    "duration": 6,
    "start_time": "2023-10-05T14:53:38.032Z"
   },
   {
    "duration": 248,
    "start_time": "2023-10-05T14:53:38.040Z"
   },
   {
    "duration": 5,
    "start_time": "2023-10-05T14:53:38.290Z"
   },
   {
    "duration": 25,
    "start_time": "2023-10-05T14:53:38.297Z"
   },
   {
    "duration": 46,
    "start_time": "2023-10-05T14:53:38.324Z"
   },
   {
    "duration": 22,
    "start_time": "2023-10-05T14:53:38.371Z"
   },
   {
    "duration": 35,
    "start_time": "2023-10-05T14:53:38.395Z"
   }
  ],
  "kernelspec": {
   "display_name": "Python 3 (ipykernel)",
   "language": "python",
   "name": "python3"
  },
  "language_info": {
   "codemirror_mode": {
    "name": "ipython",
    "version": 3
   },
   "file_extension": ".py",
   "mimetype": "text/x-python",
   "name": "python",
   "nbconvert_exporter": "python",
   "pygments_lexer": "ipython3",
   "version": "3.9.13"
  },
  "toc": {
   "base_numbering": 1,
   "nav_menu": {},
   "number_sections": true,
   "sideBar": true,
   "skip_h1_title": true,
   "title_cell": "Оглавление",
   "title_sidebar": "Оглавление",
   "toc_cell": true,
   "toc_position": {
    "height": "calc(100% - 180px)",
    "left": "10px",
    "top": "150px",
    "width": "404.141px"
   },
   "toc_section_display": true,
   "toc_window_display": true
  }
 },
 "nbformat": 4,
 "nbformat_minor": 2
}
